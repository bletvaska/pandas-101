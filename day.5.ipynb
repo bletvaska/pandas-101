{
 "cells": [
  {
   "cell_type": "markdown",
   "id": "96006cd2-2303-4d85-865b-db1f7d8cd900",
   "metadata": {},
   "source": [
    "# Day 5: Visualization"
   ]
  },
  {
   "cell_type": "code",
   "execution_count": 3,
   "id": "2c5442fd-9325-47a6-89ae-da9a8f77d13b",
   "metadata": {},
   "outputs": [],
   "source": [
    "from pathlib import Path\n",
    "\n",
    "import pandas as pd"
   ]
  },
  {
   "cell_type": "code",
   "execution_count": 4,
   "id": "dced828d-23ca-4149-81a3-50ac1393cf3e",
   "metadata": {},
   "outputs": [
    {
     "name": "stdout",
     "output_type": "stream",
     "text": [
      "<class 'pandas.core.frame.DataFrame'>\n",
      "Int64Index: 9742 entries, 1 to 193609\n",
      "Data columns (total 4 columns):\n",
      " #   Column  Non-Null Count  Dtype \n",
      "---  ------  --------------  ----- \n",
      " 0   title   9742 non-null   string\n",
      " 1   genres  9742 non-null   string\n",
      " 2   imdbId  9742 non-null   int32 \n",
      " 3   tmdbId  9734 non-null   Int32 \n",
      "dtypes: Int32(1), int32(1), string(2)\n",
      "memory usage: 572.0 KB\n"
     ]
    }
   ],
   "source": [
    "path = Path('data/movielens/')\n",
    "\n",
    "# reading\n",
    "movies = pd.read_csv(path / 'movies.csv', index_col='movieId')\n",
    "links = pd.read_csv(path / 'links.csv', index_col='movieId')\n",
    "movies = movies.merge(links, how='inner', left_index=True, right_index=True)\n",
    "\n",
    "# casting\n",
    "movies['title'] = movies['title'].astype('string')\n",
    "movies['genres'] = movies['genres'].astype('string')\n",
    "movies['imdbId'] = movies['imdbId'].astype('int32')\n",
    "movies['tmdbId'] = movies['tmdbId'].astype('Int32')\n",
    "movies.info()"
   ]
  },
  {
   "cell_type": "markdown",
   "id": "1d61ea26-4862-40a5-b375-9512deb84b8b",
   "metadata": {},
   "source": [
    "## Descriptive Statistic"
   ]
  },
  {
   "cell_type": "code",
   "execution_count": 5,
   "id": "fb43049a-ea52-43cc-8438-423f3953b960",
   "metadata": {},
   "outputs": [
    {
     "data": {
      "text/html": [
       "<div>\n",
       "<style scoped>\n",
       "    .dataframe tbody tr th:only-of-type {\n",
       "        vertical-align: middle;\n",
       "    }\n",
       "\n",
       "    .dataframe tbody tr th {\n",
       "        vertical-align: top;\n",
       "    }\n",
       "\n",
       "    .dataframe thead th {\n",
       "        text-align: right;\n",
       "    }\n",
       "</style>\n",
       "<table border=\"1\" class=\"dataframe\">\n",
       "  <thead>\n",
       "    <tr style=\"text-align: right;\">\n",
       "      <th></th>\n",
       "      <th>imdbId</th>\n",
       "      <th>tmdbId</th>\n",
       "    </tr>\n",
       "  </thead>\n",
       "  <tbody>\n",
       "    <tr>\n",
       "      <th>count</th>\n",
       "      <td>9.742000e+03</td>\n",
       "      <td>9734.000000</td>\n",
       "    </tr>\n",
       "    <tr>\n",
       "      <th>mean</th>\n",
       "      <td>6.771839e+05</td>\n",
       "      <td>55162.123793</td>\n",
       "    </tr>\n",
       "    <tr>\n",
       "      <th>std</th>\n",
       "      <td>1.107228e+06</td>\n",
       "      <td>93653.481487</td>\n",
       "    </tr>\n",
       "    <tr>\n",
       "      <th>min</th>\n",
       "      <td>4.170000e+02</td>\n",
       "      <td>2.000000</td>\n",
       "    </tr>\n",
       "    <tr>\n",
       "      <th>25%</th>\n",
       "      <td>9.518075e+04</td>\n",
       "      <td>9665.500000</td>\n",
       "    </tr>\n",
       "    <tr>\n",
       "      <th>50%</th>\n",
       "      <td>1.672605e+05</td>\n",
       "      <td>16529.000000</td>\n",
       "    </tr>\n",
       "    <tr>\n",
       "      <th>75%</th>\n",
       "      <td>8.055685e+05</td>\n",
       "      <td>44205.750000</td>\n",
       "    </tr>\n",
       "    <tr>\n",
       "      <th>max</th>\n",
       "      <td>8.391976e+06</td>\n",
       "      <td>525662.000000</td>\n",
       "    </tr>\n",
       "  </tbody>\n",
       "</table>\n",
       "</div>"
      ],
      "text/plain": [
       "             imdbId         tmdbId\n",
       "count  9.742000e+03    9734.000000\n",
       "mean   6.771839e+05   55162.123793\n",
       "std    1.107228e+06   93653.481487\n",
       "min    4.170000e+02       2.000000\n",
       "25%    9.518075e+04    9665.500000\n",
       "50%    1.672605e+05   16529.000000\n",
       "75%    8.055685e+05   44205.750000\n",
       "max    8.391976e+06  525662.000000"
      ]
     },
     "execution_count": 5,
     "metadata": {},
     "output_type": "execute_result"
    }
   ],
   "source": [
    "movies.describe()"
   ]
  },
  {
   "cell_type": "markdown",
   "id": "7c232884-ac8d-4098-8633-d38a43af0c1c",
   "metadata": {},
   "source": [
    "## Time Series"
   ]
  },
  {
   "cell_type": "code",
   "execution_count": 6,
   "id": "eaca50fb-c504-469e-b072-756e5b44bc88",
   "metadata": {},
   "outputs": [
    {
     "name": "stdout",
     "output_type": "stream",
     "text": [
      "<class 'pandas.core.frame.DataFrame'>\n",
      "RangeIndex: 100836 entries, 0 to 100835\n",
      "Data columns (total 4 columns):\n",
      " #   Column     Non-Null Count   Dtype  \n",
      "---  ------     --------------   -----  \n",
      " 0   userId     100836 non-null  int64  \n",
      " 1   movieId    100836 non-null  int64  \n",
      " 2   rating     100836 non-null  float64\n",
      " 3   timestamp  100836 non-null  int64  \n",
      "dtypes: float64(1), int64(3)\n",
      "memory usage: 3.1 MB\n"
     ]
    }
   ],
   "source": [
    "from pathlib import Path\n",
    "\n",
    "ratings = pd.read_csv('data/movielens/ratings.csv')\n",
    "ratings.info() # 2022-04-28"
   ]
  },
  {
   "cell_type": "code",
   "execution_count": 16,
   "id": "c4398ef9-b917-4643-9f15-a8e34209819c",
   "metadata": {},
   "outputs": [
    {
     "name": "stdout",
     "output_type": "stream",
     "text": [
      "<class 'pandas.core.frame.DataFrame'>\n",
      "RangeIndex: 100836 entries, 0 to 100835\n",
      "Data columns (total 5 columns):\n",
      " #   Column       Non-Null Count   Dtype         \n",
      "---  ------       --------------   -----         \n",
      " 0   userId       100836 non-null  int64         \n",
      " 1   movieId      100836 non-null  int64         \n",
      " 2   rating       100836 non-null  float64       \n",
      " 3   timestamp    100836 non-null  int64         \n",
      " 4   parsed_time  100836 non-null  datetime64[ns]\n",
      "dtypes: datetime64[ns](1), float64(1), int64(3)\n",
      "memory usage: 3.8 MB\n"
     ]
    }
   ],
   "source": [
    "ratings['parsed_time'] = pd.to_datetime(ratings['timestamp'], unit='s')\n",
    "ratings.info()"
   ]
  },
  {
   "cell_type": "markdown",
   "id": "721fd199-23bb-4ecd-8ab7-f166ecd9462e",
   "metadata": {},
   "source": [
    "### Filters"
   ]
  },
  {
   "cell_type": "code",
   "execution_count": 15,
   "id": "e7a99ebe-e725-4193-8ee8-5567e32a8fa7",
   "metadata": {},
   "outputs": [
    {
     "data": {
      "text/plain": [
       "0         False\n",
       "1         False\n",
       "2         False\n",
       "3         False\n",
       "4         False\n",
       "          ...  \n",
       "100831     True\n",
       "100832     True\n",
       "100833     True\n",
       "100834     True\n",
       "100835     True\n",
       "Name: parsed_time, Length: 100836, dtype: bool"
      ]
     },
     "execution_count": 15,
     "metadata": {},
     "output_type": "execute_result"
    }
   ],
   "source": [
    "ratings['parsed_time'] > '2015-01-01'\n",
    "ratings['parsed_time'].dt.year == 2017\n"
   ]
  },
  {
   "cell_type": "code",
   "execution_count": null,
   "id": "480aad76-b4f0-4581-97a5-9a0b80ac6952",
   "metadata": {},
   "outputs": [],
   "source": []
  }
 ],
 "metadata": {
  "kernelspec": {
   "display_name": "Python 3 (ipykernel)",
   "language": "python",
   "name": "python3"
  },
  "language_info": {
   "codemirror_mode": {
    "name": "ipython",
    "version": 3
   },
   "file_extension": ".py",
   "mimetype": "text/x-python",
   "name": "python",
   "nbconvert_exporter": "python",
   "pygments_lexer": "ipython3",
   "version": "3.9.11"
  }
 },
 "nbformat": 4,
 "nbformat_minor": 5
}
