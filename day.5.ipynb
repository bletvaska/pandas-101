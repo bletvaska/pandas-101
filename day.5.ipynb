{
 "cells": [
  {
   "cell_type": "markdown",
   "id": "96006cd2-2303-4d85-865b-db1f7d8cd900",
   "metadata": {},
   "source": [
    "# Day 5: Visualization"
   ]
  },
  {
   "cell_type": "code",
   "execution_count": null,
   "id": "2c5442fd-9325-47a6-89ae-da9a8f77d13b",
   "metadata": {},
   "outputs": [],
   "source": [
    "from pathlib import Path\n",
    "\n",
    "import pandas as pd"
   ]
  },
  {
   "cell_type": "code",
   "execution_count": 72,
   "id": "dced828d-23ca-4149-81a3-50ac1393cf3e",
   "metadata": {},
   "outputs": [
    {
     "name": "stdout",
     "output_type": "stream",
     "text": [
      "<class 'pandas.core.frame.DataFrame'>\n",
      "Int64Index: 9742 entries, 1 to 193609\n",
      "Data columns (total 5 columns):\n",
      " #   Column  Non-Null Count  Dtype \n",
      "---  ------  --------------  ----- \n",
      " 0   title   9742 non-null   string\n",
      " 1   genres  9742 non-null   string\n",
      " 2   imdbId  9742 non-null   int32 \n",
      " 3   tmdbId  9734 non-null   Int32 \n",
      " 4   year    9729 non-null   Int32 \n",
      "dtypes: Int32(2), int32(1), string(2)\n",
      "memory usage: 619.6 KB\n"
     ]
    }
   ],
   "source": [
    "path = Path('data/movielens/')\n",
    "\n",
    "# reading\n",
    "movies = pd.read_csv(path / 'movies.csv', index_col='movieId')\n",
    "links = pd.read_csv(path / 'links.csv', index_col='movieId')\n",
    "movies = movies.merge(links, how='inner', left_index=True, right_index=True)\n",
    "\n",
    "# extracting year\n",
    "pattern = r'\\((?P<year>\\d+)\\)\\s?$'\n",
    "movies['year'] = movies['title'].str.extract(pattern)\n",
    "\n",
    "# casting\n",
    "movies['title'] = movies['title'].astype('string')\n",
    "movies['genres'] = movies['genres'].astype('string')\n",
    "movies['imdbId'] = movies['imdbId'].astype('int32')\n",
    "movies['tmdbId'] = movies['tmdbId'].astype('Int32')\n",
    "movies['year'] = movies['year'].astype('Int32')\n",
    "movies.info()"
   ]
  },
  {
   "cell_type": "markdown",
   "id": "1d61ea26-4862-40a5-b375-9512deb84b8b",
   "metadata": {},
   "source": [
    "## Descriptive Statistic"
   ]
  },
  {
   "cell_type": "code",
   "execution_count": null,
   "id": "fb43049a-ea52-43cc-8438-423f3953b960",
   "metadata": {},
   "outputs": [],
   "source": [
    "movies.describe()"
   ]
  },
  {
   "cell_type": "markdown",
   "id": "7c232884-ac8d-4098-8633-d38a43af0c1c",
   "metadata": {},
   "source": [
    "## Time Series"
   ]
  },
  {
   "cell_type": "code",
   "execution_count": null,
   "id": "eaca50fb-c504-469e-b072-756e5b44bc88",
   "metadata": {},
   "outputs": [],
   "source": [
    "from pathlib import Path\n",
    "\n",
    "ratings = pd.read_csv('data/movielens/ratings.csv')\n",
    "ratings.info() # 2022-04-28"
   ]
  },
  {
   "cell_type": "code",
   "execution_count": null,
   "id": "c4398ef9-b917-4643-9f15-a8e34209819c",
   "metadata": {},
   "outputs": [],
   "source": [
    "ratings['parsed_time'] = pd.to_datetime(ratings['timestamp'], unit='s')\n",
    "ratings.info()"
   ]
  },
  {
   "cell_type": "markdown",
   "id": "721fd199-23bb-4ecd-8ab7-f166ecd9462e",
   "metadata": {},
   "source": [
    "### Filters"
   ]
  },
  {
   "cell_type": "code",
   "execution_count": null,
   "id": "e7a99ebe-e725-4193-8ee8-5567e32a8fa7",
   "metadata": {},
   "outputs": [],
   "source": [
    "ratings['parsed_time'] > '2015-01-01'\n",
    "ratings['parsed_time'].dt.year == 2017\n"
   ]
  },
  {
   "cell_type": "code",
   "execution_count": null,
   "id": "480aad76-b4f0-4581-97a5-9a0b80ac6952",
   "metadata": {},
   "outputs": [],
   "source": [
    "# triedenie podla vyparsovaneho datumu a casu\n",
    "ratings.sort_values(by='parsed_time', ascending=True)"
   ]
  },
  {
   "cell_type": "markdown",
   "id": "7f6b5714-e340-4472-9c7c-c8b2b82324fe",
   "metadata": {},
   "source": [
    "### Task/Lab\n",
    "\n",
    "1. Zistite, aké bolo priemerné hodnotenie filmu *Titanic* od *James-a Cameroon-a* o rok neskôr po ovedení tohto filmu do kín."
   ]
  },
  {
   "cell_type": "code",
   "execution_count": null,
   "id": "c0a7acba-3880-4eda-bdfb-3df443aa209d",
   "metadata": {
    "jupyter": {
     "source_hidden": true
    },
    "tags": []
   },
   "outputs": [],
   "source": [
    "# titanic od Camerona\n",
    "is_titanic = movies['title'].str.startswith('Titanic') & (movies['year'] == 1997)\n",
    "\n",
    "df = movies.loc[ is_titanic ].merge(ratings, how='inner', on='movieId')\n",
    "df.loc[ df['parsed_time'].dt.year == 1998, 'rating' ].mean()\n",
    "#.sort_values(by='parsed_time', ascending=True)"
   ]
  },
  {
   "cell_type": "code",
   "execution_count": null,
   "id": "724ef633-6e87-4307-9610-465f18e1384e",
   "metadata": {},
   "outputs": [],
   "source": [
    "# filter\n",
    "cameroons_titanic = movies['title'].str.startswith('Titanic') & (movies['year'] == 1997)\n",
    "\n",
    "# query\n",
    "titanic_ratings = movies.loc[ cameroons_titanic ].merge(ratings, how='inner', on='movieId')  # .sort_values(by='parsed_time', ascending=True)\n",
    "titanic_ratings.loc[ titanic_ratings['parsed_time'].dt.year == 1998, 'rating' ].mean()"
   ]
  },
  {
   "cell_type": "markdown",
   "id": "a19c00f0-5257-4759-8730-fceee55fd744",
   "metadata": {},
   "source": [
    "## Visualization"
   ]
  },
  {
   "cell_type": "code",
   "execution_count": null,
   "id": "f6202bf9-10be-44c9-a2db-fa4916763317",
   "metadata": {},
   "outputs": [],
   "source": [
    "#creating a DataFrame\n",
    "import numpy as np\n",
    "df = pd.DataFrame(np.random.rand(10, 4), \n",
    "                  columns=('col_1', 'col_2', 'col_3', 'col_4'))\n",
    "df"
   ]
  },
  {
   "cell_type": "markdown",
   "id": "1a9cc498-9562-4add-b61f-4782e975b6ef",
   "metadata": {},
   "source": [
    "### Line Graph"
   ]
  },
  {
   "cell_type": "code",
   "execution_count": null,
   "id": "dd1024f7-fbae-4476-821b-dba7df4783cf",
   "metadata": {},
   "outputs": [],
   "source": [
    "df.plot()"
   ]
  },
  {
   "cell_type": "code",
   "execution_count": null,
   "id": "cd595c26-bfe7-4541-999f-fce9f574c523",
   "metadata": {},
   "outputs": [],
   "source": [
    "df.plot(x='col_1', y='col_2')"
   ]
  },
  {
   "cell_type": "code",
   "execution_count": null,
   "id": "2890a7ac-9e80-4f88-b305-9addf943221d",
   "metadata": {},
   "outputs": [],
   "source": [
    "df.plot(subplots=True, figsize=(8, 8));"
   ]
  },
  {
   "cell_type": "markdown",
   "id": "728d69d3-050f-4f64-8142-5d2428f68f7a",
   "metadata": {},
   "source": [
    "### Bar Graph"
   ]
  },
  {
   "cell_type": "code",
   "execution_count": null,
   "id": "bf81883d-c777-464d-9449-314fbf1e1a4a",
   "metadata": {},
   "outputs": [],
   "source": [
    "df.plot(kind=\"bar\")"
   ]
  },
  {
   "cell_type": "code",
   "execution_count": null,
   "id": "22959bfa-6021-4a22-b81b-d863834ad9b4",
   "metadata": {},
   "outputs": [],
   "source": [
    "df.plot.bar(stacked=True);"
   ]
  },
  {
   "cell_type": "code",
   "execution_count": null,
   "id": "bfd142b2-504b-4f1c-84e3-e7a586966440",
   "metadata": {},
   "outputs": [],
   "source": [
    "df.plot.barh(stacked=True);"
   ]
  },
  {
   "cell_type": "markdown",
   "id": "a586be69-89e7-4e34-bb4b-04be7fad76a7",
   "metadata": {},
   "source": [
    "### Box Plot"
   ]
  },
  {
   "cell_type": "code",
   "execution_count": null,
   "id": "f4f7515a-f8e3-4e26-968e-a3b2296a1202",
   "metadata": {},
   "outputs": [],
   "source": [
    "df.plot.box()"
   ]
  },
  {
   "cell_type": "markdown",
   "id": "10811335-121a-462f-a07f-39d853c7ee6f",
   "metadata": {},
   "source": [
    "### Area Plot"
   ]
  },
  {
   "cell_type": "code",
   "execution_count": null,
   "id": "9d4a74a1-e20c-423f-9b39-8983abf408f0",
   "metadata": {},
   "outputs": [],
   "source": [
    "df.plot.area()"
   ]
  },
  {
   "cell_type": "markdown",
   "id": "c23689b3-6831-4315-a699-ee37e41aa701",
   "metadata": {},
   "source": [
    "## Indiana Jones"
   ]
  },
  {
   "cell_type": "markdown",
   "id": "a7ee399d-33cd-45f0-aa63-8500256f2206",
   "metadata": {},
   "source": [
    "|            | Indy 1 | Indy 2 | Indy 3 | Indy 4 |\n",
    "|------------|--------|--------|--------|--------|\n",
    "| 2000-01-01 |   5    |   4    |   3    |   1    |\n",
    "| 2000-01-02 |   4    |   3    |   2    |   2    |"
   ]
  },
  {
   "cell_type": "code",
   "execution_count": null,
   "id": "ad3dd223-cf8c-4111-a452-df75c8363a02",
   "metadata": {},
   "outputs": [],
   "source": []
  }
 ],
 "metadata": {
  "kernelspec": {
   "display_name": "Python 3 (ipykernel)",
   "language": "python",
   "name": "python3"
  },
  "language_info": {
   "codemirror_mode": {
    "name": "ipython",
    "version": 3
   },
   "file_extension": ".py",
   "mimetype": "text/x-python",
   "name": "python",
   "nbconvert_exporter": "python",
   "pygments_lexer": "ipython3",
   "version": "3.9.11"
  }
 },
 "nbformat": 4,
 "nbformat_minor": 5
}
