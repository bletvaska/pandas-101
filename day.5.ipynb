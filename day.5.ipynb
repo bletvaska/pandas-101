{
 "cells": [
  {
   "cell_type": "markdown",
   "id": "96006cd2-2303-4d85-865b-db1f7d8cd900",
   "metadata": {},
   "source": [
    "# Day 5: Visualization"
   ]
  },
  {
   "cell_type": "code",
   "execution_count": null,
   "id": "2c5442fd-9325-47a6-89ae-da9a8f77d13b",
   "metadata": {},
   "outputs": [],
   "source": [
    "from pathlib import Path\n",
    "\n",
    "import pandas as pd"
   ]
  },
  {
   "cell_type": "code",
   "execution_count": 72,
   "id": "dced828d-23ca-4149-81a3-50ac1393cf3e",
   "metadata": {},
   "outputs": [
    {
     "name": "stdout",
     "output_type": "stream",
     "text": [
      "<class 'pandas.core.frame.DataFrame'>\n",
      "Int64Index: 9742 entries, 1 to 193609\n",
      "Data columns (total 5 columns):\n",
      " #   Column  Non-Null Count  Dtype \n",
      "---  ------  --------------  ----- \n",
      " 0   title   9742 non-null   string\n",
      " 1   genres  9742 non-null   string\n",
      " 2   imdbId  9742 non-null   int32 \n",
      " 3   tmdbId  9734 non-null   Int32 \n",
      " 4   year    9729 non-null   Int32 \n",
      "dtypes: Int32(2), int32(1), string(2)\n",
      "memory usage: 619.6 KB\n"
     ]
    }
   ],
   "source": [
    "path = Path('data/movielens/')\n",
    "\n",
    "# reading\n",
    "movies = pd.read_csv(path / 'movies.csv', index_col='movieId')\n",
    "links = pd.read_csv(path / 'links.csv', index_col='movieId')\n",
    "movies = movies.merge(links, how='inner', left_index=True, right_index=True)\n",
    "\n",
    "# extracting year\n",
    "pattern = r'\\((?P<year>\\d+)\\)\\s?$'\n",
    "movies['year'] = movies['title'].str.extract(pattern)\n",
    "\n",
    "# casting\n",
    "movies['title'] = movies['title'].astype('string')\n",
    "movies['genres'] = movies['genres'].astype('string')\n",
    "movies['imdbId'] = movies['imdbId'].astype('int32')\n",
    "movies['tmdbId'] = movies['tmdbId'].astype('Int32')\n",
    "movies['year'] = movies['year'].astype('Int32')\n",
    "movies.info()"
   ]
  },
  {
   "cell_type": "markdown",
   "id": "1d61ea26-4862-40a5-b375-9512deb84b8b",
   "metadata": {},
   "source": [
    "## Descriptive Statistic"
   ]
  },
  {
   "cell_type": "code",
   "execution_count": null,
   "id": "fb43049a-ea52-43cc-8438-423f3953b960",
   "metadata": {},
   "outputs": [],
   "source": [
    "movies.describe()"
   ]
  },
  {
   "cell_type": "markdown",
   "id": "7c232884-ac8d-4098-8633-d38a43af0c1c",
   "metadata": {},
   "source": [
    "## Time Series"
   ]
  },
  {
   "cell_type": "code",
   "execution_count": null,
   "id": "eaca50fb-c504-469e-b072-756e5b44bc88",
   "metadata": {},
   "outputs": [],
   "source": [
    "from pathlib import Path\n",
    "\n",
    "ratings = pd.read_csv('data/movielens/ratings.csv')\n",
    "ratings.info() # 2022-04-28"
   ]
  },
  {
   "cell_type": "code",
   "execution_count": null,
   "id": "c4398ef9-b917-4643-9f15-a8e34209819c",
   "metadata": {},
   "outputs": [],
   "source": [
    "ratings['parsed_time'] = pd.to_datetime(ratings['timestamp'], unit='s')\n",
    "ratings.info()"
   ]
  },
  {
   "cell_type": "markdown",
   "id": "721fd199-23bb-4ecd-8ab7-f166ecd9462e",
   "metadata": {},
   "source": [
    "### Filters"
   ]
  },
  {
   "cell_type": "code",
   "execution_count": null,
   "id": "e7a99ebe-e725-4193-8ee8-5567e32a8fa7",
   "metadata": {},
   "outputs": [],
   "source": [
    "ratings['parsed_time'] > '2015-01-01'\n",
    "ratings['parsed_time'].dt.year == 2017\n"
   ]
  },
  {
   "cell_type": "code",
   "execution_count": null,
   "id": "480aad76-b4f0-4581-97a5-9a0b80ac6952",
   "metadata": {},
   "outputs": [],
   "source": [
    "# triedenie podla vyparsovaneho datumu a casu\n",
    "ratings.sort_values(by='parsed_time', ascending=True)"
   ]
  },
  {
   "cell_type": "markdown",
   "id": "7f6b5714-e340-4472-9c7c-c8b2b82324fe",
   "metadata": {},
   "source": [
    "### Task/Lab\n",
    "\n",
    "1. Zistite, aké bolo priemerné hodnotenie filmu *Titanic* od *James-a Cameroon-a* o rok neskôr po ovedení tohto filmu do kín."
   ]
  },
  {
   "cell_type": "code",
   "execution_count": null,
   "id": "c0a7acba-3880-4eda-bdfb-3df443aa209d",
   "metadata": {
    "jupyter": {
     "source_hidden": true
    },
    "tags": []
   },
   "outputs": [],
   "source": [
    "# titanic od Camerona\n",
    "is_titanic = movies['title'].str.startswith('Titanic') & (movies['year'] == 1997)\n",
    "\n",
    "df = movies.loc[ is_titanic ].merge(ratings, how='inner', on='movieId')\n",
    "df.loc[ df['parsed_time'].dt.year == 1998, 'rating' ].mean()\n",
    "#.sort_values(by='parsed_time', ascending=True)"
   ]
  },
  {
   "cell_type": "code",
   "execution_count": null,
   "id": "724ef633-6e87-4307-9610-465f18e1384e",
   "metadata": {},
   "outputs": [],
   "source": [
    "# filter\n",
    "cameroons_titanic = movies['title'].str.startswith('Titanic') & (movies['year'] == 1997)\n",
    "\n",
    "# query\n",
    "titanic_ratings = movies.loc[ cameroons_titanic ].merge(ratings, how='inner', on='movieId')  # .sort_values(by='parsed_time', ascending=True)\n",
    "titanic_ratings.loc[ titanic_ratings['parsed_time'].dt.year == 1998, 'rating' ].mean()"
   ]
  },
  {
   "cell_type": "markdown",
   "id": "a19c00f0-5257-4759-8730-fceee55fd744",
   "metadata": {},
   "source": [
    "## Visualization"
   ]
  },
  {
   "cell_type": "code",
   "execution_count": 73,
   "id": "f6202bf9-10be-44c9-a2db-fa4916763317",
   "metadata": {},
   "outputs": [
    {
     "data": {
      "text/html": [
       "<div>\n",
       "<style scoped>\n",
       "    .dataframe tbody tr th:only-of-type {\n",
       "        vertical-align: middle;\n",
       "    }\n",
       "\n",
       "    .dataframe tbody tr th {\n",
       "        vertical-align: top;\n",
       "    }\n",
       "\n",
       "    .dataframe thead th {\n",
       "        text-align: right;\n",
       "    }\n",
       "</style>\n",
       "<table border=\"1\" class=\"dataframe\">\n",
       "  <thead>\n",
       "    <tr style=\"text-align: right;\">\n",
       "      <th></th>\n",
       "      <th>col_1</th>\n",
       "      <th>col_2</th>\n",
       "      <th>col_3</th>\n",
       "      <th>col_4</th>\n",
       "    </tr>\n",
       "  </thead>\n",
       "  <tbody>\n",
       "    <tr>\n",
       "      <th>0</th>\n",
       "      <td>0.292473</td>\n",
       "      <td>0.635288</td>\n",
       "      <td>0.243184</td>\n",
       "      <td>0.623686</td>\n",
       "    </tr>\n",
       "    <tr>\n",
       "      <th>1</th>\n",
       "      <td>0.967723</td>\n",
       "      <td>0.855671</td>\n",
       "      <td>0.952017</td>\n",
       "      <td>0.437658</td>\n",
       "    </tr>\n",
       "    <tr>\n",
       "      <th>2</th>\n",
       "      <td>0.597651</td>\n",
       "      <td>0.202224</td>\n",
       "      <td>0.859949</td>\n",
       "      <td>0.311420</td>\n",
       "    </tr>\n",
       "    <tr>\n",
       "      <th>3</th>\n",
       "      <td>0.870297</td>\n",
       "      <td>0.240621</td>\n",
       "      <td>0.998018</td>\n",
       "      <td>0.586276</td>\n",
       "    </tr>\n",
       "    <tr>\n",
       "      <th>4</th>\n",
       "      <td>0.713202</td>\n",
       "      <td>0.830292</td>\n",
       "      <td>0.657666</td>\n",
       "      <td>0.000198</td>\n",
       "    </tr>\n",
       "    <tr>\n",
       "      <th>5</th>\n",
       "      <td>0.871887</td>\n",
       "      <td>0.908788</td>\n",
       "      <td>0.856466</td>\n",
       "      <td>0.802652</td>\n",
       "    </tr>\n",
       "    <tr>\n",
       "      <th>6</th>\n",
       "      <td>0.076484</td>\n",
       "      <td>0.263376</td>\n",
       "      <td>0.090891</td>\n",
       "      <td>0.310714</td>\n",
       "    </tr>\n",
       "    <tr>\n",
       "      <th>7</th>\n",
       "      <td>0.596126</td>\n",
       "      <td>0.060626</td>\n",
       "      <td>0.011953</td>\n",
       "      <td>0.148333</td>\n",
       "    </tr>\n",
       "    <tr>\n",
       "      <th>8</th>\n",
       "      <td>0.341701</td>\n",
       "      <td>0.546308</td>\n",
       "      <td>0.909755</td>\n",
       "      <td>0.183646</td>\n",
       "    </tr>\n",
       "    <tr>\n",
       "      <th>9</th>\n",
       "      <td>0.517992</td>\n",
       "      <td>0.230732</td>\n",
       "      <td>0.199547</td>\n",
       "      <td>0.706833</td>\n",
       "    </tr>\n",
       "  </tbody>\n",
       "</table>\n",
       "</div>"
      ],
      "text/plain": [
       "      col_1     col_2     col_3     col_4\n",
       "0  0.292473  0.635288  0.243184  0.623686\n",
       "1  0.967723  0.855671  0.952017  0.437658\n",
       "2  0.597651  0.202224  0.859949  0.311420\n",
       "3  0.870297  0.240621  0.998018  0.586276\n",
       "4  0.713202  0.830292  0.657666  0.000198\n",
       "5  0.871887  0.908788  0.856466  0.802652\n",
       "6  0.076484  0.263376  0.090891  0.310714\n",
       "7  0.596126  0.060626  0.011953  0.148333\n",
       "8  0.341701  0.546308  0.909755  0.183646\n",
       "9  0.517992  0.230732  0.199547  0.706833"
      ]
     },
     "execution_count": 73,
     "metadata": {},
     "output_type": "execute_result"
    }
   ],
   "source": [
    "#creating a DataFrame\n",
    "import numpy as np\n",
    "df = pd.DataFrame(np.random.rand(10, 4), \n",
    "                  columns=('col_1', 'col_2', 'col_3', 'col_4'))\n",
    "df"
   ]
  },
  {
   "cell_type": "markdown",
   "id": "1a9cc498-9562-4add-b61f-4782e975b6ef",
   "metadata": {},
   "source": [
    "### Line Graph"
   ]
  },
  {
   "cell_type": "code",
   "execution_count": 74,
   "id": "dd1024f7-fbae-4476-821b-dba7df4783cf",
   "metadata": {},
   "outputs": [
    {
     "data": {
      "text/plain": [
       "<AxesSubplot:>"
      ]
     },
     "execution_count": 74,
     "metadata": {},
     "output_type": "execute_result"
    },
    {
     "data": {
      "image/png": "[encoded data removed]",
      "text/plain": [
       "<Figure size 432x288 with 1 Axes>"
      ]
     },
     "metadata": {
      "needs_background": "light"
     },
     "output_type": "display_data"
    }
   ],
   "source": [
    "df.plot()"
   ]
  },
  {
   "cell_type": "code",
   "execution_count": 75,
   "id": "cd595c26-bfe7-4541-999f-fce9f574c523",
   "metadata": {},
   "outputs": [
    {
     "data": {
      "text/plain": [
       "<AxesSubplot:xlabel='col_1'>"
      ]
     },
     "execution_count": 75,
     "metadata": {},
     "output_type": "execute_result"
    },
    {
     "data": {
      "image/png": "[encoded data removed]",
      "text/plain": [
       "<Figure size 432x288 with 1 Axes>"
      ]
     },
     "metadata": {
      "needs_background": "light"
     },
     "output_type": "display_data"
    }
   ],
   "source": [
    "df.plot(x='col_1', y='col_2')"
   ]
  },
  {
   "cell_type": "code",
   "execution_count": 76,
   "id": "2890a7ac-9e80-4f88-b305-9addf943221d",
   "metadata": {},
   "outputs": [
    {
     "data": {
      "image/png": "[encoded data removed]",
      "text/plain": [
       "<Figure size 576x576 with 4 Axes>"
      ]
     },
     "metadata": {
      "needs_background": "light"
     },
     "output_type": "display_data"
    }
   ],
   "source": [
    "df.plot(subplots=True, figsize=(8, 8));"
   ]
  },
  {
   "cell_type": "markdown",
   "id": "728d69d3-050f-4f64-8142-5d2428f68f7a",
   "metadata": {},
   "source": [
    "### Bar Graph"
   ]
  },
  {
   "cell_type": "code",
   "execution_count": null,
   "id": "bf81883d-c777-464d-9449-314fbf1e1a4a",
   "metadata": {},
   "outputs": [],
   "source": [
    "df.plot(kind=\"bar\")"
   ]
  },
  {
   "cell_type": "code",
   "execution_count": null,
   "id": "22959bfa-6021-4a22-b81b-d863834ad9b4",
   "metadata": {},
   "outputs": [],
   "source": [
    "df.plot.bar(stacked=True);"
   ]
  },
  {
   "cell_type": "code",
   "execution_count": null,
   "id": "bfd142b2-504b-4f1c-84e3-e7a586966440",
   "metadata": {},
   "outputs": [],
   "source": [
    "df.plot.barh(stacked=True);"
   ]
  },
  {
   "cell_type": "markdown",
   "id": "a586be69-89e7-4e34-bb4b-04be7fad76a7",
   "metadata": {},
   "source": [
    "### Box Plot"
   ]
  },
  {
   "cell_type": "code",
   "execution_count": null,
   "id": "f4f7515a-f8e3-4e26-968e-a3b2296a1202",
   "metadata": {},
   "outputs": [],
   "source": [
    "df.plot.box()"
   ]
  },
  {
   "cell_type": "markdown",
   "id": "10811335-121a-462f-a07f-39d853c7ee6f",
   "metadata": {},
   "source": [
    "### Area Plot"
   ]
  },
  {
   "cell_type": "code",
   "execution_count": null,
   "id": "9d4a74a1-e20c-423f-9b39-8983abf408f0",
   "metadata": {},
   "outputs": [],
   "source": [
    "df.plot.area()"
   ]
  },
  {
   "cell_type": "markdown",
   "id": "c23689b3-6831-4315-a699-ee37e41aa701",
   "metadata": {},
   "source": [
    "## Indiana Jones"
   ]
  },
  {
   "cell_type": "markdown",
   "id": "a7ee399d-33cd-45f0-aa63-8500256f2206",
   "metadata": {},
   "source": [
    "|            | Indy 1 | Indy 2 | Indy 3 | Indy 4 |\n",
    "|------------|--------|--------|--------|--------|\n",
    "| 2000-01-01 |   5    |   4    |   3    |   1    |\n",
    "| 2000-01-02 |   4    |   3    |   2    |   2    |"
   ]
  },
  {
   "cell_type": "code",
   "execution_count": 104,
   "id": "ad3dd223-cf8c-4111-a452-df75c8363a02",
   "metadata": {},
   "outputs": [],
   "source": [
    "# filters for indiana jones movies\n",
    "indy1 = movies['title'].str.startswith('Raiders of the Lost Ark') & (movies['year'] == 1981)\n",
    "indy2 = movies['title'].str.startswith('Indiana Jones and the Temple')\n",
    "indy3 = movies['title'].str.startswith('Indiana Jones and the Last Crusade')\n",
    "indy4 = movies['title'].str.startswith('Indiana Jones and the Kingdom')\n",
    "\n",
    "# append dates only\n",
    "ratings['date'] = ratings['parsed_time'].dt.date\n",
    "\n",
    "# all movies\n",
    "movies.loc[ indy1 | indy2 | indy3 | indy4 ] \\\n",
    "    .merge(ratings, how='inner', on='movieId') \\\n",
    "    .groupby(['date', 'movieId'])['rating'] \\\n",
    "    .mean()\n",
    "\n",
    "# indy 1\n",
    "indy1_ratings = movies.loc[ indy1 ] \\\n",
    "    .merge(ratings, how='inner', on='movieId') \\\n",
    "    .groupby('date')['rating'] \\\n",
    "    .mean() \\\n",
    "    .reset_index() \\\n",
    "    .rename(columns={'rating': 'indy1'})"
   ]
  },
  {
   "cell_type": "code",
   "execution_count": 105,
   "id": "156e92c0-2514-443a-85a7-7d1018c74f30",
   "metadata": {},
   "outputs": [],
   "source": [
    "# indy 2\n",
    "indy2_ratings = movies.loc[ indy2 ] \\\n",
    "    .merge(ratings, how='inner', on='movieId') \\\n",
    "    .groupby('date')['rating'] \\\n",
    "    .mean() \\\n",
    "    .reset_index() \\\n",
    "    .rename(columns={'rating': 'indy2'})"
   ]
  },
  {
   "cell_type": "code",
   "execution_count": 120,
   "id": "5b5e7dd0-de0e-4c9d-9d0e-6e80f4088679",
   "metadata": {},
   "outputs": [],
   "source": [
    "# indy 3\n",
    "indy3_ratings = movies.loc[ indy3 ] \\\n",
    "    .merge(ratings, how='inner', on='movieId') \\\n",
    "    .groupby('date')['rating'] \\\n",
    "    .mean() \\\n",
    "    .reset_index() \\\n",
    "    .rename(columns={'rating': 'indy3'})"
   ]
  },
  {
   "cell_type": "code",
   "execution_count": 123,
   "id": "30c2cea9-689f-4d79-acb0-d3354fca091a",
   "metadata": {},
   "outputs": [],
   "source": [
    "# indy 4\n",
    "indy4_ratings = movies.loc[ indy4 ] \\\n",
    "    .merge(ratings, how='inner', on='movieId') \\\n",
    "    .groupby('date')['rating'] \\\n",
    "    .mean() \\\n",
    "    .reset_index() \\\n",
    "    .rename(columns={'rating': 'indy4'})"
   ]
  },
  {
   "cell_type": "code",
   "execution_count": 125,
   "id": "4ded3283-7321-4631-8c38-d3bef8ee9174",
   "metadata": {},
   "outputs": [],
   "source": [
    "# merge them together\n",
    "# indy1_ratings.sort_values('date')\n",
    "# indy2_ratings.sort_values('date')\n",
    "\n",
    "indy_ratings = indy1_ratings \\\n",
    "    .merge(indy2_ratings, how='outer', on='date') \\\n",
    "    .merge(indy3_ratings, how='outer', on='date') \\\n",
    "    .merge(indy4_ratings, how='outer', on='date')"
   ]
  },
  {
   "cell_type": "code",
   "execution_count": 131,
   "id": "18ff9fc8-b3f3-494a-8ded-f429fab91d8c",
   "metadata": {},
   "outputs": [
    {
     "data": {
      "text/html": [
       "<div>\n",
       "<style scoped>\n",
       "    .dataframe tbody tr th:only-of-type {\n",
       "        vertical-align: middle;\n",
       "    }\n",
       "\n",
       "    .dataframe tbody tr th {\n",
       "        vertical-align: top;\n",
       "    }\n",
       "\n",
       "    .dataframe thead th {\n",
       "        text-align: right;\n",
       "    }\n",
       "</style>\n",
       "<table border=\"1\" class=\"dataframe\">\n",
       "  <thead>\n",
       "    <tr style=\"text-align: right;\">\n",
       "      <th></th>\n",
       "      <th>date</th>\n",
       "      <th>indy1</th>\n",
       "      <th>indy2</th>\n",
       "      <th>indy3</th>\n",
       "      <th>indy4</th>\n",
       "    </tr>\n",
       "  </thead>\n",
       "  <tbody>\n",
       "    <tr>\n",
       "      <th>0</th>\n",
       "      <td>1996-12-13</td>\n",
       "      <td>4.0</td>\n",
       "      <td>NaN</td>\n",
       "      <td>NaN</td>\n",
       "      <td>NaN</td>\n",
       "    </tr>\n",
       "    <tr>\n",
       "      <th>1</th>\n",
       "      <td>1996-12-26</td>\n",
       "      <td>5.0</td>\n",
       "      <td>NaN</td>\n",
       "      <td>5.0</td>\n",
       "      <td>NaN</td>\n",
       "    </tr>\n",
       "    <tr>\n",
       "      <th>2</th>\n",
       "      <td>1997-01-28</td>\n",
       "      <td>5.0</td>\n",
       "      <td>NaN</td>\n",
       "      <td>NaN</td>\n",
       "      <td>NaN</td>\n",
       "    </tr>\n",
       "    <tr>\n",
       "      <th>3</th>\n",
       "      <td>1997-02-23</td>\n",
       "      <td>5.0</td>\n",
       "      <td>NaN</td>\n",
       "      <td>NaN</td>\n",
       "      <td>NaN</td>\n",
       "    </tr>\n",
       "    <tr>\n",
       "      <th>4</th>\n",
       "      <td>1997-03-19</td>\n",
       "      <td>4.0</td>\n",
       "      <td>NaN</td>\n",
       "      <td>3.0</td>\n",
       "      <td>NaN</td>\n",
       "    </tr>\n",
       "    <tr>\n",
       "      <th>...</th>\n",
       "      <td>...</td>\n",
       "      <td>...</td>\n",
       "      <td>...</td>\n",
       "      <td>...</td>\n",
       "      <td>...</td>\n",
       "    </tr>\n",
       "    <tr>\n",
       "      <th>193</th>\n",
       "      <td>2018-08-18</td>\n",
       "      <td>4.0</td>\n",
       "      <td>4.0</td>\n",
       "      <td>4.0</td>\n",
       "      <td>NaN</td>\n",
       "    </tr>\n",
       "    <tr>\n",
       "      <th>194</th>\n",
       "      <td>2018-08-24</td>\n",
       "      <td>5.0</td>\n",
       "      <td>NaN</td>\n",
       "      <td>NaN</td>\n",
       "      <td>NaN</td>\n",
       "    </tr>\n",
       "    <tr>\n",
       "      <th>195</th>\n",
       "      <td>2018-08-28</td>\n",
       "      <td>5.0</td>\n",
       "      <td>NaN</td>\n",
       "      <td>NaN</td>\n",
       "      <td>NaN</td>\n",
       "    </tr>\n",
       "    <tr>\n",
       "      <th>196</th>\n",
       "      <td>2018-08-30</td>\n",
       "      <td>3.5</td>\n",
       "      <td>NaN</td>\n",
       "      <td>NaN</td>\n",
       "      <td>NaN</td>\n",
       "    </tr>\n",
       "    <tr>\n",
       "      <th>270</th>\n",
       "      <td>2018-08-31</td>\n",
       "      <td>NaN</td>\n",
       "      <td>NaN</td>\n",
       "      <td>3.5</td>\n",
       "      <td>NaN</td>\n",
       "    </tr>\n",
       "  </tbody>\n",
       "</table>\n",
       "<p>289 rows × 5 columns</p>\n",
       "</div>"
      ],
      "text/plain": [
       "           date  indy1  indy2  indy3  indy4\n",
       "0    1996-12-13    4.0    NaN    NaN    NaN\n",
       "1    1996-12-26    5.0    NaN    5.0    NaN\n",
       "2    1997-01-28    5.0    NaN    NaN    NaN\n",
       "3    1997-02-23    5.0    NaN    NaN    NaN\n",
       "4    1997-03-19    4.0    NaN    3.0    NaN\n",
       "..          ...    ...    ...    ...    ...\n",
       "193  2018-08-18    4.0    4.0    4.0    NaN\n",
       "194  2018-08-24    5.0    NaN    NaN    NaN\n",
       "195  2018-08-28    5.0    NaN    NaN    NaN\n",
       "196  2018-08-30    3.5    NaN    NaN    NaN\n",
       "270  2018-08-31    NaN    NaN    3.5    NaN\n",
       "\n",
       "[289 rows x 5 columns]"
      ]
     },
     "execution_count": 131,
     "metadata": {},
     "output_type": "execute_result"
    }
   ],
   "source": [
    "indy_ratings.sort_values('date', ascending=True)\n",
    "# indy_ratings.plot(x='date')\n"
   ]
  },
  {
   "cell_type": "code",
   "execution_count": 156,
   "id": "248e1e5c-5ce2-4e81-b9f9-f97035e0c387",
   "metadata": {},
   "outputs": [],
   "source": [
    "# pridanie date stlpca\n",
    "ratings['date'] = ratings['parsed_time'].dt.date"
   ]
  },
  {
   "cell_type": "code",
   "execution_count": 157,
   "id": "a9d92f1c-5015-4245-a8d5-1941f9dbef09",
   "metadata": {},
   "outputs": [],
   "source": [
    "# filters\n",
    "is_indy = movies['title'].str.contains('Indiana Jones')\n",
    "is_indy1 = movies['title'].str.startswith('Raiders of the Lost Ark') & (movies['year'] == 1981)\n",
    "is_indy2 = movies['title'].str.startswith('Indiana Jones and the Temple of Doom')\n",
    "is_indy3 = movies['title'].str.startswith('Indiana Jones and the Last Crusade')\n",
    "is_indy4 = movies['title'].str.startswith('Indiana Jones and the Kingdom of the Crystal Skull')"
   ]
  },
  {
   "cell_type": "code",
   "execution_count": 168,
   "id": "479a6ac7-4c52-4025-8b86-9d662aa9448e",
   "metadata": {},
   "outputs": [],
   "source": [
    "# processing indy 1\n",
    "rating_indy1 = movies.loc[ is_indy1 ] \\\n",
    "    .merge(ratings, how='inner', on='movieId') \\\n",
    "    .loc[:, ['date', 'rating' ]] \\\n",
    "    .groupby('date') \\\n",
    "    .mean() \\\n",
    "    .rename(columns={'rating': 'indy1'})"
   ]
  },
  {
   "cell_type": "code",
   "execution_count": 169,
   "id": "f8c6c785-efde-4828-b042-b40d4d0e31f8",
   "metadata": {},
   "outputs": [],
   "source": [
    "# processing indy 2\n",
    "rating_indy2 = movies.loc[ is_indy2 ] \\\n",
    "    .merge(ratings, how='inner', on='movieId') \\\n",
    "    .loc[:, ['date', 'rating' ]] \\\n",
    "    .groupby('date') \\\n",
    "    .mean() \\\n",
    "    .rename(columns={'rating': 'indy2'})"
   ]
  },
  {
   "cell_type": "code",
   "execution_count": 170,
   "id": "ae8088f7-1376-4148-b3ca-0c88d3bc9fc1",
   "metadata": {},
   "outputs": [],
   "source": [
    "# processing indy 3\n",
    "rating_indy3 = movies.loc[ is_indy3 ] \\\n",
    "    .merge(ratings, how='inner', on='movieId') \\\n",
    "    .loc[:, ['date', 'rating' ]] \\\n",
    "    .groupby('date') \\\n",
    "    .mean() \\\n",
    "    .rename(columns={'rating': 'indy3'})"
   ]
  },
  {
   "cell_type": "code",
   "execution_count": 171,
   "id": "20de4634-762b-4117-ae5b-d4208f53da22",
   "metadata": {},
   "outputs": [],
   "source": [
    "# processing indy 4\n",
    "rating_indy4 = movies.loc[ is_indy4 ] \\\n",
    "    .merge(ratings, how='inner', on='movieId') \\\n",
    "    .loc[:, ['date', 'rating' ]] \\\n",
    "    .groupby('date') \\\n",
    "    .mean() \\\n",
    "    .rename(columns={'rating': 'indy4'})"
   ]
  },
  {
   "cell_type": "code",
   "execution_count": 179,
   "id": "963f4de1-59ec-4266-9430-391f6d09ed2d",
   "metadata": {},
   "outputs": [],
   "source": [
    "ratings_indy = rating_indy1 \\\n",
    "    .merge(rating_indy2, how='outer', on='date') \\\n",
    "    .merge(rating_indy3, how='outer', on='date') \\\n",
    "    .merge(rating_indy4, how='outer', on='date')"
   ]
  },
  {
   "cell_type": "code",
   "execution_count": 181,
   "id": "6b1e1798-3fcd-40ec-a451-8b592da4c3d6",
   "metadata": {},
   "outputs": [
    {
     "data": {
      "text/html": [
       "<div>\n",
       "<style scoped>\n",
       "    .dataframe tbody tr th:only-of-type {\n",
       "        vertical-align: middle;\n",
       "    }\n",
       "\n",
       "    .dataframe tbody tr th {\n",
       "        vertical-align: top;\n",
       "    }\n",
       "\n",
       "    .dataframe thead th {\n",
       "        text-align: right;\n",
       "    }\n",
       "</style>\n",
       "<table border=\"1\" class=\"dataframe\">\n",
       "  <thead>\n",
       "    <tr style=\"text-align: right;\">\n",
       "      <th></th>\n",
       "      <th>indy1</th>\n",
       "      <th>indy2</th>\n",
       "      <th>indy3</th>\n",
       "      <th>indy4</th>\n",
       "    </tr>\n",
       "    <tr>\n",
       "      <th>date</th>\n",
       "      <th></th>\n",
       "      <th></th>\n",
       "      <th></th>\n",
       "      <th></th>\n",
       "    </tr>\n",
       "  </thead>\n",
       "  <tbody>\n",
       "    <tr>\n",
       "      <th>1996-12-13</th>\n",
       "      <td>4.0</td>\n",
       "      <td>NaN</td>\n",
       "      <td>NaN</td>\n",
       "      <td>NaN</td>\n",
       "    </tr>\n",
       "    <tr>\n",
       "      <th>1996-12-26</th>\n",
       "      <td>5.0</td>\n",
       "      <td>NaN</td>\n",
       "      <td>5.0</td>\n",
       "      <td>NaN</td>\n",
       "    </tr>\n",
       "    <tr>\n",
       "      <th>1997-01-28</th>\n",
       "      <td>5.0</td>\n",
       "      <td>NaN</td>\n",
       "      <td>NaN</td>\n",
       "      <td>NaN</td>\n",
       "    </tr>\n",
       "    <tr>\n",
       "      <th>1997-02-23</th>\n",
       "      <td>5.0</td>\n",
       "      <td>NaN</td>\n",
       "      <td>NaN</td>\n",
       "      <td>NaN</td>\n",
       "    </tr>\n",
       "    <tr>\n",
       "      <th>1997-03-19</th>\n",
       "      <td>4.0</td>\n",
       "      <td>NaN</td>\n",
       "      <td>3.0</td>\n",
       "      <td>NaN</td>\n",
       "    </tr>\n",
       "    <tr>\n",
       "      <th>...</th>\n",
       "      <td>...</td>\n",
       "      <td>...</td>\n",
       "      <td>...</td>\n",
       "      <td>...</td>\n",
       "    </tr>\n",
       "    <tr>\n",
       "      <th>2018-08-18</th>\n",
       "      <td>4.0</td>\n",
       "      <td>4.0</td>\n",
       "      <td>4.0</td>\n",
       "      <td>NaN</td>\n",
       "    </tr>\n",
       "    <tr>\n",
       "      <th>2018-08-24</th>\n",
       "      <td>5.0</td>\n",
       "      <td>NaN</td>\n",
       "      <td>NaN</td>\n",
       "      <td>NaN</td>\n",
       "    </tr>\n",
       "    <tr>\n",
       "      <th>2018-08-28</th>\n",
       "      <td>5.0</td>\n",
       "      <td>NaN</td>\n",
       "      <td>NaN</td>\n",
       "      <td>NaN</td>\n",
       "    </tr>\n",
       "    <tr>\n",
       "      <th>2018-08-30</th>\n",
       "      <td>3.5</td>\n",
       "      <td>NaN</td>\n",
       "      <td>NaN</td>\n",
       "      <td>NaN</td>\n",
       "    </tr>\n",
       "    <tr>\n",
       "      <th>2018-08-31</th>\n",
       "      <td>NaN</td>\n",
       "      <td>NaN</td>\n",
       "      <td>3.5</td>\n",
       "      <td>NaN</td>\n",
       "    </tr>\n",
       "  </tbody>\n",
       "</table>\n",
       "<p>289 rows × 4 columns</p>\n",
       "</div>"
      ],
      "text/plain": [
       "            indy1  indy2  indy3  indy4\n",
       "date                                  \n",
       "1996-12-13    4.0    NaN    NaN    NaN\n",
       "1996-12-26    5.0    NaN    5.0    NaN\n",
       "1997-01-28    5.0    NaN    NaN    NaN\n",
       "1997-02-23    5.0    NaN    NaN    NaN\n",
       "1997-03-19    4.0    NaN    3.0    NaN\n",
       "...           ...    ...    ...    ...\n",
       "2018-08-18    4.0    4.0    4.0    NaN\n",
       "2018-08-24    5.0    NaN    NaN    NaN\n",
       "2018-08-28    5.0    NaN    NaN    NaN\n",
       "2018-08-30    3.5    NaN    NaN    NaN\n",
       "2018-08-31    NaN    NaN    3.5    NaN\n",
       "\n",
       "[289 rows x 4 columns]"
      ]
     },
     "execution_count": 181,
     "metadata": {},
     "output_type": "execute_result"
    }
   ],
   "source": [
    "ratings_indy.sort_values('date', ascending=True)"
   ]
  },
  {
   "cell_type": "code",
   "execution_count": 182,
   "id": "c15876d2-b681-4b6e-905a-0504bd7bcdd1",
   "metadata": {},
   "outputs": [
    {
     "data": {
      "text/html": [
       "<div>\n",
       "<style scoped>\n",
       "    .dataframe tbody tr th:only-of-type {\n",
       "        vertical-align: middle;\n",
       "    }\n",
       "\n",
       "    .dataframe tbody tr th {\n",
       "        vertical-align: top;\n",
       "    }\n",
       "\n",
       "    .dataframe thead th {\n",
       "        text-align: right;\n",
       "    }\n",
       "</style>\n",
       "<table border=\"1\" class=\"dataframe\">\n",
       "  <thead>\n",
       "    <tr style=\"text-align: right;\">\n",
       "      <th></th>\n",
       "      <th>indy1</th>\n",
       "      <th>indy2</th>\n",
       "      <th>indy3</th>\n",
       "      <th>indy4</th>\n",
       "    </tr>\n",
       "  </thead>\n",
       "  <tbody>\n",
       "    <tr>\n",
       "      <th>count</th>\n",
       "      <td>197.000000</td>\n",
       "      <td>108.000000</td>\n",
       "      <td>140.000000</td>\n",
       "      <td>38.000000</td>\n",
       "    </tr>\n",
       "    <tr>\n",
       "      <th>mean</th>\n",
       "      <td>4.206853</td>\n",
       "      <td>3.638889</td>\n",
       "      <td>4.046429</td>\n",
       "      <td>2.828947</td>\n",
       "    </tr>\n",
       "    <tr>\n",
       "      <th>std</th>\n",
       "      <td>0.798223</td>\n",
       "      <td>0.850600</td>\n",
       "      <td>0.781753</td>\n",
       "      <td>1.060828</td>\n",
       "    </tr>\n",
       "    <tr>\n",
       "      <th>min</th>\n",
       "      <td>0.500000</td>\n",
       "      <td>1.000000</td>\n",
       "      <td>0.500000</td>\n",
       "      <td>0.500000</td>\n",
       "    </tr>\n",
       "    <tr>\n",
       "      <th>25%</th>\n",
       "      <td>4.000000</td>\n",
       "      <td>3.000000</td>\n",
       "      <td>3.875000</td>\n",
       "      <td>2.000000</td>\n",
       "    </tr>\n",
       "    <tr>\n",
       "      <th>50%</th>\n",
       "      <td>4.000000</td>\n",
       "      <td>4.000000</td>\n",
       "      <td>4.000000</td>\n",
       "      <td>3.000000</td>\n",
       "    </tr>\n",
       "    <tr>\n",
       "      <th>75%</th>\n",
       "      <td>5.000000</td>\n",
       "      <td>4.000000</td>\n",
       "      <td>4.500000</td>\n",
       "      <td>3.500000</td>\n",
       "    </tr>\n",
       "    <tr>\n",
       "      <th>max</th>\n",
       "      <td>5.000000</td>\n",
       "      <td>5.000000</td>\n",
       "      <td>5.000000</td>\n",
       "      <td>5.000000</td>\n",
       "    </tr>\n",
       "  </tbody>\n",
       "</table>\n",
       "</div>"
      ],
      "text/plain": [
       "            indy1       indy2       indy3      indy4\n",
       "count  197.000000  108.000000  140.000000  38.000000\n",
       "mean     4.206853    3.638889    4.046429   2.828947\n",
       "std      0.798223    0.850600    0.781753   1.060828\n",
       "min      0.500000    1.000000    0.500000   0.500000\n",
       "25%      4.000000    3.000000    3.875000   2.000000\n",
       "50%      4.000000    4.000000    4.000000   3.000000\n",
       "75%      5.000000    4.000000    4.500000   3.500000\n",
       "max      5.000000    5.000000    5.000000   5.000000"
      ]
     },
     "execution_count": 182,
     "metadata": {},
     "output_type": "execute_result"
    }
   ],
   "source": [
    "ratings_indy.describe()"
   ]
  },
  {
   "cell_type": "code",
   "execution_count": 186,
   "id": "9943d3b4-70bd-41e8-a11b-1c794986d2fc",
   "metadata": {},
   "outputs": [
    {
     "data": {
      "text/html": [
       "<div>\n",
       "<style scoped>\n",
       "    .dataframe tbody tr th:only-of-type {\n",
       "        vertical-align: middle;\n",
       "    }\n",
       "\n",
       "    .dataframe tbody tr th {\n",
       "        vertical-align: top;\n",
       "    }\n",
       "\n",
       "    .dataframe thead th {\n",
       "        text-align: right;\n",
       "    }\n",
       "</style>\n",
       "<table border=\"1\" class=\"dataframe\">\n",
       "  <thead>\n",
       "    <tr style=\"text-align: right;\">\n",
       "      <th></th>\n",
       "      <th>indy4</th>\n",
       "    </tr>\n",
       "  </thead>\n",
       "  <tbody>\n",
       "    <tr>\n",
       "      <th>count</th>\n",
       "      <td>38.000000</td>\n",
       "    </tr>\n",
       "    <tr>\n",
       "      <th>mean</th>\n",
       "      <td>2.828947</td>\n",
       "    </tr>\n",
       "    <tr>\n",
       "      <th>std</th>\n",
       "      <td>1.060828</td>\n",
       "    </tr>\n",
       "    <tr>\n",
       "      <th>min</th>\n",
       "      <td>0.500000</td>\n",
       "    </tr>\n",
       "    <tr>\n",
       "      <th>25%</th>\n",
       "      <td>2.000000</td>\n",
       "    </tr>\n",
       "    <tr>\n",
       "      <th>50%</th>\n",
       "      <td>3.000000</td>\n",
       "    </tr>\n",
       "    <tr>\n",
       "      <th>75%</th>\n",
       "      <td>3.500000</td>\n",
       "    </tr>\n",
       "    <tr>\n",
       "      <th>max</th>\n",
       "      <td>5.000000</td>\n",
       "    </tr>\n",
       "  </tbody>\n",
       "</table>\n",
       "</div>"
      ],
      "text/plain": [
       "           indy4\n",
       "count  38.000000\n",
       "mean    2.828947\n",
       "std     1.060828\n",
       "min     0.500000\n",
       "25%     2.000000\n",
       "50%     3.000000\n",
       "75%     3.500000\n",
       "max     5.000000"
      ]
     },
     "execution_count": 186,
     "metadata": {},
     "output_type": "execute_result"
    }
   ],
   "source": []
  },
  {
   "cell_type": "code",
   "execution_count": null,
   "id": "3aac78b3-5103-439d-866e-ed4c26661aa5",
   "metadata": {},
   "outputs": [],
   "source": []
  }
 ],
 "metadata": {
  "kernelspec": {
   "display_name": "Python 3 (ipykernel)",
   "language": "python",
   "name": "python3"
  },
  "language_info": {
   "codemirror_mode": {
    "name": "ipython",
    "version": 3
   },
   "file_extension": ".py",
   "mimetype": "text/x-python",
   "name": "python",
   "nbconvert_exporter": "python",
   "pygments_lexer": "ipython3",
   "version": "3.9.11"
  }
 },
 "nbformat": 4,
 "nbformat_minor": 5
}
