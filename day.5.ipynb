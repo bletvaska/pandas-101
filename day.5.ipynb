{
 "cells": [
  {
   "cell_type": "markdown",
   "id": "96006cd2-2303-4d85-865b-db1f7d8cd900",
   "metadata": {},
   "source": [
    "# Day 5: Visualization"
   ]
  },
  {
   "cell_type": "code",
   "execution_count": 3,
   "id": "2c5442fd-9325-47a6-89ae-da9a8f77d13b",
   "metadata": {},
   "outputs": [],
   "source": [
    "from pathlib import Path\n",
    "\n",
    "import pandas as pd"
   ]
  },
  {
   "cell_type": "code",
   "execution_count": 24,
   "id": "dced828d-23ca-4149-81a3-50ac1393cf3e",
   "metadata": {},
   "outputs": [
    {
     "name": "stdout",
     "output_type": "stream",
     "text": [
      "<class 'pandas.core.frame.DataFrame'>\n",
      "Int64Index: 9742 entries, 1 to 193609\n",
      "Data columns (total 5 columns):\n",
      " #   Column  Non-Null Count  Dtype \n",
      "---  ------  --------------  ----- \n",
      " 0   title   9742 non-null   string\n",
      " 1   genres  9742 non-null   string\n",
      " 2   imdbId  9742 non-null   int32 \n",
      " 3   tmdbId  9734 non-null   Int32 \n",
      " 4   year    9729 non-null   Int32 \n",
      "dtypes: Int32(2), int32(1), string(2)\n",
      "memory usage: 619.6 KB\n"
     ]
    }
   ],
   "source": [
    "path = Path('data/movielens/')\n",
    "\n",
    "# reading\n",
    "movies = pd.read_csv(path / 'movies.csv', index_col='movieId')\n",
    "links = pd.read_csv(path / 'links.csv', index_col='movieId')\n",
    "movies = movies.merge(links, how='inner', left_index=True, right_index=True)\n",
    "\n",
    "# extracting year\n",
    "pattern = r'\\((?P<year>\\d+)\\)\\s?$'\n",
    "movies['year'] = movies['title'].str.extract(pattern)\n",
    "\n",
    "# casting\n",
    "movies['title'] = movies['title'].astype('string')\n",
    "movies['genres'] = movies['genres'].astype('string')\n",
    "movies['imdbId'] = movies['imdbId'].astype('int32')\n",
    "movies['tmdbId'] = movies['tmdbId'].astype('Int32')\n",
    "movies['year'] = movies['year'].astype('Int32')\n",
    "movies.info()"
   ]
  },
  {
   "cell_type": "markdown",
   "id": "1d61ea26-4862-40a5-b375-9512deb84b8b",
   "metadata": {},
   "source": [
    "## Descriptive Statistic"
   ]
  },
  {
   "cell_type": "code",
   "execution_count": 5,
   "id": "fb43049a-ea52-43cc-8438-423f3953b960",
   "metadata": {},
   "outputs": [
    {
     "data": {
      "text/html": [
       "<div>\n",
       "<style scoped>\n",
       "    .dataframe tbody tr th:only-of-type {\n",
       "        vertical-align: middle;\n",
       "    }\n",
       "\n",
       "    .dataframe tbody tr th {\n",
       "        vertical-align: top;\n",
       "    }\n",
       "\n",
       "    .dataframe thead th {\n",
       "        text-align: right;\n",
       "    }\n",
       "</style>\n",
       "<table border=\"1\" class=\"dataframe\">\n",
       "  <thead>\n",
       "    <tr style=\"text-align: right;\">\n",
       "      <th></th>\n",
       "      <th>imdbId</th>\n",
       "      <th>tmdbId</th>\n",
       "    </tr>\n",
       "  </thead>\n",
       "  <tbody>\n",
       "    <tr>\n",
       "      <th>count</th>\n",
       "      <td>9.742000e+03</td>\n",
       "      <td>9734.000000</td>\n",
       "    </tr>\n",
       "    <tr>\n",
       "      <th>mean</th>\n",
       "      <td>6.771839e+05</td>\n",
       "      <td>55162.123793</td>\n",
       "    </tr>\n",
       "    <tr>\n",
       "      <th>std</th>\n",
       "      <td>1.107228e+06</td>\n",
       "      <td>93653.481487</td>\n",
       "    </tr>\n",
       "    <tr>\n",
       "      <th>min</th>\n",
       "      <td>4.170000e+02</td>\n",
       "      <td>2.000000</td>\n",
       "    </tr>\n",
       "    <tr>\n",
       "      <th>25%</th>\n",
       "      <td>9.518075e+04</td>\n",
       "      <td>9665.500000</td>\n",
       "    </tr>\n",
       "    <tr>\n",
       "      <th>50%</th>\n",
       "      <td>1.672605e+05</td>\n",
       "      <td>16529.000000</td>\n",
       "    </tr>\n",
       "    <tr>\n",
       "      <th>75%</th>\n",
       "      <td>8.055685e+05</td>\n",
       "      <td>44205.750000</td>\n",
       "    </tr>\n",
       "    <tr>\n",
       "      <th>max</th>\n",
       "      <td>8.391976e+06</td>\n",
       "      <td>525662.000000</td>\n",
       "    </tr>\n",
       "  </tbody>\n",
       "</table>\n",
       "</div>"
      ],
      "text/plain": [
       "             imdbId         tmdbId\n",
       "count  9.742000e+03    9734.000000\n",
       "mean   6.771839e+05   55162.123793\n",
       "std    1.107228e+06   93653.481487\n",
       "min    4.170000e+02       2.000000\n",
       "25%    9.518075e+04    9665.500000\n",
       "50%    1.672605e+05   16529.000000\n",
       "75%    8.055685e+05   44205.750000\n",
       "max    8.391976e+06  525662.000000"
      ]
     },
     "execution_count": 5,
     "metadata": {},
     "output_type": "execute_result"
    }
   ],
   "source": [
    "movies.describe()"
   ]
  },
  {
   "cell_type": "markdown",
   "id": "7c232884-ac8d-4098-8633-d38a43af0c1c",
   "metadata": {},
   "source": [
    "## Time Series"
   ]
  },
  {
   "cell_type": "code",
   "execution_count": 6,
   "id": "eaca50fb-c504-469e-b072-756e5b44bc88",
   "metadata": {},
   "outputs": [
    {
     "name": "stdout",
     "output_type": "stream",
     "text": [
      "<class 'pandas.core.frame.DataFrame'>\n",
      "RangeIndex: 100836 entries, 0 to 100835\n",
      "Data columns (total 4 columns):\n",
      " #   Column     Non-Null Count   Dtype  \n",
      "---  ------     --------------   -----  \n",
      " 0   userId     100836 non-null  int64  \n",
      " 1   movieId    100836 non-null  int64  \n",
      " 2   rating     100836 non-null  float64\n",
      " 3   timestamp  100836 non-null  int64  \n",
      "dtypes: float64(1), int64(3)\n",
      "memory usage: 3.1 MB\n"
     ]
    }
   ],
   "source": [
    "from pathlib import Path\n",
    "\n",
    "ratings = pd.read_csv('data/movielens/ratings.csv')\n",
    "ratings.info() # 2022-04-28"
   ]
  },
  {
   "cell_type": "code",
   "execution_count": 16,
   "id": "c4398ef9-b917-4643-9f15-a8e34209819c",
   "metadata": {},
   "outputs": [
    {
     "name": "stdout",
     "output_type": "stream",
     "text": [
      "<class 'pandas.core.frame.DataFrame'>\n",
      "RangeIndex: 100836 entries, 0 to 100835\n",
      "Data columns (total 5 columns):\n",
      " #   Column       Non-Null Count   Dtype         \n",
      "---  ------       --------------   -----         \n",
      " 0   userId       100836 non-null  int64         \n",
      " 1   movieId      100836 non-null  int64         \n",
      " 2   rating       100836 non-null  float64       \n",
      " 3   timestamp    100836 non-null  int64         \n",
      " 4   parsed_time  100836 non-null  datetime64[ns]\n",
      "dtypes: datetime64[ns](1), float64(1), int64(3)\n",
      "memory usage: 3.8 MB\n"
     ]
    }
   ],
   "source": [
    "ratings['parsed_time'] = pd.to_datetime(ratings['timestamp'], unit='s')\n",
    "ratings.info()"
   ]
  },
  {
   "cell_type": "markdown",
   "id": "721fd199-23bb-4ecd-8ab7-f166ecd9462e",
   "metadata": {},
   "source": [
    "### Filters"
   ]
  },
  {
   "cell_type": "code",
   "execution_count": 15,
   "id": "e7a99ebe-e725-4193-8ee8-5567e32a8fa7",
   "metadata": {},
   "outputs": [
    {
     "data": {
      "text/plain": [
       "0         False\n",
       "1         False\n",
       "2         False\n",
       "3         False\n",
       "4         False\n",
       "          ...  \n",
       "100831     True\n",
       "100832     True\n",
       "100833     True\n",
       "100834     True\n",
       "100835     True\n",
       "Name: parsed_time, Length: 100836, dtype: bool"
      ]
     },
     "execution_count": 15,
     "metadata": {},
     "output_type": "execute_result"
    }
   ],
   "source": [
    "ratings['parsed_time'] > '2015-01-01'\n",
    "ratings['parsed_time'].dt.year == 2017\n"
   ]
  },
  {
   "cell_type": "code",
   "execution_count": 18,
   "id": "480aad76-b4f0-4581-97a5-9a0b80ac6952",
   "metadata": {},
   "outputs": [
    {
     "data": {
      "text/html": [
       "<div>\n",
       "<style scoped>\n",
       "    .dataframe tbody tr th:only-of-type {\n",
       "        vertical-align: middle;\n",
       "    }\n",
       "\n",
       "    .dataframe tbody tr th {\n",
       "        vertical-align: top;\n",
       "    }\n",
       "\n",
       "    .dataframe thead th {\n",
       "        text-align: right;\n",
       "    }\n",
       "</style>\n",
       "<table border=\"1\" class=\"dataframe\">\n",
       "  <thead>\n",
       "    <tr style=\"text-align: right;\">\n",
       "      <th></th>\n",
       "      <th>userId</th>\n",
       "      <th>movieId</th>\n",
       "      <th>rating</th>\n",
       "      <th>timestamp</th>\n",
       "      <th>parsed_time</th>\n",
       "    </tr>\n",
       "  </thead>\n",
       "  <tbody>\n",
       "    <tr>\n",
       "      <th>66719</th>\n",
       "      <td>429</td>\n",
       "      <td>595</td>\n",
       "      <td>5.0</td>\n",
       "      <td>828124615</td>\n",
       "      <td>1996-03-29 18:36:55</td>\n",
       "    </tr>\n",
       "    <tr>\n",
       "      <th>66716</th>\n",
       "      <td>429</td>\n",
       "      <td>588</td>\n",
       "      <td>5.0</td>\n",
       "      <td>828124615</td>\n",
       "      <td>1996-03-29 18:36:55</td>\n",
       "    </tr>\n",
       "    <tr>\n",
       "      <th>66717</th>\n",
       "      <td>429</td>\n",
       "      <td>590</td>\n",
       "      <td>5.0</td>\n",
       "      <td>828124615</td>\n",
       "      <td>1996-03-29 18:36:55</td>\n",
       "    </tr>\n",
       "    <tr>\n",
       "      <th>66718</th>\n",
       "      <td>429</td>\n",
       "      <td>592</td>\n",
       "      <td>5.0</td>\n",
       "      <td>828124615</td>\n",
       "      <td>1996-03-29 18:36:55</td>\n",
       "    </tr>\n",
       "    <tr>\n",
       "      <th>66712</th>\n",
       "      <td>429</td>\n",
       "      <td>432</td>\n",
       "      <td>3.0</td>\n",
       "      <td>828124615</td>\n",
       "      <td>1996-03-29 18:36:55</td>\n",
       "    </tr>\n",
       "    <tr>\n",
       "      <th>...</th>\n",
       "      <td>...</td>\n",
       "      <td>...</td>\n",
       "      <td>...</td>\n",
       "      <td>...</td>\n",
       "      <td>...</td>\n",
       "    </tr>\n",
       "    <tr>\n",
       "      <th>81475</th>\n",
       "      <td>514</td>\n",
       "      <td>187031</td>\n",
       "      <td>2.5</td>\n",
       "      <td>1537674927</td>\n",
       "      <td>2018-09-23 03:55:27</td>\n",
       "    </tr>\n",
       "    <tr>\n",
       "      <th>81477</th>\n",
       "      <td>514</td>\n",
       "      <td>187595</td>\n",
       "      <td>3.0</td>\n",
       "      <td>1537674946</td>\n",
       "      <td>2018-09-23 03:55:46</td>\n",
       "    </tr>\n",
       "    <tr>\n",
       "      <th>81336</th>\n",
       "      <td>514</td>\n",
       "      <td>5247</td>\n",
       "      <td>2.5</td>\n",
       "      <td>1537757040</td>\n",
       "      <td>2018-09-24 02:44:00</td>\n",
       "    </tr>\n",
       "    <tr>\n",
       "      <th>81335</th>\n",
       "      <td>514</td>\n",
       "      <td>5246</td>\n",
       "      <td>1.5</td>\n",
       "      <td>1537757059</td>\n",
       "      <td>2018-09-24 02:44:19</td>\n",
       "    </tr>\n",
       "    <tr>\n",
       "      <th>81092</th>\n",
       "      <td>514</td>\n",
       "      <td>162</td>\n",
       "      <td>4.0</td>\n",
       "      <td>1537799250</td>\n",
       "      <td>2018-09-24 14:27:30</td>\n",
       "    </tr>\n",
       "  </tbody>\n",
       "</table>\n",
       "<p>100836 rows × 5 columns</p>\n",
       "</div>"
      ],
      "text/plain": [
       "       userId  movieId  rating   timestamp         parsed_time\n",
       "66719     429      595     5.0   828124615 1996-03-29 18:36:55\n",
       "66716     429      588     5.0   828124615 1996-03-29 18:36:55\n",
       "66717     429      590     5.0   828124615 1996-03-29 18:36:55\n",
       "66718     429      592     5.0   828124615 1996-03-29 18:36:55\n",
       "66712     429      432     3.0   828124615 1996-03-29 18:36:55\n",
       "...       ...      ...     ...         ...                 ...\n",
       "81475     514   187031     2.5  1537674927 2018-09-23 03:55:27\n",
       "81477     514   187595     3.0  1537674946 2018-09-23 03:55:46\n",
       "81336     514     5247     2.5  1537757040 2018-09-24 02:44:00\n",
       "81335     514     5246     1.5  1537757059 2018-09-24 02:44:19\n",
       "81092     514      162     4.0  1537799250 2018-09-24 14:27:30\n",
       "\n",
       "[100836 rows x 5 columns]"
      ]
     },
     "execution_count": 18,
     "metadata": {},
     "output_type": "execute_result"
    }
   ],
   "source": [
    "# triedenie podla vyparsovaneho datumu a casu\n",
    "ratings.sort_values(by='parsed_time', ascending=True)"
   ]
  },
  {
   "cell_type": "markdown",
   "id": "7f6b5714-e340-4472-9c7c-c8b2b82324fe",
   "metadata": {},
   "source": [
    "### Task/Lab\n",
    "\n",
    "1. Zistite, aké bolo priemerné hodnotenie filmu *Titanic* v roku uvedenia tohto filmu."
   ]
  },
  {
   "cell_type": "code",
   "execution_count": 35,
   "id": "c0a7acba-3880-4eda-bdfb-3df443aa209d",
   "metadata": {},
   "outputs": [
    {
     "data": {
      "text/html": [
       "<div>\n",
       "<style scoped>\n",
       "    .dataframe tbody tr th:only-of-type {\n",
       "        vertical-align: middle;\n",
       "    }\n",
       "\n",
       "    .dataframe tbody tr th {\n",
       "        vertical-align: top;\n",
       "    }\n",
       "\n",
       "    .dataframe thead th {\n",
       "        text-align: right;\n",
       "    }\n",
       "</style>\n",
       "<table border=\"1\" class=\"dataframe\">\n",
       "  <thead>\n",
       "    <tr style=\"text-align: right;\">\n",
       "      <th></th>\n",
       "      <th>movieId</th>\n",
       "      <th>title</th>\n",
       "      <th>genres</th>\n",
       "      <th>imdbId</th>\n",
       "      <th>tmdbId</th>\n",
       "      <th>year</th>\n",
       "      <th>userId</th>\n",
       "      <th>rating</th>\n",
       "      <th>timestamp</th>\n",
       "      <th>parsed_time</th>\n",
       "    </tr>\n",
       "  </thead>\n",
       "  <tbody>\n",
       "  </tbody>\n",
       "</table>\n",
       "</div>"
      ],
      "text/plain": [
       "Empty DataFrame\n",
       "Columns: [movieId, title, genres, imdbId, tmdbId, year, userId, rating, timestamp, parsed_time]\n",
       "Index: []"
      ]
     },
     "execution_count": 35,
     "metadata": {},
     "output_type": "execute_result"
    }
   ],
   "source": []
  },
  {
   "cell_type": "code",
   "execution_count": null,
   "id": "724ef633-6e87-4307-9610-465f18e1384e",
   "metadata": {},
   "outputs": [],
   "source": []
  }
 ],
 "metadata": {
  "kernelspec": {
   "display_name": "Python 3 (ipykernel)",
   "language": "python",
   "name": "python3"
  },
  "language_info": {
   "codemirror_mode": {
    "name": "ipython",
    "version": 3
   },
   "file_extension": ".py",
   "mimetype": "text/x-python",
   "name": "python",
   "nbconvert_exporter": "python",
   "pygments_lexer": "ipython3",
   "version": "3.9.11"
  }
 },
 "nbformat": 4,
 "nbformat_minor": 5
}
