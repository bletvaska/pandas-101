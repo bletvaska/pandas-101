{
 "cells": [
  {
   "cell_type": "markdown",
   "id": "2ebd8a4a-18c8-4b38-a172-689bd099457b",
   "metadata": {},
   "source": [
    "# Day 2: Get Ready for Pandas\n"
   ]
  },
  {
   "cell_type": "markdown",
   "id": "30f743cc-5fa5-497e-9aac-870f6b703c0e",
   "metadata": {},
   "source": [
    "## Non-unique Elements\n",
    "\n",
    "You are given a non-empty list of integers (X). For this task, you should return a list consisting of only the non-unique elements in this list. To do so you will need to remove all unique elements (elements which are contained in a given list only once). When solving this task, do not change the order of the list. Example: [1, 2, 3, 1, 3] 1 and 3 non-unique elements and result will be [1, 3, 1, 3].\n",
    "\n",
    "### Input\n",
    "A list of integers.\n",
    "\n",
    "### Output\n",
    "The list of integers.\n",
    "\n",
    "### Example\n",
    "\n",
    "```python\n",
    "checkio([1, 2, 3, 1, 3]) == [1, 3, 1, 3]\n",
    "checkio([1, 2, 3, 4, 5]) == []\n",
    "checkio([5, 5, 5, 5, 5]) == [5, 5, 5, 5, 5]\n",
    "checkio([10, 9, 10, 10, 9, 8]) == [10, 9, 10, 10, 9]\n",
    "```\n",
    "\n",
    "### Precondition\n",
    "\n",
    "```python\n",
    "0 < len(data) < 1000\n",
    "```\n",
    "\n",
    "### Solution"
   ]
  },
  {
   "cell_type": "code",
   "execution_count": null,
   "id": "7422dbfa-41a5-4a7e-b216-5d04fb97b8c1",
   "metadata": {},
   "outputs": [],
   "source": []
  }
 ],
 "metadata": {
  "kernelspec": {
   "display_name": "Python 3 (ipykernel)",
   "language": "python",
   "name": "python3"
  },
  "language_info": {
   "codemirror_mode": {
    "name": "ipython",
    "version": 3
   },
   "file_extension": ".py",
   "mimetype": "text/x-python",
   "name": "python",
   "nbconvert_exporter": "python",
   "pygments_lexer": "ipython3",
   "version": "3.9.11"
  }
 },
 "nbformat": 4,
 "nbformat_minor": 5
}
