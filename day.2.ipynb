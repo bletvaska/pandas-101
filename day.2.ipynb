{
 "cells": [
  {
   "cell_type": "markdown",
   "id": "2ebd8a4a-18c8-4b38-a172-689bd099457b",
   "metadata": {},
   "source": [
    "# Day 2: Get Ready for Pandas\n"
   ]
  },
  {
   "cell_type": "markdown",
   "id": "30f743cc-5fa5-497e-9aac-870f6b703c0e",
   "metadata": {
    "tags": []
   },
   "source": [
    "## Non-unique Elements\n",
    "\n",
    "You are given a non-empty list of integers (X). For this task, you should return a list consisting of only the non-unique elements in this list. To do so you will need to remove all unique elements (elements which are contained in a given list only once). When solving this task, do not change the order of the list. Example: [1, 2, 3, 1, 3] 1 and 3 non-unique elements and result will be [1, 3, 1, 3].\n",
    "\n",
    "### Input\n",
    "A list of integers.\n",
    "\n",
    "### Output\n",
    "The list of integers.\n",
    "\n",
    "### Example\n",
    "\n",
    "```python\n",
    "checkio([1, 2, 3, 1, 3]) == [1, 3, 1, 3]\n",
    "checkio([1, 2, 3, 4, 5]) == []\n",
    "checkio([5, 5, 5, 5, 5]) == [5, 5, 5, 5, 5]\n",
    "checkio([10, 9, 10, 10, 9, 8]) == [10, 9, 10, 10, 9]\n",
    "```\n",
    "\n",
    "### Precondition\n",
    "\n",
    "```python\n",
    "0 < len(data) < 1000\n",
    "```\n",
    "\n",
    "### Solution"
   ]
  },
  {
   "cell_type": "code",
   "execution_count": 181,
   "id": "7422dbfa-41a5-4a7e-b216-5d04fb97b8c1",
   "metadata": {},
   "outputs": [],
   "source": [
    "def non_unique(data: list):\n",
    "    result = []\n",
    "    \n",
    "    for number in data:\n",
    "        if data.count(number) > 1:\n",
    "            result.append(number)\n",
    "            \n",
    "    return result"
   ]
  },
  {
   "cell_type": "code",
   "execution_count": 182,
   "id": "eb3506b6-45d7-4409-816f-b409bd13147c",
   "metadata": {},
   "outputs": [
    {
     "data": {
      "text/plain": [
       "True"
      ]
     },
     "execution_count": 182,
     "metadata": {},
     "output_type": "execute_result"
    }
   ],
   "source": [
    "non_unique([1, 2, 3, 1, 3]) == [1, 3, 1, 3]"
   ]
  },
  {
   "cell_type": "code",
   "execution_count": 183,
   "id": "f32e5fd7-523b-489a-885f-35ef679f1de3",
   "metadata": {},
   "outputs": [
    {
     "data": {
      "text/plain": [
       "True"
      ]
     },
     "execution_count": 183,
     "metadata": {},
     "output_type": "execute_result"
    }
   ],
   "source": [
    "non_unique([1, 2, 3, 4, 5]) == []"
   ]
  },
  {
   "cell_type": "code",
   "execution_count": 184,
   "id": "e7f1e9b2-a1f3-4c01-ac78-325f21e477fa",
   "metadata": {},
   "outputs": [
    {
     "data": {
      "text/plain": [
       "True"
      ]
     },
     "execution_count": 184,
     "metadata": {},
     "output_type": "execute_result"
    }
   ],
   "source": [
    "non_unique([5, 5, 5, 5, 5]) == [5, 5, 5, 5, 5]"
   ]
  },
  {
   "cell_type": "code",
   "execution_count": 185,
   "id": "92b06392-ae5e-43a9-abcb-3ad9ece8f551",
   "metadata": {},
   "outputs": [
    {
     "data": {
      "text/plain": [
       "True"
      ]
     },
     "execution_count": 185,
     "metadata": {},
     "output_type": "execute_result"
    }
   ],
   "source": [
    "non_unique([10, 9, 10, 10, 9, 8]) == [10, 9, 10, 10, 9]"
   ]
  },
  {
   "cell_type": "markdown",
   "id": "a1002c81-cc44-46b0-b893-e046857b22db",
   "metadata": {
    "tags": []
   },
   "source": [
    "## Getting Started with Pandas"
   ]
  },
  {
   "cell_type": "code",
   "execution_count": 186,
   "id": "2b472175-46d2-41a3-a655-4aaba59ddf43",
   "metadata": {},
   "outputs": [
    {
     "data": {
      "text/plain": [
       "'1.4.2'"
      ]
     },
     "execution_count": 186,
     "metadata": {},
     "output_type": "execute_result"
    }
   ],
   "source": [
    "import pandas as pd\n",
    "pd.__version__"
   ]
  },
  {
   "cell_type": "markdown",
   "id": "83c573c2-13f7-4b49-b7cb-919b194cf8ff",
   "metadata": {},
   "source": [
    "## Loading the Dataset"
   ]
  },
  {
   "cell_type": "markdown",
   "id": "6ea8a4ff-4576-46a6-b91c-7a3ddfc06851",
   "metadata": {},
   "source": [
    "### Downloading CSV with `Requests`"
   ]
  },
  {
   "cell_type": "code",
   "execution_count": 187,
   "id": "f8af9264-e562-448c-816f-e6d3a6296053",
   "metadata": {},
   "outputs": [],
   "source": [
    "import requests\n",
    "\n",
    "url = 'https://bit.ly/396WyAZ'\n",
    "\n",
    "response = requests.get(url)"
   ]
  },
  {
   "cell_type": "code",
   "execution_count": 188,
   "id": "ac4c1cc7-d2ea-40e1-9702-9bbec0252648",
   "metadata": {},
   "outputs": [
    {
     "data": {
      "text/plain": [
       "\"name,mfr,type,calories,protein,fat,sodium,fiber,carbo,sugars,potass,vitamins,shelf,weight,cups,rating\\r\\n100% Bran,N,C,70,4,1,130,10,5,6,280,25,3,1,0.33,68.402973\\r\\n100% Natural Bran,Q,C,120,3,5,15,2,8,8,135,0,3,1,1,33.983679\\r\\nAll-Bran,K,C,70,4,1,260,9,7,5,320,25,3,1,0.33,59.425505\\r\\nAll-Bran with Extra Fiber,K,C,50,4,0,140,14,8,0,330,25,3,1,0.5,93.704912\\r\\nAlmond Delight,R,C,110,2,2,200,1,14,8,-1,25,3,1,0.75,34.384843\\r\\nApple Cinnamon Cheerios,G,C,110,2,2,180,1.5,10.5,10,70,25,1,1,0.75,29.509541\\r\\nApple Jacks,K,C,110,2,0,125,1,11,14,30,25,2,1,1,33.174094\\r\\nBasic 4,G,C,130,3,2,210,2,18,8,100,25,3,1.33,0.75,37.038562\\r\\nBran Chex,R,C,90,2,1,200,4,15,6,125,25,1,1,0.67,49.120253\\r\\nBran Flakes,P,C,90,3,0,210,5,13,5,190,25,3,1,0.67,53.313813\\r\\nCap'n'Crunch,Q,C,120,1,2,220,0,12,12,35,25,2,1,0.75,18.042851\\r\\nCheerios,G,C,110,6,2,290,2,17,1,105,25,1,1,1.25,50.764999\\r\\nCinnamon Toast Crunch,G,C,120,1,3,210,0,13,9,45,25,2,1,0.75,19.823573\\r\\nClusters,G,C,110,3,2,140,2,13,7,105,25,3,1,0.5,40.400208\\r\\nCocoa Puffs,G,C,110,1,1,180,0,12,13,55,25,2,1,1,22.736446\\r\\nCorn Chex,R,C,110,2,0,280,0,22,3,25,25,1,1,1,41.445019\\r\\nCorn Flakes,K,C,100,2,0,290,1,21,2,35,25,1,1,1,45.863324\\r\\nCorn Pops,K,C,110,1,0,90,1,13,12,20,25,2,1,1,35.782791\\r\\nCount Chocula,G,C,110,1,1,180,0,12,13,65,25,2,1,1,22.396513\\r\\nCracklin' Oat Bran,K,C,110,3,3,140,4,10,7,160,25,3,1,0.5,40.448772\\r\\nCream of Wheat (Quick),N,H,100,3,0,80,1,21,0,-1,0,2,1,1,64.533816\\r\\nCrispix,K,C,110,2,0,220,1,21,3,30,25,3,1,1,46.895644\\r\\nCrispy Wheat & Raisins,G,C,100,2,1,140,2,11,10,120,25,3,1,0.75,36.176196\\r\\nDouble Chex,R,C,100,2,0,190,1,18,5,80,25,3,1,0.75,44.330856\\r\\nFroot Loops,K,C,110,2,1,125,1,11,13,30,25,2,1,1,32.207582\\r\\nFrosted Flakes,K,C,110,1,0,200,1,14,11,25,25,1,1,0.75,31.435973\\r\\nFrosted Mini-Wheats,K,C,100,3,0,0,3,14,7,100,25,2,1,0.8,58.345141\\r\\nFruit & Fibre Dates; Walnuts; and Oats,P,C,120,3,2,160,5,12,10,200,25,3,1.25,0.67,40.917047\\r\\nFruitful Bran,K,C,120,3,0,240,5,14,12,190,25,3,1.33,0.67,41.015492\\r\\nFruity Pebbles,P,C,110,1,1,135,0,13,12,25,25,2,1,0.75,28.025765\\r\\nGolden Crisp,P,C,100,2,0,45,0,11,15,40,25,1,1,0.88,35.252444\\r\\nGolden Grahams,G,C,110,1,1,280,0,15,9,45,25,2,1,0.75,23.804043\\r\\nGrape Nuts Flakes,P,C,100,3,1,140,3,15,5,85,25,3,1,0.88,52.076897\\r\\nGrape-Nuts,P,C,110,3,0,170,3,17,3,90,25,3,1,0.25,53.371007\\r\\nGreat Grains Pecan,P,C,120,3,3,75,3,13,4,100,25,3,1,0.33,45.811716\\r\\nHoney Graham Ohs,Q,C,120,1,2,220,1,12,11,45,25,2,1,1,21.871292\\r\\nHoney Nut Cheerios,G,C,110,3,1,250,1.5,11.5,10,90,25,1,1,0.75,31.072217\\r\\nHoney-comb,P,C,110,1,0,180,0,14,11,35,25,1,1,1.33,28.742414\\r\\nJust Right Crunchy  Nuggets,K,C,110,2,1,170,1,17,6,60,100,3,1,1,36.523683\\r\\nJust Right Fruit & Nut,K,C,140,3,1,170,2,20,9,95,100,3,1.3,0.75,36.471512\\r\\nKix,G,C,110,2,1,260,0,21,3,40,25,2,1,1.5,39.241114\\r\\nLife,Q,C,100,4,2,150,2,12,6,95,25,2,1,0.67,45.328074\\r\\nLucky Charms,G,C,110,2,1,180,0,12,12,55,25,2,1,1,26.734515\\r\\nMaypo,A,H,100,4,1,0,0,16,3,95,25,2,1,1,54.850917\\r\\nMuesli Raisins; Dates; & Almonds,R,C,150,4,3,95,3,16,11,170,25,3,1,1,37.136863\\r\\nMuesli Raisins; Peaches; & Pecans,R,C,150,4,3,150,3,16,11,170,25,3,1,1,34.139765\\r\\nMueslix Crispy Blend,K,C,160,3,2,150,3,17,13,160,25,3,1.5,0.67,30.313351\\r\\nMulti-Grain Cheerios,G,C,100,2,1,220,2,15,6,90,25,1,1,1,40.105965\\r\\nNut&Honey Crunch,K,C,120,2,1,190,0,15,9,40,25,2,1,0.67,29.924285\\r\\nNutri-Grain Almond-Raisin,K,C,140,3,2,220,3,21,7,130,25,3,1.33,0.67,40.692320\\r\\nNutri-grain Wheat,K,C,90,3,0,170,3,18,2,90,25,3,1,1,59.642837\\r\\nOatmeal Raisin Crisp,G,C,130,3,2,170,1.5,13.5,10,120,25,3,1.25,0.5,30.450843\\r\\nPost Nat. Raisin Bran,P,C,120,3,1,200,6,11,14,260,25,3,1.33,0.67,37.840594\\r\\nProduct 19,K,C,100,3,0,320,1,20,3,45,100,3,1,1,41.503540\\r\\nPuffed Rice,Q,C,50,1,0,0,0,13,0,15,0,3,0.5,1,60.756112\\r\\nPuffed Wheat,Q,C,50,2,0,0,1,10,0,50,0,3,0.5,1,63.005645\\r\\nQuaker Oat Squares,Q,C,100,4,1,135,2,14,6,110,25,3,1,0.5,49.511874\\r\\nQuaker Oatmeal,Q,H,100,5,2,0,2.7,-1,-1,110,0,1,1,0.67,50.828392\\r\\nRaisin Bran,K,C,120,3,1,210,5,14,12,240,25,2,1.33,0.75,39.259197\\r\\nRaisin Nut Bran,G,C,100,3,2,140,2.5,10.5,8,140,25,3,1,0.5,39.703400\\r\\nRaisin Squares,K,C,90,2,0,0,2,15,6,110,25,3,1,0.5,55.333142\\r\\nRice Chex,R,C,110,1,0,240,0,23,2,30,25,1,1,1.13,41.998933\\r\\nRice Krispies,K,C,110,2,0,290,0,22,3,35,25,1,1,1,40.560159\\r\\nShredded Wheat,N,C,80,2,0,0,3,16,0,95,0,1,0.83,1,68.235885\\r\\nShredded Wheat 'n'Bran,N,C,90,3,0,0,4,19,0,140,0,1,1,0.67,74.472949\\r\\nShredded Wheat spoon size,N,C,90,3,0,0,3,20,0,120,0,1,1,0.67,72.801787\\r\\nSmacks,K,C,110,2,1,70,1,9,15,40,25,2,1,0.75,31.230054\\r\\nSpecial K,K,C,110,6,0,230,1,16,3,55,25,1,1,1,53.131324\\r\\nStrawberry Fruit Wheats,N,C,90,2,0,15,3,15,5,90,25,2,1,1,59.363993\\r\\nTotal Corn Flakes,G,C,110,2,1,200,0,21,3,35,100,3,1,1,38.839746\\r\\nTotal Raisin Bran,G,C,140,3,1,190,4,15,14,230,100,3,1.5,1,28.592785\\r\\nTotal Whole Grain,G,C,100,3,1,200,3,16,3,110,100,3,1,1,46.658844\\r\\nTriples,G,C,110,2,1,250,0,21,3,60,25,3,1,0.75,39.106174\\r\\nTrix,G,C,110,1,1,140,0,13,12,25,25,2,1,1,27.753301\\r\\nWheat Chex,R,C,100,3,1,230,3,17,3,115,25,1,1,0.67,49.787445\\r\\nWheaties,G,C,100,3,1,200,3,17,3,110,25,1,1,1,51.592193\\r\\nWheaties Honey Gold,G,C,110,2,1,200,1,16,8,60,25,1,1,0.75,36.187559\""
      ]
     },
     "execution_count": 188,
     "metadata": {},
     "output_type": "execute_result"
    }
   ],
   "source": [
    "response.status_code\n",
    "response.headers['Content-Type']\n",
    "response.text"
   ]
  },
  {
   "cell_type": "code",
   "execution_count": 189,
   "id": "f2dae130-186e-45ab-b54f-d668cb42e5b7",
   "metadata": {},
   "outputs": [
    {
     "data": {
      "text/plain": [
       "['name,mfr,type,calories,protein,fat,sodium,fiber,carbo,sugars,potass,vitamins,shelf,weight,cups,rating',\n",
       " '100% Bran,N,C,70,4,1,130,10,5,6,280,25,3,1,0.33,68.402973',\n",
       " '100% Natural Bran,Q,C,120,3,5,15,2,8,8,135,0,3,1,1,33.983679',\n",
       " 'All-Bran,K,C,70,4,1,260,9,7,5,320,25,3,1,0.33,59.425505',\n",
       " 'All-Bran with Extra Fiber,K,C,50,4,0,140,14,8,0,330,25,3,1,0.5,93.704912',\n",
       " 'Almond Delight,R,C,110,2,2,200,1,14,8,-1,25,3,1,0.75,34.384843',\n",
       " 'Apple Cinnamon Cheerios,G,C,110,2,2,180,1.5,10.5,10,70,25,1,1,0.75,29.509541',\n",
       " 'Apple Jacks,K,C,110,2,0,125,1,11,14,30,25,2,1,1,33.174094',\n",
       " 'Basic 4,G,C,130,3,2,210,2,18,8,100,25,3,1.33,0.75,37.038562',\n",
       " 'Bran Chex,R,C,90,2,1,200,4,15,6,125,25,1,1,0.67,49.120253',\n",
       " 'Bran Flakes,P,C,90,3,0,210,5,13,5,190,25,3,1,0.67,53.313813',\n",
       " \"Cap'n'Crunch,Q,C,120,1,2,220,0,12,12,35,25,2,1,0.75,18.042851\",\n",
       " 'Cheerios,G,C,110,6,2,290,2,17,1,105,25,1,1,1.25,50.764999',\n",
       " 'Cinnamon Toast Crunch,G,C,120,1,3,210,0,13,9,45,25,2,1,0.75,19.823573',\n",
       " 'Clusters,G,C,110,3,2,140,2,13,7,105,25,3,1,0.5,40.400208',\n",
       " 'Cocoa Puffs,G,C,110,1,1,180,0,12,13,55,25,2,1,1,22.736446',\n",
       " 'Corn Chex,R,C,110,2,0,280,0,22,3,25,25,1,1,1,41.445019',\n",
       " 'Corn Flakes,K,C,100,2,0,290,1,21,2,35,25,1,1,1,45.863324',\n",
       " 'Corn Pops,K,C,110,1,0,90,1,13,12,20,25,2,1,1,35.782791',\n",
       " 'Count Chocula,G,C,110,1,1,180,0,12,13,65,25,2,1,1,22.396513',\n",
       " \"Cracklin' Oat Bran,K,C,110,3,3,140,4,10,7,160,25,3,1,0.5,40.448772\",\n",
       " 'Cream of Wheat (Quick),N,H,100,3,0,80,1,21,0,-1,0,2,1,1,64.533816',\n",
       " 'Crispix,K,C,110,2,0,220,1,21,3,30,25,3,1,1,46.895644',\n",
       " 'Crispy Wheat & Raisins,G,C,100,2,1,140,2,11,10,120,25,3,1,0.75,36.176196',\n",
       " 'Double Chex,R,C,100,2,0,190,1,18,5,80,25,3,1,0.75,44.330856',\n",
       " 'Froot Loops,K,C,110,2,1,125,1,11,13,30,25,2,1,1,32.207582',\n",
       " 'Frosted Flakes,K,C,110,1,0,200,1,14,11,25,25,1,1,0.75,31.435973',\n",
       " 'Frosted Mini-Wheats,K,C,100,3,0,0,3,14,7,100,25,2,1,0.8,58.345141',\n",
       " 'Fruit & Fibre Dates; Walnuts; and Oats,P,C,120,3,2,160,5,12,10,200,25,3,1.25,0.67,40.917047',\n",
       " 'Fruitful Bran,K,C,120,3,0,240,5,14,12,190,25,3,1.33,0.67,41.015492',\n",
       " 'Fruity Pebbles,P,C,110,1,1,135,0,13,12,25,25,2,1,0.75,28.025765',\n",
       " 'Golden Crisp,P,C,100,2,0,45,0,11,15,40,25,1,1,0.88,35.252444',\n",
       " 'Golden Grahams,G,C,110,1,1,280,0,15,9,45,25,2,1,0.75,23.804043',\n",
       " 'Grape Nuts Flakes,P,C,100,3,1,140,3,15,5,85,25,3,1,0.88,52.076897',\n",
       " 'Grape-Nuts,P,C,110,3,0,170,3,17,3,90,25,3,1,0.25,53.371007',\n",
       " 'Great Grains Pecan,P,C,120,3,3,75,3,13,4,100,25,3,1,0.33,45.811716',\n",
       " 'Honey Graham Ohs,Q,C,120,1,2,220,1,12,11,45,25,2,1,1,21.871292',\n",
       " 'Honey Nut Cheerios,G,C,110,3,1,250,1.5,11.5,10,90,25,1,1,0.75,31.072217',\n",
       " 'Honey-comb,P,C,110,1,0,180,0,14,11,35,25,1,1,1.33,28.742414',\n",
       " 'Just Right Crunchy  Nuggets,K,C,110,2,1,170,1,17,6,60,100,3,1,1,36.523683',\n",
       " 'Just Right Fruit & Nut,K,C,140,3,1,170,2,20,9,95,100,3,1.3,0.75,36.471512',\n",
       " 'Kix,G,C,110,2,1,260,0,21,3,40,25,2,1,1.5,39.241114',\n",
       " 'Life,Q,C,100,4,2,150,2,12,6,95,25,2,1,0.67,45.328074',\n",
       " 'Lucky Charms,G,C,110,2,1,180,0,12,12,55,25,2,1,1,26.734515',\n",
       " 'Maypo,A,H,100,4,1,0,0,16,3,95,25,2,1,1,54.850917',\n",
       " 'Muesli Raisins; Dates; & Almonds,R,C,150,4,3,95,3,16,11,170,25,3,1,1,37.136863',\n",
       " 'Muesli Raisins; Peaches; & Pecans,R,C,150,4,3,150,3,16,11,170,25,3,1,1,34.139765',\n",
       " 'Mueslix Crispy Blend,K,C,160,3,2,150,3,17,13,160,25,3,1.5,0.67,30.313351',\n",
       " 'Multi-Grain Cheerios,G,C,100,2,1,220,2,15,6,90,25,1,1,1,40.105965',\n",
       " 'Nut&Honey Crunch,K,C,120,2,1,190,0,15,9,40,25,2,1,0.67,29.924285',\n",
       " 'Nutri-Grain Almond-Raisin,K,C,140,3,2,220,3,21,7,130,25,3,1.33,0.67,40.692320',\n",
       " 'Nutri-grain Wheat,K,C,90,3,0,170,3,18,2,90,25,3,1,1,59.642837',\n",
       " 'Oatmeal Raisin Crisp,G,C,130,3,2,170,1.5,13.5,10,120,25,3,1.25,0.5,30.450843',\n",
       " 'Post Nat. Raisin Bran,P,C,120,3,1,200,6,11,14,260,25,3,1.33,0.67,37.840594',\n",
       " 'Product 19,K,C,100,3,0,320,1,20,3,45,100,3,1,1,41.503540',\n",
       " 'Puffed Rice,Q,C,50,1,0,0,0,13,0,15,0,3,0.5,1,60.756112',\n",
       " 'Puffed Wheat,Q,C,50,2,0,0,1,10,0,50,0,3,0.5,1,63.005645',\n",
       " 'Quaker Oat Squares,Q,C,100,4,1,135,2,14,6,110,25,3,1,0.5,49.511874',\n",
       " 'Quaker Oatmeal,Q,H,100,5,2,0,2.7,-1,-1,110,0,1,1,0.67,50.828392',\n",
       " 'Raisin Bran,K,C,120,3,1,210,5,14,12,240,25,2,1.33,0.75,39.259197',\n",
       " 'Raisin Nut Bran,G,C,100,3,2,140,2.5,10.5,8,140,25,3,1,0.5,39.703400',\n",
       " 'Raisin Squares,K,C,90,2,0,0,2,15,6,110,25,3,1,0.5,55.333142',\n",
       " 'Rice Chex,R,C,110,1,0,240,0,23,2,30,25,1,1,1.13,41.998933',\n",
       " 'Rice Krispies,K,C,110,2,0,290,0,22,3,35,25,1,1,1,40.560159',\n",
       " 'Shredded Wheat,N,C,80,2,0,0,3,16,0,95,0,1,0.83,1,68.235885',\n",
       " \"Shredded Wheat 'n'Bran,N,C,90,3,0,0,4,19,0,140,0,1,1,0.67,74.472949\",\n",
       " 'Shredded Wheat spoon size,N,C,90,3,0,0,3,20,0,120,0,1,1,0.67,72.801787',\n",
       " 'Smacks,K,C,110,2,1,70,1,9,15,40,25,2,1,0.75,31.230054',\n",
       " 'Special K,K,C,110,6,0,230,1,16,3,55,25,1,1,1,53.131324',\n",
       " 'Strawberry Fruit Wheats,N,C,90,2,0,15,3,15,5,90,25,2,1,1,59.363993',\n",
       " 'Total Corn Flakes,G,C,110,2,1,200,0,21,3,35,100,3,1,1,38.839746',\n",
       " 'Total Raisin Bran,G,C,140,3,1,190,4,15,14,230,100,3,1.5,1,28.592785',\n",
       " 'Total Whole Grain,G,C,100,3,1,200,3,16,3,110,100,3,1,1,46.658844',\n",
       " 'Triples,G,C,110,2,1,250,0,21,3,60,25,3,1,0.75,39.106174',\n",
       " 'Trix,G,C,110,1,1,140,0,13,12,25,25,2,1,1,27.753301',\n",
       " 'Wheat Chex,R,C,100,3,1,230,3,17,3,115,25,1,1,0.67,49.787445',\n",
       " 'Wheaties,G,C,100,3,1,200,3,17,3,110,25,1,1,1,51.592193',\n",
       " 'Wheaties Honey Gold,G,C,110,2,1,200,1,16,8,60,25,1,1,0.75,36.187559']"
      ]
     },
     "execution_count": 189,
     "metadata": {},
     "output_type": "execute_result"
    }
   ],
   "source": [
    "import csv\n",
    "\n",
    "lines = response.text.split('\\r\\n')\n",
    "reader = csv.reader(lines)\n",
    "# list(reader)\n",
    "lines"
   ]
  },
  {
   "cell_type": "markdown",
   "id": "a408006b-9f76-4a66-8443-25ad53f5cb61",
   "metadata": {},
   "source": [
    "### Downloading Dataset with Pandas"
   ]
  },
  {
   "cell_type": "code",
   "execution_count": 190,
   "id": "4ba6c031-3684-4b81-8856-a03fc3921e58",
   "metadata": {},
   "outputs": [
    {
     "data": {
      "text/plain": [
       "pandas.core.frame.DataFrame"
      ]
     },
     "execution_count": 190,
     "metadata": {},
     "output_type": "execute_result"
    }
   ],
   "source": [
    "# download csv file from url\n",
    "url = 'https://bit.ly/396WyAZ'\n",
    "df = pd.read_csv(url)\n",
    "type(df)"
   ]
  },
  {
   "cell_type": "markdown",
   "id": "9be96e12-483d-4de0-8b7a-7f7fdf571c98",
   "metadata": {},
   "source": [
    "### Saving the Dataframe to File"
   ]
  },
  {
   "cell_type": "code",
   "execution_count": 191,
   "id": "928bebf2-0dfa-4d28-8cb7-8ad6a143f75f",
   "metadata": {},
   "outputs": [],
   "source": [
    "from pathlib import Path\n",
    "\n",
    "path = Path('data/cereals.csv')\n",
    "df.to_csv(path)"
   ]
  },
  {
   "cell_type": "markdown",
   "id": "49e95584-9dcb-43b3-91ac-740d68ce8f36",
   "metadata": {},
   "source": [
    "### Reading Dataset from File"
   ]
  },
  {
   "cell_type": "code",
   "execution_count": 192,
   "id": "35a474ac-6704-46fb-a7bd-846b9e453f4c",
   "metadata": {},
   "outputs": [],
   "source": [
    "# read dataset and set index to value of column 0\n",
    "df = pd.read_csv(path, index_col=0 )"
   ]
  },
  {
   "cell_type": "markdown",
   "id": "a0ff0494-1fdc-4c12-b3c3-836cab9dc73f",
   "metadata": {},
   "source": [
    "## Dataframe Inspection"
   ]
  },
  {
   "cell_type": "code",
   "execution_count": 193,
   "id": "0a0e38bd-c5b9-4deb-8b89-e62ce7470e95",
   "metadata": {},
   "outputs": [
    {
     "data": {
      "text/plain": [
       "Int64Index([ 0,  1,  2,  3,  4,  5,  6,  7,  8,  9, 10, 11, 12, 13, 14, 15, 16,\n",
       "            17, 18, 19, 20, 21, 22, 23, 24, 25, 26, 27, 28, 29, 30, 31, 32, 33,\n",
       "            34, 35, 36, 37, 38, 39, 40, 41, 42, 43, 44, 45, 46, 47, 48, 49, 50,\n",
       "            51, 52, 53, 54, 55, 56, 57, 58, 59, 60, 61, 62, 63, 64, 65, 66, 67,\n",
       "            68, 69, 70, 71, 72, 73, 74, 75, 76],\n",
       "           dtype='int64')"
      ]
     },
     "execution_count": 193,
     "metadata": {},
     "output_type": "execute_result"
    }
   ],
   "source": [
    "# index df\n",
    "df.index"
   ]
  },
  {
   "cell_type": "code",
   "execution_count": 194,
   "id": "90caed2c-36b3-4cf0-b1bc-7a6cc756bdd7",
   "metadata": {},
   "outputs": [
    {
     "data": {
      "text/plain": [
       "77"
      ]
     },
     "execution_count": 194,
     "metadata": {},
     "output_type": "execute_result"
    }
   ],
   "source": [
    "# number of lines\n",
    "len(df)\n",
    "df.shape[0]\n",
    "df['name'].count()"
   ]
  },
  {
   "cell_type": "code",
   "execution_count": 195,
   "id": "62df2000-64c4-42ab-826a-506e496680b7",
   "metadata": {},
   "outputs": [
    {
     "data": {
      "text/plain": [
       "16"
      ]
     },
     "execution_count": 195,
     "metadata": {},
     "output_type": "execute_result"
    }
   ],
   "source": [
    "# number of columns\n",
    "df.shape[1]\n",
    "len(df.columns)"
   ]
  },
  {
   "cell_type": "code",
   "execution_count": 196,
   "id": "c549100b-74c1-4c09-ad9a-35e54b22d546",
   "metadata": {},
   "outputs": [
    {
     "data": {
      "text/plain": [
       "27.792767800972797"
      ]
     },
     "execution_count": 196,
     "metadata": {},
     "output_type": "execute_result"
    }
   ],
   "source": [
    "# testing the efficiency of both approaches\n",
    "import timeit\n",
    "\n",
    "statement = '''\n",
    "import pandas as pd\n",
    "\n",
    "df = pd.read_csv('data/cereals.csv', index_col=0)\n",
    "df.shape[0]\n",
    "#len(df)\n",
    "'''\n",
    "\n",
    "timeit.timeit(statement, number=5000)"
   ]
  },
  {
   "cell_type": "code",
   "execution_count": 197,
   "id": "35b07498-8367-45a0-8c14-2c89f5efe8c9",
   "metadata": {},
   "outputs": [
    {
     "name": "stdout",
     "output_type": "stream",
     "text": [
      "<class 'pandas.core.frame.DataFrame'>\n",
      "Int64Index: 77 entries, 0 to 76\n",
      "Data columns (total 16 columns):\n",
      " #   Column    Non-Null Count  Dtype  \n",
      "---  ------    --------------  -----  \n",
      " 0   name      77 non-null     object \n",
      " 1   mfr       77 non-null     object \n",
      " 2   type      77 non-null     object \n",
      " 3   calories  77 non-null     int64  \n",
      " 4   protein   77 non-null     int64  \n",
      " 5   fat       77 non-null     int64  \n",
      " 6   sodium    77 non-null     int64  \n",
      " 7   fiber     77 non-null     float64\n",
      " 8   carbo     77 non-null     float64\n",
      " 9   sugars    77 non-null     int64  \n",
      " 10  potass    77 non-null     int64  \n",
      " 11  vitamins  77 non-null     int64  \n",
      " 12  shelf     77 non-null     int64  \n",
      " 13  weight    77 non-null     float64\n",
      " 14  cups      77 non-null     float64\n",
      " 15  rating    77 non-null     float64\n",
      "dtypes: float64(5), int64(8), object(3)\n",
      "memory usage: 10.2+ KB\n"
     ]
    }
   ],
   "source": [
    "# sumarne info o df\n",
    "df.info()"
   ]
  },
  {
   "cell_type": "code",
   "execution_count": 198,
   "id": "5c688ebf-8b6e-409d-aa7c-4d7f85f4cdf2",
   "metadata": {},
   "outputs": [
    {
     "data": {
      "text/plain": [
       "name         object\n",
       "mfr          object\n",
       "type         object\n",
       "calories      int64\n",
       "protein       int64\n",
       "fat           int64\n",
       "sodium        int64\n",
       "fiber       float64\n",
       "carbo       float64\n",
       "sugars        int64\n",
       "potass        int64\n",
       "vitamins      int64\n",
       "shelf         int64\n",
       "weight      float64\n",
       "cups        float64\n",
       "rating      float64\n",
       "dtype: object"
      ]
     },
     "execution_count": 198,
     "metadata": {},
     "output_type": "execute_result"
    }
   ],
   "source": [
    "# vrati dtypes daneho df\n",
    "df.dtypes"
   ]
  },
  {
   "cell_type": "code",
   "execution_count": 199,
   "id": "3f59004d-8a0d-4f8f-8845-b39fea92df1d",
   "metadata": {},
   "outputs": [
    {
     "data": {
      "text/plain": [
       "1232"
      ]
     },
     "execution_count": 199,
     "metadata": {},
     "output_type": "execute_result"
    }
   ],
   "source": [
    "# pocet vsetkych prvkov/buniek/cells\n",
    "df.size\n",
    "77 * 16"
   ]
  },
  {
   "cell_type": "code",
   "execution_count": 200,
   "id": "548e743f-1fcb-48fa-94b2-9f87655023d5",
   "metadata": {},
   "outputs": [
    {
     "data": {
      "text/plain": [
       "True"
      ]
     },
     "execution_count": 200,
     "metadata": {},
     "output_type": "execute_result"
    }
   ],
   "source": [
    "# test, ci prvok sa nachadza v zozname, resp. ci existuje stlpec s danym menom\n",
    "df.columns\n",
    "'name' in df.columns"
   ]
  },
  {
   "cell_type": "markdown",
   "id": "2af7c6de-074e-4017-9a4e-9187117c2553",
   "metadata": {},
   "source": [
    "## Series Intro"
   ]
  },
  {
   "cell_type": "code",
   "execution_count": 201,
   "id": "6d2d9c13-f087-4e61-a369-f3679c338dbe",
   "metadata": {},
   "outputs": [
    {
     "data": {
      "text/plain": [
       "0                     100% Bran\n",
       "1             100% Natural Bran\n",
       "2                      All-Bran\n",
       "3     All-Bran with Extra Fiber\n",
       "4                Almond Delight\n",
       "                ...            \n",
       "72                      Triples\n",
       "73                         Trix\n",
       "74                   Wheat Chex\n",
       "75                     Wheaties\n",
       "76          Wheaties Honey Gold\n",
       "Name: name, Length: 77, dtype: object"
      ]
     },
     "execution_count": 201,
     "metadata": {},
     "output_type": "execute_result"
    }
   ],
   "source": [
    "# stlpec z tabulky (df) je typu series\n",
    "col = df['name']\n",
    "type(col)\n",
    "col"
   ]
  },
  {
   "cell_type": "code",
   "execution_count": 202,
   "id": "7adeffae-0c8b-45be-9985-e1dfc798144f",
   "metadata": {},
   "outputs": [
    {
     "data": {
      "text/plain": [
       "pandas.core.series.Series"
      ]
     },
     "execution_count": 202,
     "metadata": {},
     "output_type": "execute_result"
    }
   ],
   "source": [
    "# read dataset and make it series (only one column)\n",
    "s = pd.read_csv(path, usecols=['name']).squeeze(True)\n",
    "type(s)\n"
   ]
  },
  {
   "cell_type": "code",
   "execution_count": 203,
   "id": "86df64fd-e9d5-41da-9a43-41a1d56fe0fe",
   "metadata": {},
   "outputs": [
    {
     "data": {
      "text/plain": [
       "RangeIndex(start=0, stop=77, step=1)"
      ]
     },
     "execution_count": 203,
     "metadata": {},
     "output_type": "execute_result"
    }
   ],
   "source": [
    "s.index"
   ]
  },
  {
   "cell_type": "markdown",
   "id": "413cd426-badb-4295-b375-4943bdbb8c7b",
   "metadata": {},
   "source": [
    "## Questions\n",
    "\n",
    "1. Ktoré cereálie majú najlepšie hodnotenie?\n",
    "2. Ktoré majú najmenej cukru?\n",
    "3. Ktoré cereálie majú najviac bielkovín?\n",
    "4. Top 10 najlepších cereálií?\n",
    "5. Koľko cereálií vyrába Kelloggs?\n",
    "6. Priemerné hodnotenie\n",
    "7. Všetky cereálie, ktoré sa nachádzajú na najvyššej poličke\n",
    "8. Koľko je možné podávať za studena a koľko za tepla?\n",
    "9. Najväčšia kalorická bomba?"
   ]
  },
  {
   "cell_type": "markdown",
   "id": "7c9a6867-315c-4171-9d58-7b689ad1e01c",
   "metadata": {},
   "source": [
    "### `Dataframe.loc[]`"
   ]
  },
  {
   "cell_type": "code",
   "execution_count": 204,
   "id": "c671538f-0291-43d1-9636-bbe25a30c396",
   "metadata": {},
   "outputs": [
    {
     "data": {
      "text/html": [
       "<div>\n",
       "<style scoped>\n",
       "    .dataframe tbody tr th:only-of-type {\n",
       "        vertical-align: middle;\n",
       "    }\n",
       "\n",
       "    .dataframe tbody tr th {\n",
       "        vertical-align: top;\n",
       "    }\n",
       "\n",
       "    .dataframe thead th {\n",
       "        text-align: right;\n",
       "    }\n",
       "</style>\n",
       "<table border=\"1\" class=\"dataframe\">\n",
       "  <thead>\n",
       "    <tr style=\"text-align: right;\">\n",
       "      <th></th>\n",
       "      <th>name</th>\n",
       "      <th>rating</th>\n",
       "    </tr>\n",
       "  </thead>\n",
       "  <tbody>\n",
       "    <tr>\n",
       "      <th>4</th>\n",
       "      <td>Almond Delight</td>\n",
       "      <td>34.384843</td>\n",
       "    </tr>\n",
       "    <tr>\n",
       "      <th>5</th>\n",
       "      <td>Apple Cinnamon Cheerios</td>\n",
       "      <td>29.509541</td>\n",
       "    </tr>\n",
       "    <tr>\n",
       "      <th>10</th>\n",
       "      <td>Cap'n'Crunch</td>\n",
       "      <td>18.042851</td>\n",
       "    </tr>\n",
       "  </tbody>\n",
       "</table>\n",
       "</div>"
      ],
      "text/plain": [
       "                       name     rating\n",
       "4            Almond Delight  34.384843\n",
       "5   Apple Cinnamon Cheerios  29.509541\n",
       "10             Cap'n'Crunch  18.042851"
      ]
     },
     "execution_count": 204,
     "metadata": {},
     "output_type": "execute_result"
    }
   ],
   "source": [
    "cereals = df\n",
    "\n",
    "# select rows 4, 5, 10 and show only columns 'name' and 'rating'\n",
    "cereals.loc[[4, 5, 10], ['name', 'rating']]"
   ]
  },
  {
   "cell_type": "code",
   "execution_count": 205,
   "id": "47e544ce-0614-4193-a1a6-5faa33dba20e",
   "metadata": {},
   "outputs": [
    {
     "data": {
      "text/plain": [
       "0     68.402973\n",
       "1     33.983679\n",
       "2     59.425505\n",
       "3     93.704912\n",
       "4     34.384843\n",
       "        ...    \n",
       "72    39.106174\n",
       "73    27.753301\n",
       "74    49.787445\n",
       "75    51.592193\n",
       "76    36.187559\n",
       "Name: rating, Length: 77, dtype: float64"
      ]
     },
     "execution_count": 205,
     "metadata": {},
     "output_type": "execute_result"
    }
   ],
   "source": [
    "cereals['rating'] # df.rating"
   ]
  },
  {
   "cell_type": "markdown",
   "id": "e2169592-65c7-4b6c-938d-4235761e13b1",
   "metadata": {},
   "source": [
    "### 5. Koľko cereálií vyrába Kelloggs?"
   ]
  },
  {
   "cell_type": "code",
   "execution_count": 206,
   "id": "ad55ef65-8c3f-478a-9c8c-ab4ebf551d20",
   "metadata": {},
   "outputs": [
    {
     "data": {
      "text/plain": [
       "23"
      ]
     },
     "execution_count": 206,
     "metadata": {},
     "output_type": "execute_result"
    }
   ],
   "source": [
    "# vytvorim filter pre selektovanie len tych cerealii, ktore vyraba Kelloggs\n",
    "filter = cereals['mfr'] == 'K'\n",
    "\n",
    "# aplikujem filter a necham si zobrazit len stlpec name a mfr\n",
    "df = cereals.loc[ filter, ['name', 'mfr'] ]\n",
    "\n",
    "# spocitam riadky\n",
    "df['name'].count()\n",
    "len(df)\n",
    "df.shape[0]"
   ]
  },
  {
   "cell_type": "markdown",
   "id": "407d22e9-7a98-4aa8-9c2d-8a61b52b8327",
   "metadata": {},
   "source": [
    "### 1. Ktoré cereálie majú najlepšie hodnotenie?"
   ]
  },
  {
   "cell_type": "code",
   "execution_count": 228,
   "id": "974e8396-03ca-4096-8f76-ebea9a9d9ba6",
   "metadata": {},
   "outputs": [
    {
     "data": {
      "text/html": [
       "<div>\n",
       "<style scoped>\n",
       "    .dataframe tbody tr th:only-of-type {\n",
       "        vertical-align: middle;\n",
       "    }\n",
       "\n",
       "    .dataframe tbody tr th {\n",
       "        vertical-align: top;\n",
       "    }\n",
       "\n",
       "    .dataframe thead th {\n",
       "        text-align: right;\n",
       "    }\n",
       "</style>\n",
       "<table border=\"1\" class=\"dataframe\">\n",
       "  <thead>\n",
       "    <tr style=\"text-align: right;\">\n",
       "      <th></th>\n",
       "      <th>name</th>\n",
       "      <th>rating</th>\n",
       "      <th>mfr</th>\n",
       "    </tr>\n",
       "  </thead>\n",
       "  <tbody>\n",
       "    <tr>\n",
       "      <th>3</th>\n",
       "      <td>All-Bran with Extra Fiber</td>\n",
       "      <td>93.704912</td>\n",
       "      <td>K</td>\n",
       "    </tr>\n",
       "  </tbody>\n",
       "</table>\n",
       "</div>"
      ],
      "text/plain": [
       "                        name     rating mfr\n",
       "3  All-Bran with Extra Fiber  93.704912   K"
      ]
     },
     "execution_count": 228,
     "metadata": {},
     "output_type": "execute_result"
    }
   ],
   "source": [
    "max(cereals['rating'])\n",
    "max_rating = cereals['rating'].max()\n",
    "# cereals.max()\n",
    "\n",
    "filter = (cereals['rating'] == max_rating) \n",
    "cereals.loc[filter, ['name', 'rating', 'mfr']]\n"
   ]
  },
  {
   "cell_type": "markdown",
   "id": "c9fa1eaa-796c-4b51-803b-513fe20ab3f4",
   "metadata": {},
   "source": [
    "### 2. Ktoré majú najmenej cukru?"
   ]
  },
  {
   "cell_type": "code",
   "execution_count": 234,
   "id": "393cd62b-cbd0-46d5-9db7-b059f0dde2f5",
   "metadata": {},
   "outputs": [
    {
     "data": {
      "text/html": [
       "<div>\n",
       "<style scoped>\n",
       "    .dataframe tbody tr th:only-of-type {\n",
       "        vertical-align: middle;\n",
       "    }\n",
       "\n",
       "    .dataframe tbody tr th {\n",
       "        vertical-align: top;\n",
       "    }\n",
       "\n",
       "    .dataframe thead th {\n",
       "        text-align: right;\n",
       "    }\n",
       "</style>\n",
       "<table border=\"1\" class=\"dataframe\">\n",
       "  <thead>\n",
       "    <tr style=\"text-align: right;\">\n",
       "      <th></th>\n",
       "      <th>name</th>\n",
       "      <th>sugars</th>\n",
       "      <th>rating</th>\n",
       "    </tr>\n",
       "  </thead>\n",
       "  <tbody>\n",
       "    <tr>\n",
       "      <th>57</th>\n",
       "      <td>Quaker Oatmeal</td>\n",
       "      <td>-1</td>\n",
       "      <td>50.828392</td>\n",
       "    </tr>\n",
       "  </tbody>\n",
       "</table>\n",
       "</div>"
      ],
      "text/plain": [
       "              name  sugars     rating\n",
       "57  Quaker Oatmeal      -1  50.828392"
      ]
     },
     "execution_count": 234,
     "metadata": {},
     "output_type": "execute_result"
    }
   ],
   "source": [
    "filter = (cereals['sugars'] == cereals['sugars'].min())\n",
    "cereals.loc[filter, ['name','sugars', 'rating']]"
   ]
  },
  {
   "cell_type": "markdown",
   "id": "407cb60e-9af3-4e24-8b88-a07f05dc3d38",
   "metadata": {},
   "source": [
    "### 3. Ktoré cereálie majú najviac a ktoré najmenej bielkovín?"
   ]
  },
  {
   "cell_type": "code",
   "execution_count": 246,
   "id": "91ea4a3f-1179-4e30-b022-e138f7a487cb",
   "metadata": {},
   "outputs": [
    {
     "data": {
      "text/html": [
       "<div>\n",
       "<style scoped>\n",
       "    .dataframe tbody tr th:only-of-type {\n",
       "        vertical-align: middle;\n",
       "    }\n",
       "\n",
       "    .dataframe tbody tr th {\n",
       "        vertical-align: top;\n",
       "    }\n",
       "\n",
       "    .dataframe thead th {\n",
       "        text-align: right;\n",
       "    }\n",
       "</style>\n",
       "<table border=\"1\" class=\"dataframe\">\n",
       "  <thead>\n",
       "    <tr style=\"text-align: right;\">\n",
       "      <th></th>\n",
       "      <th>name</th>\n",
       "      <th>protein</th>\n",
       "    </tr>\n",
       "  </thead>\n",
       "  <tbody>\n",
       "    <tr>\n",
       "      <th>10</th>\n",
       "      <td>Cap'n'Crunch</td>\n",
       "      <td>1</td>\n",
       "    </tr>\n",
       "    <tr>\n",
       "      <th>11</th>\n",
       "      <td>Cheerios</td>\n",
       "      <td>6</td>\n",
       "    </tr>\n",
       "    <tr>\n",
       "      <th>12</th>\n",
       "      <td>Cinnamon Toast Crunch</td>\n",
       "      <td>1</td>\n",
       "    </tr>\n",
       "    <tr>\n",
       "      <th>14</th>\n",
       "      <td>Cocoa Puffs</td>\n",
       "      <td>1</td>\n",
       "    </tr>\n",
       "    <tr>\n",
       "      <th>17</th>\n",
       "      <td>Corn Pops</td>\n",
       "      <td>1</td>\n",
       "    </tr>\n",
       "    <tr>\n",
       "      <th>18</th>\n",
       "      <td>Count Chocula</td>\n",
       "      <td>1</td>\n",
       "    </tr>\n",
       "    <tr>\n",
       "      <th>25</th>\n",
       "      <td>Frosted Flakes</td>\n",
       "      <td>1</td>\n",
       "    </tr>\n",
       "    <tr>\n",
       "      <th>29</th>\n",
       "      <td>Fruity Pebbles</td>\n",
       "      <td>1</td>\n",
       "    </tr>\n",
       "    <tr>\n",
       "      <th>31</th>\n",
       "      <td>Golden Grahams</td>\n",
       "      <td>1</td>\n",
       "    </tr>\n",
       "    <tr>\n",
       "      <th>35</th>\n",
       "      <td>Honey Graham Ohs</td>\n",
       "      <td>1</td>\n",
       "    </tr>\n",
       "    <tr>\n",
       "      <th>37</th>\n",
       "      <td>Honey-comb</td>\n",
       "      <td>1</td>\n",
       "    </tr>\n",
       "    <tr>\n",
       "      <th>54</th>\n",
       "      <td>Puffed Rice</td>\n",
       "      <td>1</td>\n",
       "    </tr>\n",
       "    <tr>\n",
       "      <th>61</th>\n",
       "      <td>Rice Chex</td>\n",
       "      <td>1</td>\n",
       "    </tr>\n",
       "    <tr>\n",
       "      <th>67</th>\n",
       "      <td>Special K</td>\n",
       "      <td>6</td>\n",
       "    </tr>\n",
       "    <tr>\n",
       "      <th>73</th>\n",
       "      <td>Trix</td>\n",
       "      <td>1</td>\n",
       "    </tr>\n",
       "  </tbody>\n",
       "</table>\n",
       "</div>"
      ],
      "text/plain": [
       "                     name  protein\n",
       "10           Cap'n'Crunch        1\n",
       "11               Cheerios        6\n",
       "12  Cinnamon Toast Crunch        1\n",
       "14            Cocoa Puffs        1\n",
       "17              Corn Pops        1\n",
       "18          Count Chocula        1\n",
       "25         Frosted Flakes        1\n",
       "29         Fruity Pebbles        1\n",
       "31         Golden Grahams        1\n",
       "35       Honey Graham Ohs        1\n",
       "37             Honey-comb        1\n",
       "54            Puffed Rice        1\n",
       "61              Rice Chex        1\n",
       "67              Special K        6\n",
       "73                   Trix        1"
      ]
     },
     "execution_count": 247,
     "metadata": {},
     "output_type": "execute_result"
    }
   ],
   "source": [
    "# solution 1\n",
    "filter_min = cereals['protein'] == cereals['protein'].min()\n",
    "filter_max = cereals['protein'] == cereals['protein'].max()\n",
    "\n",
    "cereals.loc[ filter_min | filter_max, ['name', 'protein'] ]\n",
    "\n",
    "# solution 2\n",
    "# cereals['protein'] in [min, max]\n",
    "filter = cereals['protein'].isin([cereals['protein'].min(), cereals['protein'].max()])\n",
    "cereals.loc[ filter, ['name', 'protein'] ]"
   ]
  },
  {
   "cell_type": "markdown",
   "id": "3b5aaf02-c431-42e0-962a-26da90e32d19",
   "metadata": {},
   "source": [
    "### X. Vypíš najlepšie cereálie od Quakers Oats"
   ]
  },
  {
   "cell_type": "code",
   "execution_count": 250,
   "id": "957c0ec4-ebb2-46cc-8a65-3b04a7e9ad8b",
   "metadata": {},
   "outputs": [
    {
     "data": {
      "text/html": [
       "<div>\n",
       "<style scoped>\n",
       "    .dataframe tbody tr th:only-of-type {\n",
       "        vertical-align: middle;\n",
       "    }\n",
       "\n",
       "    .dataframe tbody tr th {\n",
       "        vertical-align: top;\n",
       "    }\n",
       "\n",
       "    .dataframe thead th {\n",
       "        text-align: right;\n",
       "    }\n",
       "</style>\n",
       "<table border=\"1\" class=\"dataframe\">\n",
       "  <thead>\n",
       "    <tr style=\"text-align: right;\">\n",
       "      <th></th>\n",
       "      <th>name</th>\n",
       "      <th>mfr</th>\n",
       "      <th>rating</th>\n",
       "    </tr>\n",
       "  </thead>\n",
       "  <tbody>\n",
       "    <tr>\n",
       "      <th>55</th>\n",
       "      <td>Puffed Wheat</td>\n",
       "      <td>Q</td>\n",
       "      <td>63.005645</td>\n",
       "    </tr>\n",
       "  </tbody>\n",
       "</table>\n",
       "</div>"
      ],
      "text/plain": [
       "            name mfr     rating\n",
       "55  Puffed Wheat   Q  63.005645"
      ]
     },
     "execution_count": 250,
     "metadata": {},
     "output_type": "execute_result"
    }
   ],
   "source": [
    "df = cereals.loc[cereals['mfr'] == 'Q']\n",
    "df.loc[df['rating'] == df['rating'].max(), ['name', 'mfr', 'rating']]"
   ]
  },
  {
   "cell_type": "markdown",
   "id": "aa61fb44-8a8c-40f5-9b96-f97a739ec716",
   "metadata": {},
   "source": [
    "### 4. Top 10 najlepších cereálií?"
   ]
  },
  {
   "cell_type": "code",
   "execution_count": 280,
   "id": "4dbaac2d-e202-4418-af8e-bbd2243d123f",
   "metadata": {},
   "outputs": [
    {
     "data": {
      "text/html": [
       "<div>\n",
       "<style scoped>\n",
       "    .dataframe tbody tr th:only-of-type {\n",
       "        vertical-align: middle;\n",
       "    }\n",
       "\n",
       "    .dataframe tbody tr th {\n",
       "        vertical-align: top;\n",
       "    }\n",
       "\n",
       "    .dataframe thead th {\n",
       "        text-align: right;\n",
       "    }\n",
       "</style>\n",
       "<table border=\"1\" class=\"dataframe\">\n",
       "  <thead>\n",
       "    <tr style=\"text-align: right;\">\n",
       "      <th></th>\n",
       "      <th>name</th>\n",
       "      <th>rating</th>\n",
       "    </tr>\n",
       "  </thead>\n",
       "  <tbody>\n",
       "    <tr>\n",
       "      <th>3</th>\n",
       "      <td>All-Bran with Extra Fiber</td>\n",
       "      <td>93.704912</td>\n",
       "    </tr>\n",
       "    <tr>\n",
       "      <th>64</th>\n",
       "      <td>Shredded Wheat 'n'Bran</td>\n",
       "      <td>74.472949</td>\n",
       "    </tr>\n",
       "    <tr>\n",
       "      <th>65</th>\n",
       "      <td>Shredded Wheat spoon size</td>\n",
       "      <td>72.801787</td>\n",
       "    </tr>\n",
       "    <tr>\n",
       "      <th>0</th>\n",
       "      <td>100% Bran</td>\n",
       "      <td>68.402973</td>\n",
       "    </tr>\n",
       "    <tr>\n",
       "      <th>63</th>\n",
       "      <td>Shredded Wheat</td>\n",
       "      <td>68.235885</td>\n",
       "    </tr>\n",
       "    <tr>\n",
       "      <th>20</th>\n",
       "      <td>Cream of Wheat (Quick)</td>\n",
       "      <td>64.533816</td>\n",
       "    </tr>\n",
       "    <tr>\n",
       "      <th>55</th>\n",
       "      <td>Puffed Wheat</td>\n",
       "      <td>63.005645</td>\n",
       "    </tr>\n",
       "    <tr>\n",
       "      <th>54</th>\n",
       "      <td>Puffed Rice</td>\n",
       "      <td>60.756112</td>\n",
       "    </tr>\n",
       "    <tr>\n",
       "      <th>50</th>\n",
       "      <td>Nutri-grain Wheat</td>\n",
       "      <td>59.642837</td>\n",
       "    </tr>\n",
       "    <tr>\n",
       "      <th>2</th>\n",
       "      <td>All-Bran</td>\n",
       "      <td>59.425505</td>\n",
       "    </tr>\n",
       "  </tbody>\n",
       "</table>\n",
       "</div>"
      ],
      "text/plain": [
       "                         name     rating\n",
       "3   All-Bran with Extra Fiber  93.704912\n",
       "64     Shredded Wheat 'n'Bran  74.472949\n",
       "65  Shredded Wheat spoon size  72.801787\n",
       "0                   100% Bran  68.402973\n",
       "63             Shredded Wheat  68.235885\n",
       "20     Cream of Wheat (Quick)  64.533816\n",
       "55               Puffed Wheat  63.005645\n",
       "54                Puffed Rice  60.756112\n",
       "50          Nutri-grain Wheat  59.642837\n",
       "2                    All-Bran  59.425505"
      ]
     },
     "execution_count": 280,
     "metadata": {},
     "output_type": "execute_result"
    }
   ],
   "source": [
    "cereals.sort_values('rating', ascending=False).head(10).loc[:, ['name', 'rating']]  # [['name', 'rating']]"
   ]
  },
  {
   "cell_type": "markdown",
   "id": "c8a1671c-c850-472c-8665-d39c9194a71f",
   "metadata": {},
   "source": [
    "### X. Top 10 najlepších cereálií od *American Home Food Products* a *General Mills*"
   ]
  },
  {
   "cell_type": "code",
   "execution_count": 296,
   "id": "6306697b-f3ee-43d1-8b5c-08ef4854cf5a",
   "metadata": {},
   "outputs": [
    {
     "data": {
      "text/html": [
       "<div>\n",
       "<style scoped>\n",
       "    .dataframe tbody tr th:only-of-type {\n",
       "        vertical-align: middle;\n",
       "    }\n",
       "\n",
       "    .dataframe tbody tr th {\n",
       "        vertical-align: top;\n",
       "    }\n",
       "\n",
       "    .dataframe thead th {\n",
       "        text-align: right;\n",
       "    }\n",
       "</style>\n",
       "<table border=\"1\" class=\"dataframe\">\n",
       "  <thead>\n",
       "    <tr style=\"text-align: right;\">\n",
       "      <th></th>\n",
       "      <th>name</th>\n",
       "      <th>mfr</th>\n",
       "      <th>rating</th>\n",
       "    </tr>\n",
       "  </thead>\n",
       "  <tbody>\n",
       "    <tr>\n",
       "      <th>43</th>\n",
       "      <td>Maypo</td>\n",
       "      <td>A</td>\n",
       "      <td>54.850917</td>\n",
       "    </tr>\n",
       "    <tr>\n",
       "      <th>75</th>\n",
       "      <td>Wheaties</td>\n",
       "      <td>G</td>\n",
       "      <td>51.592193</td>\n",
       "    </tr>\n",
       "    <tr>\n",
       "      <th>11</th>\n",
       "      <td>Cheerios</td>\n",
       "      <td>G</td>\n",
       "      <td>50.764999</td>\n",
       "    </tr>\n",
       "    <tr>\n",
       "      <th>71</th>\n",
       "      <td>Total Whole Grain</td>\n",
       "      <td>G</td>\n",
       "      <td>46.658844</td>\n",
       "    </tr>\n",
       "    <tr>\n",
       "      <th>13</th>\n",
       "      <td>Clusters</td>\n",
       "      <td>G</td>\n",
       "      <td>40.400208</td>\n",
       "    </tr>\n",
       "    <tr>\n",
       "      <th>47</th>\n",
       "      <td>Multi-Grain Cheerios</td>\n",
       "      <td>G</td>\n",
       "      <td>40.105965</td>\n",
       "    </tr>\n",
       "    <tr>\n",
       "      <th>59</th>\n",
       "      <td>Raisin Nut Bran</td>\n",
       "      <td>G</td>\n",
       "      <td>39.703400</td>\n",
       "    </tr>\n",
       "    <tr>\n",
       "      <th>40</th>\n",
       "      <td>Kix</td>\n",
       "      <td>G</td>\n",
       "      <td>39.241114</td>\n",
       "    </tr>\n",
       "    <tr>\n",
       "      <th>72</th>\n",
       "      <td>Triples</td>\n",
       "      <td>G</td>\n",
       "      <td>39.106174</td>\n",
       "    </tr>\n",
       "    <tr>\n",
       "      <th>69</th>\n",
       "      <td>Total Corn Flakes</td>\n",
       "      <td>G</td>\n",
       "      <td>38.839746</td>\n",
       "    </tr>\n",
       "  </tbody>\n",
       "</table>\n",
       "</div>"
      ],
      "text/plain": [
       "                    name mfr     rating\n",
       "43                 Maypo   A  54.850917\n",
       "75              Wheaties   G  51.592193\n",
       "11              Cheerios   G  50.764999\n",
       "71     Total Whole Grain   G  46.658844\n",
       "13              Clusters   G  40.400208\n",
       "47  Multi-Grain Cheerios   G  40.105965\n",
       "59       Raisin Nut Bran   G  39.703400\n",
       "40                   Kix   G  39.241114\n",
       "72               Triples   G  39.106174\n",
       "69     Total Corn Flakes   G  38.839746"
      ]
     },
     "execution_count": 296,
     "metadata": {},
     "output_type": "execute_result"
    }
   ],
   "source": [
    "# filter = ((cereals['mfr'] == 'A') | (cereals['mfr'] == 'G'))\n",
    "filter = cereals['mfr'].isin(['A', 'G'])\n",
    "cereals.loc[filter, ['name', 'mfr', 'rating']].sort_values('rating', ascending=False).head(10)"
   ]
  },
  {
   "cell_type": "markdown",
   "id": "cd724bd2-2b61-4823-b646-97724a4e1d5a",
   "metadata": {},
   "source": [
    "### 5. Koľko cereálií vyrába Kelloggs?"
   ]
  },
  {
   "cell_type": "code",
   "execution_count": 300,
   "id": "20d53875-9f4d-4348-85ba-6de265af96b8",
   "metadata": {},
   "outputs": [
    {
     "data": {
      "text/plain": [
       "23"
      ]
     },
     "execution_count": 300,
     "metadata": {},
     "output_type": "execute_result"
    }
   ],
   "source": [
    "filter = cereals['mfr'] == 'K'\n",
    "cereals.loc[filter, 'name'].count()"
   ]
  },
  {
   "cell_type": "markdown",
   "id": "8996c1f7-541e-4228-961f-5ac6f648eca2",
   "metadata": {},
   "source": [
    "### 6. Priemerné hodnotenie"
   ]
  },
  {
   "cell_type": "code",
   "execution_count": 304,
   "id": "d7292eef-62e4-4dc0-887a-1bff86ad81fb",
   "metadata": {},
   "outputs": [
    {
     "data": {
      "text/plain": [
       "42.66570498701299"
      ]
     },
     "execution_count": 304,
     "metadata": {},
     "output_type": "execute_result"
    }
   ],
   "source": [
    "cereals['rating'].mean()"
   ]
  },
  {
   "cell_type": "markdown",
   "id": "80e488f7-c09b-42a4-8e71-58bc61f9814a",
   "metadata": {},
   "source": [
    "### 7. Všetky cereálie, ktoré sa nachádzajú na najvyššej poličke"
   ]
  },
  {
   "cell_type": "code",
   "execution_count": 307,
   "id": "476dcfe9-dea5-40d8-958c-3754e9e0dc32",
   "metadata": {},
   "outputs": [
    {
     "data": {
      "text/html": [
       "<div>\n",
       "<style scoped>\n",
       "    .dataframe tbody tr th:only-of-type {\n",
       "        vertical-align: middle;\n",
       "    }\n",
       "\n",
       "    .dataframe tbody tr th {\n",
       "        vertical-align: top;\n",
       "    }\n",
       "\n",
       "    .dataframe thead th {\n",
       "        text-align: right;\n",
       "    }\n",
       "</style>\n",
       "<table border=\"1\" class=\"dataframe\">\n",
       "  <thead>\n",
       "    <tr style=\"text-align: right;\">\n",
       "      <th></th>\n",
       "      <th>name</th>\n",
       "      <th>mfr</th>\n",
       "      <th>type</th>\n",
       "      <th>calories</th>\n",
       "      <th>protein</th>\n",
       "      <th>fat</th>\n",
       "      <th>sodium</th>\n",
       "      <th>fiber</th>\n",
       "      <th>carbo</th>\n",
       "      <th>sugars</th>\n",
       "      <th>potass</th>\n",
       "      <th>vitamins</th>\n",
       "      <th>shelf</th>\n",
       "      <th>weight</th>\n",
       "      <th>cups</th>\n",
       "      <th>rating</th>\n",
       "    </tr>\n",
       "  </thead>\n",
       "  <tbody>\n",
       "    <tr>\n",
       "      <th>0</th>\n",
       "      <td>100% Bran</td>\n",
       "      <td>N</td>\n",
       "      <td>C</td>\n",
       "      <td>70</td>\n",
       "      <td>4</td>\n",
       "      <td>1</td>\n",
       "      <td>130</td>\n",
       "      <td>10.0</td>\n",
       "      <td>5.0</td>\n",
       "      <td>6</td>\n",
       "      <td>280</td>\n",
       "      <td>25</td>\n",
       "      <td>3</td>\n",
       "      <td>1.00</td>\n",
       "      <td>0.33</td>\n",
       "      <td>68.402973</td>\n",
       "    </tr>\n",
       "    <tr>\n",
       "      <th>1</th>\n",
       "      <td>100% Natural Bran</td>\n",
       "      <td>Q</td>\n",
       "      <td>C</td>\n",
       "      <td>120</td>\n",
       "      <td>3</td>\n",
       "      <td>5</td>\n",
       "      <td>15</td>\n",
       "      <td>2.0</td>\n",
       "      <td>8.0</td>\n",
       "      <td>8</td>\n",
       "      <td>135</td>\n",
       "      <td>0</td>\n",
       "      <td>3</td>\n",
       "      <td>1.00</td>\n",
       "      <td>1.00</td>\n",
       "      <td>33.983679</td>\n",
       "    </tr>\n",
       "    <tr>\n",
       "      <th>2</th>\n",
       "      <td>All-Bran</td>\n",
       "      <td>K</td>\n",
       "      <td>C</td>\n",
       "      <td>70</td>\n",
       "      <td>4</td>\n",
       "      <td>1</td>\n",
       "      <td>260</td>\n",
       "      <td>9.0</td>\n",
       "      <td>7.0</td>\n",
       "      <td>5</td>\n",
       "      <td>320</td>\n",
       "      <td>25</td>\n",
       "      <td>3</td>\n",
       "      <td>1.00</td>\n",
       "      <td>0.33</td>\n",
       "      <td>59.425505</td>\n",
       "    </tr>\n",
       "    <tr>\n",
       "      <th>3</th>\n",
       "      <td>All-Bran with Extra Fiber</td>\n",
       "      <td>K</td>\n",
       "      <td>C</td>\n",
       "      <td>50</td>\n",
       "      <td>4</td>\n",
       "      <td>0</td>\n",
       "      <td>140</td>\n",
       "      <td>14.0</td>\n",
       "      <td>8.0</td>\n",
       "      <td>0</td>\n",
       "      <td>330</td>\n",
       "      <td>25</td>\n",
       "      <td>3</td>\n",
       "      <td>1.00</td>\n",
       "      <td>0.50</td>\n",
       "      <td>93.704912</td>\n",
       "    </tr>\n",
       "    <tr>\n",
       "      <th>4</th>\n",
       "      <td>Almond Delight</td>\n",
       "      <td>R</td>\n",
       "      <td>C</td>\n",
       "      <td>110</td>\n",
       "      <td>2</td>\n",
       "      <td>2</td>\n",
       "      <td>200</td>\n",
       "      <td>1.0</td>\n",
       "      <td>14.0</td>\n",
       "      <td>8</td>\n",
       "      <td>-1</td>\n",
       "      <td>25</td>\n",
       "      <td>3</td>\n",
       "      <td>1.00</td>\n",
       "      <td>0.75</td>\n",
       "      <td>34.384843</td>\n",
       "    </tr>\n",
       "    <tr>\n",
       "      <th>7</th>\n",
       "      <td>Basic 4</td>\n",
       "      <td>G</td>\n",
       "      <td>C</td>\n",
       "      <td>130</td>\n",
       "      <td>3</td>\n",
       "      <td>2</td>\n",
       "      <td>210</td>\n",
       "      <td>2.0</td>\n",
       "      <td>18.0</td>\n",
       "      <td>8</td>\n",
       "      <td>100</td>\n",
       "      <td>25</td>\n",
       "      <td>3</td>\n",
       "      <td>1.33</td>\n",
       "      <td>0.75</td>\n",
       "      <td>37.038562</td>\n",
       "    </tr>\n",
       "    <tr>\n",
       "      <th>9</th>\n",
       "      <td>Bran Flakes</td>\n",
       "      <td>P</td>\n",
       "      <td>C</td>\n",
       "      <td>90</td>\n",
       "      <td>3</td>\n",
       "      <td>0</td>\n",
       "      <td>210</td>\n",
       "      <td>5.0</td>\n",
       "      <td>13.0</td>\n",
       "      <td>5</td>\n",
       "      <td>190</td>\n",
       "      <td>25</td>\n",
       "      <td>3</td>\n",
       "      <td>1.00</td>\n",
       "      <td>0.67</td>\n",
       "      <td>53.313813</td>\n",
       "    </tr>\n",
       "    <tr>\n",
       "      <th>13</th>\n",
       "      <td>Clusters</td>\n",
       "      <td>G</td>\n",
       "      <td>C</td>\n",
       "      <td>110</td>\n",
       "      <td>3</td>\n",
       "      <td>2</td>\n",
       "      <td>140</td>\n",
       "      <td>2.0</td>\n",
       "      <td>13.0</td>\n",
       "      <td>7</td>\n",
       "      <td>105</td>\n",
       "      <td>25</td>\n",
       "      <td>3</td>\n",
       "      <td>1.00</td>\n",
       "      <td>0.50</td>\n",
       "      <td>40.400208</td>\n",
       "    </tr>\n",
       "    <tr>\n",
       "      <th>19</th>\n",
       "      <td>Cracklin' Oat Bran</td>\n",
       "      <td>K</td>\n",
       "      <td>C</td>\n",
       "      <td>110</td>\n",
       "      <td>3</td>\n",
       "      <td>3</td>\n",
       "      <td>140</td>\n",
       "      <td>4.0</td>\n",
       "      <td>10.0</td>\n",
       "      <td>7</td>\n",
       "      <td>160</td>\n",
       "      <td>25</td>\n",
       "      <td>3</td>\n",
       "      <td>1.00</td>\n",
       "      <td>0.50</td>\n",
       "      <td>40.448772</td>\n",
       "    </tr>\n",
       "    <tr>\n",
       "      <th>21</th>\n",
       "      <td>Crispix</td>\n",
       "      <td>K</td>\n",
       "      <td>C</td>\n",
       "      <td>110</td>\n",
       "      <td>2</td>\n",
       "      <td>0</td>\n",
       "      <td>220</td>\n",
       "      <td>1.0</td>\n",
       "      <td>21.0</td>\n",
       "      <td>3</td>\n",
       "      <td>30</td>\n",
       "      <td>25</td>\n",
       "      <td>3</td>\n",
       "      <td>1.00</td>\n",
       "      <td>1.00</td>\n",
       "      <td>46.895644</td>\n",
       "    </tr>\n",
       "    <tr>\n",
       "      <th>22</th>\n",
       "      <td>Crispy Wheat &amp; Raisins</td>\n",
       "      <td>G</td>\n",
       "      <td>C</td>\n",
       "      <td>100</td>\n",
       "      <td>2</td>\n",
       "      <td>1</td>\n",
       "      <td>140</td>\n",
       "      <td>2.0</td>\n",
       "      <td>11.0</td>\n",
       "      <td>10</td>\n",
       "      <td>120</td>\n",
       "      <td>25</td>\n",
       "      <td>3</td>\n",
       "      <td>1.00</td>\n",
       "      <td>0.75</td>\n",
       "      <td>36.176196</td>\n",
       "    </tr>\n",
       "    <tr>\n",
       "      <th>23</th>\n",
       "      <td>Double Chex</td>\n",
       "      <td>R</td>\n",
       "      <td>C</td>\n",
       "      <td>100</td>\n",
       "      <td>2</td>\n",
       "      <td>0</td>\n",
       "      <td>190</td>\n",
       "      <td>1.0</td>\n",
       "      <td>18.0</td>\n",
       "      <td>5</td>\n",
       "      <td>80</td>\n",
       "      <td>25</td>\n",
       "      <td>3</td>\n",
       "      <td>1.00</td>\n",
       "      <td>0.75</td>\n",
       "      <td>44.330856</td>\n",
       "    </tr>\n",
       "    <tr>\n",
       "      <th>27</th>\n",
       "      <td>Fruit &amp; Fibre Dates; Walnuts; and Oats</td>\n",
       "      <td>P</td>\n",
       "      <td>C</td>\n",
       "      <td>120</td>\n",
       "      <td>3</td>\n",
       "      <td>2</td>\n",
       "      <td>160</td>\n",
       "      <td>5.0</td>\n",
       "      <td>12.0</td>\n",
       "      <td>10</td>\n",
       "      <td>200</td>\n",
       "      <td>25</td>\n",
       "      <td>3</td>\n",
       "      <td>1.25</td>\n",
       "      <td>0.67</td>\n",
       "      <td>40.917047</td>\n",
       "    </tr>\n",
       "    <tr>\n",
       "      <th>28</th>\n",
       "      <td>Fruitful Bran</td>\n",
       "      <td>K</td>\n",
       "      <td>C</td>\n",
       "      <td>120</td>\n",
       "      <td>3</td>\n",
       "      <td>0</td>\n",
       "      <td>240</td>\n",
       "      <td>5.0</td>\n",
       "      <td>14.0</td>\n",
       "      <td>12</td>\n",
       "      <td>190</td>\n",
       "      <td>25</td>\n",
       "      <td>3</td>\n",
       "      <td>1.33</td>\n",
       "      <td>0.67</td>\n",
       "      <td>41.015492</td>\n",
       "    </tr>\n",
       "    <tr>\n",
       "      <th>32</th>\n",
       "      <td>Grape Nuts Flakes</td>\n",
       "      <td>P</td>\n",
       "      <td>C</td>\n",
       "      <td>100</td>\n",
       "      <td>3</td>\n",
       "      <td>1</td>\n",
       "      <td>140</td>\n",
       "      <td>3.0</td>\n",
       "      <td>15.0</td>\n",
       "      <td>5</td>\n",
       "      <td>85</td>\n",
       "      <td>25</td>\n",
       "      <td>3</td>\n",
       "      <td>1.00</td>\n",
       "      <td>0.88</td>\n",
       "      <td>52.076897</td>\n",
       "    </tr>\n",
       "    <tr>\n",
       "      <th>33</th>\n",
       "      <td>Grape-Nuts</td>\n",
       "      <td>P</td>\n",
       "      <td>C</td>\n",
       "      <td>110</td>\n",
       "      <td>3</td>\n",
       "      <td>0</td>\n",
       "      <td>170</td>\n",
       "      <td>3.0</td>\n",
       "      <td>17.0</td>\n",
       "      <td>3</td>\n",
       "      <td>90</td>\n",
       "      <td>25</td>\n",
       "      <td>3</td>\n",
       "      <td>1.00</td>\n",
       "      <td>0.25</td>\n",
       "      <td>53.371007</td>\n",
       "    </tr>\n",
       "    <tr>\n",
       "      <th>34</th>\n",
       "      <td>Great Grains Pecan</td>\n",
       "      <td>P</td>\n",
       "      <td>C</td>\n",
       "      <td>120</td>\n",
       "      <td>3</td>\n",
       "      <td>3</td>\n",
       "      <td>75</td>\n",
       "      <td>3.0</td>\n",
       "      <td>13.0</td>\n",
       "      <td>4</td>\n",
       "      <td>100</td>\n",
       "      <td>25</td>\n",
       "      <td>3</td>\n",
       "      <td>1.00</td>\n",
       "      <td>0.33</td>\n",
       "      <td>45.811716</td>\n",
       "    </tr>\n",
       "    <tr>\n",
       "      <th>38</th>\n",
       "      <td>Just Right Crunchy  Nuggets</td>\n",
       "      <td>K</td>\n",
       "      <td>C</td>\n",
       "      <td>110</td>\n",
       "      <td>2</td>\n",
       "      <td>1</td>\n",
       "      <td>170</td>\n",
       "      <td>1.0</td>\n",
       "      <td>17.0</td>\n",
       "      <td>6</td>\n",
       "      <td>60</td>\n",
       "      <td>100</td>\n",
       "      <td>3</td>\n",
       "      <td>1.00</td>\n",
       "      <td>1.00</td>\n",
       "      <td>36.523683</td>\n",
       "    </tr>\n",
       "    <tr>\n",
       "      <th>39</th>\n",
       "      <td>Just Right Fruit &amp; Nut</td>\n",
       "      <td>K</td>\n",
       "      <td>C</td>\n",
       "      <td>140</td>\n",
       "      <td>3</td>\n",
       "      <td>1</td>\n",
       "      <td>170</td>\n",
       "      <td>2.0</td>\n",
       "      <td>20.0</td>\n",
       "      <td>9</td>\n",
       "      <td>95</td>\n",
       "      <td>100</td>\n",
       "      <td>3</td>\n",
       "      <td>1.30</td>\n",
       "      <td>0.75</td>\n",
       "      <td>36.471512</td>\n",
       "    </tr>\n",
       "    <tr>\n",
       "      <th>44</th>\n",
       "      <td>Muesli Raisins; Dates; &amp; Almonds</td>\n",
       "      <td>R</td>\n",
       "      <td>C</td>\n",
       "      <td>150</td>\n",
       "      <td>4</td>\n",
       "      <td>3</td>\n",
       "      <td>95</td>\n",
       "      <td>3.0</td>\n",
       "      <td>16.0</td>\n",
       "      <td>11</td>\n",
       "      <td>170</td>\n",
       "      <td>25</td>\n",
       "      <td>3</td>\n",
       "      <td>1.00</td>\n",
       "      <td>1.00</td>\n",
       "      <td>37.136863</td>\n",
       "    </tr>\n",
       "    <tr>\n",
       "      <th>45</th>\n",
       "      <td>Muesli Raisins; Peaches; &amp; Pecans</td>\n",
       "      <td>R</td>\n",
       "      <td>C</td>\n",
       "      <td>150</td>\n",
       "      <td>4</td>\n",
       "      <td>3</td>\n",
       "      <td>150</td>\n",
       "      <td>3.0</td>\n",
       "      <td>16.0</td>\n",
       "      <td>11</td>\n",
       "      <td>170</td>\n",
       "      <td>25</td>\n",
       "      <td>3</td>\n",
       "      <td>1.00</td>\n",
       "      <td>1.00</td>\n",
       "      <td>34.139765</td>\n",
       "    </tr>\n",
       "    <tr>\n",
       "      <th>46</th>\n",
       "      <td>Mueslix Crispy Blend</td>\n",
       "      <td>K</td>\n",
       "      <td>C</td>\n",
       "      <td>160</td>\n",
       "      <td>3</td>\n",
       "      <td>2</td>\n",
       "      <td>150</td>\n",
       "      <td>3.0</td>\n",
       "      <td>17.0</td>\n",
       "      <td>13</td>\n",
       "      <td>160</td>\n",
       "      <td>25</td>\n",
       "      <td>3</td>\n",
       "      <td>1.50</td>\n",
       "      <td>0.67</td>\n",
       "      <td>30.313351</td>\n",
       "    </tr>\n",
       "    <tr>\n",
       "      <th>49</th>\n",
       "      <td>Nutri-Grain Almond-Raisin</td>\n",
       "      <td>K</td>\n",
       "      <td>C</td>\n",
       "      <td>140</td>\n",
       "      <td>3</td>\n",
       "      <td>2</td>\n",
       "      <td>220</td>\n",
       "      <td>3.0</td>\n",
       "      <td>21.0</td>\n",
       "      <td>7</td>\n",
       "      <td>130</td>\n",
       "      <td>25</td>\n",
       "      <td>3</td>\n",
       "      <td>1.33</td>\n",
       "      <td>0.67</td>\n",
       "      <td>40.692320</td>\n",
       "    </tr>\n",
       "    <tr>\n",
       "      <th>50</th>\n",
       "      <td>Nutri-grain Wheat</td>\n",
       "      <td>K</td>\n",
       "      <td>C</td>\n",
       "      <td>90</td>\n",
       "      <td>3</td>\n",
       "      <td>0</td>\n",
       "      <td>170</td>\n",
       "      <td>3.0</td>\n",
       "      <td>18.0</td>\n",
       "      <td>2</td>\n",
       "      <td>90</td>\n",
       "      <td>25</td>\n",
       "      <td>3</td>\n",
       "      <td>1.00</td>\n",
       "      <td>1.00</td>\n",
       "      <td>59.642837</td>\n",
       "    </tr>\n",
       "    <tr>\n",
       "      <th>51</th>\n",
       "      <td>Oatmeal Raisin Crisp</td>\n",
       "      <td>G</td>\n",
       "      <td>C</td>\n",
       "      <td>130</td>\n",
       "      <td>3</td>\n",
       "      <td>2</td>\n",
       "      <td>170</td>\n",
       "      <td>1.5</td>\n",
       "      <td>13.5</td>\n",
       "      <td>10</td>\n",
       "      <td>120</td>\n",
       "      <td>25</td>\n",
       "      <td>3</td>\n",
       "      <td>1.25</td>\n",
       "      <td>0.50</td>\n",
       "      <td>30.450843</td>\n",
       "    </tr>\n",
       "    <tr>\n",
       "      <th>52</th>\n",
       "      <td>Post Nat. Raisin Bran</td>\n",
       "      <td>P</td>\n",
       "      <td>C</td>\n",
       "      <td>120</td>\n",
       "      <td>3</td>\n",
       "      <td>1</td>\n",
       "      <td>200</td>\n",
       "      <td>6.0</td>\n",
       "      <td>11.0</td>\n",
       "      <td>14</td>\n",
       "      <td>260</td>\n",
       "      <td>25</td>\n",
       "      <td>3</td>\n",
       "      <td>1.33</td>\n",
       "      <td>0.67</td>\n",
       "      <td>37.840594</td>\n",
       "    </tr>\n",
       "    <tr>\n",
       "      <th>53</th>\n",
       "      <td>Product 19</td>\n",
       "      <td>K</td>\n",
       "      <td>C</td>\n",
       "      <td>100</td>\n",
       "      <td>3</td>\n",
       "      <td>0</td>\n",
       "      <td>320</td>\n",
       "      <td>1.0</td>\n",
       "      <td>20.0</td>\n",
       "      <td>3</td>\n",
       "      <td>45</td>\n",
       "      <td>100</td>\n",
       "      <td>3</td>\n",
       "      <td>1.00</td>\n",
       "      <td>1.00</td>\n",
       "      <td>41.503540</td>\n",
       "    </tr>\n",
       "    <tr>\n",
       "      <th>54</th>\n",
       "      <td>Puffed Rice</td>\n",
       "      <td>Q</td>\n",
       "      <td>C</td>\n",
       "      <td>50</td>\n",
       "      <td>1</td>\n",
       "      <td>0</td>\n",
       "      <td>0</td>\n",
       "      <td>0.0</td>\n",
       "      <td>13.0</td>\n",
       "      <td>0</td>\n",
       "      <td>15</td>\n",
       "      <td>0</td>\n",
       "      <td>3</td>\n",
       "      <td>0.50</td>\n",
       "      <td>1.00</td>\n",
       "      <td>60.756112</td>\n",
       "    </tr>\n",
       "    <tr>\n",
       "      <th>55</th>\n",
       "      <td>Puffed Wheat</td>\n",
       "      <td>Q</td>\n",
       "      <td>C</td>\n",
       "      <td>50</td>\n",
       "      <td>2</td>\n",
       "      <td>0</td>\n",
       "      <td>0</td>\n",
       "      <td>1.0</td>\n",
       "      <td>10.0</td>\n",
       "      <td>0</td>\n",
       "      <td>50</td>\n",
       "      <td>0</td>\n",
       "      <td>3</td>\n",
       "      <td>0.50</td>\n",
       "      <td>1.00</td>\n",
       "      <td>63.005645</td>\n",
       "    </tr>\n",
       "    <tr>\n",
       "      <th>56</th>\n",
       "      <td>Quaker Oat Squares</td>\n",
       "      <td>Q</td>\n",
       "      <td>C</td>\n",
       "      <td>100</td>\n",
       "      <td>4</td>\n",
       "      <td>1</td>\n",
       "      <td>135</td>\n",
       "      <td>2.0</td>\n",
       "      <td>14.0</td>\n",
       "      <td>6</td>\n",
       "      <td>110</td>\n",
       "      <td>25</td>\n",
       "      <td>3</td>\n",
       "      <td>1.00</td>\n",
       "      <td>0.50</td>\n",
       "      <td>49.511874</td>\n",
       "    </tr>\n",
       "    <tr>\n",
       "      <th>59</th>\n",
       "      <td>Raisin Nut Bran</td>\n",
       "      <td>G</td>\n",
       "      <td>C</td>\n",
       "      <td>100</td>\n",
       "      <td>3</td>\n",
       "      <td>2</td>\n",
       "      <td>140</td>\n",
       "      <td>2.5</td>\n",
       "      <td>10.5</td>\n",
       "      <td>8</td>\n",
       "      <td>140</td>\n",
       "      <td>25</td>\n",
       "      <td>3</td>\n",
       "      <td>1.00</td>\n",
       "      <td>0.50</td>\n",
       "      <td>39.703400</td>\n",
       "    </tr>\n",
       "    <tr>\n",
       "      <th>60</th>\n",
       "      <td>Raisin Squares</td>\n",
       "      <td>K</td>\n",
       "      <td>C</td>\n",
       "      <td>90</td>\n",
       "      <td>2</td>\n",
       "      <td>0</td>\n",
       "      <td>0</td>\n",
       "      <td>2.0</td>\n",
       "      <td>15.0</td>\n",
       "      <td>6</td>\n",
       "      <td>110</td>\n",
       "      <td>25</td>\n",
       "      <td>3</td>\n",
       "      <td>1.00</td>\n",
       "      <td>0.50</td>\n",
       "      <td>55.333142</td>\n",
       "    </tr>\n",
       "    <tr>\n",
       "      <th>69</th>\n",
       "      <td>Total Corn Flakes</td>\n",
       "      <td>G</td>\n",
       "      <td>C</td>\n",
       "      <td>110</td>\n",
       "      <td>2</td>\n",
       "      <td>1</td>\n",
       "      <td>200</td>\n",
       "      <td>0.0</td>\n",
       "      <td>21.0</td>\n",
       "      <td>3</td>\n",
       "      <td>35</td>\n",
       "      <td>100</td>\n",
       "      <td>3</td>\n",
       "      <td>1.00</td>\n",
       "      <td>1.00</td>\n",
       "      <td>38.839746</td>\n",
       "    </tr>\n",
       "    <tr>\n",
       "      <th>70</th>\n",
       "      <td>Total Raisin Bran</td>\n",
       "      <td>G</td>\n",
       "      <td>C</td>\n",
       "      <td>140</td>\n",
       "      <td>3</td>\n",
       "      <td>1</td>\n",
       "      <td>190</td>\n",
       "      <td>4.0</td>\n",
       "      <td>15.0</td>\n",
       "      <td>14</td>\n",
       "      <td>230</td>\n",
       "      <td>100</td>\n",
       "      <td>3</td>\n",
       "      <td>1.50</td>\n",
       "      <td>1.00</td>\n",
       "      <td>28.592785</td>\n",
       "    </tr>\n",
       "    <tr>\n",
       "      <th>71</th>\n",
       "      <td>Total Whole Grain</td>\n",
       "      <td>G</td>\n",
       "      <td>C</td>\n",
       "      <td>100</td>\n",
       "      <td>3</td>\n",
       "      <td>1</td>\n",
       "      <td>200</td>\n",
       "      <td>3.0</td>\n",
       "      <td>16.0</td>\n",
       "      <td>3</td>\n",
       "      <td>110</td>\n",
       "      <td>100</td>\n",
       "      <td>3</td>\n",
       "      <td>1.00</td>\n",
       "      <td>1.00</td>\n",
       "      <td>46.658844</td>\n",
       "    </tr>\n",
       "    <tr>\n",
       "      <th>72</th>\n",
       "      <td>Triples</td>\n",
       "      <td>G</td>\n",
       "      <td>C</td>\n",
       "      <td>110</td>\n",
       "      <td>2</td>\n",
       "      <td>1</td>\n",
       "      <td>250</td>\n",
       "      <td>0.0</td>\n",
       "      <td>21.0</td>\n",
       "      <td>3</td>\n",
       "      <td>60</td>\n",
       "      <td>25</td>\n",
       "      <td>3</td>\n",
       "      <td>1.00</td>\n",
       "      <td>0.75</td>\n",
       "      <td>39.106174</td>\n",
       "    </tr>\n",
       "  </tbody>\n",
       "</table>\n",
       "</div>"
      ],
      "text/plain": [
       "                                      name mfr type  calories  protein  fat  \\\n",
       "0                                100% Bran   N    C        70        4    1   \n",
       "1                        100% Natural Bran   Q    C       120        3    5   \n",
       "2                                 All-Bran   K    C        70        4    1   \n",
       "3                All-Bran with Extra Fiber   K    C        50        4    0   \n",
       "4                           Almond Delight   R    C       110        2    2   \n",
       "7                                  Basic 4   G    C       130        3    2   \n",
       "9                              Bran Flakes   P    C        90        3    0   \n",
       "13                                Clusters   G    C       110        3    2   \n",
       "19                      Cracklin' Oat Bran   K    C       110        3    3   \n",
       "21                                 Crispix   K    C       110        2    0   \n",
       "22                  Crispy Wheat & Raisins   G    C       100        2    1   \n",
       "23                             Double Chex   R    C       100        2    0   \n",
       "27  Fruit & Fibre Dates; Walnuts; and Oats   P    C       120        3    2   \n",
       "28                           Fruitful Bran   K    C       120        3    0   \n",
       "32                       Grape Nuts Flakes   P    C       100        3    1   \n",
       "33                              Grape-Nuts   P    C       110        3    0   \n",
       "34                      Great Grains Pecan   P    C       120        3    3   \n",
       "38             Just Right Crunchy  Nuggets   K    C       110        2    1   \n",
       "39                  Just Right Fruit & Nut   K    C       140        3    1   \n",
       "44        Muesli Raisins; Dates; & Almonds   R    C       150        4    3   \n",
       "45       Muesli Raisins; Peaches; & Pecans   R    C       150        4    3   \n",
       "46                    Mueslix Crispy Blend   K    C       160        3    2   \n",
       "49               Nutri-Grain Almond-Raisin   K    C       140        3    2   \n",
       "50                       Nutri-grain Wheat   K    C        90        3    0   \n",
       "51                    Oatmeal Raisin Crisp   G    C       130        3    2   \n",
       "52                   Post Nat. Raisin Bran   P    C       120        3    1   \n",
       "53                              Product 19   K    C       100        3    0   \n",
       "54                             Puffed Rice   Q    C        50        1    0   \n",
       "55                            Puffed Wheat   Q    C        50        2    0   \n",
       "56                      Quaker Oat Squares   Q    C       100        4    1   \n",
       "59                         Raisin Nut Bran   G    C       100        3    2   \n",
       "60                          Raisin Squares   K    C        90        2    0   \n",
       "69                       Total Corn Flakes   G    C       110        2    1   \n",
       "70                       Total Raisin Bran   G    C       140        3    1   \n",
       "71                       Total Whole Grain   G    C       100        3    1   \n",
       "72                                 Triples   G    C       110        2    1   \n",
       "\n",
       "    sodium  fiber  carbo  sugars  potass  vitamins  shelf  weight  cups  \\\n",
       "0      130   10.0    5.0       6     280        25      3    1.00  0.33   \n",
       "1       15    2.0    8.0       8     135         0      3    1.00  1.00   \n",
       "2      260    9.0    7.0       5     320        25      3    1.00  0.33   \n",
       "3      140   14.0    8.0       0     330        25      3    1.00  0.50   \n",
       "4      200    1.0   14.0       8      -1        25      3    1.00  0.75   \n",
       "7      210    2.0   18.0       8     100        25      3    1.33  0.75   \n",
       "9      210    5.0   13.0       5     190        25      3    1.00  0.67   \n",
       "13     140    2.0   13.0       7     105        25      3    1.00  0.50   \n",
       "19     140    4.0   10.0       7     160        25      3    1.00  0.50   \n",
       "21     220    1.0   21.0       3      30        25      3    1.00  1.00   \n",
       "22     140    2.0   11.0      10     120        25      3    1.00  0.75   \n",
       "23     190    1.0   18.0       5      80        25      3    1.00  0.75   \n",
       "27     160    5.0   12.0      10     200        25      3    1.25  0.67   \n",
       "28     240    5.0   14.0      12     190        25      3    1.33  0.67   \n",
       "32     140    3.0   15.0       5      85        25      3    1.00  0.88   \n",
       "33     170    3.0   17.0       3      90        25      3    1.00  0.25   \n",
       "34      75    3.0   13.0       4     100        25      3    1.00  0.33   \n",
       "38     170    1.0   17.0       6      60       100      3    1.00  1.00   \n",
       "39     170    2.0   20.0       9      95       100      3    1.30  0.75   \n",
       "44      95    3.0   16.0      11     170        25      3    1.00  1.00   \n",
       "45     150    3.0   16.0      11     170        25      3    1.00  1.00   \n",
       "46     150    3.0   17.0      13     160        25      3    1.50  0.67   \n",
       "49     220    3.0   21.0       7     130        25      3    1.33  0.67   \n",
       "50     170    3.0   18.0       2      90        25      3    1.00  1.00   \n",
       "51     170    1.5   13.5      10     120        25      3    1.25  0.50   \n",
       "52     200    6.0   11.0      14     260        25      3    1.33  0.67   \n",
       "53     320    1.0   20.0       3      45       100      3    1.00  1.00   \n",
       "54       0    0.0   13.0       0      15         0      3    0.50  1.00   \n",
       "55       0    1.0   10.0       0      50         0      3    0.50  1.00   \n",
       "56     135    2.0   14.0       6     110        25      3    1.00  0.50   \n",
       "59     140    2.5   10.5       8     140        25      3    1.00  0.50   \n",
       "60       0    2.0   15.0       6     110        25      3    1.00  0.50   \n",
       "69     200    0.0   21.0       3      35       100      3    1.00  1.00   \n",
       "70     190    4.0   15.0      14     230       100      3    1.50  1.00   \n",
       "71     200    3.0   16.0       3     110       100      3    1.00  1.00   \n",
       "72     250    0.0   21.0       3      60        25      3    1.00  0.75   \n",
       "\n",
       "       rating  \n",
       "0   68.402973  \n",
       "1   33.983679  \n",
       "2   59.425505  \n",
       "3   93.704912  \n",
       "4   34.384843  \n",
       "7   37.038562  \n",
       "9   53.313813  \n",
       "13  40.400208  \n",
       "19  40.448772  \n",
       "21  46.895644  \n",
       "22  36.176196  \n",
       "23  44.330856  \n",
       "27  40.917047  \n",
       "28  41.015492  \n",
       "32  52.076897  \n",
       "33  53.371007  \n",
       "34  45.811716  \n",
       "38  36.523683  \n",
       "39  36.471512  \n",
       "44  37.136863  \n",
       "45  34.139765  \n",
       "46  30.313351  \n",
       "49  40.692320  \n",
       "50  59.642837  \n",
       "51  30.450843  \n",
       "52  37.840594  \n",
       "53  41.503540  \n",
       "54  60.756112  \n",
       "55  63.005645  \n",
       "56  49.511874  \n",
       "59  39.703400  \n",
       "60  55.333142  \n",
       "69  38.839746  \n",
       "70  28.592785  \n",
       "71  46.658844  \n",
       "72  39.106174  "
      ]
     },
     "execution_count": 307,
     "metadata": {},
     "output_type": "execute_result"
    }
   ],
   "source": [
    "max_shelf = cereals['shelf'].max()\n",
    "filter = cereals['shelf'] == max_shelf\n",
    "cereals.loc[filter, :]"
   ]
  },
  {
   "cell_type": "markdown",
   "id": "04d69eca-b5b6-46c7-a929-6041cb2af865",
   "metadata": {},
   "source": [
    "### 8. Koľko je možné podávať za studena a koľko za tepla?"
   ]
  },
  {
   "cell_type": "code",
   "execution_count": 328,
   "id": "0024ee71-7ddc-4010-87bc-ba59e5a5283a",
   "metadata": {},
   "outputs": [
    {
     "data": {
      "text/plain": [
       "(74, 3)"
      ]
     },
     "execution_count": 328,
     "metadata": {},
     "output_type": "execute_result"
    }
   ],
   "source": [
    "cereals.loc[ cereals['type'] == 'C' ]['name'].count(), cereals.loc[ cereals['type'] == 'H' ]['name'].count()"
   ]
  },
  {
   "cell_type": "code",
   "execution_count": 332,
   "id": "17000310-906a-48f0-b35a-34b116b3632b",
   "metadata": {},
   "outputs": [
    {
     "data": {
      "text/plain": [
       "type\n",
       "C    74\n",
       "H     3\n",
       "Name: type, dtype: int64"
      ]
     },
     "execution_count": 332,
     "metadata": {},
     "output_type": "execute_result"
    }
   ],
   "source": [
    "cereals.groupby('type')['type'].count()"
   ]
  },
  {
   "cell_type": "code",
   "execution_count": 333,
   "id": "c1c25944-d41f-4959-9567-938666ca780c",
   "metadata": {},
   "outputs": [
    {
     "data": {
      "text/plain": [
       "C    74\n",
       "H     3\n",
       "Name: type, dtype: int64"
      ]
     },
     "execution_count": 333,
     "metadata": {},
     "output_type": "execute_result"
    }
   ],
   "source": [
    "cereals['type'].value_counts()"
   ]
  },
  {
   "cell_type": "markdown",
   "id": "9852cbe4-a85a-47ff-b68e-5cdda6166d19",
   "metadata": {},
   "source": [
    "### 9. Najväčšia kalorická bomba?"
   ]
  },
  {
   "cell_type": "code",
   "execution_count": 336,
   "id": "2ba38120-4a9c-4a66-b527-5192859fbbbd",
   "metadata": {},
   "outputs": [
    {
     "data": {
      "text/html": [
       "<div>\n",
       "<style scoped>\n",
       "    .dataframe tbody tr th:only-of-type {\n",
       "        vertical-align: middle;\n",
       "    }\n",
       "\n",
       "    .dataframe tbody tr th {\n",
       "        vertical-align: top;\n",
       "    }\n",
       "\n",
       "    .dataframe thead th {\n",
       "        text-align: right;\n",
       "    }\n",
       "</style>\n",
       "<table border=\"1\" class=\"dataframe\">\n",
       "  <thead>\n",
       "    <tr style=\"text-align: right;\">\n",
       "      <th></th>\n",
       "      <th>name</th>\n",
       "      <th>calories</th>\n",
       "    </tr>\n",
       "  </thead>\n",
       "  <tbody>\n",
       "    <tr>\n",
       "      <th>46</th>\n",
       "      <td>Mueslix Crispy Blend</td>\n",
       "      <td>160</td>\n",
       "    </tr>\n",
       "  </tbody>\n",
       "</table>\n",
       "</div>"
      ],
      "text/plain": [
       "                    name  calories\n",
       "46  Mueslix Crispy Blend       160"
      ]
     },
     "execution_count": 336,
     "metadata": {},
     "output_type": "execute_result"
    }
   ],
   "source": [
    "cereals.loc[ cereals['calories'] == cereals['calories'].max(), ['name', 'calories'] ]"
   ]
  },
  {
   "cell_type": "code",
   "execution_count": null,
   "id": "fc27a470-a9d2-42ae-ba78-668349538e6d",
   "metadata": {},
   "outputs": [],
   "source": []
  }
 ],
 "metadata": {
  "kernelspec": {
   "display_name": "Python 3 (ipykernel)",
   "language": "python",
   "name": "python3"
  },
  "language_info": {
   "codemirror_mode": {
    "name": "ipython",
    "version": 3
   },
   "file_extension": ".py",
   "mimetype": "text/x-python",
   "name": "python",
   "nbconvert_exporter": "python",
   "pygments_lexer": "ipython3",
   "version": "3.9.11"
  }
 },
 "nbformat": 4,
 "nbformat_minor": 5
}
