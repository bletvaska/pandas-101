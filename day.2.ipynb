{
 "cells": [
  {
   "cell_type": "markdown",
   "id": "2ebd8a4a-18c8-4b38-a172-689bd099457b",
   "metadata": {},
   "source": [
    "# Day 2: Get Ready for Pandas\n"
   ]
  },
  {
   "cell_type": "markdown",
   "id": "30f743cc-5fa5-497e-9aac-870f6b703c0e",
   "metadata": {
    "tags": []
   },
   "source": [
    "## Non-unique Elements\n",
    "\n",
    "You are given a non-empty list of integers (X). For this task, you should return a list consisting of only the non-unique elements in this list. To do so you will need to remove all unique elements (elements which are contained in a given list only once). When solving this task, do not change the order of the list. Example: [1, 2, 3, 1, 3] 1 and 3 non-unique elements and result will be [1, 3, 1, 3].\n",
    "\n",
    "### Input\n",
    "A list of integers.\n",
    "\n",
    "### Output\n",
    "The list of integers.\n",
    "\n",
    "### Example\n",
    "\n",
    "```python\n",
    "checkio([1, 2, 3, 1, 3]) == [1, 3, 1, 3]\n",
    "checkio([1, 2, 3, 4, 5]) == []\n",
    "checkio([5, 5, 5, 5, 5]) == [5, 5, 5, 5, 5]\n",
    "checkio([10, 9, 10, 10, 9, 8]) == [10, 9, 10, 10, 9]\n",
    "```\n",
    "\n",
    "### Precondition\n",
    "\n",
    "```python\n",
    "0 < len(data) < 1000\n",
    "```\n",
    "\n",
    "### Solution"
   ]
  },
  {
   "cell_type": "code",
   "execution_count": 9,
   "id": "7422dbfa-41a5-4a7e-b216-5d04fb97b8c1",
   "metadata": {},
   "outputs": [],
   "source": [
    "def non_unique(data: list):\n",
    "    result = []\n",
    "    \n",
    "    for number in data:\n",
    "        if data.count(number) > 1:\n",
    "            result.append(number)\n",
    "            \n",
    "    return result"
   ]
  },
  {
   "cell_type": "code",
   "execution_count": 11,
   "id": "eb3506b6-45d7-4409-816f-b409bd13147c",
   "metadata": {},
   "outputs": [
    {
     "data": {
      "text/plain": [
       "True"
      ]
     },
     "execution_count": 11,
     "metadata": {},
     "output_type": "execute_result"
    }
   ],
   "source": [
    "non_unique([1, 2, 3, 1, 3]) == [1, 3, 1, 3]"
   ]
  },
  {
   "cell_type": "code",
   "execution_count": 4,
   "id": "f32e5fd7-523b-489a-885f-35ef679f1de3",
   "metadata": {},
   "outputs": [
    {
     "data": {
      "text/plain": [
       "True"
      ]
     },
     "execution_count": 4,
     "metadata": {},
     "output_type": "execute_result"
    }
   ],
   "source": [
    "non_unique([1, 2, 3, 4, 5]) == []"
   ]
  },
  {
   "cell_type": "code",
   "execution_count": 5,
   "id": "e7f1e9b2-a1f3-4c01-ac78-325f21e477fa",
   "metadata": {},
   "outputs": [
    {
     "data": {
      "text/plain": [
       "True"
      ]
     },
     "execution_count": 5,
     "metadata": {},
     "output_type": "execute_result"
    }
   ],
   "source": [
    "non_unique([5, 5, 5, 5, 5]) == [5, 5, 5, 5, 5]"
   ]
  },
  {
   "cell_type": "code",
   "execution_count": 6,
   "id": "92b06392-ae5e-43a9-abcb-3ad9ece8f551",
   "metadata": {},
   "outputs": [
    {
     "data": {
      "text/plain": [
       "True"
      ]
     },
     "execution_count": 6,
     "metadata": {},
     "output_type": "execute_result"
    }
   ],
   "source": [
    "non_unique([10, 9, 10, 10, 9, 8]) == [10, 9, 10, 10, 9]"
   ]
  },
  {
   "cell_type": "markdown",
   "id": "a1002c81-cc44-46b0-b893-e046857b22db",
   "metadata": {
    "tags": []
   },
   "source": [
    "## Getting Started with Pandas"
   ]
  },
  {
   "cell_type": "code",
   "execution_count": 22,
   "id": "2b472175-46d2-41a3-a655-4aaba59ddf43",
   "metadata": {},
   "outputs": [
    {
     "data": {
      "text/plain": [
       "'1.4.2'"
      ]
     },
     "execution_count": 22,
     "metadata": {},
     "output_type": "execute_result"
    }
   ],
   "source": [
    "import pandas as pd\n",
    "pd.__version__"
   ]
  },
  {
   "cell_type": "markdown",
   "id": "83c573c2-13f7-4b49-b7cb-919b194cf8ff",
   "metadata": {},
   "source": [
    "## Loading the Dataset"
   ]
  },
  {
   "cell_type": "markdown",
   "id": "6ea8a4ff-4576-46a6-b91c-7a3ddfc06851",
   "metadata": {},
   "source": [
    "### Downloading CSV with `Requests`"
   ]
  },
  {
   "cell_type": "code",
   "execution_count": 24,
   "id": "f8af9264-e562-448c-816f-e6d3a6296053",
   "metadata": {},
   "outputs": [],
   "source": [
    "import requests\n",
    "\n",
    "url = 'https://bit.ly/396WyAZ'\n",
    "\n",
    "response = requests.get(url)"
   ]
  },
  {
   "cell_type": "code",
   "execution_count": 28,
   "id": "ac4c1cc7-d2ea-40e1-9702-9bbec0252648",
   "metadata": {},
   "outputs": [
    {
     "data": {
      "text/plain": [
       "\"name,mfr,type,calories,protein,fat,sodium,fiber,carbo,sugars,potass,vitamins,shelf,weight,cups,rating\\r\\n100% Bran,N,C,70,4,1,130,10,5,6,280,25,3,1,0.33,68.402973\\r\\n100% Natural Bran,Q,C,120,3,5,15,2,8,8,135,0,3,1,1,33.983679\\r\\nAll-Bran,K,C,70,4,1,260,9,7,5,320,25,3,1,0.33,59.425505\\r\\nAll-Bran with Extra Fiber,K,C,50,4,0,140,14,8,0,330,25,3,1,0.5,93.704912\\r\\nAlmond Delight,R,C,110,2,2,200,1,14,8,-1,25,3,1,0.75,34.384843\\r\\nApple Cinnamon Cheerios,G,C,110,2,2,180,1.5,10.5,10,70,25,1,1,0.75,29.509541\\r\\nApple Jacks,K,C,110,2,0,125,1,11,14,30,25,2,1,1,33.174094\\r\\nBasic 4,G,C,130,3,2,210,2,18,8,100,25,3,1.33,0.75,37.038562\\r\\nBran Chex,R,C,90,2,1,200,4,15,6,125,25,1,1,0.67,49.120253\\r\\nBran Flakes,P,C,90,3,0,210,5,13,5,190,25,3,1,0.67,53.313813\\r\\nCap'n'Crunch,Q,C,120,1,2,220,0,12,12,35,25,2,1,0.75,18.042851\\r\\nCheerios,G,C,110,6,2,290,2,17,1,105,25,1,1,1.25,50.764999\\r\\nCinnamon Toast Crunch,G,C,120,1,3,210,0,13,9,45,25,2,1,0.75,19.823573\\r\\nClusters,G,C,110,3,2,140,2,13,7,105,25,3,1,0.5,40.400208\\r\\nCocoa Puffs,G,C,110,1,1,180,0,12,13,55,25,2,1,1,22.736446\\r\\nCorn Chex,R,C,110,2,0,280,0,22,3,25,25,1,1,1,41.445019\\r\\nCorn Flakes,K,C,100,2,0,290,1,21,2,35,25,1,1,1,45.863324\\r\\nCorn Pops,K,C,110,1,0,90,1,13,12,20,25,2,1,1,35.782791\\r\\nCount Chocula,G,C,110,1,1,180,0,12,13,65,25,2,1,1,22.396513\\r\\nCracklin' Oat Bran,K,C,110,3,3,140,4,10,7,160,25,3,1,0.5,40.448772\\r\\nCream of Wheat (Quick),N,H,100,3,0,80,1,21,0,-1,0,2,1,1,64.533816\\r\\nCrispix,K,C,110,2,0,220,1,21,3,30,25,3,1,1,46.895644\\r\\nCrispy Wheat & Raisins,G,C,100,2,1,140,2,11,10,120,25,3,1,0.75,36.176196\\r\\nDouble Chex,R,C,100,2,0,190,1,18,5,80,25,3,1,0.75,44.330856\\r\\nFroot Loops,K,C,110,2,1,125,1,11,13,30,25,2,1,1,32.207582\\r\\nFrosted Flakes,K,C,110,1,0,200,1,14,11,25,25,1,1,0.75,31.435973\\r\\nFrosted Mini-Wheats,K,C,100,3,0,0,3,14,7,100,25,2,1,0.8,58.345141\\r\\nFruit & Fibre Dates; Walnuts; and Oats,P,C,120,3,2,160,5,12,10,200,25,3,1.25,0.67,40.917047\\r\\nFruitful Bran,K,C,120,3,0,240,5,14,12,190,25,3,1.33,0.67,41.015492\\r\\nFruity Pebbles,P,C,110,1,1,135,0,13,12,25,25,2,1,0.75,28.025765\\r\\nGolden Crisp,P,C,100,2,0,45,0,11,15,40,25,1,1,0.88,35.252444\\r\\nGolden Grahams,G,C,110,1,1,280,0,15,9,45,25,2,1,0.75,23.804043\\r\\nGrape Nuts Flakes,P,C,100,3,1,140,3,15,5,85,25,3,1,0.88,52.076897\\r\\nGrape-Nuts,P,C,110,3,0,170,3,17,3,90,25,3,1,0.25,53.371007\\r\\nGreat Grains Pecan,P,C,120,3,3,75,3,13,4,100,25,3,1,0.33,45.811716\\r\\nHoney Graham Ohs,Q,C,120,1,2,220,1,12,11,45,25,2,1,1,21.871292\\r\\nHoney Nut Cheerios,G,C,110,3,1,250,1.5,11.5,10,90,25,1,1,0.75,31.072217\\r\\nHoney-comb,P,C,110,1,0,180,0,14,11,35,25,1,1,1.33,28.742414\\r\\nJust Right Crunchy  Nuggets,K,C,110,2,1,170,1,17,6,60,100,3,1,1,36.523683\\r\\nJust Right Fruit & Nut,K,C,140,3,1,170,2,20,9,95,100,3,1.3,0.75,36.471512\\r\\nKix,G,C,110,2,1,260,0,21,3,40,25,2,1,1.5,39.241114\\r\\nLife,Q,C,100,4,2,150,2,12,6,95,25,2,1,0.67,45.328074\\r\\nLucky Charms,G,C,110,2,1,180,0,12,12,55,25,2,1,1,26.734515\\r\\nMaypo,A,H,100,4,1,0,0,16,3,95,25,2,1,1,54.850917\\r\\nMuesli Raisins; Dates; & Almonds,R,C,150,4,3,95,3,16,11,170,25,3,1,1,37.136863\\r\\nMuesli Raisins; Peaches; & Pecans,R,C,150,4,3,150,3,16,11,170,25,3,1,1,34.139765\\r\\nMueslix Crispy Blend,K,C,160,3,2,150,3,17,13,160,25,3,1.5,0.67,30.313351\\r\\nMulti-Grain Cheerios,G,C,100,2,1,220,2,15,6,90,25,1,1,1,40.105965\\r\\nNut&Honey Crunch,K,C,120,2,1,190,0,15,9,40,25,2,1,0.67,29.924285\\r\\nNutri-Grain Almond-Raisin,K,C,140,3,2,220,3,21,7,130,25,3,1.33,0.67,40.692320\\r\\nNutri-grain Wheat,K,C,90,3,0,170,3,18,2,90,25,3,1,1,59.642837\\r\\nOatmeal Raisin Crisp,G,C,130,3,2,170,1.5,13.5,10,120,25,3,1.25,0.5,30.450843\\r\\nPost Nat. Raisin Bran,P,C,120,3,1,200,6,11,14,260,25,3,1.33,0.67,37.840594\\r\\nProduct 19,K,C,100,3,0,320,1,20,3,45,100,3,1,1,41.503540\\r\\nPuffed Rice,Q,C,50,1,0,0,0,13,0,15,0,3,0.5,1,60.756112\\r\\nPuffed Wheat,Q,C,50,2,0,0,1,10,0,50,0,3,0.5,1,63.005645\\r\\nQuaker Oat Squares,Q,C,100,4,1,135,2,14,6,110,25,3,1,0.5,49.511874\\r\\nQuaker Oatmeal,Q,H,100,5,2,0,2.7,-1,-1,110,0,1,1,0.67,50.828392\\r\\nRaisin Bran,K,C,120,3,1,210,5,14,12,240,25,2,1.33,0.75,39.259197\\r\\nRaisin Nut Bran,G,C,100,3,2,140,2.5,10.5,8,140,25,3,1,0.5,39.703400\\r\\nRaisin Squares,K,C,90,2,0,0,2,15,6,110,25,3,1,0.5,55.333142\\r\\nRice Chex,R,C,110,1,0,240,0,23,2,30,25,1,1,1.13,41.998933\\r\\nRice Krispies,K,C,110,2,0,290,0,22,3,35,25,1,1,1,40.560159\\r\\nShredded Wheat,N,C,80,2,0,0,3,16,0,95,0,1,0.83,1,68.235885\\r\\nShredded Wheat 'n'Bran,N,C,90,3,0,0,4,19,0,140,0,1,1,0.67,74.472949\\r\\nShredded Wheat spoon size,N,C,90,3,0,0,3,20,0,120,0,1,1,0.67,72.801787\\r\\nSmacks,K,C,110,2,1,70,1,9,15,40,25,2,1,0.75,31.230054\\r\\nSpecial K,K,C,110,6,0,230,1,16,3,55,25,1,1,1,53.131324\\r\\nStrawberry Fruit Wheats,N,C,90,2,0,15,3,15,5,90,25,2,1,1,59.363993\\r\\nTotal Corn Flakes,G,C,110,2,1,200,0,21,3,35,100,3,1,1,38.839746\\r\\nTotal Raisin Bran,G,C,140,3,1,190,4,15,14,230,100,3,1.5,1,28.592785\\r\\nTotal Whole Grain,G,C,100,3,1,200,3,16,3,110,100,3,1,1,46.658844\\r\\nTriples,G,C,110,2,1,250,0,21,3,60,25,3,1,0.75,39.106174\\r\\nTrix,G,C,110,1,1,140,0,13,12,25,25,2,1,1,27.753301\\r\\nWheat Chex,R,C,100,3,1,230,3,17,3,115,25,1,1,0.67,49.787445\\r\\nWheaties,G,C,100,3,1,200,3,17,3,110,25,1,1,1,51.592193\\r\\nWheaties Honey Gold,G,C,110,2,1,200,1,16,8,60,25,1,1,0.75,36.187559\""
      ]
     },
     "execution_count": 28,
     "metadata": {},
     "output_type": "execute_result"
    }
   ],
   "source": [
    "response.status_code\n",
    "response.headers['Content-Type']\n",
    "response.text"
   ]
  },
  {
   "cell_type": "code",
   "execution_count": 37,
   "id": "f2dae130-186e-45ab-b54f-d668cb42e5b7",
   "metadata": {},
   "outputs": [
    {
     "data": {
      "text/plain": [
       "['name,mfr,type,calories,protein,fat,sodium,fiber,carbo,sugars,potass,vitamins,shelf,weight,cups,rating',\n",
       " '100% Bran,N,C,70,4,1,130,10,5,6,280,25,3,1,0.33,68.402973',\n",
       " '100% Natural Bran,Q,C,120,3,5,15,2,8,8,135,0,3,1,1,33.983679',\n",
       " 'All-Bran,K,C,70,4,1,260,9,7,5,320,25,3,1,0.33,59.425505',\n",
       " 'All-Bran with Extra Fiber,K,C,50,4,0,140,14,8,0,330,25,3,1,0.5,93.704912',\n",
       " 'Almond Delight,R,C,110,2,2,200,1,14,8,-1,25,3,1,0.75,34.384843',\n",
       " 'Apple Cinnamon Cheerios,G,C,110,2,2,180,1.5,10.5,10,70,25,1,1,0.75,29.509541',\n",
       " 'Apple Jacks,K,C,110,2,0,125,1,11,14,30,25,2,1,1,33.174094',\n",
       " 'Basic 4,G,C,130,3,2,210,2,18,8,100,25,3,1.33,0.75,37.038562',\n",
       " 'Bran Chex,R,C,90,2,1,200,4,15,6,125,25,1,1,0.67,49.120253',\n",
       " 'Bran Flakes,P,C,90,3,0,210,5,13,5,190,25,3,1,0.67,53.313813',\n",
       " \"Cap'n'Crunch,Q,C,120,1,2,220,0,12,12,35,25,2,1,0.75,18.042851\",\n",
       " 'Cheerios,G,C,110,6,2,290,2,17,1,105,25,1,1,1.25,50.764999',\n",
       " 'Cinnamon Toast Crunch,G,C,120,1,3,210,0,13,9,45,25,2,1,0.75,19.823573',\n",
       " 'Clusters,G,C,110,3,2,140,2,13,7,105,25,3,1,0.5,40.400208',\n",
       " 'Cocoa Puffs,G,C,110,1,1,180,0,12,13,55,25,2,1,1,22.736446',\n",
       " 'Corn Chex,R,C,110,2,0,280,0,22,3,25,25,1,1,1,41.445019',\n",
       " 'Corn Flakes,K,C,100,2,0,290,1,21,2,35,25,1,1,1,45.863324',\n",
       " 'Corn Pops,K,C,110,1,0,90,1,13,12,20,25,2,1,1,35.782791',\n",
       " 'Count Chocula,G,C,110,1,1,180,0,12,13,65,25,2,1,1,22.396513',\n",
       " \"Cracklin' Oat Bran,K,C,110,3,3,140,4,10,7,160,25,3,1,0.5,40.448772\",\n",
       " 'Cream of Wheat (Quick),N,H,100,3,0,80,1,21,0,-1,0,2,1,1,64.533816',\n",
       " 'Crispix,K,C,110,2,0,220,1,21,3,30,25,3,1,1,46.895644',\n",
       " 'Crispy Wheat & Raisins,G,C,100,2,1,140,2,11,10,120,25,3,1,0.75,36.176196',\n",
       " 'Double Chex,R,C,100,2,0,190,1,18,5,80,25,3,1,0.75,44.330856',\n",
       " 'Froot Loops,K,C,110,2,1,125,1,11,13,30,25,2,1,1,32.207582',\n",
       " 'Frosted Flakes,K,C,110,1,0,200,1,14,11,25,25,1,1,0.75,31.435973',\n",
       " 'Frosted Mini-Wheats,K,C,100,3,0,0,3,14,7,100,25,2,1,0.8,58.345141',\n",
       " 'Fruit & Fibre Dates; Walnuts; and Oats,P,C,120,3,2,160,5,12,10,200,25,3,1.25,0.67,40.917047',\n",
       " 'Fruitful Bran,K,C,120,3,0,240,5,14,12,190,25,3,1.33,0.67,41.015492',\n",
       " 'Fruity Pebbles,P,C,110,1,1,135,0,13,12,25,25,2,1,0.75,28.025765',\n",
       " 'Golden Crisp,P,C,100,2,0,45,0,11,15,40,25,1,1,0.88,35.252444',\n",
       " 'Golden Grahams,G,C,110,1,1,280,0,15,9,45,25,2,1,0.75,23.804043',\n",
       " 'Grape Nuts Flakes,P,C,100,3,1,140,3,15,5,85,25,3,1,0.88,52.076897',\n",
       " 'Grape-Nuts,P,C,110,3,0,170,3,17,3,90,25,3,1,0.25,53.371007',\n",
       " 'Great Grains Pecan,P,C,120,3,3,75,3,13,4,100,25,3,1,0.33,45.811716',\n",
       " 'Honey Graham Ohs,Q,C,120,1,2,220,1,12,11,45,25,2,1,1,21.871292',\n",
       " 'Honey Nut Cheerios,G,C,110,3,1,250,1.5,11.5,10,90,25,1,1,0.75,31.072217',\n",
       " 'Honey-comb,P,C,110,1,0,180,0,14,11,35,25,1,1,1.33,28.742414',\n",
       " 'Just Right Crunchy  Nuggets,K,C,110,2,1,170,1,17,6,60,100,3,1,1,36.523683',\n",
       " 'Just Right Fruit & Nut,K,C,140,3,1,170,2,20,9,95,100,3,1.3,0.75,36.471512',\n",
       " 'Kix,G,C,110,2,1,260,0,21,3,40,25,2,1,1.5,39.241114',\n",
       " 'Life,Q,C,100,4,2,150,2,12,6,95,25,2,1,0.67,45.328074',\n",
       " 'Lucky Charms,G,C,110,2,1,180,0,12,12,55,25,2,1,1,26.734515',\n",
       " 'Maypo,A,H,100,4,1,0,0,16,3,95,25,2,1,1,54.850917',\n",
       " 'Muesli Raisins; Dates; & Almonds,R,C,150,4,3,95,3,16,11,170,25,3,1,1,37.136863',\n",
       " 'Muesli Raisins; Peaches; & Pecans,R,C,150,4,3,150,3,16,11,170,25,3,1,1,34.139765',\n",
       " 'Mueslix Crispy Blend,K,C,160,3,2,150,3,17,13,160,25,3,1.5,0.67,30.313351',\n",
       " 'Multi-Grain Cheerios,G,C,100,2,1,220,2,15,6,90,25,1,1,1,40.105965',\n",
       " 'Nut&Honey Crunch,K,C,120,2,1,190,0,15,9,40,25,2,1,0.67,29.924285',\n",
       " 'Nutri-Grain Almond-Raisin,K,C,140,3,2,220,3,21,7,130,25,3,1.33,0.67,40.692320',\n",
       " 'Nutri-grain Wheat,K,C,90,3,0,170,3,18,2,90,25,3,1,1,59.642837',\n",
       " 'Oatmeal Raisin Crisp,G,C,130,3,2,170,1.5,13.5,10,120,25,3,1.25,0.5,30.450843',\n",
       " 'Post Nat. Raisin Bran,P,C,120,3,1,200,6,11,14,260,25,3,1.33,0.67,37.840594',\n",
       " 'Product 19,K,C,100,3,0,320,1,20,3,45,100,3,1,1,41.503540',\n",
       " 'Puffed Rice,Q,C,50,1,0,0,0,13,0,15,0,3,0.5,1,60.756112',\n",
       " 'Puffed Wheat,Q,C,50,2,0,0,1,10,0,50,0,3,0.5,1,63.005645',\n",
       " 'Quaker Oat Squares,Q,C,100,4,1,135,2,14,6,110,25,3,1,0.5,49.511874',\n",
       " 'Quaker Oatmeal,Q,H,100,5,2,0,2.7,-1,-1,110,0,1,1,0.67,50.828392',\n",
       " 'Raisin Bran,K,C,120,3,1,210,5,14,12,240,25,2,1.33,0.75,39.259197',\n",
       " 'Raisin Nut Bran,G,C,100,3,2,140,2.5,10.5,8,140,25,3,1,0.5,39.703400',\n",
       " 'Raisin Squares,K,C,90,2,0,0,2,15,6,110,25,3,1,0.5,55.333142',\n",
       " 'Rice Chex,R,C,110,1,0,240,0,23,2,30,25,1,1,1.13,41.998933',\n",
       " 'Rice Krispies,K,C,110,2,0,290,0,22,3,35,25,1,1,1,40.560159',\n",
       " 'Shredded Wheat,N,C,80,2,0,0,3,16,0,95,0,1,0.83,1,68.235885',\n",
       " \"Shredded Wheat 'n'Bran,N,C,90,3,0,0,4,19,0,140,0,1,1,0.67,74.472949\",\n",
       " 'Shredded Wheat spoon size,N,C,90,3,0,0,3,20,0,120,0,1,1,0.67,72.801787',\n",
       " 'Smacks,K,C,110,2,1,70,1,9,15,40,25,2,1,0.75,31.230054',\n",
       " 'Special K,K,C,110,6,0,230,1,16,3,55,25,1,1,1,53.131324',\n",
       " 'Strawberry Fruit Wheats,N,C,90,2,0,15,3,15,5,90,25,2,1,1,59.363993',\n",
       " 'Total Corn Flakes,G,C,110,2,1,200,0,21,3,35,100,3,1,1,38.839746',\n",
       " 'Total Raisin Bran,G,C,140,3,1,190,4,15,14,230,100,3,1.5,1,28.592785',\n",
       " 'Total Whole Grain,G,C,100,3,1,200,3,16,3,110,100,3,1,1,46.658844',\n",
       " 'Triples,G,C,110,2,1,250,0,21,3,60,25,3,1,0.75,39.106174',\n",
       " 'Trix,G,C,110,1,1,140,0,13,12,25,25,2,1,1,27.753301',\n",
       " 'Wheat Chex,R,C,100,3,1,230,3,17,3,115,25,1,1,0.67,49.787445',\n",
       " 'Wheaties,G,C,100,3,1,200,3,17,3,110,25,1,1,1,51.592193',\n",
       " 'Wheaties Honey Gold,G,C,110,2,1,200,1,16,8,60,25,1,1,0.75,36.187559']"
      ]
     },
     "execution_count": 37,
     "metadata": {},
     "output_type": "execute_result"
    }
   ],
   "source": [
    "import csv\n",
    "\n",
    "lines = response.text.split('\\r\\n')\n",
    "reader = csv.reader(lines)\n",
    "# list(reader)\n",
    "lines"
   ]
  },
  {
   "cell_type": "markdown",
   "id": "a408006b-9f76-4a66-8443-25ad53f5cb61",
   "metadata": {},
   "source": [
    "### Downloading Dataset with Pandas"
   ]
  },
  {
   "cell_type": "code",
   "execution_count": 45,
   "id": "4ba6c031-3684-4b81-8856-a03fc3921e58",
   "metadata": {},
   "outputs": [
    {
     "data": {
      "text/plain": [
       "pandas.core.frame.DataFrame"
      ]
     },
     "execution_count": 45,
     "metadata": {},
     "output_type": "execute_result"
    }
   ],
   "source": [
    "# download csv file from url\n",
    "url = 'https://bit.ly/396WyAZ'\n",
    "df = pd.read_csv(url)\n",
    "type(df)"
   ]
  },
  {
   "cell_type": "markdown",
   "id": "9be96e12-483d-4de0-8b7a-7f7fdf571c98",
   "metadata": {},
   "source": [
    "### Saving the Dataframe to File"
   ]
  },
  {
   "cell_type": "code",
   "execution_count": 46,
   "id": "928bebf2-0dfa-4d28-8cb7-8ad6a143f75f",
   "metadata": {},
   "outputs": [],
   "source": [
    "df.to_csv('data/cereals.csv')"
   ]
  },
  {
   "cell_type": "markdown",
   "id": "49e95584-9dcb-43b3-91ac-740d68ce8f36",
   "metadata": {},
   "source": [
    "### Reading Dataset from File"
   ]
  },
  {
   "cell_type": "code",
   "execution_count": null,
   "id": "35a474ac-6704-46fb-a7bd-846b9e453f4c",
   "metadata": {},
   "outputs": [],
   "source": []
  }
 ],
 "metadata": {
  "kernelspec": {
   "display_name": "Python 3 (ipykernel)",
   "language": "python",
   "name": "python3"
  },
  "language_info": {
   "codemirror_mode": {
    "name": "ipython",
    "version": 3
   },
   "file_extension": ".py",
   "mimetype": "text/x-python",
   "name": "python",
   "nbconvert_exporter": "python",
   "pygments_lexer": "ipython3",
   "version": "3.9.11"
  }
 },
 "nbformat": 4,
 "nbformat_minor": 5
}
