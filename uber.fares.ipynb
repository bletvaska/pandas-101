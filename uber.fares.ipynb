{
 "cells": [
  {
   "cell_type": "markdown",
   "id": "511ee926-7e39-4247-8f4a-c190e84600f3",
   "metadata": {},
   "source": [
    "# Uber Fares\n",
    "\n",
    "Dataset je úspešne ukradnutý z [Kaggle](https://www.kaggle.com/datasets/yasserh/uber-fares-dataset/data). Sťahovať ho môžete [odtiaľto](data/uber.csv).\n",
    "\n",
    "![obrazok](images/uber.jpg)"
   ]
  },
  {
   "cell_type": "markdown",
   "id": "2c70ea61-bdb9-4fd4-ac5e-b839c98471ec",
   "metadata": {},
   "source": [
    "## Načítanie datasetu"
   ]
  },
  {
   "cell_type": "code",
   "execution_count": 1,
   "id": "bc095207-9730-4e7f-b4f2-aedf98b53f52",
   "metadata": {},
   "outputs": [],
   "source": [
    "import pandas as pd\n",
    "\n",
    "df = pd.read_csv('data/uber.csv')"
   ]
  },
  {
   "cell_type": "markdown",
   "id": "cb468b69-34e5-4164-8e8e-02d85a888924",
   "metadata": {},
   "source": [
    "okrem načítania:\n",
    "* premenujeme niekoľko stĺpcov\n",
    "* pretypujeme stĺpce na menšie údajové typy\n",
    "* odstránime duplicitný stĺpec\n",
    "* odstránime riadky, ktoré nemajú hodnotu"
   ]
  },
  {
   "cell_type": "code",
   "execution_count": 2,
   "id": "0585e782-2c56-4448-82fc-f0de9f9a4fb0",
   "metadata": {},
   "outputs": [],
   "source": [
    "# cleanup a priprava"
   ]
  },
  {
   "cell_type": "markdown",
   "id": "d69aea98-a885-4be2-b4ba-ec39e586834a",
   "metadata": {},
   "source": [
    "## Prehľad"
   ]
  },
  {
   "cell_type": "code",
   "execution_count": 3,
   "id": "681a78c0-11ab-4f30-921d-6d46193539dc",
   "metadata": {},
   "outputs": [
    {
     "data": {
      "text/html": [
       "<div>\n",
       "<style scoped>\n",
       "    .dataframe tbody tr th:only-of-type {\n",
       "        vertical-align: middle;\n",
       "    }\n",
       "\n",
       "    .dataframe tbody tr th {\n",
       "        vertical-align: top;\n",
       "    }\n",
       "\n",
       "    .dataframe thead th {\n",
       "        text-align: right;\n",
       "    }\n",
       "</style>\n",
       "<table border=\"1\" class=\"dataframe\">\n",
       "  <thead>\n",
       "    <tr style=\"text-align: right;\">\n",
       "      <th></th>\n",
       "      <th>Unnamed: 0</th>\n",
       "      <th>key</th>\n",
       "      <th>fare_amount</th>\n",
       "      <th>pickup_datetime</th>\n",
       "      <th>pickup_longitude</th>\n",
       "      <th>pickup_latitude</th>\n",
       "      <th>dropoff_longitude</th>\n",
       "      <th>dropoff_latitude</th>\n",
       "      <th>passenger_count</th>\n",
       "    </tr>\n",
       "  </thead>\n",
       "  <tbody>\n",
       "    <tr>\n",
       "      <th>0</th>\n",
       "      <td>24238194</td>\n",
       "      <td>2015-05-07 19:52:06.0000003</td>\n",
       "      <td>7.5</td>\n",
       "      <td>2015-05-07 19:52:06 UTC</td>\n",
       "      <td>-73.999817</td>\n",
       "      <td>40.738354</td>\n",
       "      <td>-73.999512</td>\n",
       "      <td>40.723217</td>\n",
       "      <td>1</td>\n",
       "    </tr>\n",
       "    <tr>\n",
       "      <th>1</th>\n",
       "      <td>27835199</td>\n",
       "      <td>2009-07-17 20:04:56.0000002</td>\n",
       "      <td>7.7</td>\n",
       "      <td>2009-07-17 20:04:56 UTC</td>\n",
       "      <td>-73.994355</td>\n",
       "      <td>40.728225</td>\n",
       "      <td>-73.994710</td>\n",
       "      <td>40.750325</td>\n",
       "      <td>1</td>\n",
       "    </tr>\n",
       "    <tr>\n",
       "      <th>2</th>\n",
       "      <td>44984355</td>\n",
       "      <td>2009-08-24 21:45:00.00000061</td>\n",
       "      <td>12.9</td>\n",
       "      <td>2009-08-24 21:45:00 UTC</td>\n",
       "      <td>-74.005043</td>\n",
       "      <td>40.740770</td>\n",
       "      <td>-73.962565</td>\n",
       "      <td>40.772647</td>\n",
       "      <td>1</td>\n",
       "    </tr>\n",
       "    <tr>\n",
       "      <th>3</th>\n",
       "      <td>25894730</td>\n",
       "      <td>2009-06-26 08:22:21.0000001</td>\n",
       "      <td>5.3</td>\n",
       "      <td>2009-06-26 08:22:21 UTC</td>\n",
       "      <td>-73.976124</td>\n",
       "      <td>40.790844</td>\n",
       "      <td>-73.965316</td>\n",
       "      <td>40.803349</td>\n",
       "      <td>3</td>\n",
       "    </tr>\n",
       "    <tr>\n",
       "      <th>4</th>\n",
       "      <td>17610152</td>\n",
       "      <td>2014-08-28 17:47:00.000000188</td>\n",
       "      <td>16.0</td>\n",
       "      <td>2014-08-28 17:47:00 UTC</td>\n",
       "      <td>-73.925023</td>\n",
       "      <td>40.744085</td>\n",
       "      <td>-73.973082</td>\n",
       "      <td>40.761247</td>\n",
       "      <td>5</td>\n",
       "    </tr>\n",
       "    <tr>\n",
       "      <th>...</th>\n",
       "      <td>...</td>\n",
       "      <td>...</td>\n",
       "      <td>...</td>\n",
       "      <td>...</td>\n",
       "      <td>...</td>\n",
       "      <td>...</td>\n",
       "      <td>...</td>\n",
       "      <td>...</td>\n",
       "      <td>...</td>\n",
       "    </tr>\n",
       "    <tr>\n",
       "      <th>199995</th>\n",
       "      <td>42598914</td>\n",
       "      <td>2012-10-28 10:49:00.00000053</td>\n",
       "      <td>3.0</td>\n",
       "      <td>2012-10-28 10:49:00 UTC</td>\n",
       "      <td>-73.987042</td>\n",
       "      <td>40.739367</td>\n",
       "      <td>-73.986525</td>\n",
       "      <td>40.740297</td>\n",
       "      <td>1</td>\n",
       "    </tr>\n",
       "    <tr>\n",
       "      <th>199996</th>\n",
       "      <td>16382965</td>\n",
       "      <td>2014-03-14 01:09:00.0000008</td>\n",
       "      <td>7.5</td>\n",
       "      <td>2014-03-14 01:09:00 UTC</td>\n",
       "      <td>-73.984722</td>\n",
       "      <td>40.736837</td>\n",
       "      <td>-74.006672</td>\n",
       "      <td>40.739620</td>\n",
       "      <td>1</td>\n",
       "    </tr>\n",
       "    <tr>\n",
       "      <th>199997</th>\n",
       "      <td>27804658</td>\n",
       "      <td>2009-06-29 00:42:00.00000078</td>\n",
       "      <td>30.9</td>\n",
       "      <td>2009-06-29 00:42:00 UTC</td>\n",
       "      <td>-73.986017</td>\n",
       "      <td>40.756487</td>\n",
       "      <td>-73.858957</td>\n",
       "      <td>40.692588</td>\n",
       "      <td>2</td>\n",
       "    </tr>\n",
       "    <tr>\n",
       "      <th>199998</th>\n",
       "      <td>20259894</td>\n",
       "      <td>2015-05-20 14:56:25.0000004</td>\n",
       "      <td>14.5</td>\n",
       "      <td>2015-05-20 14:56:25 UTC</td>\n",
       "      <td>-73.997124</td>\n",
       "      <td>40.725452</td>\n",
       "      <td>-73.983215</td>\n",
       "      <td>40.695415</td>\n",
       "      <td>1</td>\n",
       "    </tr>\n",
       "    <tr>\n",
       "      <th>199999</th>\n",
       "      <td>11951496</td>\n",
       "      <td>2010-05-15 04:08:00.00000076</td>\n",
       "      <td>14.1</td>\n",
       "      <td>2010-05-15 04:08:00 UTC</td>\n",
       "      <td>-73.984395</td>\n",
       "      <td>40.720077</td>\n",
       "      <td>-73.985508</td>\n",
       "      <td>40.768793</td>\n",
       "      <td>1</td>\n",
       "    </tr>\n",
       "  </tbody>\n",
       "</table>\n",
       "<p>200000 rows × 9 columns</p>\n",
       "</div>"
      ],
      "text/plain": [
       "        Unnamed: 0                            key  fare_amount  \\\n",
       "0         24238194    2015-05-07 19:52:06.0000003          7.5   \n",
       "1         27835199    2009-07-17 20:04:56.0000002          7.7   \n",
       "2         44984355   2009-08-24 21:45:00.00000061         12.9   \n",
       "3         25894730    2009-06-26 08:22:21.0000001          5.3   \n",
       "4         17610152  2014-08-28 17:47:00.000000188         16.0   \n",
       "...            ...                            ...          ...   \n",
       "199995    42598914   2012-10-28 10:49:00.00000053          3.0   \n",
       "199996    16382965    2014-03-14 01:09:00.0000008          7.5   \n",
       "199997    27804658   2009-06-29 00:42:00.00000078         30.9   \n",
       "199998    20259894    2015-05-20 14:56:25.0000004         14.5   \n",
       "199999    11951496   2010-05-15 04:08:00.00000076         14.1   \n",
       "\n",
       "                pickup_datetime  pickup_longitude  pickup_latitude  \\\n",
       "0       2015-05-07 19:52:06 UTC        -73.999817        40.738354   \n",
       "1       2009-07-17 20:04:56 UTC        -73.994355        40.728225   \n",
       "2       2009-08-24 21:45:00 UTC        -74.005043        40.740770   \n",
       "3       2009-06-26 08:22:21 UTC        -73.976124        40.790844   \n",
       "4       2014-08-28 17:47:00 UTC        -73.925023        40.744085   \n",
       "...                         ...               ...              ...   \n",
       "199995  2012-10-28 10:49:00 UTC        -73.987042        40.739367   \n",
       "199996  2014-03-14 01:09:00 UTC        -73.984722        40.736837   \n",
       "199997  2009-06-29 00:42:00 UTC        -73.986017        40.756487   \n",
       "199998  2015-05-20 14:56:25 UTC        -73.997124        40.725452   \n",
       "199999  2010-05-15 04:08:00 UTC        -73.984395        40.720077   \n",
       "\n",
       "        dropoff_longitude  dropoff_latitude  passenger_count  \n",
       "0              -73.999512         40.723217                1  \n",
       "1              -73.994710         40.750325                1  \n",
       "2              -73.962565         40.772647                1  \n",
       "3              -73.965316         40.803349                3  \n",
       "4              -73.973082         40.761247                5  \n",
       "...                   ...               ...              ...  \n",
       "199995         -73.986525         40.740297                1  \n",
       "199996         -74.006672         40.739620                1  \n",
       "199997         -73.858957         40.692588                2  \n",
       "199998         -73.983215         40.695415                1  \n",
       "199999         -73.985508         40.768793                1  \n",
       "\n",
       "[200000 rows x 9 columns]"
      ]
     },
     "execution_count": 3,
     "metadata": {},
     "output_type": "execute_result"
    }
   ],
   "source": [
    "# pohlad na vlastnosti datasetu\n",
    "df"
   ]
  },
  {
   "cell_type": "markdown",
   "id": "b6dcb779-0d4b-4804-9ab8-d7358a5c45a7",
   "metadata": {},
   "source": [
    "## Otázky"
   ]
  },
  {
   "cell_type": "markdown",
   "id": "697fdec8-c32d-462f-b363-4caae6c6c12a",
   "metadata": {},
   "source": [
    "1. Koľko peňazí sme zarobili za dané obdobie?"
   ]
  },
  {
   "cell_type": "code",
   "execution_count": 4,
   "id": "92c1650b-7e90-483a-a195-d56815f790b4",
   "metadata": {},
   "outputs": [],
   "source": [
    "# tak kolko?"
   ]
  },
  {
   "cell_type": "markdown",
   "id": "e946615c-f4ad-4f67-ab7f-a4c326754070",
   "metadata": {},
   "source": [
    "2. Koľko peňazí sme zarobili za jednotlivé roky?\n",
    "   Poznámka: tu môžete nakresliť aj pekný obrázok"
   ]
  },
  {
   "cell_type": "code",
   "execution_count": 5,
   "id": "c86a791a-5c60-4a80-96cc-d663166daeea",
   "metadata": {},
   "outputs": [],
   "source": [
    "# tak kolko?"
   ]
  },
  {
   "cell_type": "markdown",
   "id": "a59af5e3-32cb-4d53-9c9f-628cfea9f276",
   "metadata": {},
   "source": [
    "3. V ktorom mesiaci v roku 2013 bolo najviac jázd?"
   ]
  },
  {
   "cell_type": "code",
   "execution_count": 6,
   "id": "0e06b927-d2de-4ab2-a383-aa64d6291846",
   "metadata": {},
   "outputs": [],
   "source": [
    "# tak v ktorom?"
   ]
  },
  {
   "cell_type": "markdown",
   "id": "f0363555-bc49-4dad-9c8c-52c1208449e6",
   "metadata": {},
   "source": [
    "4. V ktorom mesiaci v roku 2014 bolo najviac jázd?"
   ]
  },
  {
   "cell_type": "code",
   "execution_count": 7,
   "id": "e0babeeb-8633-4e20-8a5c-7280e15cb058",
   "metadata": {},
   "outputs": [],
   "source": [
    "# tak v ktorom?"
   ]
  },
  {
   "cell_type": "markdown",
   "id": "5dec2ed4-805e-4822-9ad6-c066d0dd4f67",
   "metadata": {},
   "source": [
    "5. V ktorý deň za uvedené obdobie bolo prevezných najviac pasažierov?"
   ]
  },
  {
   "cell_type": "code",
   "execution_count": 8,
   "id": "48b09eed-53e1-42fd-8c43-4e03c7178204",
   "metadata": {},
   "outputs": [],
   "source": [
    "# tak v ktorý?"
   ]
  }
 ],
 "metadata": {
  "kernelspec": {
   "display_name": "Python 3 (ipykernel)",
   "language": "python",
   "name": "python3"
  },
  "language_info": {
   "codemirror_mode": {
    "name": "ipython",
    "version": 3
   },
   "file_extension": ".py",
   "mimetype": "text/x-python",
   "name": "python",
   "nbconvert_exporter": "python",
   "pygments_lexer": "ipython3",
   "version": "3.10.12"
  }
 },
 "nbformat": 4,
 "nbformat_minor": 5
}
