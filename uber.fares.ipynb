{
 "cells": [
  {
   "cell_type": "markdown",
   "id": "511ee926-7e39-4247-8f4a-c190e84600f3",
   "metadata": {},
   "source": [
    "# Uber Fares\n",
    "\n",
    "dataset ukradnuty z [Kaggle](https://www.kaggle.com/datasets/yasserh/uber-fares-dataset/data)\n",
    "\n",
    "![obrazok](https://www.ft.com/__origami/service/image/v2/images/raw/https%3A%2F%2Fd1e00ek4ebabms.cloudfront.net%2Fproduction%2F72721ab5-fb03-40f9-bfa6-332d5c02e2c7.jpg?source=next-article&fit=scale-down&quality=highest&width=700&dpr=1)"
   ]
  },
  {
   "cell_type": "markdown",
   "id": "2c70ea61-bdb9-4fd4-ac5e-b839c98471ec",
   "metadata": {},
   "source": [
    "## Načítanie datasetu"
   ]
  },
  {
   "cell_type": "code",
   "execution_count": 1,
   "id": "bc095207-9730-4e7f-b4f2-aedf98b53f52",
   "metadata": {},
   "outputs": [],
   "source": [
    "import pandas as pd\n",
    "\n",
    "df = pd.read_csv('data/uber.csv', index_col=0, parse_dates=['pickup_datetime'])"
   ]
  },
  {
   "cell_type": "markdown",
   "id": "cb468b69-34e5-4164-8e8e-02d85a888924",
   "metadata": {},
   "source": [
    "okrem načítania:\n",
    "* premenujeme niekoľko stĺpcov\n",
    "* pretypujeme stĺpce na menšie údajové typy\n",
    "* odstránime duplicitný stĺpec\n",
    "* odstránime riadky, ktoré nemajú hodnotu"
   ]
  },
  {
   "cell_type": "code",
   "execution_count": 2,
   "id": "0585e782-2c56-4448-82fc-f0de9f9a4fb0",
   "metadata": {},
   "outputs": [],
   "source": [
    "df.rename(\n",
    "    columns={\n",
    "#        'key': 'start',\n",
    "        'passenger_count': 'passengers',\n",
    "        'pickup_datetime': 'pickup'\n",
    "    },\n",
    "    inplace=True\n",
    ")\n",
    "df['passengers'] = df['passengers'].astype('int16')\n",
    "df['fare_amount'] = df['fare_amount'].astype('float32')\n",
    "\n",
    "df['pickup_longitude'] = df['pickup_longitude'].astype('float32')\n",
    "df['pickup_latitude'] = df['pickup_latitude'].astype('float32')\n",
    "df['dropoff_longitude'] = df['dropoff_longitude'].astype('float32')\n",
    "df['dropoff_latitude'] = df['dropoff_latitude'].astype('float32')\n",
    "\n",
    "df.drop(columns=['key'], inplace=True)\n",
    "df.dropna(inplace=True)"
   ]
  },
  {
   "cell_type": "markdown",
   "id": "d69aea98-a885-4be2-b4ba-ec39e586834a",
   "metadata": {},
   "source": [
    "## Prehľad"
   ]
  },
  {
   "cell_type": "code",
   "execution_count": 3,
   "id": "681a78c0-11ab-4f30-921d-6d46193539dc",
   "metadata": {},
   "outputs": [
    {
     "data": {
      "text/html": [
       "<div>\n",
       "<style scoped>\n",
       "    .dataframe tbody tr th:only-of-type {\n",
       "        vertical-align: middle;\n",
       "    }\n",
       "\n",
       "    .dataframe tbody tr th {\n",
       "        vertical-align: top;\n",
       "    }\n",
       "\n",
       "    .dataframe thead th {\n",
       "        text-align: right;\n",
       "    }\n",
       "</style>\n",
       "<table border=\"1\" class=\"dataframe\">\n",
       "  <thead>\n",
       "    <tr style=\"text-align: right;\">\n",
       "      <th></th>\n",
       "      <th>fare_amount</th>\n",
       "      <th>pickup_longitude</th>\n",
       "      <th>pickup_latitude</th>\n",
       "      <th>dropoff_longitude</th>\n",
       "      <th>dropoff_latitude</th>\n",
       "      <th>passengers</th>\n",
       "    </tr>\n",
       "  </thead>\n",
       "  <tbody>\n",
       "    <tr>\n",
       "      <th>count</th>\n",
       "      <td>199999.000000</td>\n",
       "      <td>199999.000000</td>\n",
       "      <td>199999.000000</td>\n",
       "      <td>199999.000000</td>\n",
       "      <td>199999.000000</td>\n",
       "      <td>199999.000000</td>\n",
       "    </tr>\n",
       "    <tr>\n",
       "      <th>mean</th>\n",
       "      <td>11.359891</td>\n",
       "      <td>-72.527626</td>\n",
       "      <td>39.935883</td>\n",
       "      <td>-72.525284</td>\n",
       "      <td>39.923885</td>\n",
       "      <td>1.684543</td>\n",
       "    </tr>\n",
       "    <tr>\n",
       "      <th>std</th>\n",
       "      <td>9.901760</td>\n",
       "      <td>11.437816</td>\n",
       "      <td>7.720559</td>\n",
       "      <td>13.117408</td>\n",
       "      <td>6.794829</td>\n",
       "      <td>1.385995</td>\n",
       "    </tr>\n",
       "    <tr>\n",
       "      <th>min</th>\n",
       "      <td>-52.000000</td>\n",
       "      <td>-1340.648438</td>\n",
       "      <td>-74.015518</td>\n",
       "      <td>-3356.666260</td>\n",
       "      <td>-881.985535</td>\n",
       "      <td>0.000000</td>\n",
       "    </tr>\n",
       "    <tr>\n",
       "      <th>25%</th>\n",
       "      <td>6.000000</td>\n",
       "      <td>-73.992065</td>\n",
       "      <td>40.734795</td>\n",
       "      <td>-73.991409</td>\n",
       "      <td>40.733824</td>\n",
       "      <td>1.000000</td>\n",
       "    </tr>\n",
       "    <tr>\n",
       "      <th>50%</th>\n",
       "      <td>8.500000</td>\n",
       "      <td>-73.981827</td>\n",
       "      <td>40.752590</td>\n",
       "      <td>-73.980095</td>\n",
       "      <td>40.753040</td>\n",
       "      <td>1.000000</td>\n",
       "    </tr>\n",
       "    <tr>\n",
       "      <th>75%</th>\n",
       "      <td>12.500000</td>\n",
       "      <td>-73.967155</td>\n",
       "      <td>40.767159</td>\n",
       "      <td>-73.963661</td>\n",
       "      <td>40.768002</td>\n",
       "      <td>2.000000</td>\n",
       "    </tr>\n",
       "    <tr>\n",
       "      <th>max</th>\n",
       "      <td>499.000000</td>\n",
       "      <td>57.418457</td>\n",
       "      <td>1644.421509</td>\n",
       "      <td>1153.572632</td>\n",
       "      <td>872.697632</td>\n",
       "      <td>208.000000</td>\n",
       "    </tr>\n",
       "  </tbody>\n",
       "</table>\n",
       "</div>"
      ],
      "text/plain": [
       "         fare_amount  pickup_longitude  pickup_latitude  dropoff_longitude  \\\n",
       "count  199999.000000     199999.000000    199999.000000      199999.000000   \n",
       "mean       11.359891        -72.527626        39.935883         -72.525284   \n",
       "std         9.901760         11.437816         7.720559          13.117408   \n",
       "min       -52.000000      -1340.648438       -74.015518       -3356.666260   \n",
       "25%         6.000000        -73.992065        40.734795         -73.991409   \n",
       "50%         8.500000        -73.981827        40.752590         -73.980095   \n",
       "75%        12.500000        -73.967155        40.767159         -73.963661   \n",
       "max       499.000000         57.418457      1644.421509        1153.572632   \n",
       "\n",
       "       dropoff_latitude     passengers  \n",
       "count     199999.000000  199999.000000  \n",
       "mean          39.923885       1.684543  \n",
       "std            6.794829       1.385995  \n",
       "min         -881.985535       0.000000  \n",
       "25%           40.733824       1.000000  \n",
       "50%           40.753040       1.000000  \n",
       "75%           40.768002       2.000000  \n",
       "max          872.697632     208.000000  "
      ]
     },
     "execution_count": 3,
     "metadata": {},
     "output_type": "execute_result"
    }
   ],
   "source": [
    "df.describe()"
   ]
  },
  {
   "cell_type": "code",
   "execution_count": 4,
   "id": "980017fa-cc19-4b7c-98cc-779cd7c307d2",
   "metadata": {},
   "outputs": [
    {
     "name": "stdout",
     "output_type": "stream",
     "text": [
      "<class 'pandas.core.frame.DataFrame'>\n",
      "Index: 199999 entries, 24238194 to 11951496\n",
      "Data columns (total 7 columns):\n",
      " #   Column             Non-Null Count   Dtype              \n",
      "---  ------             --------------   -----              \n",
      " 0   fare_amount        199999 non-null  float32            \n",
      " 1   pickup             199999 non-null  datetime64[ns, UTC]\n",
      " 2   pickup_longitude   199999 non-null  float32            \n",
      " 3   pickup_latitude    199999 non-null  float32            \n",
      " 4   dropoff_longitude  199999 non-null  float32            \n",
      " 5   dropoff_latitude   199999 non-null  float32            \n",
      " 6   passengers         199999 non-null  int16              \n",
      "dtypes: datetime64[ns, UTC](1), float32(5), int16(1)\n",
      "memory usage: 7.2 MB\n"
     ]
    }
   ],
   "source": [
    "df.info()"
   ]
  },
  {
   "cell_type": "code",
   "execution_count": 5,
   "id": "7c8205ac-9e3e-4a31-8f38-dd8431670e55",
   "metadata": {},
   "outputs": [
    {
     "data": {
      "text/html": [
       "<div>\n",
       "<style scoped>\n",
       "    .dataframe tbody tr th:only-of-type {\n",
       "        vertical-align: middle;\n",
       "    }\n",
       "\n",
       "    .dataframe tbody tr th {\n",
       "        vertical-align: top;\n",
       "    }\n",
       "\n",
       "    .dataframe thead th {\n",
       "        text-align: right;\n",
       "    }\n",
       "</style>\n",
       "<table border=\"1\" class=\"dataframe\">\n",
       "  <thead>\n",
       "    <tr style=\"text-align: right;\">\n",
       "      <th></th>\n",
       "      <th>fare_amount</th>\n",
       "      <th>pickup</th>\n",
       "      <th>pickup_longitude</th>\n",
       "      <th>pickup_latitude</th>\n",
       "      <th>dropoff_longitude</th>\n",
       "      <th>dropoff_latitude</th>\n",
       "      <th>passengers</th>\n",
       "    </tr>\n",
       "  </thead>\n",
       "  <tbody>\n",
       "    <tr>\n",
       "      <th>24238194</th>\n",
       "      <td>7.5</td>\n",
       "      <td>2015-05-07 19:52:06+00:00</td>\n",
       "      <td>-73.999817</td>\n",
       "      <td>40.738354</td>\n",
       "      <td>-73.999512</td>\n",
       "      <td>40.723217</td>\n",
       "      <td>1</td>\n",
       "    </tr>\n",
       "    <tr>\n",
       "      <th>27835199</th>\n",
       "      <td>7.7</td>\n",
       "      <td>2009-07-17 20:04:56+00:00</td>\n",
       "      <td>-73.994354</td>\n",
       "      <td>40.728226</td>\n",
       "      <td>-73.994713</td>\n",
       "      <td>40.750324</td>\n",
       "      <td>1</td>\n",
       "    </tr>\n",
       "    <tr>\n",
       "      <th>44984355</th>\n",
       "      <td>12.9</td>\n",
       "      <td>2009-08-24 21:45:00+00:00</td>\n",
       "      <td>-74.005043</td>\n",
       "      <td>40.740768</td>\n",
       "      <td>-73.962563</td>\n",
       "      <td>40.772648</td>\n",
       "      <td>1</td>\n",
       "    </tr>\n",
       "    <tr>\n",
       "      <th>25894730</th>\n",
       "      <td>5.3</td>\n",
       "      <td>2009-06-26 08:22:21+00:00</td>\n",
       "      <td>-73.976128</td>\n",
       "      <td>40.790844</td>\n",
       "      <td>-73.965317</td>\n",
       "      <td>40.803349</td>\n",
       "      <td>3</td>\n",
       "    </tr>\n",
       "    <tr>\n",
       "      <th>17610152</th>\n",
       "      <td>16.0</td>\n",
       "      <td>2014-08-28 17:47:00+00:00</td>\n",
       "      <td>-73.925026</td>\n",
       "      <td>40.744083</td>\n",
       "      <td>-73.973083</td>\n",
       "      <td>40.761246</td>\n",
       "      <td>5</td>\n",
       "    </tr>\n",
       "    <tr>\n",
       "      <th>...</th>\n",
       "      <td>...</td>\n",
       "      <td>...</td>\n",
       "      <td>...</td>\n",
       "      <td>...</td>\n",
       "      <td>...</td>\n",
       "      <td>...</td>\n",
       "      <td>...</td>\n",
       "    </tr>\n",
       "    <tr>\n",
       "      <th>42598914</th>\n",
       "      <td>3.0</td>\n",
       "      <td>2012-10-28 10:49:00+00:00</td>\n",
       "      <td>-73.987045</td>\n",
       "      <td>40.739368</td>\n",
       "      <td>-73.986526</td>\n",
       "      <td>40.740295</td>\n",
       "      <td>1</td>\n",
       "    </tr>\n",
       "    <tr>\n",
       "      <th>16382965</th>\n",
       "      <td>7.5</td>\n",
       "      <td>2014-03-14 01:09:00+00:00</td>\n",
       "      <td>-73.984718</td>\n",
       "      <td>40.736835</td>\n",
       "      <td>-74.006676</td>\n",
       "      <td>40.739620</td>\n",
       "      <td>1</td>\n",
       "    </tr>\n",
       "    <tr>\n",
       "      <th>27804658</th>\n",
       "      <td>30.9</td>\n",
       "      <td>2009-06-29 00:42:00+00:00</td>\n",
       "      <td>-73.986015</td>\n",
       "      <td>40.756489</td>\n",
       "      <td>-73.858955</td>\n",
       "      <td>40.692589</td>\n",
       "      <td>2</td>\n",
       "    </tr>\n",
       "    <tr>\n",
       "      <th>20259894</th>\n",
       "      <td>14.5</td>\n",
       "      <td>2015-05-20 14:56:25+00:00</td>\n",
       "      <td>-73.997124</td>\n",
       "      <td>40.725452</td>\n",
       "      <td>-73.983215</td>\n",
       "      <td>40.695415</td>\n",
       "      <td>1</td>\n",
       "    </tr>\n",
       "    <tr>\n",
       "      <th>11951496</th>\n",
       "      <td>14.1</td>\n",
       "      <td>2010-05-15 04:08:00+00:00</td>\n",
       "      <td>-73.984398</td>\n",
       "      <td>40.720078</td>\n",
       "      <td>-73.985512</td>\n",
       "      <td>40.768791</td>\n",
       "      <td>1</td>\n",
       "    </tr>\n",
       "  </tbody>\n",
       "</table>\n",
       "<p>199999 rows × 7 columns</p>\n",
       "</div>"
      ],
      "text/plain": [
       "          fare_amount                    pickup  pickup_longitude  \\\n",
       "24238194          7.5 2015-05-07 19:52:06+00:00        -73.999817   \n",
       "27835199          7.7 2009-07-17 20:04:56+00:00        -73.994354   \n",
       "44984355         12.9 2009-08-24 21:45:00+00:00        -74.005043   \n",
       "25894730          5.3 2009-06-26 08:22:21+00:00        -73.976128   \n",
       "17610152         16.0 2014-08-28 17:47:00+00:00        -73.925026   \n",
       "...               ...                       ...               ...   \n",
       "42598914          3.0 2012-10-28 10:49:00+00:00        -73.987045   \n",
       "16382965          7.5 2014-03-14 01:09:00+00:00        -73.984718   \n",
       "27804658         30.9 2009-06-29 00:42:00+00:00        -73.986015   \n",
       "20259894         14.5 2015-05-20 14:56:25+00:00        -73.997124   \n",
       "11951496         14.1 2010-05-15 04:08:00+00:00        -73.984398   \n",
       "\n",
       "          pickup_latitude  dropoff_longitude  dropoff_latitude  passengers  \n",
       "24238194        40.738354         -73.999512         40.723217           1  \n",
       "27835199        40.728226         -73.994713         40.750324           1  \n",
       "44984355        40.740768         -73.962563         40.772648           1  \n",
       "25894730        40.790844         -73.965317         40.803349           3  \n",
       "17610152        40.744083         -73.973083         40.761246           5  \n",
       "...                   ...                ...               ...         ...  \n",
       "42598914        40.739368         -73.986526         40.740295           1  \n",
       "16382965        40.736835         -74.006676         40.739620           1  \n",
       "27804658        40.756489         -73.858955         40.692589           2  \n",
       "20259894        40.725452         -73.983215         40.695415           1  \n",
       "11951496        40.720078         -73.985512         40.768791           1  \n",
       "\n",
       "[199999 rows x 7 columns]"
      ]
     },
     "execution_count": 5,
     "metadata": {},
     "output_type": "execute_result"
    }
   ],
   "source": [
    "df"
   ]
  },
  {
   "cell_type": "markdown",
   "id": "b6dcb779-0d4b-4804-9ab8-d7358a5c45a7",
   "metadata": {},
   "source": [
    "## Otázky"
   ]
  },
  {
   "cell_type": "markdown",
   "id": "697fdec8-c32d-462f-b363-4caae6c6c12a",
   "metadata": {},
   "source": [
    "1. Koľko peňazí sme zarobili za dané obdobie?"
   ]
  },
  {
   "cell_type": "code",
   "execution_count": 6,
   "id": "92c1650b-7e90-483a-a195-d56815f790b4",
   "metadata": {},
   "outputs": [
    {
     "data": {
      "text/plain": [
       "2271966.8"
      ]
     },
     "execution_count": 6,
     "metadata": {},
     "output_type": "execute_result"
    }
   ],
   "source": [
    "df['fare_amount'].sum()"
   ]
  },
  {
   "cell_type": "markdown",
   "id": "e946615c-f4ad-4f67-ab7f-a4c326754070",
   "metadata": {},
   "source": [
    "2. Koľko peňazí sme zarobili za jednotlivé roky?"
   ]
  },
  {
   "cell_type": "code",
   "execution_count": 17,
   "id": "c86a791a-5c60-4a80-96cc-d663166daeea",
   "metadata": {},
   "outputs": [
    {
     "data": {
      "text/plain": [
       "<Axes: title={'center': 'Zisk z jázd v jednotlivých rokoch'}, xlabel='year', ylabel='fare'>"
      ]
     },
     "execution_count": 17,
     "metadata": {},
     "output_type": "execute_result"
    },
    {
     "data": {
      "image/png": "[encoded data removed]",
      "text/plain": [
       "<Figure size 640x480 with 1 Axes>"
      ]
     },
     "metadata": {},
     "output_type": "display_data"
    }
   ],
   "source": [
    "df.groupby(df['pickup'].dt.year)['fare_amount'].sum().plot(kind='bar', xlabel='year', ylabel='fare', title='Zisk z jázd v jednotlivých rokoch')"
   ]
  },
  {
   "cell_type": "markdown",
   "id": "a59af5e3-32cb-4d53-9c9f-628cfea9f276",
   "metadata": {},
   "source": [
    "3. V ktorom mesiaci v roku 2013 bolo najviac jázd?"
   ]
  },
  {
   "cell_type": "code",
   "execution_count": 31,
   "id": "0e06b927-d2de-4ab2-a383-aa64d6291846",
   "metadata": {},
   "outputs": [
    {
     "data": {
      "text/plain": [
       "pickup\n",
       "5    36311.460938\n",
       "Name: fare_amount, dtype: float32"
      ]
     },
     "execution_count": 31,
     "metadata": {},
     "output_type": "execute_result"
    }
   ],
   "source": [
    "filter_2013 = df['pickup'].dt.year == 2013 \n",
    "df2013 = df.loc[ filter_2013, : ]\n",
    "df2013.groupby( df2013['pickup'].dt.month )['fare_amount'].sum().nlargest(1)"
   ]
  },
  {
   "cell_type": "markdown",
   "id": "f0363555-bc49-4dad-9c8c-52c1208449e6",
   "metadata": {},
   "source": [
    "4. V ktorom mesiaci v roku 2014 bolo najviac jázd?"
   ]
  },
  {
   "cell_type": "code",
   "execution_count": 38,
   "id": "e0babeeb-8633-4e20-8a5c-7280e15cb058",
   "metadata": {},
   "outputs": [
    {
     "data": {
      "text/plain": [
       "pickup\n",
       "3    2755\n",
       "Name: pickup, dtype: int64"
      ]
     },
     "execution_count": 38,
     "metadata": {},
     "output_type": "execute_result"
    }
   ],
   "source": [
    "filter_2014 = df['pickup'].dt.year == 2014\n",
    "df2014 = df.loc[ filter_2014, : ]\n",
    "df2014.groupby( df2014['pickup'].dt.month )['pickup'].count().nlargest(1)"
   ]
  },
  {
   "cell_type": "markdown",
   "id": "5dec2ed4-805e-4822-9ad6-c066d0dd4f67",
   "metadata": {},
   "source": [
    "5. V ktorý deň za uvedené obdobie bolo prevezných najviac pasažierov?"
   ]
  },
  {
   "cell_type": "code",
   "execution_count": 43,
   "id": "48b09eed-53e1-42fd-8c43-4e03c7178204",
   "metadata": {},
   "outputs": [
    {
     "data": {
      "text/plain": [
       "pickup\n",
       "2010-12-28    293\n",
       "Name: passengers, dtype: int16"
      ]
     },
     "execution_count": 43,
     "metadata": {},
     "output_type": "execute_result"
    }
   ],
   "source": [
    "df.groupby(df['pickup'].dt.date)['passengers'].sum().nlargest(1)"
   ]
  },
  {
   "cell_type": "code",
   "execution_count": null,
   "id": "583c67ac-6a87-428e-b7dd-c287dd9fc2c9",
   "metadata": {},
   "outputs": [],
   "source": []
  }
 ],
 "metadata": {
  "kernelspec": {
   "display_name": "Python 3 (ipykernel)",
   "language": "python",
   "name": "python3"
  },
  "language_info": {
   "codemirror_mode": {
    "name": "ipython",
    "version": 3
   },
   "file_extension": ".py",
   "mimetype": "text/x-python",
   "name": "python",
   "nbconvert_exporter": "python",
   "pygments_lexer": "ipython3",
   "version": "3.10.12"
  }
 },
 "nbformat": 4,
 "nbformat_minor": 5
}
