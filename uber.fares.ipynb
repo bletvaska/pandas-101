{
 "cells": [
  {
   "cell_type": "markdown",
   "id": "511ee926-7e39-4247-8f4a-c190e84600f3",
   "metadata": {},
   "source": [
    "# Uber Fares\n",
    "\n",
    "Dataset je úspešne ukradnutý z [Kaggle](https://www.kaggle.com/datasets/yasserh/uber-fares-dataset/data). Sťahovať ho môžete [odtiaľto](data/uber.csv).\n",
    "\n",
    "![obrazok](images/uber.jpg)"
   ]
  },
  {
   "cell_type": "markdown",
   "id": "2c70ea61-bdb9-4fd4-ac5e-b839c98471ec",
   "metadata": {},
   "source": [
    "## Načítanie datasetu"
   ]
  },
  {
   "cell_type": "code",
   "execution_count": 1,
   "id": "bc095207-9730-4e7f-b4f2-aedf98b53f52",
   "metadata": {},
   "outputs": [],
   "source": [
    "import pandas as pd\n",
    "\n",
    "df = pd.read_csv('data/uber.csv', index_col=0, parse_dates=['pickup_datetime'])"
   ]
  },
  {
   "cell_type": "markdown",
   "id": "cb468b69-34e5-4164-8e8e-02d85a888924",
   "metadata": {},
   "source": [
    "okrem načítania:\n",
    "* premenujeme niekoľko stĺpcov\n",
    "* pretypujeme stĺpce na menšie údajové typy\n",
    "* odstránime duplicitný stĺpec\n",
    "* odstránime riadky, ktoré nemajú hodnotu"
   ]
  },
  {
   "cell_type": "code",
   "execution_count": 2,
   "id": "0585e782-2c56-4448-82fc-f0de9f9a4fb0",
   "metadata": {},
   "outputs": [],
   "source": [
    "# cleanup a priprava\n",
    "df.drop(columns=['key'], inplace=True)\n",
    "df.rename(\n",
    "    columns={\n",
    "        'passenger_count': 'passengers',\n",
    "        'fare_amount': 'fare',\n",
    "        'pickup_datetime': 'dt'\n",
    "    },\n",
    "    inplace=True\n",
    ")\n",
    "df.dropna(inplace=True)"
   ]
  },
  {
   "cell_type": "code",
   "execution_count": 3,
   "id": "19c24856-6b1a-43b5-b994-1cd2edf17ef8",
   "metadata": {},
   "outputs": [],
   "source": [
    "# zmazanie riadkov, kde cena je menej ako 0\n",
    "filter_fares = df['fare'] < 0\n",
    "# df = df.loc[ ~filter_fares, : ]\n",
    "df.drop(df.loc[ filter_fares ].index, inplace=True)"
   ]
  },
  {
   "cell_type": "code",
   "execution_count": 4,
   "id": "536b4c16-3431-44b8-99d4-db667f96d3f4",
   "metadata": {},
   "outputs": [],
   "source": [
    "# zmazanie riadkov, kde pocet pasazierov je vacsi ako 10\n",
    "filter_passengers = df['passengers'] > 10\n",
    "df.drop(df.loc[ filter_passengers ].index, inplace=True)"
   ]
  },
  {
   "cell_type": "code",
   "execution_count": 5,
   "id": "4e94fcbe-e8c5-4fec-ba92-e7a065d829d4",
   "metadata": {},
   "outputs": [],
   "source": [
    "# zmazanie riadkov, kde longitude nie je v rozmedzi <-180, 180>\n",
    "filter_longitude = (df['pickup_longitude'] <= -180) | (df['pickup_longitude'] >= 180) | (df['dropoff_longitude'] <= -180) | (df['dropoff_longitude'] >= 180)\n",
    "df.drop(df.loc[ filter_longitude ].index, inplace=True)"
   ]
  },
  {
   "cell_type": "code",
   "execution_count": 6,
   "id": "edb69857-1a3f-43c1-960c-3f405728aa72",
   "metadata": {},
   "outputs": [],
   "source": [
    "# zmazanie riadkov, kde latitude nie je v rozmedzi <-90, 90>\n",
    "# -180 < df['pickup_longitude'] < 180\n",
    "filter_latitude = (df['pickup_latitude'] <= -90) | (df['pickup_latitude'] >= 90) | (df['dropoff_latitude'] <= -90) | (df['dropoff_latitude'] >= 90)\n",
    "df.drop(df.loc[ filter_latitude ].index, inplace=True)"
   ]
  },
  {
   "cell_type": "code",
   "execution_count": 7,
   "id": "d041e0ab-4982-43e7-bc89-874ee89fc37c",
   "metadata": {},
   "outputs": [],
   "source": [
    "# pretypovanie stĺpcov\n",
    "df['passengers'] = df['passengers'].astype('uint8')\n",
    "df['fare'] = df['fare'].astype('float32')\n",
    "df['pickup_latitude'] = df['pickup_latitude'].astype('float32')\n",
    "df['pickup_longitude'] = df['pickup_longitude'].astype('float32')\n",
    "df['dropoff_latitude'] = df['dropoff_latitude'].astype('float32')\n",
    "df['dropoff_longitude'] = df['dropoff_longitude'].astype('float32')"
   ]
  },
  {
   "cell_type": "markdown",
   "id": "d69aea98-a885-4be2-b4ba-ec39e586834a",
   "metadata": {},
   "source": [
    "## Prehľad"
   ]
  },
  {
   "cell_type": "code",
   "execution_count": 8,
   "id": "681a78c0-11ab-4f30-921d-6d46193539dc",
   "metadata": {
    "scrolled": true
   },
   "outputs": [
    {
     "data": {
      "text/html": [
       "<div>\n",
       "<style scoped>\n",
       "    .dataframe tbody tr th:only-of-type {\n",
       "        vertical-align: middle;\n",
       "    }\n",
       "\n",
       "    .dataframe tbody tr th {\n",
       "        vertical-align: top;\n",
       "    }\n",
       "\n",
       "    .dataframe thead th {\n",
       "        text-align: right;\n",
       "    }\n",
       "</style>\n",
       "<table border=\"1\" class=\"dataframe\">\n",
       "  <thead>\n",
       "    <tr style=\"text-align: right;\">\n",
       "      <th></th>\n",
       "      <th>fare</th>\n",
       "      <th>pickup_longitude</th>\n",
       "      <th>pickup_latitude</th>\n",
       "      <th>dropoff_longitude</th>\n",
       "      <th>dropoff_latitude</th>\n",
       "      <th>passengers</th>\n",
       "    </tr>\n",
       "  </thead>\n",
       "  <tbody>\n",
       "    <tr>\n",
       "      <th>count</th>\n",
       "      <td>199969.000000</td>\n",
       "      <td>199969.000000</td>\n",
       "      <td>199969.000000</td>\n",
       "      <td>199969.000000</td>\n",
       "      <td>199969.000000</td>\n",
       "      <td>199969.000000</td>\n",
       "    </tr>\n",
       "    <tr>\n",
       "      <th>mean</th>\n",
       "      <td>11.362259</td>\n",
       "      <td>-72.501656</td>\n",
       "      <td>39.917862</td>\n",
       "      <td>-72.511841</td>\n",
       "      <td>39.922157</td>\n",
       "      <td>1.683471</td>\n",
       "    </tr>\n",
       "    <tr>\n",
       "      <th>std</th>\n",
       "      <td>9.897235</td>\n",
       "      <td>10.450417</td>\n",
       "      <td>6.130682</td>\n",
       "      <td>10.411389</td>\n",
       "      <td>6.117288</td>\n",
       "      <td>1.306938</td>\n",
       "    </tr>\n",
       "    <tr>\n",
       "      <th>min</th>\n",
       "      <td>0.000000</td>\n",
       "      <td>-93.824669</td>\n",
       "      <td>-74.015518</td>\n",
       "      <td>-75.458977</td>\n",
       "      <td>-74.015747</td>\n",
       "      <td>0.000000</td>\n",
       "    </tr>\n",
       "    <tr>\n",
       "      <th>25%</th>\n",
       "      <td>6.000000</td>\n",
       "      <td>-73.992065</td>\n",
       "      <td>40.734791</td>\n",
       "      <td>-73.991409</td>\n",
       "      <td>40.733826</td>\n",
       "      <td>1.000000</td>\n",
       "    </tr>\n",
       "    <tr>\n",
       "      <th>50%</th>\n",
       "      <td>8.500000</td>\n",
       "      <td>-73.981819</td>\n",
       "      <td>40.752590</td>\n",
       "      <td>-73.980095</td>\n",
       "      <td>40.753040</td>\n",
       "      <td>1.000000</td>\n",
       "    </tr>\n",
       "    <tr>\n",
       "      <th>75%</th>\n",
       "      <td>12.500000</td>\n",
       "      <td>-73.967155</td>\n",
       "      <td>40.767159</td>\n",
       "      <td>-73.963661</td>\n",
       "      <td>40.768002</td>\n",
       "      <td>2.000000</td>\n",
       "    </tr>\n",
       "    <tr>\n",
       "      <th>max</th>\n",
       "      <td>499.000000</td>\n",
       "      <td>40.808426</td>\n",
       "      <td>48.018761</td>\n",
       "      <td>40.831932</td>\n",
       "      <td>45.031597</td>\n",
       "      <td>6.000000</td>\n",
       "    </tr>\n",
       "  </tbody>\n",
       "</table>\n",
       "</div>"
      ],
      "text/plain": [
       "                fare  pickup_longitude  pickup_latitude  dropoff_longitude  \\\n",
       "count  199969.000000     199969.000000    199969.000000      199969.000000   \n",
       "mean       11.362259        -72.501656        39.917862         -72.511841   \n",
       "std         9.897235         10.450417         6.130682          10.411389   \n",
       "min         0.000000        -93.824669       -74.015518         -75.458977   \n",
       "25%         6.000000        -73.992065        40.734791         -73.991409   \n",
       "50%         8.500000        -73.981819        40.752590         -73.980095   \n",
       "75%        12.500000        -73.967155        40.767159         -73.963661   \n",
       "max       499.000000         40.808426        48.018761          40.831932   \n",
       "\n",
       "       dropoff_latitude     passengers  \n",
       "count     199969.000000  199969.000000  \n",
       "mean          39.922157       1.683471  \n",
       "std            6.117288       1.306938  \n",
       "min          -74.015747       0.000000  \n",
       "25%           40.733826       1.000000  \n",
       "50%           40.753040       1.000000  \n",
       "75%           40.768002       2.000000  \n",
       "max           45.031597       6.000000  "
      ]
     },
     "execution_count": 8,
     "metadata": {},
     "output_type": "execute_result"
    }
   ],
   "source": [
    "# pohlad na vlastnosti datasetu\n",
    "df.describe()"
   ]
  },
  {
   "cell_type": "code",
   "execution_count": 9,
   "id": "459d1873-170b-483a-9300-d167f236c41c",
   "metadata": {
    "scrolled": true
   },
   "outputs": [
    {
     "name": "stdout",
     "output_type": "stream",
     "text": [
      "<class 'pandas.core.frame.DataFrame'>\n",
      "Index: 199969 entries, 24238194 to 11951496\n",
      "Data columns (total 7 columns):\n",
      " #   Column             Non-Null Count   Dtype              \n",
      "---  ------             --------------   -----              \n",
      " 0   fare               199969 non-null  float32            \n",
      " 1   dt                 199969 non-null  datetime64[ns, UTC]\n",
      " 2   pickup_longitude   199969 non-null  float32            \n",
      " 3   pickup_latitude    199969 non-null  float32            \n",
      " 4   dropoff_longitude  199969 non-null  float32            \n",
      " 5   dropoff_latitude   199969 non-null  float32            \n",
      " 6   passengers         199969 non-null  uint8              \n",
      "dtypes: datetime64[ns, UTC](1), float32(5), uint8(1)\n",
      "memory usage: 7.1 MB\n"
     ]
    }
   ],
   "source": [
    "df.info()"
   ]
  },
  {
   "cell_type": "code",
   "execution_count": 10,
   "id": "b10d861b-75e9-44a3-acf3-09678b238f72",
   "metadata": {},
   "outputs": [
    {
     "data": {
      "text/html": [
       "<div>\n",
       "<style scoped>\n",
       "    .dataframe tbody tr th:only-of-type {\n",
       "        vertical-align: middle;\n",
       "    }\n",
       "\n",
       "    .dataframe tbody tr th {\n",
       "        vertical-align: top;\n",
       "    }\n",
       "\n",
       "    .dataframe thead th {\n",
       "        text-align: right;\n",
       "    }\n",
       "</style>\n",
       "<table border=\"1\" class=\"dataframe\">\n",
       "  <thead>\n",
       "    <tr style=\"text-align: right;\">\n",
       "      <th></th>\n",
       "      <th>fare</th>\n",
       "      <th>dt</th>\n",
       "      <th>pickup_longitude</th>\n",
       "      <th>pickup_latitude</th>\n",
       "      <th>dropoff_longitude</th>\n",
       "      <th>dropoff_latitude</th>\n",
       "      <th>passengers</th>\n",
       "    </tr>\n",
       "  </thead>\n",
       "  <tbody>\n",
       "    <tr>\n",
       "      <th>24238194</th>\n",
       "      <td>7.5</td>\n",
       "      <td>2015-05-07 19:52:06+00:00</td>\n",
       "      <td>-73.999817</td>\n",
       "      <td>40.738354</td>\n",
       "      <td>-73.999512</td>\n",
       "      <td>40.723217</td>\n",
       "      <td>1</td>\n",
       "    </tr>\n",
       "    <tr>\n",
       "      <th>27835199</th>\n",
       "      <td>7.7</td>\n",
       "      <td>2009-07-17 20:04:56+00:00</td>\n",
       "      <td>-73.994354</td>\n",
       "      <td>40.728226</td>\n",
       "      <td>-73.994713</td>\n",
       "      <td>40.750324</td>\n",
       "      <td>1</td>\n",
       "    </tr>\n",
       "    <tr>\n",
       "      <th>44984355</th>\n",
       "      <td>12.9</td>\n",
       "      <td>2009-08-24 21:45:00+00:00</td>\n",
       "      <td>-74.005043</td>\n",
       "      <td>40.740768</td>\n",
       "      <td>-73.962563</td>\n",
       "      <td>40.772648</td>\n",
       "      <td>1</td>\n",
       "    </tr>\n",
       "    <tr>\n",
       "      <th>25894730</th>\n",
       "      <td>5.3</td>\n",
       "      <td>2009-06-26 08:22:21+00:00</td>\n",
       "      <td>-73.976128</td>\n",
       "      <td>40.790844</td>\n",
       "      <td>-73.965317</td>\n",
       "      <td>40.803349</td>\n",
       "      <td>3</td>\n",
       "    </tr>\n",
       "    <tr>\n",
       "      <th>17610152</th>\n",
       "      <td>16.0</td>\n",
       "      <td>2014-08-28 17:47:00+00:00</td>\n",
       "      <td>-73.925026</td>\n",
       "      <td>40.744083</td>\n",
       "      <td>-73.973083</td>\n",
       "      <td>40.761246</td>\n",
       "      <td>5</td>\n",
       "    </tr>\n",
       "    <tr>\n",
       "      <th>...</th>\n",
       "      <td>...</td>\n",
       "      <td>...</td>\n",
       "      <td>...</td>\n",
       "      <td>...</td>\n",
       "      <td>...</td>\n",
       "      <td>...</td>\n",
       "      <td>...</td>\n",
       "    </tr>\n",
       "    <tr>\n",
       "      <th>42598914</th>\n",
       "      <td>3.0</td>\n",
       "      <td>2012-10-28 10:49:00+00:00</td>\n",
       "      <td>-73.987045</td>\n",
       "      <td>40.739368</td>\n",
       "      <td>-73.986526</td>\n",
       "      <td>40.740295</td>\n",
       "      <td>1</td>\n",
       "    </tr>\n",
       "    <tr>\n",
       "      <th>16382965</th>\n",
       "      <td>7.5</td>\n",
       "      <td>2014-03-14 01:09:00+00:00</td>\n",
       "      <td>-73.984718</td>\n",
       "      <td>40.736835</td>\n",
       "      <td>-74.006676</td>\n",
       "      <td>40.739620</td>\n",
       "      <td>1</td>\n",
       "    </tr>\n",
       "    <tr>\n",
       "      <th>27804658</th>\n",
       "      <td>30.9</td>\n",
       "      <td>2009-06-29 00:42:00+00:00</td>\n",
       "      <td>-73.986015</td>\n",
       "      <td>40.756489</td>\n",
       "      <td>-73.858955</td>\n",
       "      <td>40.692589</td>\n",
       "      <td>2</td>\n",
       "    </tr>\n",
       "    <tr>\n",
       "      <th>20259894</th>\n",
       "      <td>14.5</td>\n",
       "      <td>2015-05-20 14:56:25+00:00</td>\n",
       "      <td>-73.997124</td>\n",
       "      <td>40.725452</td>\n",
       "      <td>-73.983215</td>\n",
       "      <td>40.695415</td>\n",
       "      <td>1</td>\n",
       "    </tr>\n",
       "    <tr>\n",
       "      <th>11951496</th>\n",
       "      <td>14.1</td>\n",
       "      <td>2010-05-15 04:08:00+00:00</td>\n",
       "      <td>-73.984398</td>\n",
       "      <td>40.720078</td>\n",
       "      <td>-73.985512</td>\n",
       "      <td>40.768791</td>\n",
       "      <td>1</td>\n",
       "    </tr>\n",
       "  </tbody>\n",
       "</table>\n",
       "<p>199969 rows × 7 columns</p>\n",
       "</div>"
      ],
      "text/plain": [
       "          fare                        dt  pickup_longitude  pickup_latitude  \\\n",
       "24238194   7.5 2015-05-07 19:52:06+00:00        -73.999817        40.738354   \n",
       "27835199   7.7 2009-07-17 20:04:56+00:00        -73.994354        40.728226   \n",
       "44984355  12.9 2009-08-24 21:45:00+00:00        -74.005043        40.740768   \n",
       "25894730   5.3 2009-06-26 08:22:21+00:00        -73.976128        40.790844   \n",
       "17610152  16.0 2014-08-28 17:47:00+00:00        -73.925026        40.744083   \n",
       "...        ...                       ...               ...              ...   \n",
       "42598914   3.0 2012-10-28 10:49:00+00:00        -73.987045        40.739368   \n",
       "16382965   7.5 2014-03-14 01:09:00+00:00        -73.984718        40.736835   \n",
       "27804658  30.9 2009-06-29 00:42:00+00:00        -73.986015        40.756489   \n",
       "20259894  14.5 2015-05-20 14:56:25+00:00        -73.997124        40.725452   \n",
       "11951496  14.1 2010-05-15 04:08:00+00:00        -73.984398        40.720078   \n",
       "\n",
       "          dropoff_longitude  dropoff_latitude  passengers  \n",
       "24238194         -73.999512         40.723217           1  \n",
       "27835199         -73.994713         40.750324           1  \n",
       "44984355         -73.962563         40.772648           1  \n",
       "25894730         -73.965317         40.803349           3  \n",
       "17610152         -73.973083         40.761246           5  \n",
       "...                     ...               ...         ...  \n",
       "42598914         -73.986526         40.740295           1  \n",
       "16382965         -74.006676         40.739620           1  \n",
       "27804658         -73.858955         40.692589           2  \n",
       "20259894         -73.983215         40.695415           1  \n",
       "11951496         -73.985512         40.768791           1  \n",
       "\n",
       "[199969 rows x 7 columns]"
      ]
     },
     "execution_count": 10,
     "metadata": {},
     "output_type": "execute_result"
    }
   ],
   "source": [
    "df"
   ]
  },
  {
   "cell_type": "markdown",
   "id": "b6dcb779-0d4b-4804-9ab8-d7358a5c45a7",
   "metadata": {},
   "source": [
    "## Otázky"
   ]
  },
  {
   "cell_type": "markdown",
   "id": "697fdec8-c32d-462f-b363-4caae6c6c12a",
   "metadata": {},
   "source": [
    "1. Koľko peňazí sme zarobili za dané obdobie?"
   ]
  },
  {
   "cell_type": "code",
   "execution_count": 11,
   "id": "92c1650b-7e90-483a-a195-d56815f790b4",
   "metadata": {},
   "outputs": [],
   "source": [
    "# tak kolko?"
   ]
  },
  {
   "cell_type": "markdown",
   "id": "e946615c-f4ad-4f67-ab7f-a4c326754070",
   "metadata": {},
   "source": [
    "2. Koľko peňazí sme zarobili za jednotlivé roky?\n",
    "   Poznámka: tu môžete nakresliť aj pekný obrázok"
   ]
  },
  {
   "cell_type": "code",
   "execution_count": 12,
   "id": "c86a791a-5c60-4a80-96cc-d663166daeea",
   "metadata": {},
   "outputs": [],
   "source": [
    "# tak kolko?"
   ]
  },
  {
   "cell_type": "markdown",
   "id": "a59af5e3-32cb-4d53-9c9f-628cfea9f276",
   "metadata": {},
   "source": [
    "3. V ktorom mesiaci v roku 2013 bolo najviac jázd?"
   ]
  },
  {
   "cell_type": "code",
   "execution_count": 13,
   "id": "0e06b927-d2de-4ab2-a383-aa64d6291846",
   "metadata": {},
   "outputs": [],
   "source": [
    "# tak v ktorom?"
   ]
  },
  {
   "cell_type": "markdown",
   "id": "f0363555-bc49-4dad-9c8c-52c1208449e6",
   "metadata": {},
   "source": [
    "4. V ktorom mesiaci v roku 2014 bolo najviac jázd?"
   ]
  },
  {
   "cell_type": "code",
   "execution_count": 14,
   "id": "e0babeeb-8633-4e20-8a5c-7280e15cb058",
   "metadata": {},
   "outputs": [],
   "source": [
    "# tak v ktorom?"
   ]
  },
  {
   "cell_type": "markdown",
   "id": "5dec2ed4-805e-4822-9ad6-c066d0dd4f67",
   "metadata": {},
   "source": [
    "5. V ktorý deň za uvedené obdobie bolo prevezných najviac pasažierov?"
   ]
  },
  {
   "cell_type": "code",
   "execution_count": 15,
   "id": "48b09eed-53e1-42fd-8c43-4e03c7178204",
   "metadata": {},
   "outputs": [],
   "source": [
    "# tak v ktorý?"
   ]
  }
 ],
 "metadata": {
  "kernelspec": {
   "display_name": "Python 3 (ipykernel)",
   "language": "python",
   "name": "python3"
  },
  "language_info": {
   "codemirror_mode": {
    "name": "ipython",
    "version": 3
   },
   "file_extension": ".py",
   "mimetype": "text/x-python",
   "name": "python",
   "nbconvert_exporter": "python",
   "pygments_lexer": "ipython3",
   "version": "3.10.12"
  }
 },
 "nbformat": 4,
 "nbformat_minor": 5
}
