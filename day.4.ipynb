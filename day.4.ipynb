{
 "cells": [
  {
   "cell_type": "markdown",
   "id": "681157ff-7a8d-4815-8230-e4f664206c3e",
   "metadata": {},
   "source": [
    "# Day 4: Data Cleaning"
   ]
  },
  {
   "cell_type": "markdown",
   "id": "96f6121c-9bdf-419e-80de-f47f0e589291",
   "metadata": {},
   "source": [
    "## Tasks to do:\n",
    "\n",
    "1. pri nacitavani zabezpecit, aby indexom bol stlpec `movieId`\n",
    "1. pri nacitavani spojit tabulku zo suboru `movies.csv` s tabulkou zo suboru `links.csv`\n",
    "1. overit vlastnosti tabulky pomocou metody `.info()`\n",
    "1. vytvorit novy stlpec, do ktoreho vlozime rok, ktory v nazve filmu\n",
    "1. vytvorit tolko stlpcov, kolko je zanrov a kazdy z nich by bol len True-False, napr. `is_comedy`\n"
   ]
  },
  {
   "cell_type": "code",
   "execution_count": null,
   "id": "5aed98b1-a60c-4df1-a5f7-b28c987d57b5",
   "metadata": {},
   "outputs": [],
   "source": []
  }
 ],
 "metadata": {
  "kernelspec": {
   "display_name": "Python 3 (ipykernel)",
   "language": "python",
   "name": "python3"
  },
  "language_info": {
   "codemirror_mode": {
    "name": "ipython",
    "version": 3
   },
   "file_extension": ".py",
   "mimetype": "text/x-python",
   "name": "python",
   "nbconvert_exporter": "python",
   "pygments_lexer": "ipython3",
   "version": "3.9.11"
  }
 },
 "nbformat": 4,
 "nbformat_minor": 5
}
