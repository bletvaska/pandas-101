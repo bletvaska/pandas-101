{
 "cells": [
  {
   "cell_type": "markdown",
   "id": "0efe774e-a173-40d4-9148-3cf02117f0d7",
   "metadata": {},
   "source": [
    "# Data Collection\n",
    "\n",
    "## nahratie modulu `pandas`\n"
   ]
  },
  {
   "cell_type": "code",
   "execution_count": 4,
   "id": "5871ebf3-87e6-4458-9a15-52e8319a778a",
   "metadata": {},
   "outputs": [
    {
     "data": {
      "text/plain": [
       "'2.1.4'"
      ]
     },
     "execution_count": 4,
     "metadata": {},
     "output_type": "execute_result"
    }
   ],
   "source": [
    "import pandas as pd\n",
    "pd.__version__"
   ]
  },
  {
   "cell_type": "markdown",
   "id": "14c05e97-73c6-4df5-8ac2-800e978ea3cd",
   "metadata": {},
   "source": [
    "## Stiahnutie datasetu\n"
   ]
  },
  {
   "cell_type": "code",
   "execution_count": 10,
   "id": "45a86864-46a0-49f1-9a92-c673fa27537c",
   "metadata": {},
   "outputs": [
    {
     "name": "stdout",
     "output_type": "stream",
     "text": [
      "200\n",
      "text/csv\n"
     ]
    },
    {
     "data": {
      "text/plain": [
       "\"name,mfr,type,calories,protein,fat,sodium,fiber,carbo,sugars,potass,vitamins,shelf,weight,cups,rating\\r\\n100% Bran,N,C,70,4,1,130,10,5,6,280,25,3,1,0.33,68.402973\\r\\n100% Natural Bran,Q,C,120,3,5,15,2,8,8,135,0,3,1,1,33.983679\\r\\nAll-Bran,K,C,70,4,1,260,9,7,5,320,25,3,1,0.33,59.425505\\r\\nAll-Bran with Extra Fiber,K,C,50,4,0,140,14,8,0,330,25,3,1,0.5,93.704912\\r\\nAlmond Delight,R,C,110,2,2,200,1,14,8,-1,25,3,1,0.75,34.384843\\r\\nApple Cinnamon Cheerios,G,C,110,2,2,180,1.5,10.5,10,70,25,1,1,0.75,29.509541\\r\\nApple Jacks,K,C,110,2,0,125,1,11,14,30,25,2,1,1,33.174094\\r\\nBasic 4,G,C,130,3,2,210,2,18,8,100,25,3,1.33,0.75,37.038562\\r\\nBran Chex,R,C,90,2,1,200,4,15,6,125,25,1,1,0.67,49.120253\\r\\nBran Flakes,P,C,90,3,0,210,5,13,5,190,25,3,1,0.67,53.313813\\r\\nCap'n'Crunch,Q,C,120,1,2,220,0,12,12,35,25,2,1,0.75,18.042851\\r\\nCheerios,G,C,110,6,2,290,2,17,1,105,25,1,1,1.25,50.764999\\r\\nCinnamon Toast Crunch,G,C,120,1,3,210,0,13,9,45,25,2,1,0.75,19.823573\\r\\nClusters,G,C,110,3,2,140,2,13,7,105,25,3,1,0.5,40.400208\\r\\nCocoa Puffs,G,C,110,1,1,180,0,12,13,55,25,2,1,1,22.736446\\r\\nCorn Chex,R,C,110,2,0,280,0,22,3,25,25,1,1,1,41.445019\\r\\nCorn Flakes,K,C,100,2,0,290,1,21,2,35,25,1,1,1,45.863324\\r\\nCorn Pops,K,C,110,1,0,90,1,13,12,20,25,2,1,1,35.782791\\r\\nCount Chocula,G,C,110,1,1,180,0,12,13,65,25,2,1,1,22.396513\\r\\nCracklin' Oat Bran,K,C,110,3,3,140,4,10,7,160,25,3,1,0.5,40.448772\\r\\nCream of Wheat (Quick),N,H,100,3,0,80,1,21,0,-1,0,2,1,1,64.533816\\r\\nCrispix,K,C,110,2,0,220,1,21,3,30,25,3,1,1,46.895644\\r\\nCrispy Wheat & Raisins,G,C,100,2,1,140,2,11,10,120,25,3,1,0.75,36.176196\\r\\nDouble Chex,R,C,100,2,0,190,1,18,5,80,25,3,1,0.75,44.330856\\r\\nFroot Loops,K,C,110,2,1,125,1,11,13,30,25,2,1,1,32.207582\\r\\nFrosted Flakes,K,C,110,1,0,200,1,14,11,25,25,1,1,0.75,31.435973\\r\\nFrosted Mini-Wheats,K,C,100,3,0,0,3,14,7,100,25,2,1,0.8,58.345141\\r\\nFruit & Fibre Dates; Walnuts; and Oats,P,C,120,3,2,160,5,12,10,200,25,3,1.25,0.67,40.917047\\r\\nFruitful Bran,K,C,120,3,0,240,5,14,12,190,25,3,1.33,0.67,41.015492\\r\\nFruity Pebbles,P,C,110,1,1,135,0,13,12,25,25,2,1,0.75,28.025765\\r\\nGolden Crisp,P,C,100,2,0,45,0,11,15,40,25,1,1,0.88,35.252444\\r\\nGolden Grahams,G,C,110,1,1,280,0,15,9,45,25,2,1,0.75,23.804043\\r\\nGrape Nuts Flakes,P,C,100,3,1,140,3,15,5,85,25,3,1,0.88,52.076897\\r\\nGrape-Nuts,P,C,110,3,0,170,3,17,3,90,25,3,1,0.25,53.371007\\r\\nGreat Grains Pecan,P,C,120,3,3,75,3,13,4,100,25,3,1,0.33,45.811716\\r\\nHoney Graham Ohs,Q,C,120,1,2,220,1,12,11,45,25,2,1,1,21.871292\\r\\nHoney Nut Cheerios,G,C,110,3,1,250,1.5,11.5,10,90,25,1,1,0.75,31.072217\\r\\nHoney-comb,P,C,110,1,0,180,0,14,11,35,25,1,1,1.33,28.742414\\r\\nJust Right Crunchy  Nuggets,K,C,110,2,1,170,1,17,6,60,100,3,1,1,36.523683\\r\\nJust Right Fruit & Nut,K,C,140,3,1,170,2,20,9,95,100,3,1.3,0.75,36.471512\\r\\nKix,G,C,110,2,1,260,0,21,3,40,25,2,1,1.5,39.241114\\r\\nLife,Q,C,100,4,2,150,2,12,6,95,25,2,1,0.67,45.328074\\r\\nLucky Charms,G,C,110,2,1,180,0,12,12,55,25,2,1,1,26.734515\\r\\nMaypo,A,H,100,4,1,0,0,16,3,95,25,2,1,1,54.850917\\r\\nMuesli Raisins; Dates; & Almonds,R,C,150,4,3,95,3,16,11,170,25,3,1,1,37.136863\\r\\nMuesli Raisins; Peaches; & Pecans,R,C,150,4,3,150,3,16,11,170,25,3,1,1,34.139765\\r\\nMueslix Crispy Blend,K,C,160,3,2,150,3,17,13,160,25,3,1.5,0.67,30.313351\\r\\nMulti-Grain Cheerios,G,C,100,2,1,220,2,15,6,90,25,1,1,1,40.105965\\r\\nNut&Honey Crunch,K,C,120,2,1,190,0,15,9,40,25,2,1,0.67,29.924285\\r\\nNutri-Grain Almond-Raisin,K,C,140,3,2,220,3,21,7,130,25,3,1.33,0.67,40.692320\\r\\nNutri-grain Wheat,K,C,90,3,0,170,3,18,2,90,25,3,1,1,59.642837\\r\\nOatmeal Raisin Crisp,G,C,130,3,2,170,1.5,13.5,10,120,25,3,1.25,0.5,30.450843\\r\\nPost Nat. Raisin Bran,P,C,120,3,1,200,6,11,14,260,25,3,1.33,0.67,37.840594\\r\\nProduct 19,K,C,100,3,0,320,1,20,3,45,100,3,1,1,41.503540\\r\\nPuffed Rice,Q,C,50,1,0,0,0,13,0,15,0,3,0.5,1,60.756112\\r\\nPuffed Wheat,Q,C,50,2,0,0,1,10,0,50,0,3,0.5,1,63.005645\\r\\nQuaker Oat Squares,Q,C,100,4,1,135,2,14,6,110,25,3,1,0.5,49.511874\\r\\nQuaker Oatmeal,Q,H,100,5,2,0,2.7,-1,-1,110,0,1,1,0.67,50.828392\\r\\nRaisin Bran,K,C,120,3,1,210,5,14,12,240,25,2,1.33,0.75,39.259197\\r\\nRaisin Nut Bran,G,C,100,3,2,140,2.5,10.5,8,140,25,3,1,0.5,39.703400\\r\\nRaisin Squares,K,C,90,2,0,0,2,15,6,110,25,3,1,0.5,55.333142\\r\\nRice Chex,R,C,110,1,0,240,0,23,2,30,25,1,1,1.13,41.998933\\r\\nRice Krispies,K,C,110,2,0,290,0,22,3,35,25,1,1,1,40.560159\\r\\nShredded Wheat,N,C,80,2,0,0,3,16,0,95,0,1,0.83,1,68.235885\\r\\nShredded Wheat 'n'Bran,N,C,90,3,0,0,4,19,0,140,0,1,1,0.67,74.472949\\r\\nShredded Wheat spoon size,N,C,90,3,0,0,3,20,0,120,0,1,1,0.67,72.801787\\r\\nSmacks,K,C,110,2,1,70,1,9,15,40,25,2,1,0.75,31.230054\\r\\nSpecial K,K,C,110,6,0,230,1,16,3,55,25,1,1,1,53.131324\\r\\nStrawberry Fruit Wheats,N,C,90,2,0,15,3,15,5,90,25,2,1,1,59.363993\\r\\nTotal Corn Flakes,G,C,110,2,1,200,0,21,3,35,100,3,1,1,38.839746\\r\\nTotal Raisin Bran,G,C,140,3,1,190,4,15,14,230,100,3,1.5,1,28.592785\\r\\nTotal Whole Grain,G,C,100,3,1,200,3,16,3,110,100,3,1,1,46.658844\\r\\nTriples,G,C,110,2,1,250,0,21,3,60,25,3,1,0.75,39.106174\\r\\nTrix,G,C,110,1,1,140,0,13,12,25,25,2,1,1,27.753301\\r\\nWheat Chex,R,C,100,3,1,230,3,17,3,115,25,1,1,0.67,49.787445\\r\\nWheaties,G,C,100,3,1,200,3,17,3,110,25,1,1,1,51.592193\\r\\nWheaties Honey Gold,G,C,110,2,1,200,1,16,8,60,25,1,1,0.75,36.187559\""
      ]
     },
     "execution_count": 10,
     "metadata": {},
     "output_type": "execute_result"
    }
   ],
   "source": [
    "url = 'https://bit.ly/396WyAZ'\n",
    "\n",
    "import requests\n",
    "response = requests.get(url)\n",
    "print(response.status_code)\n",
    "print(response.headers['Content-Type'])\n",
    "response.text"
   ]
  },
  {
   "cell_type": "markdown",
   "id": "f20e141d-c6b5-4ba5-8c2c-96b657fe5cf0",
   "metadata": {},
   "source": [
    "Stiahnutie CSV suboru pomocou modulu `padnas`\n"
   ]
  },
  {
   "cell_type": "code",
   "execution_count": 13,
   "id": "065b625d-be7e-4049-a578-0ce18f9d7fbf",
   "metadata": {},
   "outputs": [],
   "source": [
    "url = 'https://bit.ly/396WyAZ'\n",
    "\n",
    "data = pd.read_csv(url)\n",
    "data.to_csv('data/cereals.csv')"
   ]
  },
  {
   "cell_type": "markdown",
   "id": "346034ba-45e6-4f6b-ae2c-b1f18e63fc57",
   "metadata": {},
   "source": [
    "# Nacitanie datasetu zo suboru"
   ]
  },
  {
   "cell_type": "code",
   "execution_count": 41,
   "id": "36e34b2d-72ac-4c5b-83a9-462e25e3dcf8",
   "metadata": {},
   "outputs": [
    {
     "data": {
      "text/html": [
       "<div>\n",
       "<style scoped>\n",
       "    .dataframe tbody tr th:only-of-type {\n",
       "        vertical-align: middle;\n",
       "    }\n",
       "\n",
       "    .dataframe tbody tr th {\n",
       "        vertical-align: top;\n",
       "    }\n",
       "\n",
       "    .dataframe thead th {\n",
       "        text-align: right;\n",
       "    }\n",
       "</style>\n",
       "<table border=\"1\" class=\"dataframe\">\n",
       "  <thead>\n",
       "    <tr style=\"text-align: right;\">\n",
       "      <th></th>\n",
       "      <th>name</th>\n",
       "      <th>mfr</th>\n",
       "      <th>type</th>\n",
       "      <th>calories</th>\n",
       "      <th>protein</th>\n",
       "      <th>fat</th>\n",
       "      <th>sodium</th>\n",
       "      <th>fiber</th>\n",
       "      <th>carbo</th>\n",
       "      <th>sugars</th>\n",
       "      <th>potass</th>\n",
       "      <th>vitamins</th>\n",
       "      <th>shelf</th>\n",
       "      <th>weight</th>\n",
       "      <th>cups</th>\n",
       "      <th>rating</th>\n",
       "    </tr>\n",
       "  </thead>\n",
       "  <tbody>\n",
       "    <tr>\n",
       "      <th>0</th>\n",
       "      <td>100% Bran</td>\n",
       "      <td>N</td>\n",
       "      <td>C</td>\n",
       "      <td>70</td>\n",
       "      <td>4</td>\n",
       "      <td>1</td>\n",
       "      <td>130</td>\n",
       "      <td>10.0</td>\n",
       "      <td>5.0</td>\n",
       "      <td>6</td>\n",
       "      <td>280</td>\n",
       "      <td>25</td>\n",
       "      <td>3</td>\n",
       "      <td>1.0</td>\n",
       "      <td>0.33</td>\n",
       "      <td>68.402973</td>\n",
       "    </tr>\n",
       "    <tr>\n",
       "      <th>1</th>\n",
       "      <td>100% Natural Bran</td>\n",
       "      <td>Q</td>\n",
       "      <td>C</td>\n",
       "      <td>120</td>\n",
       "      <td>3</td>\n",
       "      <td>5</td>\n",
       "      <td>15</td>\n",
       "      <td>2.0</td>\n",
       "      <td>8.0</td>\n",
       "      <td>8</td>\n",
       "      <td>135</td>\n",
       "      <td>0</td>\n",
       "      <td>3</td>\n",
       "      <td>1.0</td>\n",
       "      <td>1.00</td>\n",
       "      <td>33.983679</td>\n",
       "    </tr>\n",
       "    <tr>\n",
       "      <th>2</th>\n",
       "      <td>All-Bran</td>\n",
       "      <td>K</td>\n",
       "      <td>C</td>\n",
       "      <td>70</td>\n",
       "      <td>4</td>\n",
       "      <td>1</td>\n",
       "      <td>260</td>\n",
       "      <td>9.0</td>\n",
       "      <td>7.0</td>\n",
       "      <td>5</td>\n",
       "      <td>320</td>\n",
       "      <td>25</td>\n",
       "      <td>3</td>\n",
       "      <td>1.0</td>\n",
       "      <td>0.33</td>\n",
       "      <td>59.425505</td>\n",
       "    </tr>\n",
       "    <tr>\n",
       "      <th>3</th>\n",
       "      <td>All-Bran with Extra Fiber</td>\n",
       "      <td>K</td>\n",
       "      <td>C</td>\n",
       "      <td>50</td>\n",
       "      <td>4</td>\n",
       "      <td>0</td>\n",
       "      <td>140</td>\n",
       "      <td>14.0</td>\n",
       "      <td>8.0</td>\n",
       "      <td>0</td>\n",
       "      <td>330</td>\n",
       "      <td>25</td>\n",
       "      <td>3</td>\n",
       "      <td>1.0</td>\n",
       "      <td>0.50</td>\n",
       "      <td>93.704912</td>\n",
       "    </tr>\n",
       "    <tr>\n",
       "      <th>4</th>\n",
       "      <td>Almond Delight</td>\n",
       "      <td>R</td>\n",
       "      <td>C</td>\n",
       "      <td>110</td>\n",
       "      <td>2</td>\n",
       "      <td>2</td>\n",
       "      <td>200</td>\n",
       "      <td>1.0</td>\n",
       "      <td>14.0</td>\n",
       "      <td>8</td>\n",
       "      <td>-1</td>\n",
       "      <td>25</td>\n",
       "      <td>3</td>\n",
       "      <td>1.0</td>\n",
       "      <td>0.75</td>\n",
       "      <td>34.384843</td>\n",
       "    </tr>\n",
       "    <tr>\n",
       "      <th>...</th>\n",
       "      <td>...</td>\n",
       "      <td>...</td>\n",
       "      <td>...</td>\n",
       "      <td>...</td>\n",
       "      <td>...</td>\n",
       "      <td>...</td>\n",
       "      <td>...</td>\n",
       "      <td>...</td>\n",
       "      <td>...</td>\n",
       "      <td>...</td>\n",
       "      <td>...</td>\n",
       "      <td>...</td>\n",
       "      <td>...</td>\n",
       "      <td>...</td>\n",
       "      <td>...</td>\n",
       "      <td>...</td>\n",
       "    </tr>\n",
       "    <tr>\n",
       "      <th>72</th>\n",
       "      <td>Triples</td>\n",
       "      <td>G</td>\n",
       "      <td>C</td>\n",
       "      <td>110</td>\n",
       "      <td>2</td>\n",
       "      <td>1</td>\n",
       "      <td>250</td>\n",
       "      <td>0.0</td>\n",
       "      <td>21.0</td>\n",
       "      <td>3</td>\n",
       "      <td>60</td>\n",
       "      <td>25</td>\n",
       "      <td>3</td>\n",
       "      <td>1.0</td>\n",
       "      <td>0.75</td>\n",
       "      <td>39.106174</td>\n",
       "    </tr>\n",
       "    <tr>\n",
       "      <th>73</th>\n",
       "      <td>Trix</td>\n",
       "      <td>G</td>\n",
       "      <td>C</td>\n",
       "      <td>110</td>\n",
       "      <td>1</td>\n",
       "      <td>1</td>\n",
       "      <td>140</td>\n",
       "      <td>0.0</td>\n",
       "      <td>13.0</td>\n",
       "      <td>12</td>\n",
       "      <td>25</td>\n",
       "      <td>25</td>\n",
       "      <td>2</td>\n",
       "      <td>1.0</td>\n",
       "      <td>1.00</td>\n",
       "      <td>27.753301</td>\n",
       "    </tr>\n",
       "    <tr>\n",
       "      <th>74</th>\n",
       "      <td>Wheat Chex</td>\n",
       "      <td>R</td>\n",
       "      <td>C</td>\n",
       "      <td>100</td>\n",
       "      <td>3</td>\n",
       "      <td>1</td>\n",
       "      <td>230</td>\n",
       "      <td>3.0</td>\n",
       "      <td>17.0</td>\n",
       "      <td>3</td>\n",
       "      <td>115</td>\n",
       "      <td>25</td>\n",
       "      <td>1</td>\n",
       "      <td>1.0</td>\n",
       "      <td>0.67</td>\n",
       "      <td>49.787445</td>\n",
       "    </tr>\n",
       "    <tr>\n",
       "      <th>75</th>\n",
       "      <td>Wheaties</td>\n",
       "      <td>G</td>\n",
       "      <td>C</td>\n",
       "      <td>100</td>\n",
       "      <td>3</td>\n",
       "      <td>1</td>\n",
       "      <td>200</td>\n",
       "      <td>3.0</td>\n",
       "      <td>17.0</td>\n",
       "      <td>3</td>\n",
       "      <td>110</td>\n",
       "      <td>25</td>\n",
       "      <td>1</td>\n",
       "      <td>1.0</td>\n",
       "      <td>1.00</td>\n",
       "      <td>51.592193</td>\n",
       "    </tr>\n",
       "    <tr>\n",
       "      <th>76</th>\n",
       "      <td>Wheaties Honey Gold</td>\n",
       "      <td>G</td>\n",
       "      <td>C</td>\n",
       "      <td>110</td>\n",
       "      <td>2</td>\n",
       "      <td>1</td>\n",
       "      <td>200</td>\n",
       "      <td>1.0</td>\n",
       "      <td>16.0</td>\n",
       "      <td>8</td>\n",
       "      <td>60</td>\n",
       "      <td>25</td>\n",
       "      <td>1</td>\n",
       "      <td>1.0</td>\n",
       "      <td>0.75</td>\n",
       "      <td>36.187559</td>\n",
       "    </tr>\n",
       "  </tbody>\n",
       "</table>\n",
       "<p>77 rows × 16 columns</p>\n",
       "</div>"
      ],
      "text/plain": [
       "                         name mfr type  calories  protein  fat  sodium  fiber  \\\n",
       "0                   100% Bran   N    C        70        4    1     130   10.0   \n",
       "1           100% Natural Bran   Q    C       120        3    5      15    2.0   \n",
       "2                    All-Bran   K    C        70        4    1     260    9.0   \n",
       "3   All-Bran with Extra Fiber   K    C        50        4    0     140   14.0   \n",
       "4              Almond Delight   R    C       110        2    2     200    1.0   \n",
       "..                        ...  ..  ...       ...      ...  ...     ...    ...   \n",
       "72                    Triples   G    C       110        2    1     250    0.0   \n",
       "73                       Trix   G    C       110        1    1     140    0.0   \n",
       "74                 Wheat Chex   R    C       100        3    1     230    3.0   \n",
       "75                   Wheaties   G    C       100        3    1     200    3.0   \n",
       "76        Wheaties Honey Gold   G    C       110        2    1     200    1.0   \n",
       "\n",
       "    carbo  sugars  potass  vitamins  shelf  weight  cups     rating  \n",
       "0     5.0       6     280        25      3     1.0  0.33  68.402973  \n",
       "1     8.0       8     135         0      3     1.0  1.00  33.983679  \n",
       "2     7.0       5     320        25      3     1.0  0.33  59.425505  \n",
       "3     8.0       0     330        25      3     1.0  0.50  93.704912  \n",
       "4    14.0       8      -1        25      3     1.0  0.75  34.384843  \n",
       "..    ...     ...     ...       ...    ...     ...   ...        ...  \n",
       "72   21.0       3      60        25      3     1.0  0.75  39.106174  \n",
       "73   13.0      12      25        25      2     1.0  1.00  27.753301  \n",
       "74   17.0       3     115        25      1     1.0  0.67  49.787445  \n",
       "75   17.0       3     110        25      1     1.0  1.00  51.592193  \n",
       "76   16.0       8      60        25      1     1.0  0.75  36.187559  \n",
       "\n",
       "[77 rows x 16 columns]"
      ]
     },
     "execution_count": 41,
     "metadata": {},
     "output_type": "execute_result"
    }
   ],
   "source": [
    "df = pd.read_csv('data/cereals.csv', index_col=0)\n",
    "df"
   ]
  },
  {
   "cell_type": "markdown",
   "id": "8219ccdd-abe4-4c24-857f-8fd22b261fec",
   "metadata": {},
   "source": [
    "### co sa viem dozvediet o dataset?\n",
    "\n",
    "typ datasetu:"
   ]
  },
  {
   "cell_type": "code",
   "execution_count": 42,
   "id": "1fa709c1-3f4f-459d-aca6-5ce3b050d206",
   "metadata": {},
   "outputs": [
    {
     "data": {
      "text/plain": [
       "pandas.core.frame.DataFrame"
      ]
     },
     "execution_count": 42,
     "metadata": {},
     "output_type": "execute_result"
    }
   ],
   "source": [
    "type(df)"
   ]
  },
  {
   "cell_type": "markdown",
   "id": "45dc8e9f-4b3b-4bd5-887a-f67ab9f8bed7",
   "metadata": {},
   "source": [
    "info o datasete"
   ]
  },
  {
   "cell_type": "code",
   "execution_count": 43,
   "id": "7f470d34-7adb-4ab0-86dd-146469779084",
   "metadata": {},
   "outputs": [
    {
     "name": "stdout",
     "output_type": "stream",
     "text": [
      "<class 'pandas.core.frame.DataFrame'>\n",
      "Index: 77 entries, 0 to 76\n",
      "Data columns (total 16 columns):\n",
      " #   Column    Non-Null Count  Dtype  \n",
      "---  ------    --------------  -----  \n",
      " 0   name      77 non-null     object \n",
      " 1   mfr       77 non-null     object \n",
      " 2   type      77 non-null     object \n",
      " 3   calories  77 non-null     int64  \n",
      " 4   protein   77 non-null     int64  \n",
      " 5   fat       77 non-null     int64  \n",
      " 6   sodium    77 non-null     int64  \n",
      " 7   fiber     77 non-null     float64\n",
      " 8   carbo     77 non-null     float64\n",
      " 9   sugars    77 non-null     int64  \n",
      " 10  potass    77 non-null     int64  \n",
      " 11  vitamins  77 non-null     int64  \n",
      " 12  shelf     77 non-null     int64  \n",
      " 13  weight    77 non-null     float64\n",
      " 14  cups      77 non-null     float64\n",
      " 15  rating    77 non-null     float64\n",
      "dtypes: float64(5), int64(8), object(3)\n",
      "memory usage: 10.2+ KB\n"
     ]
    }
   ],
   "source": [
    "df.info()"
   ]
  },
  {
   "cell_type": "markdown",
   "id": "b731d5d8-6d49-438c-b309-0993544740cb",
   "metadata": {},
   "source": [
    "zoznam stlpcov a ich datovych typov"
   ]
  },
  {
   "cell_type": "code",
   "execution_count": 44,
   "id": "572de434-2525-48ee-80fa-72e4eecbc752",
   "metadata": {},
   "outputs": [
    {
     "data": {
      "text/plain": [
       "name         object\n",
       "mfr          object\n",
       "type         object\n",
       "calories      int64\n",
       "protein       int64\n",
       "fat           int64\n",
       "sodium        int64\n",
       "fiber       float64\n",
       "carbo       float64\n",
       "sugars        int64\n",
       "potass        int64\n",
       "vitamins      int64\n",
       "shelf         int64\n",
       "weight      float64\n",
       "cups        float64\n",
       "rating      float64\n",
       "dtype: object"
      ]
     },
     "execution_count": 44,
     "metadata": {},
     "output_type": "execute_result"
    }
   ],
   "source": [
    "df.dtypes"
   ]
  },
  {
   "cell_type": "markdown",
   "id": "940a5a9f-7006-41bd-9f63-780b6a31ce16",
   "metadata": {},
   "source": [
    "rozmer tabulky:"
   ]
  },
  {
   "cell_type": "code",
   "execution_count": 45,
   "id": "a20fd70a-cfd8-4e7c-a577-2498e1cea55f",
   "metadata": {},
   "outputs": [
    {
     "data": {
      "text/plain": [
       "(77, 16)"
      ]
     },
     "execution_count": 45,
     "metadata": {},
     "output_type": "execute_result"
    }
   ],
   "source": [
    "df.shape"
   ]
  },
  {
   "cell_type": "markdown",
   "id": "1dd9d0c1-30bf-458c-af1d-884375606480",
   "metadata": {},
   "source": [
    "praca so stlpcami"
   ]
  },
  {
   "cell_type": "code",
   "execution_count": 46,
   "id": "93caf4fb-5eb5-48c0-8914-46b3f7fd8af4",
   "metadata": {},
   "outputs": [
    {
     "data": {
      "text/plain": [
       "Index(['name', 'mfr', 'type', 'calories', 'protein', 'fat', 'sodium', 'fiber',\n",
       "       'carbo', 'sugars', 'potass', 'vitamins', 'shelf', 'weight', 'cups',\n",
       "       'rating'],\n",
       "      dtype='object')"
      ]
     },
     "execution_count": 46,
     "metadata": {},
     "output_type": "execute_result"
    }
   ],
   "source": [
    "df.columns"
   ]
  },
  {
   "cell_type": "code",
   "execution_count": 47,
   "id": "717b1b78-1a23-4c74-94f9-bd779aa7a4bd",
   "metadata": {},
   "outputs": [
    {
     "name": "stdout",
     "output_type": "stream",
     "text": [
      "name\n",
      "mfr\n",
      "type\n",
      "calories\n",
      "protein\n",
      "fat\n",
      "sodium\n",
      "fiber\n",
      "carbo\n",
      "sugars\n",
      "potass\n",
      "vitamins\n",
      "shelf\n",
      "weight\n",
      "cups\n",
      "rating\n"
     ]
    }
   ],
   "source": [
    "for column in df.columns:\n",
    "    print(column)"
   ]
  },
  {
   "cell_type": "code",
   "execution_count": 55,
   "id": "46e778f3-ea93-4aaa-a56b-7b82bf70b4f3",
   "metadata": {},
   "outputs": [
    {
     "data": {
      "text/plain": [
       "True"
      ]
     },
     "execution_count": 55,
     "metadata": {},
     "output_type": "execute_result"
    }
   ],
   "source": [
    "'protein' in df.columns"
   ]
  },
  {
   "cell_type": "code",
   "execution_count": 48,
   "id": "2563d204-b0a5-4674-8512-d31f31c0da6a",
   "metadata": {},
   "outputs": [
    {
     "data": {
      "text/plain": [
       "Index([ 0,  1,  2,  3,  4,  5,  6,  7,  8,  9, 10, 11, 12, 13, 14, 15, 16, 17,\n",
       "       18, 19, 20, 21, 22, 23, 24, 25, 26, 27, 28, 29, 30, 31, 32, 33, 34, 35,\n",
       "       36, 37, 38, 39, 40, 41, 42, 43, 44, 45, 46, 47, 48, 49, 50, 51, 52, 53,\n",
       "       54, 55, 56, 57, 58, 59, 60, 61, 62, 63, 64, 65, 66, 67, 68, 69, 70, 71,\n",
       "       72, 73, 74, 75, 76],\n",
       "      dtype='int64')"
      ]
     },
     "execution_count": 48,
     "metadata": {},
     "output_type": "execute_result"
    }
   ],
   "source": [
    "df.index"
   ]
  },
  {
   "cell_type": "markdown",
   "id": "88b76f18-34f4-47c8-8e7b-33e4f8708e73",
   "metadata": {},
   "source": [
    "ako zistit pocet riadkov?"
   ]
  },
  {
   "cell_type": "code",
   "execution_count": 51,
   "id": "b5ede76d-cf28-4226-a05b-f05146fe328a",
   "metadata": {},
   "outputs": [
    {
     "data": {
      "text/plain": [
       "(77, 16)"
      ]
     },
     "execution_count": 51,
     "metadata": {},
     "output_type": "execute_result"
    }
   ],
   "source": [
    "df.shape[0], df.shape[1]"
   ]
  },
  {
   "cell_type": "code",
   "execution_count": 52,
   "id": "088f379a-8b89-44ae-b84c-f1b797f2bc8c",
   "metadata": {},
   "outputs": [
    {
     "data": {
      "text/plain": [
       "77"
      ]
     },
     "execution_count": 52,
     "metadata": {},
     "output_type": "execute_result"
    }
   ],
   "source": [
    "len(df)"
   ]
  },
  {
   "cell_type": "markdown",
   "id": "a52c2ce7-aa20-40ed-be14-49143a2f3923",
   "metadata": {},
   "source": [
    "velkost tabulky (pocet riadkov * pocet stlpcov):"
   ]
  },
  {
   "cell_type": "code",
   "execution_count": 53,
   "id": "3544dd95-bc87-4872-8d1d-77e1707f0b3e",
   "metadata": {},
   "outputs": [
    {
     "data": {
      "text/plain": [
       "1232"
      ]
     },
     "execution_count": 53,
     "metadata": {},
     "output_type": "execute_result"
    }
   ],
   "source": [
    "df.size"
   ]
  },
  {
   "cell_type": "markdown",
   "id": "dc93d288-476a-47d5-903c-afaa6b9de86e",
   "metadata": {},
   "source": [
    "## Series\n",
    "\n",
    "stlpec v tabulke/dataframe-e"
   ]
  },
  {
   "cell_type": "code",
   "execution_count": 58,
   "id": "2a6f6feb-9230-41aa-a4ad-094ef6e9cd82",
   "metadata": {},
   "outputs": [
    {
     "data": {
      "text/plain": [
       "pandas.core.series.Series"
      ]
     },
     "execution_count": 58,
     "metadata": {},
     "output_type": "execute_result"
    }
   ],
   "source": [
    "s = df['name']\n",
    "type(s)"
   ]
  },
  {
   "cell_type": "code",
   "execution_count": 59,
   "id": "ce634acd-af7c-4af4-b5e0-977260c270a3",
   "metadata": {},
   "outputs": [
    {
     "data": {
      "text/plain": [
       "0                     100% Bran\n",
       "1             100% Natural Bran\n",
       "2                      All-Bran\n",
       "3     All-Bran with Extra Fiber\n",
       "4                Almond Delight\n",
       "                ...            \n",
       "72                      Triples\n",
       "73                         Trix\n",
       "74                   Wheat Chex\n",
       "75                     Wheaties\n",
       "76          Wheaties Honey Gold\n",
       "Name: name, Length: 77, dtype: object"
      ]
     },
     "execution_count": 59,
     "metadata": {},
     "output_type": "execute_result"
    }
   ],
   "source": [
    "s"
   ]
  },
  {
   "cell_type": "code",
   "execution_count": null,
   "id": "0abe97a5-3164-43ee-8723-c7f3498c2d12",
   "metadata": {},
   "outputs": [],
   "source": []
  }
 ],
 "metadata": {
  "kernelspec": {
   "display_name": "Python 3 (ipykernel)",
   "language": "python",
   "name": "python3"
  },
  "language_info": {
   "codemirror_mode": {
    "name": "ipython",
    "version": 3
   },
   "file_extension": ".py",
   "mimetype": "text/x-python",
   "name": "python",
   "nbconvert_exporter": "python",
   "pygments_lexer": "ipython3",
   "version": "3.10.12"
  }
 },
 "nbformat": 4,
 "nbformat_minor": 5
}
