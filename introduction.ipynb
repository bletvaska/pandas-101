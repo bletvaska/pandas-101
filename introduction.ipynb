{
 "cells": [
  {
   "cell_type": "markdown",
   "id": "f25c5ec7-7c11-48c9-b56b-181cc8f46d1b",
   "metadata": {},
   "source": [
    "# Hello Pandas!\n",
    "\n",
    "## Introduction\n",
    "\n",
    "Toto ~~nie~~ je **nie príliš stručný úvod** do *knižnice* [Pandas](https://pandas.pydata.org).\n",
    "\n",
    "Naše prostredie zostavíme nainštalovaním týchto balíkov:\n",
    "\n",
    "* [numpy](https://numpy.org)\n",
    "* [pandas](https://pandas.pydata.org)\n",
    "* [jupyterlab](https://jupyter.org)\n",
    "* ipython\n",
    "  "
   ]
  },
  {
   "cell_type": "markdown",
   "id": "a31f212c-2e1e-42e4-80e7-8abe81afd387",
   "metadata": {},
   "source": [
    "## How to Math in Markdown\n",
    "\n",
    "* inline zápis $a^2 + b^2 = c^2$\n",
    "* samostatne:\n",
    "   $$ a^2 + b^2 = c^2 $$\n",
    "  "
   ]
  },
  {
   "cell_type": "markdown",
   "id": "33b04fa8-bf64-49ef-bdf6-3dcacea766b8",
   "metadata": {},
   "source": [
    "## How to Code in Markdown\n",
    "\n",
    "```python\n",
    "#!/usr/bin/env python3\n",
    "\n",
    "def main():\n",
    "    print('hello world')\n",
    "\n",
    "if __name__ == '__main__':\n",
    "    main()\n",
    "```\n",
    "\n",
    "Použil som tu funkciu `print()`."
   ]
  },
  {
   "cell_type": "markdown",
   "id": "43be5e34-7472-4393-93ca-997fdb5aea3b",
   "metadata": {},
   "source": [
    "## Tables in Markdown\n",
    "\n",
    "| Meno | Skusenosti |\n",
    "|------|------------|\n",
    "| jano | ziadne     |\n",
    "| fero | masakrálne |\n"
   ]
  },
  {
   "cell_type": "markdown",
   "id": "bfff2c5c-a251-4c9d-b611-0a57fb62fe38",
   "metadata": {},
   "source": [
    "## Running Hello world"
   ]
  },
  {
   "cell_type": "code",
   "execution_count": null,
   "id": "90f30083-ae5c-4449-b586-83d7850c7c15",
   "metadata": {},
   "outputs": [],
   "source": [
    "def main():\n",
    "    print('Hello world!')\n",
    "\n",
    "if __name__ == '__main__':\n",
    "    main()"
   ]
  },
  {
   "cell_type": "markdown",
   "id": "effb60a3-bd0b-4cc3-8f56-880ea34415cb",
   "metadata": {},
   "source": [
    "## Lab #1: Median\n",
    "\n",
    "Naíšte funkciu s názvom `median()`. Táto funkcia dostane ako parameter zoznam čísiel. Vašou úlohou je vrátiť hodnotu mediánu z tohto zoznamu.\n",
    "\n",
    "### Príklady\n",
    "\n",
    "```python\n",
    ">>> median([1, 2, 3, 4, 5])\n",
    "3\n",
    ">>> median([10, 3, 9, 2, 4])\n",
    "# 2, 3, 4, 9, 10\n",
    "4\n",
    ">>> median([10, 40, 60, 20])\n",
    "# 10, 20, 40, 60\n",
    "30\n",
    "```\n",
    "\n",
    "### Riešenie"
   ]
  },
  {
   "cell_type": "code",
   "execution_count": 13,
   "id": "d1381e9f-ab70-47fc-b857-d70cd8dd904e",
   "metadata": {},
   "outputs": [],
   "source": [
    "def median(numbers: list) -> float:\n",
    "    numbers.sort()\n",
    "    length = len(numbers)\n",
    "    if length % 2 == 1:\n",
    "        return numbers[ length // 2 ]\n",
    "    else:\n",
    "        n1 = numbers[length // 2]\n",
    "        n2 = numbers[length // 2 - 1]\n",
    "        return (n1 + n2) / 2"
   ]
  },
  {
   "cell_type": "code",
   "execution_count": 14,
   "id": "6ff9abe8-96e4-4db3-9833-1d298487b8d5",
   "metadata": {},
   "outputs": [
    {
     "data": {
      "text/plain": [
       "3"
      ]
     },
     "execution_count": 14,
     "metadata": {},
     "output_type": "execute_result"
    }
   ],
   "source": [
    "median([1, 2, 3, 4, 5])"
   ]
  },
  {
   "cell_type": "code",
   "execution_count": 15,
   "id": "a2bdb8cc-284e-4e42-9c8e-302e37c802e3",
   "metadata": {},
   "outputs": [
    {
     "data": {
      "text/plain": [
       "4"
      ]
     },
     "execution_count": 15,
     "metadata": {},
     "output_type": "execute_result"
    }
   ],
   "source": [
    "median([10, 3, 9, 2, 4])"
   ]
  },
  {
   "cell_type": "code",
   "execution_count": 16,
   "id": "536ba965-f391-4230-88f1-5e163a0dd933",
   "metadata": {},
   "outputs": [
    {
     "data": {
      "text/plain": [
       "30.0"
      ]
     },
     "execution_count": 16,
     "metadata": {},
     "output_type": "execute_result"
    }
   ],
   "source": [
    "median([10, 40, 60, 20])"
   ]
  },
  {
   "cell_type": "markdown",
   "id": "9d9ff5a7-7278-47b9-ad51-79e68ae0a449",
   "metadata": {},
   "source": [
    "## Links\n",
    "\n",
    "* [Cheatsheet](https://www.markdownguide.org/cheat-sheet)"
   ]
  },
  {
   "cell_type": "code",
   "execution_count": null,
   "id": "61c5eb86-92dc-450f-8471-9f2dc16d3ba7",
   "metadata": {},
   "outputs": [],
   "source": []
  }
 ],
 "metadata": {
  "kernelspec": {
   "display_name": "Python 3 (ipykernel)",
   "language": "python",
   "name": "python3"
  },
  "language_info": {
   "codemirror_mode": {
    "name": "ipython",
    "version": 3
   },
   "file_extension": ".py",
   "mimetype": "text/x-python",
   "name": "python",
   "nbconvert_exporter": "python",
   "pygments_lexer": "ipython3",
   "version": "3.10.12"
  }
 },
 "nbformat": 4,
 "nbformat_minor": 5
}
