{
 "cells": [
  {
   "cell_type": "markdown",
   "id": "c6a65f6e-e87e-43b5-ac56-3603537705b6",
   "metadata": {},
   "source": [
    "# Titanic Disaster\n",
    "\n",
    "![Titanic realna fotka](https://raw.githubusercontent.com/Masterx-AI/Project_Titanic_Survival_Prediction_/main/titanic.jpg)\n",
    "\n",
    "originalny dataset z Kaggle.com je dostupny tu: https://www.kaggle.com/competitions/titanic"
   ]
  },
  {
   "cell_type": "code",
   "execution_count": null,
   "id": "6e4558be-18c8-4377-92ad-373236a44a31",
   "metadata": {},
   "outputs": [],
   "source": []
  }
 ],
 "metadata": {
  "kernelspec": {
   "display_name": "Python 3 (ipykernel)",
   "language": "python",
   "name": "python3"
  },
  "language_info": {
   "codemirror_mode": {
    "name": "ipython",
    "version": 3
   },
   "file_extension": ".py",
   "mimetype": "text/x-python",
   "name": "python",
   "nbconvert_exporter": "python",
   "pygments_lexer": "ipython3",
   "version": "3.10.12"
  }
 },
 "nbformat": 4,
 "nbformat_minor": 5
}
