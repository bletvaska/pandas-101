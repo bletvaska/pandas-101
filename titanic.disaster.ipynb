{
 "cells": [
  {
   "cell_type": "markdown",
   "id": "c6a65f6e-e87e-43b5-ac56-3603537705b6",
   "metadata": {},
   "source": [
    "# Titanic Disaster\n",
    "\n",
    "![Titanic realna fotka](https://raw.githubusercontent.com/Masterx-AI/Project_Titanic_Survival_Prediction_/main/titanic.jpg)\n",
    "\n",
    "originalny dataset z Kaggle.com je dostupny tu: https://www.kaggle.com/competitions/titanic"
   ]
  },
  {
   "cell_type": "markdown",
   "id": "1df8c108-ffcf-4c0a-8210-0ff67a6708f0",
   "metadata": {},
   "source": [
    "## Data Reorganization\n",
    "\n",
    "1. chceme spojit dataset `test.csv` s datasetom `train.csv`\n",
    "2. pozriet sa na duplikaty\n",
    "3. rozdelit stlpec `Name` na `firstname` a `lastname`"
   ]
  },
  {
   "cell_type": "markdown",
   "id": "3e3c19d3-09db-4ad3-b7a3-59cdfcaa7ad6",
   "metadata": {},
   "source": [
    "### 1. Spojenie datasetov"
   ]
  },
  {
   "cell_type": "code",
   "execution_count": 1,
   "id": "2f34f4f5-5604-444a-9c0d-573da9cc0339",
   "metadata": {},
   "outputs": [],
   "source": [
    "from pathlib import Path\n",
    "import pandas as pd\n",
    "\n",
    "path = Path('data/titanic')"
   ]
  },
  {
   "cell_type": "code",
   "execution_count": 10,
   "id": "de6dda3a-3bde-4ba3-ab66-c8826c59ac4a",
   "metadata": {},
   "outputs": [],
   "source": [
    "df_train = pd.read_csv(path / 'train.csv', index_col='PassengerId')\n",
    "df_test = pd.read_csv(path / 'test.csv', index_col='PassengerId')\n",
    "df_survival = pd.read_csv(path / 'gender_submission.csv', index_col='PassengerId')"
   ]
  },
  {
   "cell_type": "markdown",
   "id": "b9fb678f-f36b-4eed-ad49-0b4d137e3170",
   "metadata": {},
   "source": [
    "zobrazime si rozmery jedneho aj druheho dataset-u pomocou vlastnosti `.shape`:"
   ]
  },
  {
   "cell_type": "code",
   "execution_count": 12,
   "id": "7f179de1-8dd0-47c1-8bc2-1aedccfab1a7",
   "metadata": {},
   "outputs": [
    {
     "data": {
      "text/plain": [
       "((891, 11), (418, 10))"
      ]
     },
     "execution_count": 12,
     "metadata": {},
     "output_type": "execute_result"
    }
   ],
   "source": [
    "df_train.shape, df_test.shape"
   ]
  },
  {
   "cell_type": "markdown",
   "id": "4552baf6-647c-4595-873c-aff5fd80df29",
   "metadata": {},
   "source": [
    "ked sa pozrieme na ne blizsie, tak vieme, ze:\n",
    "\n",
    "* dataset `train` ma `891` riadkov a `11` stlpcov\n",
    "* dataset `test` ma `418` riadkov a `10` stlpcov\n",
    "\n",
    "po spojeni by sme mali v sucte `891 + 418 = 1309` riadkov. ale mame problem so stlpcami - su rozdielne. nemozeme spojit dva datasety, ktore maju rozdielny pocet stlpcov (iba ak by sme niektore vynechali alebo by se vytvorili prazdny stlpec).\n",
    "\n",
    "pozrime sa teda na to, aky stlpec nam chyba v dataset `test`:"
   ]
  },
  {
   "cell_type": "code",
   "execution_count": 14,
   "id": "c9000508-f309-4d82-8d67-ac31ce06e5a4",
   "metadata": {},
   "outputs": [
    {
     "data": {
      "text/plain": [
       "(Index(['Survived', 'Pclass', 'Name', 'Sex', 'Age', 'SibSp', 'Parch', 'Ticket',\n",
       "        'Fare', 'Cabin', 'Embarked'],\n",
       "       dtype='object'),\n",
       " Index(['Pclass', 'Name', 'Sex', 'Age', 'SibSp', 'Parch', 'Ticket', 'Fare',\n",
       "        'Cabin', 'Embarked'],\n",
       "       dtype='object'))"
      ]
     },
     "execution_count": 14,
     "metadata": {},
     "output_type": "execute_result"
    }
   ],
   "source": [
    "df_train.columns, df_test.columns"
   ]
  },
  {
   "cell_type": "markdown",
   "id": "43e3dd1c-d4b2-4f6d-9b3f-6bf3bcf76d52",
   "metadata": {},
   "source": [
    "a je to jasne. chyba nam hned prvy stlpec `Survived`. hodnoty tohto stlpca sa totiz nachadzaju v datasete `gender_submission.csv`. \n",
    "\n",
    "spojenie teda bude vyzerat takto:\n",
    "\n",
    "* najprv spojime datasety `gender_submission.csv` a `test.csv` na zaklade stlpca `PassengerId`\n",
    "* potom spojime datasety `train.csv` s vyslednym datasetom, ktory vznikol spojenim `gender_submission.csv` a `test.csv` rovnako na zaklade stlpca `PassengerId`"
   ]
  },
  {
   "cell_type": "code",
   "execution_count": 15,
   "id": "f6d17b8c-6231-42fc-8216-7f75d6ed8097",
   "metadata": {},
   "outputs": [],
   "source": [
    "# spojenie datasetov gender_submission.csv a test.csv\n"
   ]
  },
  {
   "cell_type": "code",
   "execution_count": 18,
   "id": "7c280bed-8062-4bee-9e9c-430b883ae422",
   "metadata": {},
   "outputs": [],
   "source": [
    "# spojenie dataset train.csv a vysledneho datasetu, ktory vznikol v predchadzajucom kroku\n"
   ]
  },
  {
   "cell_type": "code",
   "execution_count": null,
   "id": "da0c146c-d8d7-45cc-8150-61a018bd2674",
   "metadata": {},
   "outputs": [],
   "source": []
  }
 ],
 "metadata": {
  "kernelspec": {
   "display_name": "Python 3 (ipykernel)",
   "language": "python",
   "name": "python3"
  },
  "language_info": {
   "codemirror_mode": {
    "name": "ipython",
    "version": 3
   },
   "file_extension": ".py",
   "mimetype": "text/x-python",
   "name": "python",
   "nbconvert_exporter": "python",
   "pygments_lexer": "ipython3",
   "version": "3.10.12"
  }
 },
 "nbformat": 4,
 "nbformat_minor": 5
}
