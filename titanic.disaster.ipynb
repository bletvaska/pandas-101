{
 "cells": [
  {
   "cell_type": "markdown",
   "id": "c6a65f6e-e87e-43b5-ac56-3603537705b6",
   "metadata": {},
   "source": [
    "# Titanic Disaster\n",
    "\n",
    "![Titanic realna fotka](https://raw.githubusercontent.com/Masterx-AI/Project_Titanic_Survival_Prediction_/main/titanic.jpg)\n",
    "\n",
    "originalny dataset z Kaggle.com je dostupny tu: https://www.kaggle.com/competitions/titanic"
   ]
  },
  {
   "cell_type": "markdown",
   "id": "1df8c108-ffcf-4c0a-8210-0ff67a6708f0",
   "metadata": {},
   "source": [
    "## Data Reorganization\n",
    "\n",
    "1. chceme spojit dataset `test.csv` s datasetom `train.csv`\n",
    "2. pozriet sa na duplikaty\n",
    "3. rozdelit stlpec `Name` na `firstname` a `lastname`"
   ]
  },
  {
   "cell_type": "markdown",
   "id": "3e3c19d3-09db-4ad3-b7a3-59cdfcaa7ad6",
   "metadata": {},
   "source": [
    "### 1. Spojenie datasetov"
   ]
  },
  {
   "cell_type": "code",
   "execution_count": 1,
   "id": "2f34f4f5-5604-444a-9c0d-573da9cc0339",
   "metadata": {},
   "outputs": [],
   "source": [
    "from pathlib import Path\n",
    "import pandas as pd\n",
    "\n",
    "path = Path('data/titanic')"
   ]
  },
  {
   "cell_type": "code",
   "execution_count": 10,
   "id": "de6dda3a-3bde-4ba3-ab66-c8826c59ac4a",
   "metadata": {},
   "outputs": [],
   "source": [
    "df_train = pd.read_csv(path / 'train.csv', index_col='PassengerId')\n",
    "df_test = pd.read_csv(path / 'test.csv', index_col='PassengerId')\n",
    "df_survival = pd.read_csv(path / 'gender_submission.csv', index_col='PassengerId')"
   ]
  },
  {
   "cell_type": "code",
   "execution_count": 9,
   "id": "99328488-8845-402e-be2c-718fb29f9fad",
   "metadata": {},
   "outputs": [
    {
     "data": {
      "text/plain": [
       "(Index(['Survived', 'Pclass', 'Name', 'Sex', 'Age', 'SibSp', 'Parch', 'Ticket',\n",
       "        'Fare', 'Cabin', 'Embarked'],\n",
       "       dtype='object'),\n",
       " Index(['Pclass', 'Name', 'Sex', 'Age', 'SibSp', 'Parch', 'Ticket', 'Fare',\n",
       "        'Cabin', 'Embarked'],\n",
       "       dtype='object'))"
      ]
     },
     "execution_count": 9,
     "metadata": {},
     "output_type": "execute_result"
    }
   ],
   "source": [
    "df_train.columns, df_test.columns"
   ]
  },
  {
   "cell_type": "code",
   "execution_count": null,
   "id": "c9000508-f309-4d82-8d67-ac31ce06e5a4",
   "metadata": {},
   "outputs": [],
   "source": []
  }
 ],
 "metadata": {
  "kernelspec": {
   "display_name": "Python 3 (ipykernel)",
   "language": "python",
   "name": "python3"
  },
  "language_info": {
   "codemirror_mode": {
    "name": "ipython",
    "version": 3
   },
   "file_extension": ".py",
   "mimetype": "text/x-python",
   "name": "python",
   "nbconvert_exporter": "python",
   "pygments_lexer": "ipython3",
   "version": "3.10.12"
  }
 },
 "nbformat": 4,
 "nbformat_minor": 5
}
