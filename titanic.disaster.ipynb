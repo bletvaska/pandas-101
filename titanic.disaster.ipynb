{
 "cells": [
  {
   "cell_type": "markdown",
   "id": "c6a65f6e-e87e-43b5-ac56-3603537705b6",
   "metadata": {},
   "source": [
    "# Titanic Disaster\n",
    "\n",
    "![Titanic realna fotka](https://raw.githubusercontent.com/Masterx-AI/Project_Titanic_Survival_Prediction_/main/titanic.jpg)\n",
    "\n",
    "originalny dataset z Kaggle.com je dostupny tu: https://www.kaggle.com/competitions/titanic"
   ]
  },
  {
   "cell_type": "markdown",
   "id": "1df8c108-ffcf-4c0a-8210-0ff67a6708f0",
   "metadata": {},
   "source": [
    "## Data Reorganization\n",
    "\n",
    "1. chceme spojit dataset `test.csv` s datasetom `train.csv`\n",
    "2. pozriet sa na duplikaty\n",
    "3. rozdelit stlpec `Name` na `firstname` a `lastname`"
   ]
  },
  {
   "cell_type": "markdown",
   "id": "3e3c19d3-09db-4ad3-b7a3-59cdfcaa7ad6",
   "metadata": {},
   "source": [
    "### 1. Spojenie datasetov"
   ]
  },
  {
   "cell_type": "code",
   "execution_count": 1,
   "id": "2f34f4f5-5604-444a-9c0d-573da9cc0339",
   "metadata": {},
   "outputs": [],
   "source": [
    "from pathlib import Path\n",
    "import pandas as pd\n",
    "\n",
    "path = Path('data/titanic')"
   ]
  },
  {
   "cell_type": "code",
   "execution_count": 2,
   "id": "de6dda3a-3bde-4ba3-ab66-c8826c59ac4a",
   "metadata": {},
   "outputs": [],
   "source": [
    "df_train = pd.read_csv(path / 'train.csv', index_col='PassengerId')\n",
    "df_test = pd.read_csv(path / 'test.csv', index_col='PassengerId')"
   ]
  },
  {
   "cell_type": "markdown",
   "id": "b9fb678f-f36b-4eed-ad49-0b4d137e3170",
   "metadata": {},
   "source": [
    "zobrazime si rozmery jedneho aj druheho dataset-u pomocou vlastnosti `.shape`:"
   ]
  },
  {
   "cell_type": "code",
   "execution_count": 3,
   "id": "7f179de1-8dd0-47c1-8bc2-1aedccfab1a7",
   "metadata": {},
   "outputs": [
    {
     "data": {
      "text/plain": [
       "((891, 11), (418, 10))"
      ]
     },
     "execution_count": 3,
     "metadata": {},
     "output_type": "execute_result"
    }
   ],
   "source": [
    "df_train.shape, df_test.shape"
   ]
  },
  {
   "cell_type": "markdown",
   "id": "4552baf6-647c-4595-873c-aff5fd80df29",
   "metadata": {},
   "source": [
    "ked sa pozrieme na ne blizsie, tak vieme, ze:\n",
    "\n",
    "* dataset `train` ma `891` riadkov a `11` stlpcov\n",
    "* dataset `test` ma `418` riadkov a `10` stlpcov\n",
    "\n",
    "po spojeni by sme mali v sucte `891 + 418 = 1309` riadkov. ale mame problem so stlpcami - su rozdielne. nemozeme spojit dva datasety, ktore maju rozdielny pocet stlpcov (iba ak by sme niektore vynechali alebo by se vytvorili prazdny stlpec).\n",
    "\n",
    "pozrime sa teda na to, aky stlpec nam chyba v dataset `test`:"
   ]
  },
  {
   "cell_type": "code",
   "execution_count": 4,
   "id": "c9000508-f309-4d82-8d67-ac31ce06e5a4",
   "metadata": {},
   "outputs": [
    {
     "data": {
      "text/plain": [
       "(Index(['Survived', 'Pclass', 'Name', 'Sex', 'Age', 'SibSp', 'Parch', 'Ticket',\n",
       "        'Fare', 'Cabin', 'Embarked'],\n",
       "       dtype='object'),\n",
       " Index(['Pclass', 'Name', 'Sex', 'Age', 'SibSp', 'Parch', 'Ticket', 'Fare',\n",
       "        'Cabin', 'Embarked'],\n",
       "       dtype='object'))"
      ]
     },
     "execution_count": 4,
     "metadata": {},
     "output_type": "execute_result"
    }
   ],
   "source": [
    "df_train.columns, df_test.columns"
   ]
  },
  {
   "cell_type": "markdown",
   "id": "d09963c0-933f-44d3-8aaa-588fe88c6d43",
   "metadata": {},
   "source": [
    "a je to jasne. chyba nam hned prvy stlpec `Survived`. hodnoty tohto stlpca sa totiz nachadzaju v datasete `gender_submission.csv`. takze ho najprv nacitame:"
   ]
  },
  {
   "cell_type": "code",
   "execution_count": 5,
   "id": "029eceb3-8424-45c5-894e-8089f4577525",
   "metadata": {},
   "outputs": [],
   "source": [
    "df_survival = pd.read_csv(path / 'gender_submission.csv', index_col='PassengerId')"
   ]
  },
  {
   "cell_type": "markdown",
   "id": "43e3dd1c-d4b2-4f6d-9b3f-6bf3bcf76d52",
   "metadata": {},
   "source": [
    "spojenie teda bude vyzerat takto:\n",
    "\n",
    "* najprv spojime datasety `gender_submission.csv` a `test.csv` na zaklade stlpca `PassengerId`\n",
    "* potom spojime datasety `train.csv` s vyslednym datasetom, ktory vznikol spojenim `gender_submission.csv` a `test.csv` rovnako na zaklade stlpca `PassengerId`"
   ]
  },
  {
   "cell_type": "code",
   "execution_count": 6,
   "id": "f6d17b8c-6231-42fc-8216-7f75d6ed8097",
   "metadata": {},
   "outputs": [],
   "source": [
    "# spojenie datasetov gender_submission.csv a test.csv\n",
    "df_merged = df_test.merge(df_survival, on='PassengerId', how='left')"
   ]
  },
  {
   "cell_type": "code",
   "execution_count": 7,
   "id": "7c280bed-8062-4bee-9e9c-430b883ae422",
   "metadata": {},
   "outputs": [],
   "source": [
    "# spojenie dataset train.csv a vysledneho datasetu, ktory vznikol v predchadzajucom kroku\n",
    "# df_merged.merge(df_train, how='outer')\n",
    "passengers = pd.concat( [df_train, df_merged] )"
   ]
  },
  {
   "cell_type": "code",
   "execution_count": 8,
   "id": "da0c146c-d8d7-45cc-8150-61a018bd2674",
   "metadata": {},
   "outputs": [
    {
     "data": {
      "text/html": [
       "<div>\n",
       "<style scoped>\n",
       "    .dataframe tbody tr th:only-of-type {\n",
       "        vertical-align: middle;\n",
       "    }\n",
       "\n",
       "    .dataframe tbody tr th {\n",
       "        vertical-align: top;\n",
       "    }\n",
       "\n",
       "    .dataframe thead th {\n",
       "        text-align: right;\n",
       "    }\n",
       "</style>\n",
       "<table border=\"1\" class=\"dataframe\">\n",
       "  <thead>\n",
       "    <tr style=\"text-align: right;\">\n",
       "      <th></th>\n",
       "      <th>Survived</th>\n",
       "      <th>Pclass</th>\n",
       "      <th>Name</th>\n",
       "      <th>Sex</th>\n",
       "      <th>Age</th>\n",
       "      <th>SibSp</th>\n",
       "      <th>Parch</th>\n",
       "      <th>Ticket</th>\n",
       "      <th>Fare</th>\n",
       "      <th>Cabin</th>\n",
       "      <th>Embarked</th>\n",
       "    </tr>\n",
       "    <tr>\n",
       "      <th>PassengerId</th>\n",
       "      <th></th>\n",
       "      <th></th>\n",
       "      <th></th>\n",
       "      <th></th>\n",
       "      <th></th>\n",
       "      <th></th>\n",
       "      <th></th>\n",
       "      <th></th>\n",
       "      <th></th>\n",
       "      <th></th>\n",
       "      <th></th>\n",
       "    </tr>\n",
       "  </thead>\n",
       "  <tbody>\n",
       "    <tr>\n",
       "      <th>1</th>\n",
       "      <td>0</td>\n",
       "      <td>3</td>\n",
       "      <td>Braund, Mr. Owen Harris</td>\n",
       "      <td>male</td>\n",
       "      <td>22.0</td>\n",
       "      <td>1</td>\n",
       "      <td>0</td>\n",
       "      <td>A/5 21171</td>\n",
       "      <td>7.2500</td>\n",
       "      <td>NaN</td>\n",
       "      <td>S</td>\n",
       "    </tr>\n",
       "    <tr>\n",
       "      <th>2</th>\n",
       "      <td>1</td>\n",
       "      <td>1</td>\n",
       "      <td>Cumings, Mrs. John Bradley (Florence Briggs Th...</td>\n",
       "      <td>female</td>\n",
       "      <td>38.0</td>\n",
       "      <td>1</td>\n",
       "      <td>0</td>\n",
       "      <td>PC 17599</td>\n",
       "      <td>71.2833</td>\n",
       "      <td>C85</td>\n",
       "      <td>C</td>\n",
       "    </tr>\n",
       "    <tr>\n",
       "      <th>3</th>\n",
       "      <td>1</td>\n",
       "      <td>3</td>\n",
       "      <td>Heikkinen, Miss. Laina</td>\n",
       "      <td>female</td>\n",
       "      <td>26.0</td>\n",
       "      <td>0</td>\n",
       "      <td>0</td>\n",
       "      <td>STON/O2. 3101282</td>\n",
       "      <td>7.9250</td>\n",
       "      <td>NaN</td>\n",
       "      <td>S</td>\n",
       "    </tr>\n",
       "    <tr>\n",
       "      <th>4</th>\n",
       "      <td>1</td>\n",
       "      <td>1</td>\n",
       "      <td>Futrelle, Mrs. Jacques Heath (Lily May Peel)</td>\n",
       "      <td>female</td>\n",
       "      <td>35.0</td>\n",
       "      <td>1</td>\n",
       "      <td>0</td>\n",
       "      <td>113803</td>\n",
       "      <td>53.1000</td>\n",
       "      <td>C123</td>\n",
       "      <td>S</td>\n",
       "    </tr>\n",
       "    <tr>\n",
       "      <th>5</th>\n",
       "      <td>0</td>\n",
       "      <td>3</td>\n",
       "      <td>Allen, Mr. William Henry</td>\n",
       "      <td>male</td>\n",
       "      <td>35.0</td>\n",
       "      <td>0</td>\n",
       "      <td>0</td>\n",
       "      <td>373450</td>\n",
       "      <td>8.0500</td>\n",
       "      <td>NaN</td>\n",
       "      <td>S</td>\n",
       "    </tr>\n",
       "    <tr>\n",
       "      <th>...</th>\n",
       "      <td>...</td>\n",
       "      <td>...</td>\n",
       "      <td>...</td>\n",
       "      <td>...</td>\n",
       "      <td>...</td>\n",
       "      <td>...</td>\n",
       "      <td>...</td>\n",
       "      <td>...</td>\n",
       "      <td>...</td>\n",
       "      <td>...</td>\n",
       "      <td>...</td>\n",
       "    </tr>\n",
       "    <tr>\n",
       "      <th>1305</th>\n",
       "      <td>0</td>\n",
       "      <td>3</td>\n",
       "      <td>Spector, Mr. Woolf</td>\n",
       "      <td>male</td>\n",
       "      <td>NaN</td>\n",
       "      <td>0</td>\n",
       "      <td>0</td>\n",
       "      <td>A.5. 3236</td>\n",
       "      <td>8.0500</td>\n",
       "      <td>NaN</td>\n",
       "      <td>S</td>\n",
       "    </tr>\n",
       "    <tr>\n",
       "      <th>1306</th>\n",
       "      <td>1</td>\n",
       "      <td>1</td>\n",
       "      <td>Oliva y Ocana, Dona. Fermina</td>\n",
       "      <td>female</td>\n",
       "      <td>39.0</td>\n",
       "      <td>0</td>\n",
       "      <td>0</td>\n",
       "      <td>PC 17758</td>\n",
       "      <td>108.9000</td>\n",
       "      <td>C105</td>\n",
       "      <td>C</td>\n",
       "    </tr>\n",
       "    <tr>\n",
       "      <th>1307</th>\n",
       "      <td>0</td>\n",
       "      <td>3</td>\n",
       "      <td>Saether, Mr. Simon Sivertsen</td>\n",
       "      <td>male</td>\n",
       "      <td>38.5</td>\n",
       "      <td>0</td>\n",
       "      <td>0</td>\n",
       "      <td>SOTON/O.Q. 3101262</td>\n",
       "      <td>7.2500</td>\n",
       "      <td>NaN</td>\n",
       "      <td>S</td>\n",
       "    </tr>\n",
       "    <tr>\n",
       "      <th>1308</th>\n",
       "      <td>0</td>\n",
       "      <td>3</td>\n",
       "      <td>Ware, Mr. Frederick</td>\n",
       "      <td>male</td>\n",
       "      <td>NaN</td>\n",
       "      <td>0</td>\n",
       "      <td>0</td>\n",
       "      <td>359309</td>\n",
       "      <td>8.0500</td>\n",
       "      <td>NaN</td>\n",
       "      <td>S</td>\n",
       "    </tr>\n",
       "    <tr>\n",
       "      <th>1309</th>\n",
       "      <td>0</td>\n",
       "      <td>3</td>\n",
       "      <td>Peter, Master. Michael J</td>\n",
       "      <td>male</td>\n",
       "      <td>NaN</td>\n",
       "      <td>1</td>\n",
       "      <td>1</td>\n",
       "      <td>2668</td>\n",
       "      <td>22.3583</td>\n",
       "      <td>NaN</td>\n",
       "      <td>C</td>\n",
       "    </tr>\n",
       "  </tbody>\n",
       "</table>\n",
       "<p>1309 rows × 11 columns</p>\n",
       "</div>"
      ],
      "text/plain": [
       "             Survived  Pclass  \\\n",
       "PassengerId                     \n",
       "1                   0       3   \n",
       "2                   1       1   \n",
       "3                   1       3   \n",
       "4                   1       1   \n",
       "5                   0       3   \n",
       "...               ...     ...   \n",
       "1305                0       3   \n",
       "1306                1       1   \n",
       "1307                0       3   \n",
       "1308                0       3   \n",
       "1309                0       3   \n",
       "\n",
       "                                                          Name     Sex   Age  \\\n",
       "PassengerId                                                                    \n",
       "1                                      Braund, Mr. Owen Harris    male  22.0   \n",
       "2            Cumings, Mrs. John Bradley (Florence Briggs Th...  female  38.0   \n",
       "3                                       Heikkinen, Miss. Laina  female  26.0   \n",
       "4                 Futrelle, Mrs. Jacques Heath (Lily May Peel)  female  35.0   \n",
       "5                                     Allen, Mr. William Henry    male  35.0   \n",
       "...                                                        ...     ...   ...   \n",
       "1305                                        Spector, Mr. Woolf    male   NaN   \n",
       "1306                              Oliva y Ocana, Dona. Fermina  female  39.0   \n",
       "1307                              Saether, Mr. Simon Sivertsen    male  38.5   \n",
       "1308                                       Ware, Mr. Frederick    male   NaN   \n",
       "1309                                  Peter, Master. Michael J    male   NaN   \n",
       "\n",
       "             SibSp  Parch              Ticket      Fare Cabin Embarked  \n",
       "PassengerId                                                             \n",
       "1                1      0           A/5 21171    7.2500   NaN        S  \n",
       "2                1      0            PC 17599   71.2833   C85        C  \n",
       "3                0      0    STON/O2. 3101282    7.9250   NaN        S  \n",
       "4                1      0              113803   53.1000  C123        S  \n",
       "5                0      0              373450    8.0500   NaN        S  \n",
       "...            ...    ...                 ...       ...   ...      ...  \n",
       "1305             0      0           A.5. 3236    8.0500   NaN        S  \n",
       "1306             0      0            PC 17758  108.9000  C105        C  \n",
       "1307             0      0  SOTON/O.Q. 3101262    7.2500   NaN        S  \n",
       "1308             0      0              359309    8.0500   NaN        S  \n",
       "1309             1      1                2668   22.3583   NaN        C  \n",
       "\n",
       "[1309 rows x 11 columns]"
      ]
     },
     "execution_count": 8,
     "metadata": {},
     "output_type": "execute_result"
    }
   ],
   "source": [
    "passengers"
   ]
  },
  {
   "cell_type": "code",
   "execution_count": 9,
   "id": "55898a78-cf57-4d8b-b68e-1d56f98412ad",
   "metadata": {},
   "outputs": [],
   "source": [
    "passengers['lastname'] = passengers['Name'].str.split(',', expand=True)[0]\n",
    "passengers['firstname'] = passengers['Name'].str.split(',', expand=True)[1]"
   ]
  },
  {
   "cell_type": "code",
   "execution_count": 10,
   "id": "89f58a39-0694-423a-acb9-331307840134",
   "metadata": {},
   "outputs": [],
   "source": [
    "df = passengers"
   ]
  },
  {
   "cell_type": "markdown",
   "id": "c7dbcf68-ec13-4c1f-a620-789bda34e1c8",
   "metadata": {},
   "source": [
    "## Otazky ohladom Titanku\n",
    "\n",
    "1. Koľko detí bolo na Titaniku? (do 18 rokov)\n",
    "2. Koľko žien prežilo a koľko mužov prežilo? A koľko mužov a koľko žien tam vlastne bolo?\n",
    "3. Najstarší a najmladší pasažier? Najmladšia a najstaršia žena/muž?\n",
    "4. Koľko pasažierov prežilo z jednotlivých tried?\n",
    "5. Koľko bolo na palube Jackov? A koľko tam bolo Rose?\n",
    "6. Koľko bola priemerná cena lístka pre príslušnú triedu pasažierov?\n",
    "7. Koľko pasažierov nastúpilo v jednotlivých prístavoch?\n",
    "8. Čo všetko malo vplyv na to, že pasažier prežil? (vek, pohlavie, vrstva, na ktorej bol palube, ...)"
   ]
  },
  {
   "cell_type": "markdown",
   "id": "5a116b89-2b88-43af-996b-0eec0d321133",
   "metadata": {},
   "source": [
    "### 1. Koľko detí bolo na Titaniku? (do 18 rokov)\n"
   ]
  },
  {
   "cell_type": "code",
   "execution_count": 11,
   "id": "d201357c-cefc-48a9-a057-6ad54afbda61",
   "metadata": {},
   "outputs": [
    {
     "data": {
      "text/plain": [
       "154"
      ]
     },
     "execution_count": 11,
     "metadata": {},
     "output_type": "execute_result"
    }
   ],
   "source": [
    "filter_is_kid = df['Age'] < 18\n",
    "len(df.loc[ filter_is_kid, : ])"
   ]
  },
  {
   "cell_type": "markdown",
   "id": "3113c2c8-a5cd-4ce5-8ec5-71aa1e019aea",
   "metadata": {},
   "source": [
    "### 2. Koľko žien prežilo a koľko mužov prežilo? A koľko mužov a koľko žien tam vlastne bolo?\n"
   ]
  },
  {
   "cell_type": "code",
   "execution_count": 12,
   "id": "0af339f5-34ad-4a89-8303-4ffccc44e080",
   "metadata": {},
   "outputs": [
    {
     "data": {
      "text/plain": [
       "843"
      ]
     },
     "execution_count": 12,
     "metadata": {},
     "output_type": "execute_result"
    }
   ],
   "source": [
    "# kolko muzov\n",
    "filter_is_male = df['Sex'] == 'male'\n",
    "len(df.loc[ filter_is_male, : ])"
   ]
  },
  {
   "cell_type": "code",
   "execution_count": 13,
   "id": "5ea1b153-dc4c-4ff2-ac00-a7a90af9bc80",
   "metadata": {},
   "outputs": [
    {
     "data": {
      "text/plain": [
       "466"
      ]
     },
     "execution_count": 13,
     "metadata": {},
     "output_type": "execute_result"
    }
   ],
   "source": [
    "# kolko bolo zien\n",
    "df.loc[ ~filter_is_male, 'Sex' ].count()"
   ]
  },
  {
   "cell_type": "code",
   "execution_count": 14,
   "id": "acb44c31-f7b8-41c7-b6e5-87e5fe7e313c",
   "metadata": {},
   "outputs": [
    {
     "data": {
      "text/plain": [
       "109"
      ]
     },
     "execution_count": 14,
     "metadata": {},
     "output_type": "execute_result"
    }
   ],
   "source": [
    "# kolko prezilo muzov\n",
    "filter_has_survived = df['Survived'] == 1\n",
    "df.loc[ filter_is_male & filter_has_survived, 'Sex' ].count()"
   ]
  },
  {
   "cell_type": "code",
   "execution_count": 15,
   "id": "bddfac30-3964-40b8-a5c0-016ae70741b3",
   "metadata": {},
   "outputs": [
    {
     "data": {
      "text/plain": [
       "385"
      ]
     },
     "execution_count": 15,
     "metadata": {},
     "output_type": "execute_result"
    }
   ],
   "source": [
    "# kolko prezilo zien\n",
    "df.loc[ ~filter_is_male & filter_has_survived, 'Sex' ].count()"
   ]
  },
  {
   "cell_type": "code",
   "execution_count": 72,
   "id": "025fd079-027b-448c-870b-0ac8f6d2ce4e",
   "metadata": {},
   "outputs": [
    {
     "data": {
      "text/plain": [
       "Sex\n",
       "female    466\n",
       "male      843\n",
       "Name: Sex, dtype: int64"
      ]
     },
     "execution_count": 72,
     "metadata": {},
     "output_type": "execute_result"
    }
   ],
   "source": [
    "# group by - kolko muzov a kolko zien\n",
    "df.groupby('Sex')['Sex'].count()"
   ]
  },
  {
   "cell_type": "code",
   "execution_count": 117,
   "id": "6e6c981c-c3f3-4dd0-bd9e-b6bd49c65488",
   "metadata": {},
   "outputs": [
    {
     "data": {
      "text/plain": [
       "<matplotlib.collections.LineCollection at 0x7f4e0455b310>"
      ]
     },
     "execution_count": 117,
     "metadata": {},
     "output_type": "execute_result"
    },
    {
     "data": {
      "image/png": "[encoded data removed]",
      "text/plain": [
       "<Figure size 640x480 with 1 Axes>"
      ]
     },
     "metadata": {},
     "output_type": "display_data"
    }
   ],
   "source": [
    "df.groupby('Sex')['Sex'].count().plot(\n",
    "    kind='bar', \n",
    "    title='Počet mužov a žien',\n",
    "    xlabel='pohlavie',\n",
    "    ylabel='počet',\n",
    "    legend=True\n",
    ")"
   ]
  },
  {
   "cell_type": "code",
   "execution_count": 17,
   "id": "eb60304d-3d1b-44ea-91d7-6d59f3e1022d",
   "metadata": {},
   "outputs": [
    {
     "data": {
      "text/plain": [
       "Sex\n",
       "female    385\n",
       "male      109\n",
       "Name: Sex, dtype: int64"
      ]
     },
     "execution_count": 17,
     "metadata": {},
     "output_type": "execute_result"
    }
   ],
   "source": [
    "# \n",
    "df.groupby(['Sex', 'Survived'])['Sex'].count()\n",
    "df[ filter_has_survived ].groupby('Sex')['Sex'].count()"
   ]
  },
  {
   "cell_type": "markdown",
   "id": "7405cdf7-a1b5-43a5-962f-2713487529d2",
   "metadata": {},
   "source": [
    "### 3. Najstarší a najmladší pasažier? Najmladšia a najstaršia žena/muž?"
   ]
  },
  {
   "cell_type": "code",
   "execution_count": 18,
   "id": "85af1336-2bf3-4767-abf6-77ebfb734d87",
   "metadata": {},
   "outputs": [],
   "source": [
    "# filtre pre max a min vek\n",
    "filter_max_age = df['Age'] == df['Age'].max()\n",
    "filter_min_age = df['Age'] == df['Age'].min()"
   ]
  },
  {
   "cell_type": "code",
   "execution_count": 19,
   "id": "655cfe66-7f9c-4a46-a4d0-93986fa71f64",
   "metadata": {},
   "outputs": [
    {
     "data": {
      "text/html": [
       "<div>\n",
       "<style scoped>\n",
       "    .dataframe tbody tr th:only-of-type {\n",
       "        vertical-align: middle;\n",
       "    }\n",
       "\n",
       "    .dataframe tbody tr th {\n",
       "        vertical-align: top;\n",
       "    }\n",
       "\n",
       "    .dataframe thead th {\n",
       "        text-align: right;\n",
       "    }\n",
       "</style>\n",
       "<table border=\"1\" class=\"dataframe\">\n",
       "  <thead>\n",
       "    <tr style=\"text-align: right;\">\n",
       "      <th></th>\n",
       "      <th>Name</th>\n",
       "      <th>Age</th>\n",
       "      <th>Sex</th>\n",
       "    </tr>\n",
       "    <tr>\n",
       "      <th>PassengerId</th>\n",
       "      <th></th>\n",
       "      <th></th>\n",
       "      <th></th>\n",
       "    </tr>\n",
       "  </thead>\n",
       "  <tbody>\n",
       "    <tr>\n",
       "      <th>1246</th>\n",
       "      <td>Dean, Miss. Elizabeth Gladys Millvina\"\"</td>\n",
       "      <td>0.17</td>\n",
       "      <td>female</td>\n",
       "    </tr>\n",
       "  </tbody>\n",
       "</table>\n",
       "</div>"
      ],
      "text/plain": [
       "                                                Name   Age     Sex\n",
       "PassengerId                                                       \n",
       "1246         Dean, Miss. Elizabeth Gladys Millvina\"\"  0.17  female"
      ]
     },
     "execution_count": 19,
     "metadata": {},
     "output_type": "execute_result"
    }
   ],
   "source": [
    "# najmladsi pasazier\n",
    "df.loc[ filter_min_age, ('Name', 'Age', 'Sex') ]"
   ]
  },
  {
   "cell_type": "code",
   "execution_count": 20,
   "id": "49451d46-a687-4aed-9134-8cfbd80437db",
   "metadata": {},
   "outputs": [
    {
     "data": {
      "text/html": [
       "<div>\n",
       "<style scoped>\n",
       "    .dataframe tbody tr th:only-of-type {\n",
       "        vertical-align: middle;\n",
       "    }\n",
       "\n",
       "    .dataframe tbody tr th {\n",
       "        vertical-align: top;\n",
       "    }\n",
       "\n",
       "    .dataframe thead th {\n",
       "        text-align: right;\n",
       "    }\n",
       "</style>\n",
       "<table border=\"1\" class=\"dataframe\">\n",
       "  <thead>\n",
       "    <tr style=\"text-align: right;\">\n",
       "      <th></th>\n",
       "      <th>Name</th>\n",
       "      <th>Age</th>\n",
       "      <th>Sex</th>\n",
       "    </tr>\n",
       "    <tr>\n",
       "      <th>PassengerId</th>\n",
       "      <th></th>\n",
       "      <th></th>\n",
       "      <th></th>\n",
       "    </tr>\n",
       "  </thead>\n",
       "  <tbody>\n",
       "    <tr>\n",
       "      <th>631</th>\n",
       "      <td>Barkworth, Mr. Algernon Henry Wilson</td>\n",
       "      <td>80.0</td>\n",
       "      <td>male</td>\n",
       "    </tr>\n",
       "  </tbody>\n",
       "</table>\n",
       "</div>"
      ],
      "text/plain": [
       "                                             Name   Age   Sex\n",
       "PassengerId                                                  \n",
       "631          Barkworth, Mr. Algernon Henry Wilson  80.0  male"
      ]
     },
     "execution_count": 20,
     "metadata": {},
     "output_type": "execute_result"
    }
   ],
   "source": [
    "# najtarsi pasazier\n",
    "df.loc [ filter_max_age, ('Name', 'Age', 'Sex') ]"
   ]
  },
  {
   "cell_type": "code",
   "execution_count": 21,
   "id": "d1f845c0-f210-41c6-ab9b-ed43fc746e24",
   "metadata": {},
   "outputs": [
    {
     "data": {
      "text/html": [
       "<div>\n",
       "<style scoped>\n",
       "    .dataframe tbody tr th:only-of-type {\n",
       "        vertical-align: middle;\n",
       "    }\n",
       "\n",
       "    .dataframe tbody tr th {\n",
       "        vertical-align: top;\n",
       "    }\n",
       "\n",
       "    .dataframe thead th {\n",
       "        text-align: right;\n",
       "    }\n",
       "</style>\n",
       "<table border=\"1\" class=\"dataframe\">\n",
       "  <thead>\n",
       "    <tr style=\"text-align: right;\">\n",
       "      <th></th>\n",
       "      <th>Name</th>\n",
       "      <th>Age</th>\n",
       "      <th>Sex</th>\n",
       "    </tr>\n",
       "    <tr>\n",
       "      <th>PassengerId</th>\n",
       "      <th></th>\n",
       "      <th></th>\n",
       "      <th></th>\n",
       "    </tr>\n",
       "  </thead>\n",
       "  <tbody>\n",
       "    <tr>\n",
       "      <th>1246</th>\n",
       "      <td>Dean, Miss. Elizabeth Gladys Millvina\"\"</td>\n",
       "      <td>0.17</td>\n",
       "      <td>female</td>\n",
       "    </tr>\n",
       "  </tbody>\n",
       "</table>\n",
       "</div>"
      ],
      "text/plain": [
       "                                                Name   Age     Sex\n",
       "PassengerId                                                       \n",
       "1246         Dean, Miss. Elizabeth Gladys Millvina\"\"  0.17  female"
      ]
     },
     "execution_count": 21,
     "metadata": {},
     "output_type": "execute_result"
    }
   ],
   "source": [
    "# najmladsia zena\n",
    "df.loc[ ~filter_is_male, ('Name', 'Age', 'Sex') ].nsmallest(1, 'Age')"
   ]
  },
  {
   "cell_type": "code",
   "execution_count": 22,
   "id": "49304e48-a43a-46c0-a7dd-2d3b65b8a8ce",
   "metadata": {},
   "outputs": [
    {
     "data": {
      "text/html": [
       "<div>\n",
       "<style scoped>\n",
       "    .dataframe tbody tr th:only-of-type {\n",
       "        vertical-align: middle;\n",
       "    }\n",
       "\n",
       "    .dataframe tbody tr th {\n",
       "        vertical-align: top;\n",
       "    }\n",
       "\n",
       "    .dataframe thead th {\n",
       "        text-align: right;\n",
       "    }\n",
       "</style>\n",
       "<table border=\"1\" class=\"dataframe\">\n",
       "  <thead>\n",
       "    <tr style=\"text-align: right;\">\n",
       "      <th></th>\n",
       "      <th>Name</th>\n",
       "      <th>Age</th>\n",
       "      <th>Sex</th>\n",
       "    </tr>\n",
       "    <tr>\n",
       "      <th>PassengerId</th>\n",
       "      <th></th>\n",
       "      <th></th>\n",
       "      <th></th>\n",
       "    </tr>\n",
       "  </thead>\n",
       "  <tbody>\n",
       "    <tr>\n",
       "      <th>1093</th>\n",
       "      <td>Danbom, Master. Gilbert Sigvard Emanuel</td>\n",
       "      <td>0.33</td>\n",
       "      <td>male</td>\n",
       "    </tr>\n",
       "  </tbody>\n",
       "</table>\n",
       "</div>"
      ],
      "text/plain": [
       "                                                Name   Age   Sex\n",
       "PassengerId                                                     \n",
       "1093         Danbom, Master. Gilbert Sigvard Emanuel  0.33  male"
      ]
     },
     "execution_count": 22,
     "metadata": {},
     "output_type": "execute_result"
    }
   ],
   "source": [
    "# najmladsi muz\n",
    "df.loc[ filter_is_male, ('Name', 'Age', 'Sex') ].nsmallest(1, 'Age')"
   ]
  },
  {
   "cell_type": "code",
   "execution_count": 23,
   "id": "fdd8f2ad-e5dd-47f4-a6b1-56b32643db78",
   "metadata": {},
   "outputs": [
    {
     "data": {
      "text/html": [
       "<div>\n",
       "<style scoped>\n",
       "    .dataframe tbody tr th:only-of-type {\n",
       "        vertical-align: middle;\n",
       "    }\n",
       "\n",
       "    .dataframe tbody tr th {\n",
       "        vertical-align: top;\n",
       "    }\n",
       "\n",
       "    .dataframe thead th {\n",
       "        text-align: right;\n",
       "    }\n",
       "</style>\n",
       "<table border=\"1\" class=\"dataframe\">\n",
       "  <thead>\n",
       "    <tr style=\"text-align: right;\">\n",
       "      <th></th>\n",
       "      <th>Name</th>\n",
       "      <th>Age</th>\n",
       "      <th>Sex</th>\n",
       "    </tr>\n",
       "    <tr>\n",
       "      <th>PassengerId</th>\n",
       "      <th></th>\n",
       "      <th></th>\n",
       "      <th></th>\n",
       "    </tr>\n",
       "  </thead>\n",
       "  <tbody>\n",
       "    <tr>\n",
       "      <th>988</th>\n",
       "      <td>Cavendish, Mrs. Tyrell William (Julia Florence...</td>\n",
       "      <td>76.0</td>\n",
       "      <td>female</td>\n",
       "    </tr>\n",
       "  </tbody>\n",
       "</table>\n",
       "</div>"
      ],
      "text/plain": [
       "                                                          Name   Age     Sex\n",
       "PassengerId                                                                 \n",
       "988          Cavendish, Mrs. Tyrell William (Julia Florence...  76.0  female"
      ]
     },
     "execution_count": 23,
     "metadata": {},
     "output_type": "execute_result"
    }
   ],
   "source": [
    "# najstarsia zena\n",
    "df.loc[ ~filter_is_male, ('Name', 'Age', 'Sex') ].nlargest(1, 'Age')"
   ]
  },
  {
   "cell_type": "code",
   "execution_count": 24,
   "id": "de555208-f324-4538-9e9b-0a562b5606f1",
   "metadata": {},
   "outputs": [
    {
     "data": {
      "text/html": [
       "<div>\n",
       "<style scoped>\n",
       "    .dataframe tbody tr th:only-of-type {\n",
       "        vertical-align: middle;\n",
       "    }\n",
       "\n",
       "    .dataframe tbody tr th {\n",
       "        vertical-align: top;\n",
       "    }\n",
       "\n",
       "    .dataframe thead th {\n",
       "        text-align: right;\n",
       "    }\n",
       "</style>\n",
       "<table border=\"1\" class=\"dataframe\">\n",
       "  <thead>\n",
       "    <tr style=\"text-align: right;\">\n",
       "      <th></th>\n",
       "      <th>Name</th>\n",
       "      <th>Age</th>\n",
       "      <th>Sex</th>\n",
       "    </tr>\n",
       "    <tr>\n",
       "      <th>PassengerId</th>\n",
       "      <th></th>\n",
       "      <th></th>\n",
       "      <th></th>\n",
       "    </tr>\n",
       "  </thead>\n",
       "  <tbody>\n",
       "    <tr>\n",
       "      <th>631</th>\n",
       "      <td>Barkworth, Mr. Algernon Henry Wilson</td>\n",
       "      <td>80.0</td>\n",
       "      <td>male</td>\n",
       "    </tr>\n",
       "  </tbody>\n",
       "</table>\n",
       "</div>"
      ],
      "text/plain": [
       "                                             Name   Age   Sex\n",
       "PassengerId                                                  \n",
       "631          Barkworth, Mr. Algernon Henry Wilson  80.0  male"
      ]
     },
     "execution_count": 24,
     "metadata": {},
     "output_type": "execute_result"
    }
   ],
   "source": [
    "# najstarsi muz\n",
    "df.loc[ filter_is_male, ('Name', 'Age', 'Sex') ].nlargest(1, 'Age')"
   ]
  },
  {
   "cell_type": "code",
   "execution_count": 136,
   "id": "59fda430-0e8c-4f2d-a2f6-86223e6e8afd",
   "metadata": {},
   "outputs": [
    {
     "data": {
      "text/plain": [
       "<matplotlib.collections.LineCollection at 0x7f4e0241ba60>"
      ]
     },
     "execution_count": 136,
     "metadata": {},
     "output_type": "execute_result"
    },
    {
     "data": {
      "image/png": "[encoded data removed]",
      "text/plain": [
       "<Figure size 640x480 with 1 Axes>"
      ]
     },
     "metadata": {},
     "output_type": "display_data"
    }
   ],
   "source": [
    "avg_age = df['Age'].mean()\n",
    "df['Age'].plot(\n",
    "    kind='hist', \n",
    "    title='Vekové rozloženie cestujúcich',\n",
    "    ylabel='počet',\n",
    "    xlabel='vek',\n",
    "    color='#00ff00'\n",
    ").vlines(avg_age, -10, 300, colors='#dd0000', linestyles='dashed')"
   ]
  },
  {
   "cell_type": "markdown",
   "id": "f637e853-5d31-499d-b239-f284fd2b6744",
   "metadata": {},
   "source": [
    "4. Koľko pasažierov prežilo z jednotlivých tried?"
   ]
  },
  {
   "cell_type": "code",
   "execution_count": 25,
   "id": "7a9e4d92-6b0f-4388-884b-17882a25ef0c",
   "metadata": {},
   "outputs": [
    {
     "data": {
      "text/plain": [
       "186"
      ]
     },
     "execution_count": 25,
     "metadata": {},
     "output_type": "execute_result"
    }
   ],
   "source": [
    "# old way\n",
    "filter_1st_class = df['Pclass'] == 1\n",
    "len(df.loc[ filter_has_survived & filter_1st_class ])"
   ]
  },
  {
   "cell_type": "code",
   "execution_count": 26,
   "id": "2540400f-befc-4925-9d41-14cbc9ec368a",
   "metadata": {},
   "outputs": [
    {
     "data": {
      "text/plain": [
       "Pclass  Sex   \n",
       "1       female    141\n",
       "        male       45\n",
       "2       female    100\n",
       "        male       17\n",
       "3       female    144\n",
       "        male       47\n",
       "Name: Survived, dtype: int64"
      ]
     },
     "execution_count": 26,
     "metadata": {},
     "output_type": "execute_result"
    }
   ],
   "source": [
    "# group by way\n",
    "df.loc[ filter_has_survived, : ].groupby(['Pclass', 'Sex'])['Survived'].count()"
   ]
  },
  {
   "cell_type": "code",
   "execution_count": 116,
   "id": "eca02658-0e3f-4cb2-9afb-f6b89b26999e",
   "metadata": {},
   "outputs": [
    {
     "data": {
      "text/plain": [
       "<matplotlib.legend.Legend at 0x7f4e04559300>"
      ]
     },
     "execution_count": 116,
     "metadata": {},
     "output_type": "execute_result"
    },
    {
     "data": {
      "image/png": "[encoded data removed]",
      "text/plain": [
       "<Figure size 640x480 with 1 Axes>"
      ]
     },
     "metadata": {},
     "output_type": "display_data"
    }
   ],
   "source": [
    "df.loc[ filter_has_survived, : ].groupby(['Pclass'])['Survived'].count().plot(\n",
    "    kind='pie', \n",
    "    legend=True,\n",
    "    title='Počet preživších z jednotlivých tried',\n",
    "    ylabel='',\n",
    ").legend(['1. trieda', '2. trieda', '3. trieda'])"
   ]
  },
  {
   "cell_type": "markdown",
   "id": "362ba8a1-9598-49f0-92e5-c2e1cee7617f",
   "metadata": {},
   "source": [
    "### 5. Koľko bolo na palube Jackov? A koľko tam bolo Rose?"
   ]
  },
  {
   "cell_type": "code",
   "execution_count": 34,
   "id": "dfa8db06-1f74-415b-a720-23e162b7da7f",
   "metadata": {},
   "outputs": [
    {
     "data": {
      "text/html": [
       "<div>\n",
       "<style scoped>\n",
       "    .dataframe tbody tr th:only-of-type {\n",
       "        vertical-align: middle;\n",
       "    }\n",
       "\n",
       "    .dataframe tbody tr th {\n",
       "        vertical-align: top;\n",
       "    }\n",
       "\n",
       "    .dataframe thead th {\n",
       "        text-align: right;\n",
       "    }\n",
       "</style>\n",
       "<table border=\"1\" class=\"dataframe\">\n",
       "  <thead>\n",
       "    <tr style=\"text-align: right;\">\n",
       "      <th></th>\n",
       "      <th>Name</th>\n",
       "      <th>Age</th>\n",
       "    </tr>\n",
       "    <tr>\n",
       "      <th>PassengerId</th>\n",
       "      <th></th>\n",
       "      <th></th>\n",
       "    </tr>\n",
       "  </thead>\n",
       "  <tbody>\n",
       "    <tr>\n",
       "      <th>767</th>\n",
       "      <td>Brewe, Dr. Arthur Jackson</td>\n",
       "      <td>NaN</td>\n",
       "    </tr>\n",
       "  </tbody>\n",
       "</table>\n",
       "</div>"
      ],
      "text/plain": [
       "                                  Name  Age\n",
       "PassengerId                                \n",
       "767          Brewe, Dr. Arthur Jackson  NaN"
      ]
     },
     "execution_count": 34,
     "metadata": {},
     "output_type": "execute_result"
    }
   ],
   "source": [
    "# bol tam jack?\n",
    "filter_is_jack = df['firstname'].str.contains('Jack')\n",
    "df.loc[ filter_is_male & filter_is_jack, ('Name', 'Age') ]"
   ]
  },
  {
   "cell_type": "code",
   "execution_count": 33,
   "id": "06e8f3c7-d0cc-4e33-8717-c1e1c4fe4f40",
   "metadata": {},
   "outputs": [
    {
     "data": {
      "text/html": [
       "<div>\n",
       "<style scoped>\n",
       "    .dataframe tbody tr th:only-of-type {\n",
       "        vertical-align: middle;\n",
       "    }\n",
       "\n",
       "    .dataframe tbody tr th {\n",
       "        vertical-align: top;\n",
       "    }\n",
       "\n",
       "    .dataframe thead th {\n",
       "        text-align: right;\n",
       "    }\n",
       "</style>\n",
       "<table border=\"1\" class=\"dataframe\">\n",
       "  <thead>\n",
       "    <tr style=\"text-align: right;\">\n",
       "      <th></th>\n",
       "      <th>Name</th>\n",
       "      <th>Age</th>\n",
       "    </tr>\n",
       "    <tr>\n",
       "      <th>PassengerId</th>\n",
       "      <th></th>\n",
       "      <th></th>\n",
       "    </tr>\n",
       "  </thead>\n",
       "  <tbody>\n",
       "    <tr>\n",
       "      <th>856</th>\n",
       "      <td>Aks, Mrs. Sam (Leah Rosen)</td>\n",
       "      <td>18.0</td>\n",
       "    </tr>\n",
       "  </tbody>\n",
       "</table>\n",
       "</div>"
      ],
      "text/plain": [
       "                                   Name   Age\n",
       "PassengerId                                  \n",
       "856          Aks, Mrs. Sam (Leah Rosen)  18.0"
      ]
     },
     "execution_count": 33,
     "metadata": {},
     "output_type": "execute_result"
    }
   ],
   "source": [
    "# bola tam rose?\n",
    "filter_is_rose = df['firstname'].str.contains('Rose')\n",
    "df.loc[ ~filter_is_male & filter_is_rose, ('Name', 'Age') ]"
   ]
  },
  {
   "cell_type": "markdown",
   "id": "f61828ab-69fe-4ef9-a231-7a211202de59",
   "metadata": {},
   "source": [
    "### 6. Koľko bola priemerná cena lístka pre príslušnú triedu pasažierov?"
   ]
  },
  {
   "cell_type": "code",
   "execution_count": 36,
   "id": "1dd4d5fd-94db-4625-8635-c5e79903e10b",
   "metadata": {},
   "outputs": [
    {
     "data": {
      "text/plain": [
       "Pclass\n",
       "1    87.508992\n",
       "2    21.179196\n",
       "3    13.302889\n",
       "Name: Fare, dtype: float64"
      ]
     },
     "execution_count": 36,
     "metadata": {},
     "output_type": "execute_result"
    }
   ],
   "source": [
    "df.groupby('Pclass')['Fare'].mean()"
   ]
  },
  {
   "cell_type": "code",
   "execution_count": 103,
   "id": "db5456be-3cd3-48c6-80ef-e4f03b20baef",
   "metadata": {},
   "outputs": [
    {
     "data": {
      "text/plain": [
       "<Axes: ylabel='Frequency'>"
      ]
     },
     "execution_count": 103,
     "metadata": {},
     "output_type": "execute_result"
    },
    {
     "data": {
      "image/png": "[encoded data removed]",
      "text/plain": [
       "<Figure size 640x480 with 1 Axes>"
      ]
     },
     "metadata": {},
     "output_type": "display_data"
    }
   ],
   "source": [
    "df['Fare'].plot(kind='hist')"
   ]
  },
  {
   "cell_type": "code",
   "execution_count": 95,
   "id": "15f139ed-e27b-47d6-9e68-771b80246ed7",
   "metadata": {},
   "outputs": [
    {
     "data": {
      "text/plain": [
       "<Axes: title={'center': 'Cena lístka'}, ylabel='cena'>"
      ]
     },
     "execution_count": 95,
     "metadata": {},
     "output_type": "execute_result"
    },
    {
     "data": {
      "image/png": "[encoded data removed]",
      "text/plain": [
       "<Figure size 640x480 with 1 Axes>"
      ]
     },
     "metadata": {},
     "output_type": "display_data"
    }
   ],
   "source": [
    "df['Fare'].plot(\n",
    "    kind='box',\n",
    "    title='Cena lístka',\n",
    "    ylabel='cena'\n",
    ")"
   ]
  },
  {
   "cell_type": "markdown",
   "id": "bc90608c-642d-4899-bd23-78ee16ff4e09",
   "metadata": {},
   "source": [
    "### 7. Koľko pasažierov nastúpilo v jednotlivých prístavoch?"
   ]
  },
  {
   "cell_type": "code",
   "execution_count": 39,
   "id": "35e44486-d4ab-4071-b72d-ac8359fd96e7",
   "metadata": {},
   "outputs": [
    {
     "data": {
      "text/plain": [
       "Embarked  Sex   \n",
       "C         female    113\n",
       "          male      157\n",
       "Q         female     60\n",
       "          male       63\n",
       "S         female    291\n",
       "          male      623\n",
       "Name: Embarked, dtype: int64"
      ]
     },
     "execution_count": 39,
     "metadata": {},
     "output_type": "execute_result"
    }
   ],
   "source": [
    "df.groupby(['Embarked', 'Sex'])['Embarked'].count()"
   ]
  },
  {
   "cell_type": "markdown",
   "id": "a267c5e6-d2ec-4b8b-bb83-544b16b26608",
   "metadata": {},
   "source": [
    "### 8. Čo všetko malo vplyv na to, že pasažier prežil? (vek, pohlavie, vrstva, na ktorej bol palube, ...)"
   ]
  },
  {
   "cell_type": "code",
   "execution_count": 56,
   "id": "4d82ba6b-cad4-45cd-8a42-cf91097f169b",
   "metadata": {},
   "outputs": [
    {
     "data": {
      "text/plain": [
       "Pclass  Sex   \n",
       "1       female    36.0\n",
       "        male      36.0\n",
       "2       female    28.0\n",
       "        male       3.0\n",
       "3       female    22.0\n",
       "        male      25.0\n",
       "Name: Age, dtype: float64"
      ]
     },
     "execution_count": 56,
     "metadata": {},
     "output_type": "execute_result"
    }
   ],
   "source": [
    "df.loc[ filter_has_survived ].groupby(['Pclass', 'Sex'])['Age'].mean()"
   ]
  },
  {
   "cell_type": "code",
   "execution_count": 60,
   "id": "abe0a4ef-0466-4509-b22f-e63c75459696",
   "metadata": {},
   "outputs": [
    {
     "data": {
      "text/plain": [
       "PassengerId\n",
       "1246    0.17\n",
       "1093    0.33\n",
       "804     0.42\n",
       "756     0.67\n",
       "470     0.75\n",
       "        ... \n",
       "1300     NaN\n",
       "1302     NaN\n",
       "1305     NaN\n",
       "1308     NaN\n",
       "1309     NaN\n",
       "Name: Age, Length: 1309, dtype: float64"
      ]
     },
     "execution_count": 60,
     "metadata": {},
     "output_type": "execute_result"
    }
   ],
   "source": [
    "df.sort_values('Age')['Age']"
   ]
  },
  {
   "cell_type": "code",
   "execution_count": 71,
   "id": "2f398f19-a2c8-418e-8a80-afd85853270a",
   "metadata": {},
   "outputs": [
    {
     "data": {
      "text/plain": [
       "lastname   Sex   \n",
       "Andersson  female    7\n",
       "Asplund    male      6\n",
       "Sage       male      6\n",
       "Davies     male      6\n",
       "Williams   male      5\n",
       "Goodwin    male      5\n",
       "Sage       female    5\n",
       "Panula     male      5\n",
       "Rice       male      5\n",
       "Brown      female    5\n",
       "Name: lastname, dtype: int64"
      ]
     },
     "execution_count": 71,
     "metadata": {},
     "output_type": "execute_result"
    }
   ],
   "source": [
    "df.groupby(['lastname', 'Sex'])['lastname'].count().sort_values(ascending=False).head(10)"
   ]
  },
  {
   "cell_type": "markdown",
   "id": "ebf3bb43-1a98-491b-99ef-4fbc1e023f52",
   "metadata": {},
   "source": [
    "### 9. Aký vek mali pasažieri?"
   ]
  },
  {
   "cell_type": "code",
   "execution_count": 99,
   "id": "a175178f-8dd5-4c6c-9011-abe167077b48",
   "metadata": {},
   "outputs": [
    {
     "data": {
      "text/plain": [
       "count    1046.000000\n",
       "mean       29.881138\n",
       "std        14.413493\n",
       "min         0.170000\n",
       "25%        21.000000\n",
       "50%        28.000000\n",
       "75%        39.000000\n",
       "max        80.000000\n",
       "Name: Age, dtype: float64"
      ]
     },
     "execution_count": 99,
     "metadata": {},
     "output_type": "execute_result"
    }
   ],
   "source": [
    "df['Age'].describe()"
   ]
  },
  {
   "cell_type": "code",
   "execution_count": 101,
   "id": "67e51e21-2fdb-42bc-9be0-b916b697c8b4",
   "metadata": {},
   "outputs": [
    {
     "data": {
      "text/plain": [
       "<Axes: >"
      ]
     },
     "execution_count": 101,
     "metadata": {},
     "output_type": "execute_result"
    },
    {
     "data": {
      "image/png": "[encoded data removed]",
      "text/plain": [
       "<Figure size 640x480 with 1 Axes>"
      ]
     },
     "metadata": {},
     "output_type": "display_data"
    }
   ],
   "source": [
    "df['Age'].plot(\n",
    "    kind='box'\n",
    ")"
   ]
  },
  {
   "cell_type": "code",
   "execution_count": null,
   "id": "2029e1e9-a0c8-442e-a31d-872c340680ee",
   "metadata": {},
   "outputs": [],
   "source": []
  }
 ],
 "metadata": {
  "kernelspec": {
   "display_name": "Python 3 (ipykernel)",
   "language": "python",
   "name": "python3"
  },
  "language_info": {
   "codemirror_mode": {
    "name": "ipython",
    "version": 3
   },
   "file_extension": ".py",
   "mimetype": "text/x-python",
   "name": "python",
   "nbconvert_exporter": "python",
   "pygments_lexer": "ipython3",
   "version": "3.10.12"
  }
 },
 "nbformat": 4,
 "nbformat_minor": 5
}
