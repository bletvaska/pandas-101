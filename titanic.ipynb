{
 "cells": [
  {
   "cell_type": "markdown",
   "id": "f97b9d32-d90d-4179-a25b-65f397080a78",
   "metadata": {},
   "source": [
    "# Titanic\n",
    "\n",
    "**Titanic** alebo **RMS Titanic** (*RMS* je skratka pre *Royal Mail Ship* – *Kráľovský poštový parník*) bol luxusný zaoceánsky parník triedy *Olympic* patriaci spoločnosti *White Star Line*. Jeho úlohou mal byť prevoz cestujúcich a pošty medzi Európou a Severnou Amerikou. Kapacita lode dovoľovala nalodenie *2 453* až *2 603* cestujúcich, batožiny a obmedzený počet kočiarov alebo automobilov. O prevádzku lode a o pohodlie cestujúcich sa staralo *885* až *899* členov posádky. \n",
    "\n",
    "![Titanic](https://upload.wikimedia.org/wikipedia/commons/thumb/f/fd/RMS_Titanic_3.jpg/1024px-RMS_Titanic_3.jpg)\n",
    "\n",
    "Titanic však stroskotal už počas svojej prvej plavby v noci zo *14.* na *15. apríla* roku *1912*. Zahynulo okolo *1 450* cestujúcich a členov posádky."
   ]
  },
  {
   "cell_type": "markdown",
   "id": "d20c9b0f-de94-47f4-b105-7b095c34285c",
   "metadata": {},
   "source": [
    "V tomto labe sa pozrieme na katastrofu cez čísla. Dataset je ukradnutý zo stránok [Kaggle](https://www.kaggle.com/competitions/titanic), kde slúži ako vstupné zadanie do sveta strojového učenia."
   ]
  },
  {
   "cell_type": "markdown",
   "id": "a05c2790-c495-4489-90b4-856c86526d25",
   "metadata": {},
   "source": [
    "## 1. Základné informácie\n",
    "\n",
    "V tomto kroku sa pozrieme na to, kto sa vlastne na *Titaniku* viezol v kritickú a vlastne jedinú plavbu."
   ]
  },
  {
   "cell_type": "markdown",
   "id": "d6aa7b4d-b9c9-4499-8bfe-ededcd444751",
   "metadata": {},
   "source": [
    "### 1.1 Vytvorte dataset\n",
    "\n",
    "Vytvorte dataset so zoznamom všetkých pasažierov. Tento dataset zostavte z dvoch datasetov s názvom `test.csv` a `train.csv`, ktoré sa nachádzajú uložené v priečinku `data/titanic/`. Index zostavte zo stĺpca `PassengerId`.\n",
    "\n",
    "Výsledný dataset uložte do premennej `passengers`."
   ]
  },
  {
   "cell_type": "code",
   "execution_count": 2,
   "id": "a17b5342-55d1-4d3b-bc59-a75089302332",
   "metadata": {},
   "outputs": [],
   "source": [
    "# solution\n"
   ]
  },
  {
   "cell_type": "markdown",
   "id": "fa918bf5-d16c-434a-a66d-87281ab4433a",
   "metadata": {},
   "source": [
    "### 1.2 Koľko bolo cestujúcich?\n",
    "\n",
    "Zistite, koľko cestujúcich sa zúčastnilo plavby."
   ]
  },
  {
   "cell_type": "code",
   "execution_count": 3,
   "id": "6c9c2776-9f5f-4bf2-be00-eed62ad35178",
   "metadata": {},
   "outputs": [],
   "source": [
    "# solution\n"
   ]
  },
  {
   "cell_type": "markdown",
   "id": "56bfa82d-fdf4-488d-92a4-3d63f8762301",
   "metadata": {},
   "source": [
    "### 1.2 Koľko bolo na palube žien a koľko mužov?\n",
    "\n",
    "Zistite, koľko bolo na palube žien a mužov. Výsledok reprezentujte vo forme slovníka v tvare:\n",
    "\n",
    "```json\n",
    "{\n",
    "    'males': 123,\n",
    "    'females': 456\n",
    "}\n",
    "```"
   ]
  },
  {
   "cell_type": "code",
   "execution_count": 4,
   "id": "b47aadc6-74c6-4e97-a3af-edb028abb32d",
   "metadata": {},
   "outputs": [],
   "source": [
    "# solution\n"
   ]
  },
  {
   "cell_type": "markdown",
   "id": "fd8ac009-4990-4c8d-8719-801084efe39b",
   "metadata": {},
   "source": [
    "### 1.3 Koľko bolo na palube detí?\n",
    "\n",
    "Za dieťa považujeme osobu, ktorá nedosiahla vek *15* rokov."
   ]
  },
  {
   "cell_type": "code",
   "execution_count": 5,
   "id": "418918f2-51f8-473d-9e46-a4089106aae0",
   "metadata": {},
   "outputs": [],
   "source": [
    "# solution\n"
   ]
  },
  {
   "cell_type": "markdown",
   "id": "8582015c-48a7-426b-ab37-096a67234476",
   "metadata": {},
   "source": [
    "### 1.4 Najstarší pasažier"
   ]
  },
  {
   "cell_type": "markdown",
   "id": "a65c06c9-dccb-4e37-9bd8-f59881f88c8d",
   "metadata": {},
   "source": [
    "Ktorý z cestujúcich bol najstarším pasažierom? Okrem najstaršieho cestujúceho celkovo vypíšte aj najstaršiu cestujúcu a najstaršieho cestujúceho. Vždy o cestujúcom vypíšte meno, vek a pohlavie."
   ]
  },
  {
   "cell_type": "code",
   "execution_count": 6,
   "id": "010c3bf2-c46c-45ea-a5fc-c174275bb554",
   "metadata": {},
   "outputs": [],
   "source": [
    "# solution\n"
   ]
  },
  {
   "cell_type": "markdown",
   "id": "a8bfab48-cd3b-4042-838b-d1eae5d3204b",
   "metadata": {},
   "source": [
    "### 1.5 Najmladší pasažier"
   ]
  },
  {
   "cell_type": "markdown",
   "id": "b54becfa-dc4d-4a38-a33f-9adb0d2e8e9f",
   "metadata": {},
   "source": [
    "A naopak - ktorý z cestujúcich bol najmladší? Okrem najmladšieho cestujúceho celkovo vypíšte aj najmladšiu cestujúcu a najmladšieho cestujúceho. Vždy vypíšte meno, vek a pohlavie a výsledok vráťte ako objekt typu `Series`."
   ]
  },
  {
   "cell_type": "code",
   "execution_count": 7,
   "id": "13a2d6ab-67ff-461d-821e-0e1dc6d6efcd",
   "metadata": {},
   "outputs": [],
   "source": [
    "# solution\n"
   ]
  },
  {
   "cell_type": "markdown",
   "id": "089ac574-ea9d-40b0-9d2b-fe552219ee4f",
   "metadata": {},
   "source": [
    "### 1.6 Aký bol priemerný vek pasažierov?"
   ]
  },
  {
   "cell_type": "markdown",
   "id": "c2518b06-8368-428f-854d-ca5096328b26",
   "metadata": {},
   "source": [
    "Už vieme, kto bol najmladší a kto bol najstarší, tak ešte zistime, aký bol priemerný vek pasažierov na lodi. Výsledok zaokrúhlite na 2 desatinné miesta."
   ]
  },
  {
   "cell_type": "code",
   "execution_count": 8,
   "id": "4bd68587-f951-44d4-9eff-d2ede5f695e1",
   "metadata": {},
   "outputs": [],
   "source": [
    "# solution\n"
   ]
  },
  {
   "cell_type": "markdown",
   "id": "f28d963b-b751-46f2-86d7-1119f680ad4a",
   "metadata": {},
   "source": [
    "### 1.7 Zisk z predaja lístkov\n",
    "\n",
    "Koľko peňazí tvoril zisk z plavby, ktorý sa vyzbieral z cestovného?"
   ]
  },
  {
   "cell_type": "code",
   "execution_count": 9,
   "id": "c0bc39a9-1955-404e-9f6d-9c4457f926c7",
   "metadata": {},
   "outputs": [],
   "source": [
    "# solution\n"
   ]
  },
  {
   "cell_type": "markdown",
   "id": "40cb5173-3e61-4c84-85c8-141730eef987",
   "metadata": {},
   "source": [
    "## Nalodenie"
   ]
  },
  {
   "cell_type": "markdown",
   "id": "58c1cba3-876d-4ad3-b2aa-9c8a4beed430",
   "metadata": {},
   "source": [
    "### 2.1 Počet prístavov"
   ]
  },
  {
   "cell_type": "markdown",
   "id": "a0fd6fcc-46d7-4f59-bd1e-16d4a100bdc8",
   "metadata": {},
   "source": [
    "Z koľkých prístavov nastupovali pasažieri? Vypíšte číslo zodpovedajúce počtu prístavov."
   ]
  },
  {
   "cell_type": "code",
   "execution_count": 10,
   "id": "36d8aebf-48ec-43a4-9dfd-d4e04d38d371",
   "metadata": {},
   "outputs": [],
   "source": [
    "# solution\n"
   ]
  },
  {
   "cell_type": "markdown",
   "id": "15411efa-bec0-4368-a9ac-4243f425285e",
   "metadata": {},
   "source": [
    "### 2.2 Prehľad nalodených pasažierov"
   ]
  },
  {
   "cell_type": "markdown",
   "id": "7d84d49b-dc91-4f23-bf66-438375e9816d",
   "metadata": {},
   "source": [
    "Vytvorte prehľad, z ktorého prístavu koľko ľudí nastúpilo na palubu. Výsledný objekt typu `Series` nech má ako index názvy prístavov, z ktorých sa pasažieri naloďovali."
   ]
  },
  {
   "cell_type": "code",
   "execution_count": 11,
   "id": "4c034832-350b-4fed-ac96-58888a8fcdea",
   "metadata": {},
   "outputs": [],
   "source": [
    "# solution\n"
   ]
  },
  {
   "cell_type": "markdown",
   "id": "3e633e5a-46b0-47dd-847e-0016c972a0d2",
   "metadata": {},
   "source": [
    "### 2.3 Najväčší prístav"
   ]
  },
  {
   "cell_type": "markdown",
   "id": "5f74c4ba-3c2a-4ff3-a158-62b15d98b15b",
   "metadata": {},
   "source": [
    "A z ktorého prístavu nastúpilo najviac pasažierov? Vypíšte jeho názov a počet cestujúcich."
   ]
  },
  {
   "cell_type": "code",
   "execution_count": 12,
   "id": "3a382224-1c5e-4ccb-8a4d-d7966c9f9896",
   "metadata": {},
   "outputs": [],
   "source": [
    "# solution\n"
   ]
  },
  {
   "cell_type": "markdown",
   "id": "92edcdd6-4fb8-4fc5-a1d5-f2f575308ea8",
   "metadata": {},
   "source": [
    "### 2.4 Najviac detí\n",
    "\n",
    "Z ktorého prístavu nastúpilo najviac detí? Vypíšte jeho názov a počet detí."
   ]
  },
  {
   "cell_type": "code",
   "execution_count": 13,
   "id": "924e92d1-45e7-4201-9724-9244025d6f4e",
   "metadata": {},
   "outputs": [],
   "source": [
    "# solution\n"
   ]
  },
  {
   "cell_type": "markdown",
   "id": "e5dd8b80-c2c4-430e-ac70-8cd7ce615d04",
   "metadata": {},
   "source": [
    "## O preživších\n",
    "\n",
    "O tom, kto prežil, máme tiež záznamy. Jednak nás budú zaujímať absolútne čísla, ale druhak nás bude zaujímať aj to, čo všetko mohlo mať vplyv na to, že dotyčný človek prežil. A či nemali vyššiu pravdepodobnosť prežitia tí, ktorí patrili do vyššej vrstvy alebo boli mladší."
   ]
  },
  {
   "cell_type": "markdown",
   "id": "b61cf762-468b-47b4-9367-0f99199e47fc",
   "metadata": {},
   "source": [
    "### 3.1 Koľko ľudí katastrofu prežilo?\n",
    "\n",
    "Zistite celkový počet ľudí, ktorí prežili potopenie *Titanic*-u. Okrem celkového počtu uveďte tento počet aj percentuálne."
   ]
  },
  {
   "cell_type": "code",
   "execution_count": 14,
   "id": "4719c82a-ad93-49eb-923a-68628cf00f5e",
   "metadata": {
    "tags": []
   },
   "outputs": [],
   "source": [
    "# solution\n"
   ]
  },
  {
   "cell_type": "markdown",
   "id": "e099f872-a477-489e-aee6-e857c8e323ed",
   "metadata": {},
   "source": [
    "### 3.2 Preživší a ich pohlavie\n",
    "\n",
    "Malo na prežitie vplyv aj pohlavie? Koľko prežilo vo výsledku mužov a koľko žien? A koľko to bolo z celkového počtu mužov a žien?\n"
   ]
  },
  {
   "cell_type": "code",
   "execution_count": 15,
   "id": "f34419cd-8950-463a-8b2d-5e1304d1a4a9",
   "metadata": {},
   "outputs": [],
   "source": [
    "# solution\n"
   ]
  },
  {
   "cell_type": "markdown",
   "id": "4ac6f232-9500-4d29-b031-f4145b5ae593",
   "metadata": {},
   "source": [
    "### 3.3 Preživší a ich vek\n",
    "\n",
    "Mal na prežitie vplyv aj vek pasažierov? Koľko prežilo vo výsledku detí a koľko dospelých? A koľko to bolo z celkového počtu detí a dospelých?"
   ]
  },
  {
   "cell_type": "code",
   "execution_count": 16,
   "id": "aec38f66-5cdf-427f-b0f6-8a9d79640811",
   "metadata": {},
   "outputs": [],
   "source": [
    "# solution\n"
   ]
  },
  {
   "cell_type": "markdown",
   "id": "1555ecf7-7ea3-4052-94d1-773ac56a1054",
   "metadata": {},
   "source": [
    "### 3.4 Preživší a ich trieda\n",
    "\n",
    "Mala na prežitie vplyv aj spoločenská trieda pasažierov? Koľko prežilo vo výsledku chudákov a koľko zámožných pasažierov? A koľko to bolo z celkového počtu cestujúcich?"
   ]
  },
  {
   "cell_type": "code",
   "execution_count": 17,
   "id": "79215696-72b0-4cf3-bd2b-ea11a3a69ff1",
   "metadata": {},
   "outputs": [],
   "source": [
    "# solution\n"
   ]
  }
 ],
 "metadata": {
  "kernelspec": {
   "display_name": "Python 3 (ipykernel)",
   "language": "python",
   "name": "python3"
  },
  "language_info": {
   "codemirror_mode": {
    "name": "ipython",
    "version": 3
   },
   "file_extension": ".py",
   "mimetype": "text/x-python",
   "name": "python",
   "nbconvert_exporter": "python",
   "pygments_lexer": "ipython3",
   "version": "3.9.11"
  }
 },
 "nbformat": 4,
 "nbformat_minor": 5
}
