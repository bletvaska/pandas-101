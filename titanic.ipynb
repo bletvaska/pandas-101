{
 "cells": [
  {
   "cell_type": "markdown",
   "id": "f97b9d32-d90d-4179-a25b-65f397080a78",
   "metadata": {},
   "source": [
    "# Titanic\n",
    "\n",
    "**Titanic** alebo **RMS Titanic** (*RMS* je skratka pre *Royal Mail Ship* – *Kráľovský poštový parník*) bol luxusný zaoceánsky parník triedy *Olympic* patriaci spoločnosti *White Star Line*. Jeho úlohou mal byť prevoz cestujúcich a pošty medzi Európou a Severnou Amerikou. Kapacita lode dovoľovala nalodenie *2 453* až *2 603* cestujúcich, batožiny a obmedzený počet kočiarov alebo automobilov. O prevádzku lode a o pohodlie cestujúcich sa staralo *885* až *899* členov posádky. \n",
    "\n",
    "![Titanic](https://upload.wikimedia.org/wikipedia/commons/thumb/f/fd/RMS_Titanic_3.jpg/1024px-RMS_Titanic_3.jpg)\n",
    "\n",
    "Titanic však stroskotal už počas svojej prvej plavby v noci zo *14.* na *15. apríla* roku *1912*. Zahynulo okolo *1 450* cestujúcich a členov posádky."
   ]
  },
  {
   "cell_type": "markdown",
   "id": "d20c9b0f-de94-47f4-b105-7b095c34285c",
   "metadata": {},
   "source": [
    "V tomto labe sa pozrieme na katastrofu cez čísla. Dataset je ukradnutý zo stránok [Kaggle](https://www.kaggle.com/competitions/titanic), kde slúži ako vstupné zadanie do sveta strojového učenia."
   ]
  },
  {
   "cell_type": "markdown",
   "id": "a05c2790-c495-4489-90b4-856c86526d25",
   "metadata": {},
   "source": [
    "## 1. Základné informácie\n",
    "\n",
    "V tomto kroku sa pozrieme na to, kto sa vlastne na *Titaniku* viezol v kritickú a vlastne jedinú plavbu."
   ]
  },
  {
   "cell_type": "markdown",
   "id": "d6aa7b4d-b9c9-4499-8bfe-ededcd444751",
   "metadata": {},
   "source": [
    "### 1.1 Vytvorte dataset\n",
    "\n",
    "Vytvorte dataset so zoznamom všetkých pasažierov. Tento dataset zostavte z dvoch datasetov s názvom `test.csv` a `train.csv`, ktoré sa nachádzajú uložené v priečinku `data/titanic/`. Index zostavte zo stĺpca `PassengerId`.\n",
    "\n",
    "Výsledný dataset uložte do premennej `passengers`."
   ]
  },
  {
   "cell_type": "code",
   "execution_count": 148,
   "id": "a17b5342-55d1-4d3b-bc59-a75089302332",
   "metadata": {},
   "outputs": [],
   "source": [
    "# solution\n",
    "from pathlib import Path\n",
    "\n",
    "import pandas as pd\n",
    "\n",
    "path = Path('data/titanic/')\n",
    "\n",
    "# merge\n",
    "submission = pd.read_csv(path / 'gender_submission.csv', index_col='PassengerId')\n",
    "df_test = pd.read_csv(path / 'test.csv', index_col='PassengerId')\n",
    "\n",
    "df_merged = df_test.merge(submission, left_index=True, right_index=True)\n",
    "\n",
    "# concatenate tables\n",
    "df_train = pd.read_csv(path / 'train.csv', index_col='PassengerId')\n",
    "\n",
    "passengers = pd.concat([df_train, df_merged])\n",
    "\n",
    "# save merged and concatenated table to file\n",
    "passengers.to_csv(path / 'passengers.csv')\n",
    "# passengers.to_excel(path / 'passengers.xlsx')"
   ]
  },
  {
   "cell_type": "markdown",
   "id": "fb5ee434-a45f-443a-87ab-fab1646cf5d4",
   "metadata": {},
   "source": [
    "### 1.x Data Cleaning"
   ]
  },
  {
   "cell_type": "code",
   "execution_count": 149,
   "id": "6edb5699-77b8-47a2-b10d-e3e5abc8b61d",
   "metadata": {},
   "outputs": [
    {
     "name": "stdout",
     "output_type": "stream",
     "text": [
      "<class 'pandas.core.frame.DataFrame'>\n",
      "Int64Index: 1309 entries, 1 to 1309\n",
      "Data columns (total 11 columns):\n",
      " #   Column    Non-Null Count  Dtype  \n",
      "---  ------    --------------  -----  \n",
      " 0   Survived  1309 non-null   int64  \n",
      " 1   Pclass    1309 non-null   int64  \n",
      " 2   Name      1309 non-null   object \n",
      " 3   Sex       1309 non-null   object \n",
      " 4   Age       1046 non-null   float64\n",
      " 5   SibSp     1309 non-null   int64  \n",
      " 6   Parch     1309 non-null   int64  \n",
      " 7   Ticket    1309 non-null   object \n",
      " 8   Fare      1308 non-null   float64\n",
      " 9   Cabin     295 non-null    object \n",
      " 10  Embarked  1307 non-null   object \n",
      "dtypes: float64(2), int64(4), object(5)\n",
      "memory usage: 122.7+ KB\n"
     ]
    },
    {
     "data": {
      "text/html": [
       "<div>\n",
       "<style scoped>\n",
       "    .dataframe tbody tr th:only-of-type {\n",
       "        vertical-align: middle;\n",
       "    }\n",
       "\n",
       "    .dataframe tbody tr th {\n",
       "        vertical-align: top;\n",
       "    }\n",
       "\n",
       "    .dataframe thead th {\n",
       "        text-align: right;\n",
       "    }\n",
       "</style>\n",
       "<table border=\"1\" class=\"dataframe\">\n",
       "  <thead>\n",
       "    <tr style=\"text-align: right;\">\n",
       "      <th></th>\n",
       "      <th>Survived</th>\n",
       "      <th>Pclass</th>\n",
       "      <th>Name</th>\n",
       "      <th>Sex</th>\n",
       "      <th>Age</th>\n",
       "      <th>SibSp</th>\n",
       "      <th>Parch</th>\n",
       "      <th>Ticket</th>\n",
       "      <th>Fare</th>\n",
       "      <th>Cabin</th>\n",
       "      <th>Embarked</th>\n",
       "    </tr>\n",
       "    <tr>\n",
       "      <th>PassengerId</th>\n",
       "      <th></th>\n",
       "      <th></th>\n",
       "      <th></th>\n",
       "      <th></th>\n",
       "      <th></th>\n",
       "      <th></th>\n",
       "      <th></th>\n",
       "      <th></th>\n",
       "      <th></th>\n",
       "      <th></th>\n",
       "      <th></th>\n",
       "    </tr>\n",
       "  </thead>\n",
       "  <tbody>\n",
       "    <tr>\n",
       "      <th>6</th>\n",
       "      <td>0</td>\n",
       "      <td>3</td>\n",
       "      <td>Moran, Mr. James</td>\n",
       "      <td>male</td>\n",
       "      <td>NaN</td>\n",
       "      <td>0</td>\n",
       "      <td>0</td>\n",
       "      <td>330877</td>\n",
       "      <td>8.4583</td>\n",
       "      <td>NaN</td>\n",
       "      <td>Q</td>\n",
       "    </tr>\n",
       "    <tr>\n",
       "      <th>18</th>\n",
       "      <td>1</td>\n",
       "      <td>2</td>\n",
       "      <td>Williams, Mr. Charles Eugene</td>\n",
       "      <td>male</td>\n",
       "      <td>NaN</td>\n",
       "      <td>0</td>\n",
       "      <td>0</td>\n",
       "      <td>244373</td>\n",
       "      <td>13.0000</td>\n",
       "      <td>NaN</td>\n",
       "      <td>S</td>\n",
       "    </tr>\n",
       "    <tr>\n",
       "      <th>20</th>\n",
       "      <td>1</td>\n",
       "      <td>3</td>\n",
       "      <td>Masselmani, Mrs. Fatima</td>\n",
       "      <td>female</td>\n",
       "      <td>NaN</td>\n",
       "      <td>0</td>\n",
       "      <td>0</td>\n",
       "      <td>2649</td>\n",
       "      <td>7.2250</td>\n",
       "      <td>NaN</td>\n",
       "      <td>C</td>\n",
       "    </tr>\n",
       "    <tr>\n",
       "      <th>27</th>\n",
       "      <td>0</td>\n",
       "      <td>3</td>\n",
       "      <td>Emir, Mr. Farred Chehab</td>\n",
       "      <td>male</td>\n",
       "      <td>NaN</td>\n",
       "      <td>0</td>\n",
       "      <td>0</td>\n",
       "      <td>2631</td>\n",
       "      <td>7.2250</td>\n",
       "      <td>NaN</td>\n",
       "      <td>C</td>\n",
       "    </tr>\n",
       "    <tr>\n",
       "      <th>29</th>\n",
       "      <td>1</td>\n",
       "      <td>3</td>\n",
       "      <td>O'Dwyer, Miss. Ellen \"Nellie\"</td>\n",
       "      <td>female</td>\n",
       "      <td>NaN</td>\n",
       "      <td>0</td>\n",
       "      <td>0</td>\n",
       "      <td>330959</td>\n",
       "      <td>7.8792</td>\n",
       "      <td>NaN</td>\n",
       "      <td>Q</td>\n",
       "    </tr>\n",
       "    <tr>\n",
       "      <th>...</th>\n",
       "      <td>...</td>\n",
       "      <td>...</td>\n",
       "      <td>...</td>\n",
       "      <td>...</td>\n",
       "      <td>...</td>\n",
       "      <td>...</td>\n",
       "      <td>...</td>\n",
       "      <td>...</td>\n",
       "      <td>...</td>\n",
       "      <td>...</td>\n",
       "      <td>...</td>\n",
       "    </tr>\n",
       "    <tr>\n",
       "      <th>1300</th>\n",
       "      <td>1</td>\n",
       "      <td>3</td>\n",
       "      <td>Riordan, Miss. Johanna Hannah\"\"</td>\n",
       "      <td>female</td>\n",
       "      <td>NaN</td>\n",
       "      <td>0</td>\n",
       "      <td>0</td>\n",
       "      <td>334915</td>\n",
       "      <td>7.7208</td>\n",
       "      <td>NaN</td>\n",
       "      <td>Q</td>\n",
       "    </tr>\n",
       "    <tr>\n",
       "      <th>1302</th>\n",
       "      <td>1</td>\n",
       "      <td>3</td>\n",
       "      <td>Naughton, Miss. Hannah</td>\n",
       "      <td>female</td>\n",
       "      <td>NaN</td>\n",
       "      <td>0</td>\n",
       "      <td>0</td>\n",
       "      <td>365237</td>\n",
       "      <td>7.7500</td>\n",
       "      <td>NaN</td>\n",
       "      <td>Q</td>\n",
       "    </tr>\n",
       "    <tr>\n",
       "      <th>1305</th>\n",
       "      <td>0</td>\n",
       "      <td>3</td>\n",
       "      <td>Spector, Mr. Woolf</td>\n",
       "      <td>male</td>\n",
       "      <td>NaN</td>\n",
       "      <td>0</td>\n",
       "      <td>0</td>\n",
       "      <td>A.5. 3236</td>\n",
       "      <td>8.0500</td>\n",
       "      <td>NaN</td>\n",
       "      <td>S</td>\n",
       "    </tr>\n",
       "    <tr>\n",
       "      <th>1308</th>\n",
       "      <td>0</td>\n",
       "      <td>3</td>\n",
       "      <td>Ware, Mr. Frederick</td>\n",
       "      <td>male</td>\n",
       "      <td>NaN</td>\n",
       "      <td>0</td>\n",
       "      <td>0</td>\n",
       "      <td>359309</td>\n",
       "      <td>8.0500</td>\n",
       "      <td>NaN</td>\n",
       "      <td>S</td>\n",
       "    </tr>\n",
       "    <tr>\n",
       "      <th>1309</th>\n",
       "      <td>0</td>\n",
       "      <td>3</td>\n",
       "      <td>Peter, Master. Michael J</td>\n",
       "      <td>male</td>\n",
       "      <td>NaN</td>\n",
       "      <td>1</td>\n",
       "      <td>1</td>\n",
       "      <td>2668</td>\n",
       "      <td>22.3583</td>\n",
       "      <td>NaN</td>\n",
       "      <td>C</td>\n",
       "    </tr>\n",
       "  </tbody>\n",
       "</table>\n",
       "<p>263 rows × 11 columns</p>\n",
       "</div>"
      ],
      "text/plain": [
       "             Survived  Pclass                             Name     Sex  Age  \\\n",
       "PassengerId                                                                   \n",
       "6                   0       3                 Moran, Mr. James    male  NaN   \n",
       "18                  1       2     Williams, Mr. Charles Eugene    male  NaN   \n",
       "20                  1       3          Masselmani, Mrs. Fatima  female  NaN   \n",
       "27                  0       3          Emir, Mr. Farred Chehab    male  NaN   \n",
       "29                  1       3    O'Dwyer, Miss. Ellen \"Nellie\"  female  NaN   \n",
       "...               ...     ...                              ...     ...  ...   \n",
       "1300                1       3  Riordan, Miss. Johanna Hannah\"\"  female  NaN   \n",
       "1302                1       3           Naughton, Miss. Hannah  female  NaN   \n",
       "1305                0       3               Spector, Mr. Woolf    male  NaN   \n",
       "1308                0       3              Ware, Mr. Frederick    male  NaN   \n",
       "1309                0       3         Peter, Master. Michael J    male  NaN   \n",
       "\n",
       "             SibSp  Parch     Ticket     Fare Cabin Embarked  \n",
       "PassengerId                                                   \n",
       "6                0      0     330877   8.4583   NaN        Q  \n",
       "18               0      0     244373  13.0000   NaN        S  \n",
       "20               0      0       2649   7.2250   NaN        C  \n",
       "27               0      0       2631   7.2250   NaN        C  \n",
       "29               0      0     330959   7.8792   NaN        Q  \n",
       "...            ...    ...        ...      ...   ...      ...  \n",
       "1300             0      0     334915   7.7208   NaN        Q  \n",
       "1302             0      0     365237   7.7500   NaN        Q  \n",
       "1305             0      0  A.5. 3236   8.0500   NaN        S  \n",
       "1308             0      0     359309   8.0500   NaN        S  \n",
       "1309             1      1       2668  22.3583   NaN        C  \n",
       "\n",
       "[263 rows x 11 columns]"
      ]
     },
     "execution_count": 149,
     "metadata": {},
     "output_type": "execute_result"
    }
   ],
   "source": [
    "# nulitny vek\n",
    "passengers.info()\n",
    "1309-1046\n",
    "# .isna() .isnull()\n",
    "has_no_age = passengers['Age'].isna()\n",
    "passengers.loc[has_no_age]"
   ]
  },
  {
   "cell_type": "code",
   "execution_count": 150,
   "id": "c6095022-1091-46dc-ad9f-2b4b4de55ebf",
   "metadata": {},
   "outputs": [
    {
     "name": "stdout",
     "output_type": "stream",
     "text": [
      "<class 'pandas.core.frame.DataFrame'>\n",
      "Int64Index: 1309 entries, 1 to 1309\n",
      "Data columns (total 11 columns):\n",
      " #   Column    Non-Null Count  Dtype  \n",
      "---  ------    --------------  -----  \n",
      " 0   Survived  1309 non-null   int64  \n",
      " 1   Pclass    1309 non-null   int64  \n",
      " 2   Name      1309 non-null   object \n",
      " 3   Sex       1309 non-null   object \n",
      " 4   Age       1046 non-null   float16\n",
      " 5   SibSp     1309 non-null   int64  \n",
      " 6   Parch     1309 non-null   int64  \n",
      " 7   Ticket    1309 non-null   object \n",
      " 8   Fare      1308 non-null   float64\n",
      " 9   Cabin     295 non-null    object \n",
      " 10  Embarked  1307 non-null   object \n",
      "dtypes: float16(1), float64(1), int64(4), object(5)\n",
      "memory usage: 115.0+ KB\n"
     ]
    }
   ],
   "source": [
    "# overime udajovy typ stlpca Age\n",
    "def is_int(value: float):\n",
    "    return value - int(value) == 0\n",
    "\n",
    "# passengers.loc[~has_no_age, 'Age'].map(is_int)\n",
    "passengers['Age'].map(is_int, na_action='ignore')\n",
    "\n",
    "# zmena udajoveho typu na mensi (casting)\n",
    "passengers['Age'] = passengers['Age'].astype('float16')\n",
    "passengers.info()"
   ]
  },
  {
   "cell_type": "code",
   "execution_count": 151,
   "id": "fefbda3d-9b1a-45a9-a1d4-68173130aaaa",
   "metadata": {},
   "outputs": [
    {
     "name": "stdout",
     "output_type": "stream",
     "text": [
      "<class 'pandas.core.frame.DataFrame'>\n",
      "Int64Index: 1309 entries, 1 to 1309\n",
      "Data columns (total 11 columns):\n",
      " #   Column    Non-Null Count  Dtype  \n",
      "---  ------    --------------  -----  \n",
      " 0   Survived  1309 non-null   int64  \n",
      " 1   Pclass    1309 non-null   int64  \n",
      " 2   Name      1309 non-null   object \n",
      " 3   Sex       1309 non-null   object \n",
      " 4   Age       1046 non-null   float16\n",
      " 5   SibSp     1309 non-null   uint8  \n",
      " 6   Parch     1309 non-null   int64  \n",
      " 7   Ticket    1309 non-null   object \n",
      " 8   Fare      1308 non-null   float64\n",
      " 9   Cabin     295 non-null    object \n",
      " 10  Embarked  1307 non-null   object \n",
      "dtypes: float16(1), float64(1), int64(3), object(5), uint8(1)\n",
      "memory usage: 106.1+ KB\n"
     ]
    }
   ],
   "source": [
    "passengers['SibSp'] = passengers['SibSp'].astype('uint8')\n",
    "passengers.info()"
   ]
  },
  {
   "cell_type": "code",
   "execution_count": 152,
   "id": "bd69da11-340c-4619-91ad-6dfde0db1dcb",
   "metadata": {},
   "outputs": [
    {
     "name": "stdout",
     "output_type": "stream",
     "text": [
      "<class 'pandas.core.frame.DataFrame'>\n",
      "Int64Index: 1309 entries, 1 to 1309\n",
      "Data columns (total 11 columns):\n",
      " #   Column    Non-Null Count  Dtype  \n",
      "---  ------    --------------  -----  \n",
      " 0   Survived  1309 non-null   int64  \n",
      " 1   Pclass    1309 non-null   uint8  \n",
      " 2   Name      1309 non-null   object \n",
      " 3   Sex       1309 non-null   object \n",
      " 4   Age       1046 non-null   float16\n",
      " 5   SibSp     1309 non-null   uint8  \n",
      " 6   Parch     1309 non-null   int64  \n",
      " 7   Ticket    1309 non-null   object \n",
      " 8   Fare      1308 non-null   float64\n",
      " 9   Cabin     295 non-null    object \n",
      " 10  Embarked  1307 non-null   object \n",
      "dtypes: float16(1), float64(1), int64(2), object(5), uint8(2)\n",
      "memory usage: 97.2+ KB\n"
     ]
    }
   ],
   "source": [
    "passengers['Pclass'] = passengers['Pclass'].astype('uint8')\n",
    "passengers.info()"
   ]
  },
  {
   "cell_type": "code",
   "execution_count": 153,
   "id": "1f50f2d1-b28c-4501-b041-e7db56a99ccd",
   "metadata": {},
   "outputs": [
    {
     "name": "stdout",
     "output_type": "stream",
     "text": [
      "<class 'pandas.core.frame.DataFrame'>\n",
      "Int64Index: 1309 entries, 1 to 1309\n",
      "Data columns (total 11 columns):\n",
      " #   Column    Non-Null Count  Dtype  \n",
      "---  ------    --------------  -----  \n",
      " 0   Survived  1309 non-null   int64  \n",
      " 1   Pclass    1309 non-null   uint8  \n",
      " 2   Name      1309 non-null   object \n",
      " 3   Sex       1309 non-null   object \n",
      " 4   Age       1046 non-null   float16\n",
      " 5   SibSp     1309 non-null   uint8  \n",
      " 6   Parch     1309 non-null   uint8  \n",
      " 7   Ticket    1309 non-null   object \n",
      " 8   Fare      1308 non-null   float64\n",
      " 9   Cabin     295 non-null    object \n",
      " 10  Embarked  1307 non-null   object \n",
      "dtypes: float16(1), float64(1), int64(1), object(5), uint8(3)\n",
      "memory usage: 88.2+ KB\n"
     ]
    }
   ],
   "source": [
    "passengers['Parch'] = passengers['Parch'].astype('uint8')\n",
    "passengers.info()"
   ]
  },
  {
   "cell_type": "code",
   "execution_count": 154,
   "id": "73351c57-9d2c-4b90-bc81-a1d2410f678c",
   "metadata": {},
   "outputs": [
    {
     "name": "stdout",
     "output_type": "stream",
     "text": [
      "<class 'pandas.core.frame.DataFrame'>\n",
      "Int64Index: 1309 entries, 1 to 1309\n",
      "Data columns (total 11 columns):\n",
      " #   Column    Non-Null Count  Dtype  \n",
      "---  ------    --------------  -----  \n",
      " 0   Survived  1309 non-null   int64  \n",
      " 1   Pclass    1309 non-null   uint8  \n",
      " 2   Name      1309 non-null   object \n",
      " 3   Sex       1309 non-null   object \n",
      " 4   Age       1046 non-null   float16\n",
      " 5   SibSp     1309 non-null   uint8  \n",
      " 6   Parch     1309 non-null   uint8  \n",
      " 7   Ticket    1309 non-null   object \n",
      " 8   Fare      1308 non-null   float16\n",
      " 9   Cabin     295 non-null    object \n",
      " 10  Embarked  1307 non-null   object \n",
      "dtypes: float16(2), int64(1), object(5), uint8(3)\n",
      "memory usage: 80.5+ KB\n"
     ]
    }
   ],
   "source": [
    "passengers['Fare'] = passengers['Fare'].astype('float16')\n",
    "passengers.info()"
   ]
  },
  {
   "cell_type": "code",
   "execution_count": 155,
   "id": "00f33ca2-953f-4232-b41e-4c732f4062f4",
   "metadata": {},
   "outputs": [
    {
     "name": "stdout",
     "output_type": "stream",
     "text": [
      "<class 'pandas.core.frame.DataFrame'>\n",
      "Int64Index: 1309 entries, 1 to 1309\n",
      "Data columns (total 11 columns):\n",
      " #   Column    Non-Null Count  Dtype  \n",
      "---  ------    --------------  -----  \n",
      " 0   Survived  1309 non-null   bool   \n",
      " 1   Pclass    1309 non-null   uint8  \n",
      " 2   Name      1309 non-null   object \n",
      " 3   Sex       1309 non-null   object \n",
      " 4   Age       1046 non-null   float16\n",
      " 5   SibSp     1309 non-null   uint8  \n",
      " 6   Parch     1309 non-null   uint8  \n",
      " 7   Ticket    1309 non-null   object \n",
      " 8   Fare      1308 non-null   float16\n",
      " 9   Cabin     295 non-null    object \n",
      " 10  Embarked  1307 non-null   object \n",
      "dtypes: bool(1), float16(2), object(5), uint8(3)\n",
      "memory usage: 71.6+ KB\n"
     ]
    },
    {
     "data": {
      "text/plain": [
       "PassengerId\n",
       "1       False\n",
       "2        True\n",
       "3        True\n",
       "4        True\n",
       "5       False\n",
       "        ...  \n",
       "1305    False\n",
       "1306     True\n",
       "1307    False\n",
       "1308    False\n",
       "1309    False\n",
       "Name: Survived, Length: 1309, dtype: bool"
      ]
     },
     "execution_count": 155,
     "metadata": {},
     "output_type": "execute_result"
    }
   ],
   "source": [
    "passengers['Survived'] = passengers['Survived'].astype('bool')\n",
    "passengers.info()\n",
    "passengers['Survived']"
   ]
  },
  {
   "cell_type": "code",
   "execution_count": 156,
   "id": "f0df9bea-61d5-4b69-8e7e-6fcff002e4dd",
   "metadata": {},
   "outputs": [
    {
     "name": "stdout",
     "output_type": "stream",
     "text": [
      "<class 'pandas.core.frame.DataFrame'>\n",
      "Int64Index: 1309 entries, 1 to 1309\n",
      "Data columns (total 11 columns):\n",
      " #   Column    Non-Null Count  Dtype  \n",
      "---  ------    --------------  -----  \n",
      " 0   Survived  1309 non-null   bool   \n",
      " 1   Pclass    1309 non-null   uint8  \n",
      " 2   Name      1309 non-null   string \n",
      " 3   Sex       1309 non-null   object \n",
      " 4   Age       1046 non-null   float16\n",
      " 5   SibSp     1309 non-null   uint8  \n",
      " 6   Parch     1309 non-null   uint8  \n",
      " 7   Ticket    1309 non-null   object \n",
      " 8   Fare      1308 non-null   float16\n",
      " 9   Cabin     295 non-null    object \n",
      " 10  Embarked  1307 non-null   object \n",
      "dtypes: bool(1), float16(2), object(4), string(1), uint8(3)\n",
      "memory usage: 71.6+ KB\n"
     ]
    }
   ],
   "source": [
    "# retazec miesto object typu\n",
    "passengers['Name'] = passengers['Name'].astype('string')\n",
    "passengers.info()"
   ]
  },
  {
   "cell_type": "code",
   "execution_count": 157,
   "id": "78584cb1-9065-4514-a93b-6fa4dfbfc1a2",
   "metadata": {},
   "outputs": [
    {
     "name": "stdout",
     "output_type": "stream",
     "text": [
      "<class 'pandas.core.frame.DataFrame'>\n",
      "Int64Index: 1309 entries, 1 to 1309\n",
      "Data columns (total 11 columns):\n",
      " #   Column    Non-Null Count  Dtype  \n",
      "---  ------    --------------  -----  \n",
      " 0   Survived  1309 non-null   bool   \n",
      " 1   Pclass    1309 non-null   uint8  \n",
      " 2   Name      1309 non-null   string \n",
      " 3   Sex       1309 non-null   string \n",
      " 4   Age       1046 non-null   float16\n",
      " 5   SibSp     1309 non-null   uint8  \n",
      " 6   Parch     1309 non-null   uint8  \n",
      " 7   Ticket    1309 non-null   object \n",
      " 8   Fare      1308 non-null   float16\n",
      " 9   Cabin     295 non-null    object \n",
      " 10  Embarked  1307 non-null   object \n",
      "dtypes: bool(1), float16(2), object(3), string(2), uint8(3)\n",
      "memory usage: 71.6+ KB\n"
     ]
    }
   ],
   "source": [
    "# vytvorime stlpce is_male is_female\n",
    "# passengers['is_male'] = passengers['Sex'] == 'male'\n",
    "# passengers['is_female'] = passengers['Sex'] == 'female'\n",
    "# passengers.drop('is_female', axis='columns', inplace=True)\n",
    "\n",
    "# passengers['Sex2'] \n",
    "passengers['Sex'].replace({'male': 'M', 'female': 'F'}, inplace=True)\n",
    "passengers['Sex'] = passengers['Sex'].astype('string')\n",
    "passengers.info()"
   ]
  },
  {
   "cell_type": "code",
   "execution_count": 158,
   "id": "67f45baa-1058-456d-af31-62a1d0d1455d",
   "metadata": {},
   "outputs": [
    {
     "name": "stdout",
     "output_type": "stream",
     "text": [
      "<class 'pandas.core.frame.DataFrame'>\n",
      "Int64Index: 1309 entries, 1 to 1309\n",
      "Data columns (total 11 columns):\n",
      " #   Column    Non-Null Count  Dtype  \n",
      "---  ------    --------------  -----  \n",
      " 0   Survived  1309 non-null   bool   \n",
      " 1   Pclass    1309 non-null   uint8  \n",
      " 2   Name      1309 non-null   string \n",
      " 3   Sex       1309 non-null   string \n",
      " 4   Age       1046 non-null   float16\n",
      " 5   SibSp     1309 non-null   uint8  \n",
      " 6   Parch     1309 non-null   uint8  \n",
      " 7   Ticket    1309 non-null   object \n",
      " 8   Fare      1308 non-null   float16\n",
      " 9   Cabin     295 non-null    object \n",
      " 10  Embarked  1307 non-null   string \n",
      "dtypes: bool(1), float16(2), object(2), string(3), uint8(3)\n",
      "memory usage: 71.6+ KB\n"
     ]
    }
   ],
   "source": [
    "passengers['Embarked'] = passengers['Embarked'].astype('string')\n",
    "passengers.info()"
   ]
  },
  {
   "cell_type": "code",
   "execution_count": 159,
   "id": "6874c8fd-0c7d-4edd-8e9a-0aac3c1a5366",
   "metadata": {},
   "outputs": [
    {
     "data": {
      "text/html": [
       "<div>\n",
       "<style scoped>\n",
       "    .dataframe tbody tr th:only-of-type {\n",
       "        vertical-align: middle;\n",
       "    }\n",
       "\n",
       "    .dataframe tbody tr th {\n",
       "        vertical-align: top;\n",
       "    }\n",
       "\n",
       "    .dataframe thead th {\n",
       "        text-align: right;\n",
       "    }\n",
       "</style>\n",
       "<table border=\"1\" class=\"dataframe\">\n",
       "  <thead>\n",
       "    <tr style=\"text-align: right;\">\n",
       "      <th></th>\n",
       "      <th>Survived</th>\n",
       "      <th>Name</th>\n",
       "      <th>Cabin</th>\n",
       "    </tr>\n",
       "    <tr>\n",
       "      <th>PassengerId</th>\n",
       "      <th></th>\n",
       "      <th></th>\n",
       "      <th></th>\n",
       "    </tr>\n",
       "  </thead>\n",
       "  <tbody>\n",
       "    <tr>\n",
       "      <th>67</th>\n",
       "      <td>True</td>\n",
       "      <td>Nye, Mrs. (Elizabeth Ramell)</td>\n",
       "      <td>F33</td>\n",
       "    </tr>\n",
       "    <tr>\n",
       "      <th>76</th>\n",
       "      <td>False</td>\n",
       "      <td>Moen, Mr. Sigurd Hansen</td>\n",
       "      <td>F G73</td>\n",
       "    </tr>\n",
       "    <tr>\n",
       "      <th>129</th>\n",
       "      <td>True</td>\n",
       "      <td>Peter, Miss. Anna</td>\n",
       "      <td>F E69</td>\n",
       "    </tr>\n",
       "    <tr>\n",
       "      <th>149</th>\n",
       "      <td>False</td>\n",
       "      <td>Navratil, Mr. Michel (\"Louis M Hoffman\")</td>\n",
       "      <td>F2</td>\n",
       "    </tr>\n",
       "    <tr>\n",
       "      <th>184</th>\n",
       "      <td>True</td>\n",
       "      <td>Becker, Master. Richard F</td>\n",
       "      <td>F4</td>\n",
       "    </tr>\n",
       "    <tr>\n",
       "      <th>194</th>\n",
       "      <td>True</td>\n",
       "      <td>Navratil, Master. Michel M</td>\n",
       "      <td>F2</td>\n",
       "    </tr>\n",
       "    <tr>\n",
       "      <th>341</th>\n",
       "      <td>True</td>\n",
       "      <td>Navratil, Master. Edmond Roger</td>\n",
       "      <td>F2</td>\n",
       "    </tr>\n",
       "    <tr>\n",
       "      <th>346</th>\n",
       "      <td>True</td>\n",
       "      <td>Brown, Miss. Amelia \"Mildred\"</td>\n",
       "      <td>F33</td>\n",
       "    </tr>\n",
       "    <tr>\n",
       "      <th>517</th>\n",
       "      <td>True</td>\n",
       "      <td>Lemore, Mrs. (Amelia Milley)</td>\n",
       "      <td>F33</td>\n",
       "    </tr>\n",
       "    <tr>\n",
       "      <th>619</th>\n",
       "      <td>True</td>\n",
       "      <td>Becker, Miss. Marion Louise</td>\n",
       "      <td>F4</td>\n",
       "    </tr>\n",
       "    <tr>\n",
       "      <th>700</th>\n",
       "      <td>False</td>\n",
       "      <td>Humblen, Mr. Adolf Mathias Nicolai Olsen</td>\n",
       "      <td>F G63</td>\n",
       "    </tr>\n",
       "    <tr>\n",
       "      <th>716</th>\n",
       "      <td>False</td>\n",
       "      <td>Soholt, Mr. Peter Andreas Lauritz Andersen</td>\n",
       "      <td>F G73</td>\n",
       "    </tr>\n",
       "    <tr>\n",
       "      <th>777</th>\n",
       "      <td>False</td>\n",
       "      <td>Tobin, Mr. Roger</td>\n",
       "      <td>F38</td>\n",
       "    </tr>\n",
       "    <tr>\n",
       "      <th>949</th>\n",
       "      <td>False</td>\n",
       "      <td>Abelseth, Mr. Olaus Jorgensen</td>\n",
       "      <td>F G63</td>\n",
       "    </tr>\n",
       "    <tr>\n",
       "      <th>1001</th>\n",
       "      <td>False</td>\n",
       "      <td>Swane, Mr. George</td>\n",
       "      <td>F</td>\n",
       "    </tr>\n",
       "    <tr>\n",
       "      <th>1070</th>\n",
       "      <td>True</td>\n",
       "      <td>Becker, Mrs. Allen Oliver (Nellie E Baumgardner)</td>\n",
       "      <td>F4</td>\n",
       "    </tr>\n",
       "    <tr>\n",
       "      <th>1114</th>\n",
       "      <td>True</td>\n",
       "      <td>Cook, Mrs. (Selena Rogers)</td>\n",
       "      <td>F33</td>\n",
       "    </tr>\n",
       "    <tr>\n",
       "      <th>1180</th>\n",
       "      <td>False</td>\n",
       "      <td>Mardirosian, Mr. Sarkis</td>\n",
       "      <td>F E46</td>\n",
       "    </tr>\n",
       "    <tr>\n",
       "      <th>1213</th>\n",
       "      <td>False</td>\n",
       "      <td>Krekorian, Mr. Neshan</td>\n",
       "      <td>F E57</td>\n",
       "    </tr>\n",
       "    <tr>\n",
       "      <th>1214</th>\n",
       "      <td>False</td>\n",
       "      <td>Nesson, Mr. Israel</td>\n",
       "      <td>F2</td>\n",
       "    </tr>\n",
       "    <tr>\n",
       "      <th>1218</th>\n",
       "      <td>True</td>\n",
       "      <td>Becker, Miss. Ruth Elizabeth</td>\n",
       "      <td>F4</td>\n",
       "    </tr>\n",
       "  </tbody>\n",
       "</table>\n",
       "</div>"
      ],
      "text/plain": [
       "             Survived                                              Name  Cabin\n",
       "PassengerId                                                                   \n",
       "67               True                      Nye, Mrs. (Elizabeth Ramell)    F33\n",
       "76              False                           Moen, Mr. Sigurd Hansen  F G73\n",
       "129              True                                 Peter, Miss. Anna  F E69\n",
       "149             False          Navratil, Mr. Michel (\"Louis M Hoffman\")     F2\n",
       "184              True                         Becker, Master. Richard F     F4\n",
       "194              True                        Navratil, Master. Michel M     F2\n",
       "341              True                    Navratil, Master. Edmond Roger     F2\n",
       "346              True                     Brown, Miss. Amelia \"Mildred\"    F33\n",
       "517              True                      Lemore, Mrs. (Amelia Milley)    F33\n",
       "619              True                       Becker, Miss. Marion Louise     F4\n",
       "700             False          Humblen, Mr. Adolf Mathias Nicolai Olsen  F G63\n",
       "716             False        Soholt, Mr. Peter Andreas Lauritz Andersen  F G73\n",
       "777             False                                  Tobin, Mr. Roger    F38\n",
       "949             False                     Abelseth, Mr. Olaus Jorgensen  F G63\n",
       "1001            False                                 Swane, Mr. George      F\n",
       "1070             True  Becker, Mrs. Allen Oliver (Nellie E Baumgardner)     F4\n",
       "1114             True                        Cook, Mrs. (Selena Rogers)    F33\n",
       "1180            False                           Mardirosian, Mr. Sarkis  F E46\n",
       "1213            False                             Krekorian, Mr. Neshan  F E57\n",
       "1214            False                                Nesson, Mr. Israel     F2\n",
       "1218             True                      Becker, Miss. Ruth Elizabeth     F4"
      ]
     },
     "execution_count": 159,
     "metadata": {},
     "output_type": "execute_result"
    }
   ],
   "source": [
    "has_no_cabin = passengers['Cabin'].isna()\n",
    "is_c_cabin = passengers['Cabin'].str.startswith('F')\n",
    "\n",
    "passengers.loc[~has_no_cabin & is_c_cabin, ['Survived','Name','Cabin']]"
   ]
  },
  {
   "cell_type": "code",
   "execution_count": 160,
   "id": "e08dd6d4-99eb-4c5e-af52-97648d320b04",
   "metadata": {},
   "outputs": [],
   "source": [
    "# ostranime stlpce cabin a ticket, lebo nie su potrebne pre nasu analyzu\n",
    "passengers.drop(['Cabin', 'Ticket'], axis='columns', inplace=True)"
   ]
  },
  {
   "cell_type": "code",
   "execution_count": 161,
   "id": "cad59a09-8315-4ecc-8eba-d32515c20dd1",
   "metadata": {},
   "outputs": [
    {
     "name": "stdout",
     "output_type": "stream",
     "text": [
      "<class 'pandas.core.frame.DataFrame'>\n",
      "Int64Index: 1309 entries, 1 to 1309\n",
      "Data columns (total 9 columns):\n",
      " #   Column    Non-Null Count  Dtype  \n",
      "---  ------    --------------  -----  \n",
      " 0   Survived  1309 non-null   bool   \n",
      " 1   Pclass    1309 non-null   uint8  \n",
      " 2   Name      1309 non-null   string \n",
      " 3   Sex       1309 non-null   string \n",
      " 4   Age       1046 non-null   float16\n",
      " 5   SibSp     1309 non-null   uint8  \n",
      " 6   Parch     1309 non-null   uint8  \n",
      " 7   Fare      1308 non-null   float16\n",
      " 8   Embarked  1307 non-null   string \n",
      "dtypes: bool(1), float16(2), string(3), uint8(3)\n",
      "memory usage: 51.1 KB\n"
     ]
    }
   ],
   "source": [
    "passengers.info()"
   ]
  },
  {
   "cell_type": "code",
   "execution_count": 181,
   "id": "adbfc51d-ac95-4ce0-9860-e03666e47cee",
   "metadata": {},
   "outputs": [],
   "source": [
    "# uprava stlpca Name\n",
    "def split_name(row: str, *args, **kwargs):\n",
    "    surname, name = row.split(', ')\n",
    "    passengers['Surname'] = surname\n",
    "    passengers['Firstname'] = name\n",
    "\n",
    "# passengers['Name'].map(split_name)\n",
    "# passengers['xxx'] = 'jano je makac'\n",
    "# passengers.drop(['Surname', 'Firstname', 'xxx'], axis='columns', inplace=True)\n",
    "passengers[['Surname', 'Firstname']] = passengers['Name'].str.split(', ', expand=True)"
   ]
  },
  {
   "cell_type": "code",
   "execution_count": 191,
   "id": "b0cdf6cd-ca58-40fb-bf0f-a8e01adaacc8",
   "metadata": {},
   "outputs": [
    {
     "data": {
      "text/html": [
       "<div>\n",
       "<style scoped>\n",
       "    .dataframe tbody tr th:only-of-type {\n",
       "        vertical-align: middle;\n",
       "    }\n",
       "\n",
       "    .dataframe tbody tr th {\n",
       "        vertical-align: top;\n",
       "    }\n",
       "\n",
       "    .dataframe thead th {\n",
       "        text-align: right;\n",
       "    }\n",
       "</style>\n",
       "<table border=\"1\" class=\"dataframe\">\n",
       "  <thead>\n",
       "    <tr style=\"text-align: right;\">\n",
       "      <th></th>\n",
       "      <th>Survived</th>\n",
       "      <th>Pclass</th>\n",
       "      <th>Name</th>\n",
       "      <th>Sex</th>\n",
       "      <th>Age</th>\n",
       "      <th>SibSp</th>\n",
       "      <th>Parch</th>\n",
       "      <th>Fare</th>\n",
       "      <th>Embarked</th>\n",
       "      <th>Surname</th>\n",
       "      <th>Firstname</th>\n",
       "    </tr>\n",
       "    <tr>\n",
       "      <th>PassengerId</th>\n",
       "      <th></th>\n",
       "      <th></th>\n",
       "      <th></th>\n",
       "      <th></th>\n",
       "      <th></th>\n",
       "      <th></th>\n",
       "      <th></th>\n",
       "      <th></th>\n",
       "      <th></th>\n",
       "      <th></th>\n",
       "      <th></th>\n",
       "    </tr>\n",
       "  </thead>\n",
       "  <tbody>\n",
       "    <tr>\n",
       "      <th>9</th>\n",
       "      <td>True</td>\n",
       "      <td>3</td>\n",
       "      <td>Johnson, Mrs. Oscar W (Elisabeth Vilhelmina Berg)</td>\n",
       "      <td>F</td>\n",
       "      <td>27.0</td>\n",
       "      <td>0</td>\n",
       "      <td>2</td>\n",
       "      <td>11.132812</td>\n",
       "      <td>S</td>\n",
       "      <td>Johnson</td>\n",
       "      <td>Mrs. Oscar W (Elisabeth Vilhelmina Berg)</td>\n",
       "    </tr>\n",
       "    <tr>\n",
       "      <th>173</th>\n",
       "      <td>True</td>\n",
       "      <td>3</td>\n",
       "      <td>Johnson, Miss. Eleanor Ileen</td>\n",
       "      <td>F</td>\n",
       "      <td>1.0</td>\n",
       "      <td>1</td>\n",
       "      <td>1</td>\n",
       "      <td>11.132812</td>\n",
       "      <td>S</td>\n",
       "      <td>Johnson</td>\n",
       "      <td>Miss. Eleanor Ileen</td>\n",
       "    </tr>\n",
       "    <tr>\n",
       "      <th>303</th>\n",
       "      <td>False</td>\n",
       "      <td>3</td>\n",
       "      <td>Johnson, Mr. William Cahoone Jr</td>\n",
       "      <td>M</td>\n",
       "      <td>19.0</td>\n",
       "      <td>0</td>\n",
       "      <td>0</td>\n",
       "      <td>0.000000</td>\n",
       "      <td>S</td>\n",
       "      <td>Johnson</td>\n",
       "      <td>Mr. William Cahoone Jr</td>\n",
       "    </tr>\n",
       "    <tr>\n",
       "      <th>598</th>\n",
       "      <td>False</td>\n",
       "      <td>3</td>\n",
       "      <td>Johnson, Mr. Alfred</td>\n",
       "      <td>M</td>\n",
       "      <td>49.0</td>\n",
       "      <td>0</td>\n",
       "      <td>0</td>\n",
       "      <td>0.000000</td>\n",
       "      <td>S</td>\n",
       "      <td>Johnson</td>\n",
       "      <td>Mr. Alfred</td>\n",
       "    </tr>\n",
       "    <tr>\n",
       "      <th>720</th>\n",
       "      <td>False</td>\n",
       "      <td>3</td>\n",
       "      <td>Johnson, Mr. Malkolm Joackim</td>\n",
       "      <td>M</td>\n",
       "      <td>33.0</td>\n",
       "      <td>0</td>\n",
       "      <td>0</td>\n",
       "      <td>7.773438</td>\n",
       "      <td>S</td>\n",
       "      <td>Johnson</td>\n",
       "      <td>Mr. Malkolm Joackim</td>\n",
       "    </tr>\n",
       "    <tr>\n",
       "      <th>870</th>\n",
       "      <td>True</td>\n",
       "      <td>3</td>\n",
       "      <td>Johnson, Master. Harold Theodor</td>\n",
       "      <td>M</td>\n",
       "      <td>4.0</td>\n",
       "      <td>1</td>\n",
       "      <td>1</td>\n",
       "      <td>11.132812</td>\n",
       "      <td>S</td>\n",
       "      <td>Johnson</td>\n",
       "      <td>Master. Harold Theodor</td>\n",
       "    </tr>\n",
       "  </tbody>\n",
       "</table>\n",
       "</div>"
      ],
      "text/plain": [
       "             Survived  Pclass  \\\n",
       "PassengerId                     \n",
       "9                True       3   \n",
       "173              True       3   \n",
       "303             False       3   \n",
       "598             False       3   \n",
       "720             False       3   \n",
       "870              True       3   \n",
       "\n",
       "                                                          Name Sex   Age  \\\n",
       "PassengerId                                                                \n",
       "9            Johnson, Mrs. Oscar W (Elisabeth Vilhelmina Berg)   F  27.0   \n",
       "173                               Johnson, Miss. Eleanor Ileen   F   1.0   \n",
       "303                            Johnson, Mr. William Cahoone Jr   M  19.0   \n",
       "598                                        Johnson, Mr. Alfred   M  49.0   \n",
       "720                               Johnson, Mr. Malkolm Joackim   M  33.0   \n",
       "870                            Johnson, Master. Harold Theodor   M   4.0   \n",
       "\n",
       "             SibSp  Parch       Fare Embarked  Surname  \\\n",
       "PassengerId                                              \n",
       "9                0      2  11.132812        S  Johnson   \n",
       "173              1      1  11.132812        S  Johnson   \n",
       "303              0      0   0.000000        S  Johnson   \n",
       "598              0      0   0.000000        S  Johnson   \n",
       "720              0      0   7.773438        S  Johnson   \n",
       "870              1      1  11.132812        S  Johnson   \n",
       "\n",
       "                                            Firstname  \n",
       "PassengerId                                            \n",
       "9            Mrs. Oscar W (Elisabeth Vilhelmina Berg)  \n",
       "173                               Miss. Eleanor Ileen  \n",
       "303                            Mr. William Cahoone Jr  \n",
       "598                                        Mr. Alfred  \n",
       "720                               Mr. Malkolm Joackim  \n",
       "870                            Master. Harold Theodor  "
      ]
     },
     "execution_count": 191,
     "metadata": {},
     "output_type": "execute_result"
    }
   ],
   "source": [
    "passengers.loc[passengers['Sex'] == 'F', ['Surname', 'Firstname', 'Name', 'Sex']]\n",
    "passengers.loc[passengers['Surname'] == 'Johnson']"
   ]
  },
  {
   "cell_type": "markdown",
   "id": "fa918bf5-d16c-434a-a66d-87281ab4433a",
   "metadata": {},
   "source": [
    "### 1.2 Koľko bolo cestujúcich?\n",
    "\n",
    "Zistite, koľko cestujúcich sa zúčastnilo plavby."
   ]
  },
  {
   "cell_type": "code",
   "execution_count": 244,
   "id": "6c9c2776-9f5f-4bf2-be00-eed62ad35178",
   "metadata": {},
   "outputs": [
    {
     "data": {
      "text/plain": [
       "1309"
      ]
     },
     "execution_count": 244,
     "metadata": {},
     "output_type": "execute_result"
    }
   ],
   "source": [
    "# solution\n",
    "len(passengers)\n",
    "passengers['Name'].count()\n",
    "len(passengers.index)\n",
    "passengers.index.max()\n",
    "passengers.shape[0]"
   ]
  },
  {
   "cell_type": "markdown",
   "id": "56bfa82d-fdf4-488d-92a4-3d63f8762301",
   "metadata": {},
   "source": [
    "### 1.3 Koľko bolo na palube žien a koľko mužov?\n",
    "\n",
    "Zistite, koľko bolo na palube žien a mužov. Výsledok reprezentujte vo forme slovníka v tvare:\n",
    "\n",
    "```json\n",
    "{\n",
    "    'males': 123,\n",
    "    'females': 456\n",
    "}\n",
    "```"
   ]
  },
  {
   "cell_type": "code",
   "execution_count": 245,
   "id": "b47aadc6-74c6-4e97-a3af-edb028abb32d",
   "metadata": {},
   "outputs": [
    {
     "data": {
      "text/plain": [
       "{'female': 466, 'male': 843}"
      ]
     },
     "execution_count": 245,
     "metadata": {},
     "output_type": "execute_result"
    }
   ],
   "source": [
    "# solution\n",
    "is_woman = (passengers['Sex'] == 'female')\n",
    "is_man = (passengers['Sex'] == 'male')\n",
    "\n",
    "{\n",
    "    'female': passengers.loc[ is_woman, 'Name' ].count(),\n",
    "    'male': passengers.loc[ is_man, 'Name' ].count()\n",
    "}\n",
    "\n",
    "passengers.groupby('Sex')['Sex'].count().to_dict()"
   ]
  },
  {
   "cell_type": "markdown",
   "id": "fd8ac009-4990-4c8d-8719-801084efe39b",
   "metadata": {},
   "source": [
    "### 1.4 Koľko bolo na palube detí?\n",
    "\n",
    "Za dieťa považujeme osobu, ktorá nedosiahla vek *15* rokov."
   ]
  },
  {
   "cell_type": "code",
   "execution_count": 246,
   "id": "418918f2-51f8-473d-9e46-a4089106aae0",
   "metadata": {},
   "outputs": [
    {
     "data": {
      "text/plain": [
       "Age    109\n",
       "dtype: int64"
      ]
     },
     "execution_count": 246,
     "metadata": {},
     "output_type": "execute_result"
    }
   ],
   "source": [
    "# solution\n",
    "is_kid = (passengers['Age'] < 15)\n",
    "\n",
    "passengers.loc[is_kid, ['Age']].count()"
   ]
  },
  {
   "cell_type": "markdown",
   "id": "8582015c-48a7-426b-ab37-096a67234476",
   "metadata": {},
   "source": [
    "### 1.5 Najstarší pasažier\n",
    "\n",
    "Ktorý z cestujúcich bol najstarším pasažierom? Okrem najstaršieho cestujúceho celkovo vypíšte aj najstaršiu cestujúcu a najstaršieho cestujúceho. Vždy o cestujúcom vypíšte meno, vek a pohlavie."
   ]
  },
  {
   "cell_type": "code",
   "execution_count": 247,
   "id": "010c3bf2-c46c-45ea-a5fc-c174275bb554",
   "metadata": {},
   "outputs": [
    {
     "data": {
      "text/html": [
       "<div>\n",
       "<style scoped>\n",
       "    .dataframe tbody tr th:only-of-type {\n",
       "        vertical-align: middle;\n",
       "    }\n",
       "\n",
       "    .dataframe tbody tr th {\n",
       "        vertical-align: top;\n",
       "    }\n",
       "\n",
       "    .dataframe thead th {\n",
       "        text-align: right;\n",
       "    }\n",
       "</style>\n",
       "<table border=\"1\" class=\"dataframe\">\n",
       "  <thead>\n",
       "    <tr style=\"text-align: right;\">\n",
       "      <th></th>\n",
       "      <th>Name</th>\n",
       "      <th>Age</th>\n",
       "      <th>Sex</th>\n",
       "    </tr>\n",
       "    <tr>\n",
       "      <th>PassengerId</th>\n",
       "      <th></th>\n",
       "      <th></th>\n",
       "      <th></th>\n",
       "    </tr>\n",
       "  </thead>\n",
       "  <tbody>\n",
       "    <tr>\n",
       "      <th>988</th>\n",
       "      <td>Cavendish, Mrs. Tyrell William (Julia Florence...</td>\n",
       "      <td>76.0</td>\n",
       "      <td>female</td>\n",
       "    </tr>\n",
       "    <tr>\n",
       "      <th>631</th>\n",
       "      <td>Barkworth, Mr. Algernon Henry Wilson</td>\n",
       "      <td>80.0</td>\n",
       "      <td>male</td>\n",
       "    </tr>\n",
       "  </tbody>\n",
       "</table>\n",
       "</div>"
      ],
      "text/plain": [
       "                                                          Name   Age     Sex\n",
       "PassengerId                                                                 \n",
       "988          Cavendish, Mrs. Tyrell William (Julia Florence...  76.0  female\n",
       "631                       Barkworth, Mr. Algernon Henry Wilson  80.0    male"
      ]
     },
     "execution_count": 247,
     "metadata": {},
     "output_type": "execute_result"
    }
   ],
   "source": [
    "# solution\n",
    "fltr = passengers['Age'] == passengers['Age'].max()\n",
    "passengers.loc[ fltr, ['Name', 'Age'] ]\n",
    "\n",
    "is_female = (passengers['Sex'] == 'female')\n",
    "is_male = (passengers['Sex'] == 'male')\n",
    "\n",
    "pd.concat([\n",
    "    # oldest female\n",
    "    passengers.loc[ is_female, ['Name', 'Age', 'Sex']] \\\n",
    "        .nlargest(1, 'Age', keep='all') \\\n",
    "        .dropna()\n",
    ",\n",
    "    # oldest male\n",
    "    passengers.loc[ is_male, ['Name', 'Age', 'Sex']] \\\n",
    "        .nlargest(1, 'Age', keep='all') \\\n",
    "        .dropna()\n",
    "]) "
   ]
  },
  {
   "cell_type": "markdown",
   "id": "a8bfab48-cd3b-4042-838b-d1eae5d3204b",
   "metadata": {},
   "source": [
    "### 1.6 Najmladší pasažier\n",
    "\n",
    "A naopak - ktorý z cestujúcich bol najmladší? Okrem najmladšieho cestujúceho celkovo vypíšte aj najmladšiu cestujúcu a najmladšieho cestujúceho. Vždy vypíšte meno, vek a pohlavie a výsledok vráťte ako objekt typu `Series`."
   ]
  },
  {
   "cell_type": "code",
   "execution_count": 248,
   "id": "13a2d6ab-67ff-461d-821e-0e1dc6d6efcd",
   "metadata": {},
   "outputs": [
    {
     "data": {
      "text/html": [
       "<div>\n",
       "<style scoped>\n",
       "    .dataframe tbody tr th:only-of-type {\n",
       "        vertical-align: middle;\n",
       "    }\n",
       "\n",
       "    .dataframe tbody tr th {\n",
       "        vertical-align: top;\n",
       "    }\n",
       "\n",
       "    .dataframe thead th {\n",
       "        text-align: right;\n",
       "    }\n",
       "</style>\n",
       "<table border=\"1\" class=\"dataframe\">\n",
       "  <thead>\n",
       "    <tr style=\"text-align: right;\">\n",
       "      <th></th>\n",
       "      <th>Name</th>\n",
       "      <th>Age</th>\n",
       "      <th>Sex</th>\n",
       "    </tr>\n",
       "    <tr>\n",
       "      <th>PassengerId</th>\n",
       "      <th></th>\n",
       "      <th></th>\n",
       "      <th></th>\n",
       "    </tr>\n",
       "  </thead>\n",
       "  <tbody>\n",
       "    <tr>\n",
       "      <th>1246</th>\n",
       "      <td>Dean, Miss. Elizabeth Gladys Millvina\"\"</td>\n",
       "      <td>0.17</td>\n",
       "      <td>female</td>\n",
       "    </tr>\n",
       "    <tr>\n",
       "      <th>1093</th>\n",
       "      <td>Danbom, Master. Gilbert Sigvard Emanuel</td>\n",
       "      <td>0.33</td>\n",
       "      <td>male</td>\n",
       "    </tr>\n",
       "  </tbody>\n",
       "</table>\n",
       "</div>"
      ],
      "text/plain": [
       "                                                Name   Age     Sex\n",
       "PassengerId                                                       \n",
       "1246         Dean, Miss. Elizabeth Gladys Millvina\"\"  0.17  female\n",
       "1093         Danbom, Master. Gilbert Sigvard Emanuel  0.33    male"
      ]
     },
     "execution_count": 248,
     "metadata": {},
     "output_type": "execute_result"
    }
   ],
   "source": [
    "# solution\n",
    "fltr = passengers['Age'] == passengers['Age'].min()\n",
    "passengers.loc[ fltr, ['Name', 'Age'] ]\n",
    "\n",
    "is_female = (passengers['Sex'] == 'female')\n",
    "is_male = (passengers['Sex'] == 'male')\n",
    "\n",
    "pd.concat([\n",
    "    # youngest female\n",
    "    passengers.loc[ is_female, ['Name', 'Age', 'Sex']] \\\n",
    "        .nsmallest(1, 'Age', keep='all') \\\n",
    "        .dropna()\n",
    ",\n",
    "    # youngest male\n",
    "    passengers.loc[ is_male, ['Name', 'Age', 'Sex']] \\\n",
    "        .nsmallest(1, 'Age', keep='all') \\\n",
    "        .dropna()\n",
    "])"
   ]
  },
  {
   "cell_type": "markdown",
   "id": "089ac574-ea9d-40b0-9d2b-fe552219ee4f",
   "metadata": {},
   "source": [
    "### 1.7 Aký bol priemerný vek pasažierov?\n",
    "\n",
    "Už vieme, kto bol najmladší a kto bol najstarší, tak ešte zistime, aký bol priemerný vek pasažierov na lodi. Výsledok zaokrúhlite na 2 desatinné miesta."
   ]
  },
  {
   "cell_type": "code",
   "execution_count": 249,
   "id": "4bd68587-f951-44d4-9eff-d2ede5f695e1",
   "metadata": {},
   "outputs": [
    {
     "data": {
      "text/plain": [
       "29.88"
      ]
     },
     "execution_count": 249,
     "metadata": {},
     "output_type": "execute_result"
    }
   ],
   "source": [
    "# solution\n",
    "\n",
    "passengers['Age'].mean().round(2)  # only pandas version >= 1.4\n",
    "round(passengers['Age'].mean(), 2)"
   ]
  },
  {
   "cell_type": "markdown",
   "id": "f28d963b-b751-46f2-86d7-1119f680ad4a",
   "metadata": {},
   "source": [
    "### 1.8 Zisk z predaja lístkov\n",
    "\n",
    "Koľko peňazí tvoril zisk z plavby, ktorý sa vyzbieral z cestovného?"
   ]
  },
  {
   "cell_type": "code",
   "execution_count": 250,
   "id": "c0bc39a9-1955-404e-9f6d-9c4457f926c7",
   "metadata": {},
   "outputs": [
    {
     "data": {
      "text/plain": [
       "43550.4869"
      ]
     },
     "execution_count": 250,
     "metadata": {},
     "output_type": "execute_result"
    }
   ],
   "source": [
    "# solution\n",
    "passengers['Fare'].sum()"
   ]
  },
  {
   "cell_type": "markdown",
   "id": "07826802-6dc9-4491-8f09-d45151e689e6",
   "metadata": {},
   "source": [
    "### 1.9 Priemerná cena lístka\n",
    "\n",
    "Rozličné triedy pasažierov zaplatili za lístok rozličnú sumu. Zistite, aká bola priemerná cena lístka pre každú triedu pasažierov."
   ]
  },
  {
   "cell_type": "code",
   "execution_count": 251,
   "id": "c517527f-aca8-49bd-b0f7-e366ef414288",
   "metadata": {},
   "outputs": [
    {
     "data": {
      "text/plain": [
       "Pclass\n",
       "1    87.508992\n",
       "2    21.179196\n",
       "3    13.302889\n",
       "Name: Fare, dtype: float64"
      ]
     },
     "execution_count": 251,
     "metadata": {},
     "output_type": "execute_result"
    }
   ],
   "source": [
    "passengers.groupby('Pclass')['Fare'].mean()"
   ]
  },
  {
   "cell_type": "markdown",
   "id": "68af84f6-2dc0-4787-bc7a-7b6e34f55790",
   "metadata": {},
   "source": [
    "### 1.10 Jack a Rose\n",
    "\n",
    "Keďže Cameroonovu verziu prvej a poslednej plavby Titanicu pozná zrejme každý, pozrime sa na to, ktorí cestujúci by mohli byť potenciálnymi predstaviteľmi jeho hrdinov. Takže zistite, koľko Jackov a koľko Rose bolo na palube Titanicu. Okrem ich mena vieme povedať, že:\n",
    "\n",
    "* Jack bol muž\n",
    "* Rose bola žena \n",
    "* žiadny z nich určite nemal viac ako 30 rokov\n",
    "* Rose patrila do prvej triedy"
   ]
  },
  {
   "cell_type": "code",
   "execution_count": 252,
   "id": "a8336a35-a799-4fa8-9dcc-a7689413e574",
   "metadata": {},
   "outputs": [
    {
     "data": {
      "text/html": [
       "<div>\n",
       "<style scoped>\n",
       "    .dataframe tbody tr th:only-of-type {\n",
       "        vertical-align: middle;\n",
       "    }\n",
       "\n",
       "    .dataframe tbody tr th {\n",
       "        vertical-align: top;\n",
       "    }\n",
       "\n",
       "    .dataframe thead th {\n",
       "        text-align: right;\n",
       "    }\n",
       "</style>\n",
       "<table border=\"1\" class=\"dataframe\">\n",
       "  <thead>\n",
       "    <tr style=\"text-align: right;\">\n",
       "      <th></th>\n",
       "      <th>Name</th>\n",
       "      <th>Age</th>\n",
       "      <th>Sex</th>\n",
       "      <th>Pclass</th>\n",
       "    </tr>\n",
       "    <tr>\n",
       "      <th>PassengerId</th>\n",
       "      <th></th>\n",
       "      <th></th>\n",
       "      <th></th>\n",
       "      <th></th>\n",
       "    </tr>\n",
       "  </thead>\n",
       "  <tbody>\n",
       "  </tbody>\n",
       "</table>\n",
       "</div>"
      ],
      "text/plain": [
       "Empty DataFrame\n",
       "Columns: [Name, Age, Sex, Pclass]\n",
       "Index: []"
      ]
     },
     "execution_count": 252,
     "metadata": {},
     "output_type": "execute_result"
    }
   ],
   "source": [
    "# solution\n",
    "is_jack = (passengers['Sex'] == 'male') \\\n",
    "    & (passengers['Age'] < 30) \\\n",
    "    & (passengers['Name'].str.contains('Jack'))\n",
    "\n",
    "is_rose = (passengers['Sex'] == 'female') \\\n",
    "    & (passengers['Name'].str.contains('Rose')) \\\n",
    "    & (passengers['Age'] < 30) \\\n",
    "    & (passengers['Pclass'] == 1)\n",
    "\n",
    "passengers.loc[is_rose | is_jack, ['Name', 'Age', 'Sex', 'Pclass']]"
   ]
  },
  {
   "cell_type": "markdown",
   "id": "40cb5173-3e61-4c84-85c8-141730eef987",
   "metadata": {},
   "source": [
    "## 2. Nalodenie"
   ]
  },
  {
   "cell_type": "markdown",
   "id": "58c1cba3-876d-4ad3-b2aa-9c8a4beed430",
   "metadata": {},
   "source": [
    "### 2.1 Počet prístavov"
   ]
  },
  {
   "cell_type": "markdown",
   "id": "a0fd6fcc-46d7-4f59-bd1e-16d4a100bdc8",
   "metadata": {},
   "source": [
    "Z koľkých prístavov nastupovali pasažieri? Vypíšte číslo zodpovedajúce počtu prístavov."
   ]
  },
  {
   "cell_type": "code",
   "execution_count": 253,
   "id": "36d8aebf-48ec-43a4-9dfd-d4e04d38d371",
   "metadata": {},
   "outputs": [
    {
     "data": {
      "text/plain": [
       "3"
      ]
     },
     "execution_count": 253,
     "metadata": {},
     "output_type": "execute_result"
    }
   ],
   "source": [
    "# solution\n",
    "len(passengers.groupby('Embarked')['Embarked'])"
   ]
  },
  {
   "cell_type": "markdown",
   "id": "15411efa-bec0-4368-a9ac-4243f425285e",
   "metadata": {},
   "source": [
    "### 2.2 Prehľad nalodených pasažierov"
   ]
  },
  {
   "cell_type": "markdown",
   "id": "7d84d49b-dc91-4f23-bf66-438375e9816d",
   "metadata": {},
   "source": [
    "Vytvorte prehľad, z ktorého prístavu koľko ľudí nastúpilo na palubu. Výsledný objekt typu `Series` nech má ako index názvy prístavov, z ktorých sa pasažieri naloďovali."
   ]
  },
  {
   "cell_type": "code",
   "execution_count": 254,
   "id": "4c034832-350b-4fed-ac96-58888a8fcdea",
   "metadata": {},
   "outputs": [
    {
     "data": {
      "text/plain": [
       "Embarked\n",
       "Cherbourg      270\n",
       "Queenstown     123\n",
       "Southampton    914\n",
       "Name: Embarked, dtype: int64"
      ]
     },
     "execution_count": 254,
     "metadata": {},
     "output_type": "execute_result"
    }
   ],
   "source": [
    "# solution\n",
    "passengers.groupby('Embarked')['Embarked'] \\\n",
    "    .count() \\\n",
    "    .rename({\n",
    "        'S': 'Southampton',\n",
    "        'Q': 'Queenstown',\n",
    "        'C': 'Cherbourg'\n",
    "    })"
   ]
  },
  {
   "cell_type": "markdown",
   "id": "3e633e5a-46b0-47dd-847e-0016c972a0d2",
   "metadata": {},
   "source": [
    "### 2.3 Najväčší prístav"
   ]
  },
  {
   "cell_type": "markdown",
   "id": "5f74c4ba-3c2a-4ff3-a158-62b15d98b15b",
   "metadata": {},
   "source": [
    "A z ktorého prístavu nastúpilo najviac pasažierov? Vypíšte jeho názov a počet cestujúcich."
   ]
  },
  {
   "cell_type": "code",
   "execution_count": 255,
   "id": "3a382224-1c5e-4ccb-8a4d-d7966c9f9896",
   "metadata": {},
   "outputs": [
    {
     "data": {
      "text/plain": [
       "Embarked\n",
       "Southampton    914\n",
       "Name: Embarked, dtype: int64"
      ]
     },
     "execution_count": 255,
     "metadata": {},
     "output_type": "execute_result"
    }
   ],
   "source": [
    "# solution\n",
    "passengers.groupby('Embarked')['Embarked'] \\\n",
    "    .count() \\\n",
    "    .rename({\n",
    "        'S': 'Southampton',\n",
    "        'Q': 'Queenstown',\n",
    "        'C': 'Cherbourg'\n",
    "    }) \\\n",
    "    .sort_values() \\\n",
    "    .tail(1)\n",
    "\n",
    "\n",
    "passengers.groupby('Embarked')['Embarked'] \\\n",
    "    .count() \\\n",
    "    .rename({\n",
    "        'S': 'Southampton',\n",
    "        'Q': 'Queenstown',\n",
    "        'C': 'Cherbourg'\n",
    "    }) \\\n",
    "    .nlargest(1)"
   ]
  },
  {
   "cell_type": "markdown",
   "id": "92edcdd6-4fb8-4fc5-a1d5-f2f575308ea8",
   "metadata": {},
   "source": [
    "### 2.4 Najviac detí\n",
    "\n",
    "Z ktorého prístavu nastúpilo najviac detí? Vypíšte jeho názov a počet detí."
   ]
  },
  {
   "cell_type": "code",
   "execution_count": 256,
   "id": "924e92d1-45e7-4201-9724-9244025d6f4e",
   "metadata": {},
   "outputs": [
    {
     "data": {
      "text/plain": [
       "Embarked\n",
       "Southampton    83\n",
       "Name: Embarked, dtype: int64"
      ]
     },
     "execution_count": 256,
     "metadata": {},
     "output_type": "execute_result"
    }
   ],
   "source": [
    "# solution\n",
    "is_kid = passengers['Age'] < 15\n",
    "\n",
    "passengers \\\n",
    "    .loc[is_kid, :] \\\n",
    "    .groupby('Embarked')['Embarked'] \\\n",
    "    .count() \\\n",
    "    .rename({\n",
    "        'S': 'Southampton',\n",
    "        'Q': 'Queenstown',\n",
    "        'C': 'Cherbourg'\n",
    "    }) \\\n",
    "    .nlargest(1)"
   ]
  },
  {
   "cell_type": "markdown",
   "id": "e5dd8b80-c2c4-430e-ac70-8cd7ce615d04",
   "metadata": {},
   "source": [
    "## 3. O preživších\n",
    "\n",
    "O tom, kto prežil, máme tiež záznamy. Jednak nás budú zaujímať absolútne čísla, ale druhak nás bude zaujímať aj to, čo všetko mohlo mať vplyv na to, že dotyčný človek prežil. A či nemali vyššiu pravdepodobnosť prežitia tí, ktorí patrili do vyššej vrstvy alebo boli mladší."
   ]
  },
  {
   "cell_type": "code",
   "execution_count": 257,
   "id": "1b547bc9-0c95-4ee3-bda8-fbdb94ebe083",
   "metadata": {},
   "outputs": [],
   "source": [
    "# filters\n",
    "survived = passengers['Survived'] == 1\n",
    "is_male = passengers['Sex'] == 'male'\n",
    "is_kid = passengers['Age'] < 15\n",
    "is_rich = passengers['Pclass'] == 1"
   ]
  },
  {
   "cell_type": "markdown",
   "id": "b61cf762-468b-47b4-9367-0f99199e47fc",
   "metadata": {},
   "source": [
    "### 3.1 Koľko ľudí katastrofu prežilo?\n",
    "\n",
    "Zistite celkový počet ľudí, ktorí prežili potopenie *Titanic*-u. Okrem celkového počtu uveďte tento počet aj percentuálne."
   ]
  },
  {
   "cell_type": "code",
   "execution_count": 258,
   "id": "4719c82a-ad93-49eb-923a-68628cf00f5e",
   "metadata": {
    "tags": []
   },
   "outputs": [
    {
     "name": "stdout",
     "output_type": "stream",
     "text": [
      "494/1309 (37.74%)\n"
     ]
    }
   ],
   "source": [
    "# solution\n",
    "total_passengers = len(passengers['Survived'].dropna())\n",
    "total_survived = len(passengers.loc[survived])\n",
    "\n",
    "print(f'{total_survived}/{total_passengers} ({total_survived/total_passengers*100:.4}%)')"
   ]
  },
  {
   "cell_type": "markdown",
   "id": "e099f872-a477-489e-aee6-e857c8e323ed",
   "metadata": {},
   "source": [
    "### 3.2 Preživší a ich pohlavie\n",
    "\n",
    "Malo na prežitie vplyv aj pohlavie? Koľko prežilo vo výsledku mužov a koľko žien? A koľko to bolo z celkového počtu mužov a žien?\n"
   ]
  },
  {
   "cell_type": "code",
   "execution_count": 259,
   "id": "f34419cd-8950-463a-8b2d-5e1304d1a4a9",
   "metadata": {},
   "outputs": [
    {
     "name": "stdout",
     "output_type": "stream",
     "text": [
      "males: 109/843 (12.93%)\n",
      "females: 385/466 (82.62%)\n"
     ]
    }
   ],
   "source": [
    "# solution\n",
    "total_males = len(passengers.loc[is_male])\n",
    "total_females = len(passengers.loc[~is_male])\n",
    "\n",
    "total_males, total_females, total_males+total_females\n",
    "\n",
    "survived_males = len(passengers.loc[is_male & survived])\n",
    "survived_females = len(passengers.loc[~is_male & survived])\n",
    "\n",
    "print(f'males: {survived_males}/{total_males} ({survived_males/total_males*100:.4}%)')\n",
    "print(f'females: {survived_females}/{total_females} ({survived_females/total_females*100:.4}%)')"
   ]
  },
  {
   "cell_type": "markdown",
   "id": "4ac6f232-9500-4d29-b031-f4145b5ae593",
   "metadata": {},
   "source": [
    "### 3.3 Preživší a ich vek\n",
    "\n",
    "Mal na prežitie vplyv aj vek pasažierov? Koľko prežilo vo výsledku detí a koľko dospelých? A koľko to bolo z celkového počtu detí a dospelých?"
   ]
  },
  {
   "cell_type": "code",
   "execution_count": 260,
   "id": "aec38f66-5cdf-427f-b0f6-8a9d79640811",
   "metadata": {},
   "outputs": [
    {
     "name": "stdout",
     "output_type": "stream",
     "text": [
      "kids: 57/109 (52.29%)\n",
      "adults: 437/1200 (36.42%)\n"
     ]
    }
   ],
   "source": [
    "# solution\n",
    "total_kids = len(passengers.loc[is_kid])\n",
    "total_adults = len(passengers.loc[~is_kid])\n",
    "\n",
    "survived_kids = len(passengers.loc[is_kid & survived])\n",
    "survived_adults = len(passengers.loc[~is_kid & survived])\n",
    "\n",
    "print(f'kids: {survived_kids}/{total_kids} ({survived_kids/total_kids*100:.4}%)')\n",
    "print(f'adults: {survived_adults}/{total_adults} ({survived_adults/total_adults*100:.4}%)')"
   ]
  },
  {
   "cell_type": "markdown",
   "id": "1555ecf7-7ea3-4052-94d1-773ac56a1054",
   "metadata": {},
   "source": [
    "### 3.4 Preživší a ich trieda\n",
    "\n",
    "Mala na prežitie vplyv aj spoločenská trieda pasažierov? Koľko prežilo vo výsledku chudákov a koľko zámožných pasažierov? A koľko to bolo z celkového počtu cestujúcich?"
   ]
  },
  {
   "cell_type": "code",
   "execution_count": 261,
   "id": "79215696-72b0-4cf3-bd2b-ea11a3a69ff1",
   "metadata": {},
   "outputs": [
    {
     "name": "stdout",
     "output_type": "stream",
     "text": [
      "186/323 (57.59%)\n",
      "308/986 (31.24%)\n"
     ]
    }
   ],
   "source": [
    "# solution\n",
    "total_rich = len(passengers.loc[is_rich])\n",
    "total_poor = len(passengers.loc[~is_rich])\n",
    "\n",
    "survived_rich = len(passengers.loc[is_rich & survived])\n",
    "survived_poor = len(passengers.loc[~is_rich & survived])\n",
    "\n",
    "print(f'{survived_rich}/{total_rich} ({survived_rich/total_rich*100:.4}%)')\n",
    "print(f'{survived_poor}/{total_poor} ({survived_poor/total_poor*100:.4}%)')"
   ]
  },
  {
   "cell_type": "code",
   "execution_count": null,
   "id": "479e8c83-d227-4271-ab27-a49bdab4d98d",
   "metadata": {},
   "outputs": [],
   "source": []
  }
 ],
 "metadata": {
  "kernelspec": {
   "display_name": "Python 3 (ipykernel)",
   "language": "python",
   "name": "python3"
  },
  "language_info": {
   "codemirror_mode": {
    "name": "ipython",
    "version": 3
   },
   "file_extension": ".py",
   "mimetype": "text/x-python",
   "name": "python",
   "nbconvert_exporter": "python",
   "pygments_lexer": "ipython3",
   "version": "3.9.11"
  }
 },
 "nbformat": 4,
 "nbformat_minor": 5
}
