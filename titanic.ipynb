{
 "cells": [
  {
   "cell_type": "markdown",
   "id": "f97b9d32-d90d-4179-a25b-65f397080a78",
   "metadata": {},
   "source": [
    "# Titanic\n",
    "\n",
    "**Titanic** alebo **RMS Titanic** (*RMS* je skratka pre *Royal Mail Ship* – *Kráľovský poštový parník*) bol luxusný zaoceánsky parník triedy *Olympic* patriaci spoločnosti *White Star Line*. Jeho úlohou mal byť prevoz cestujúcich a pošty medzi Európou a Severnou Amerikou. Kapacita lode dovoľovala nalodenie *2 453* až *2 603* cestujúcich, batožiny a obmedzený počet kočiarov alebo automobilov. O prevádzku lode a o pohodlie cestujúcich sa staralo *885* až *899* členov posádky. \n",
    "\n",
    "![Titanic](https://upload.wikimedia.org/wikipedia/commons/thumb/f/fd/RMS_Titanic_3.jpg/1024px-RMS_Titanic_3.jpg)\n",
    "\n",
    "Titanic však stroskotal už počas svojej prvej plavby v noci zo *14.* na *15. apríla* roku *1912*. Zahynulo okolo *1 450* cestujúcich a členov posádky."
   ]
  },
  {
   "cell_type": "markdown",
   "id": "d20c9b0f-de94-47f4-b105-7b095c34285c",
   "metadata": {},
   "source": [
    "V tomto labe sa pozrieme na katastrofu cez čísla. Dataset je ukradnutý zo stránok [Kaggle](https://www.kaggle.com/competitions/titanic), kde slúži ako vstupné zadanie do sveta strojového učenia."
   ]
  },
  {
   "cell_type": "markdown",
   "id": "a05c2790-c495-4489-90b4-856c86526d25",
   "metadata": {},
   "source": [
    "## 1. Základné informácie\n",
    "\n",
    "V tomto kroku sa pozrieme na to, kto sa vlastne na *Titaniku* viezol v kritickú a vlastne jedinú plavbu."
   ]
  },
  {
   "cell_type": "markdown",
   "id": "d6aa7b4d-b9c9-4499-8bfe-ededcd444751",
   "metadata": {},
   "source": [
    "### 1.1 Vytvorte dataset\n",
    "\n",
    "Vytvorte dataset so zoznamom všetkých pasažierov. Tento dataset zostavte z dvoch datasetov s názvom `test.csv` a `train.csv`, ktoré sa nachádzajú uložené v priečinku `data/titanic/`. Index zostavte zo stĺpca `PassengerId`.\n",
    "\n",
    "Výsledný dataset uložte do premennej `passengers`."
   ]
  },
  {
   "cell_type": "code",
   "execution_count": 34,
   "id": "a17b5342-55d1-4d3b-bc59-a75089302332",
   "metadata": {},
   "outputs": [],
   "source": [
    "# solution\n",
    "import pandas as pd\n",
    "\n",
    "df_test = pd.read_csv('data/titanic/test.csv', index_col='PassengerId')\n",
    "df_train = pd.read_csv('data/titanic/train.csv', index_col='PassengerId')\n",
    "\n",
    "passengers = pd.concat([df_train, df_test])"
   ]
  },
  {
   "cell_type": "markdown",
   "id": "fa918bf5-d16c-434a-a66d-87281ab4433a",
   "metadata": {},
   "source": [
    "### 1.2 Koľko bolo cestujúcich?\n",
    "\n",
    "Zistite, koľko cestujúcich sa zúčastnilo plavby."
   ]
  },
  {
   "cell_type": "code",
   "execution_count": 51,
   "id": "6c9c2776-9f5f-4bf2-be00-eed62ad35178",
   "metadata": {},
   "outputs": [
    {
     "data": {
      "text/plain": [
       "1309"
      ]
     },
     "execution_count": 51,
     "metadata": {},
     "output_type": "execute_result"
    }
   ],
   "source": [
    "# solution\n",
    "len(passengers)\n",
    "passengers['Name'].count()\n",
    "len(passengers.index)\n",
    "passengers.index.max()\n",
    "passengers.shape[0]"
   ]
  },
  {
   "cell_type": "markdown",
   "id": "56bfa82d-fdf4-488d-92a4-3d63f8762301",
   "metadata": {},
   "source": [
    "### 1.3 Koľko bolo na palube žien a koľko mužov?\n",
    "\n",
    "Zistite, koľko bolo na palube žien a mužov. Výsledok reprezentujte vo forme slovníka v tvare:\n",
    "\n",
    "```json\n",
    "{\n",
    "    'males': 123,\n",
    "    'females': 456\n",
    "}\n",
    "```"
   ]
  },
  {
   "cell_type": "code",
   "execution_count": 65,
   "id": "b47aadc6-74c6-4e97-a3af-edb028abb32d",
   "metadata": {},
   "outputs": [
    {
     "data": {
      "text/plain": [
       "{'female': 466, 'male': 843}"
      ]
     },
     "execution_count": 65,
     "metadata": {},
     "output_type": "execute_result"
    }
   ],
   "source": [
    "# solution\n",
    "is_woman = (passengers['Sex'] == 'female')\n",
    "is_man = (passengers['Sex'] == 'male')\n",
    "\n",
    "{\n",
    "    'female': passengers.loc[ is_woman, 'Name' ].count(),\n",
    "    'male': passengers.loc[ is_man, 'Name' ].count()\n",
    "}\n",
    "\n",
    "passengers.groupby('Sex')['Sex'].count().to_dict()"
   ]
  },
  {
   "cell_type": "markdown",
   "id": "fd8ac009-4990-4c8d-8719-801084efe39b",
   "metadata": {},
   "source": [
    "### 1.4 Koľko bolo na palube detí?\n",
    "\n",
    "Za dieťa považujeme osobu, ktorá nedosiahla vek *15* rokov."
   ]
  },
  {
   "cell_type": "code",
   "execution_count": 68,
   "id": "418918f2-51f8-473d-9e46-a4089106aae0",
   "metadata": {},
   "outputs": [
    {
     "data": {
      "text/plain": [
       "Age    109\n",
       "dtype: int64"
      ]
     },
     "execution_count": 68,
     "metadata": {},
     "output_type": "execute_result"
    }
   ],
   "source": [
    "# solution\n",
    "is_kid = (passengers['Age'] < 15)\n",
    "\n",
    "passengers.loc[is_kid, ['Age']].count()"
   ]
  },
  {
   "cell_type": "markdown",
   "id": "8582015c-48a7-426b-ab37-096a67234476",
   "metadata": {},
   "source": [
    "### 1.5 Najstarší pasažier\n",
    "\n",
    "Ktorý z cestujúcich bol najstarším pasažierom? Okrem najstaršieho cestujúceho celkovo vypíšte aj najstaršiu cestujúcu a najstaršieho cestujúceho. Vždy o cestujúcom vypíšte meno, vek a pohlavie."
   ]
  },
  {
   "cell_type": "code",
   "execution_count": 104,
   "id": "010c3bf2-c46c-45ea-a5fc-c174275bb554",
   "metadata": {},
   "outputs": [
    {
     "data": {
      "text/html": [
       "<div>\n",
       "<style scoped>\n",
       "    .dataframe tbody tr th:only-of-type {\n",
       "        vertical-align: middle;\n",
       "    }\n",
       "\n",
       "    .dataframe tbody tr th {\n",
       "        vertical-align: top;\n",
       "    }\n",
       "\n",
       "    .dataframe thead th {\n",
       "        text-align: right;\n",
       "    }\n",
       "</style>\n",
       "<table border=\"1\" class=\"dataframe\">\n",
       "  <thead>\n",
       "    <tr style=\"text-align: right;\">\n",
       "      <th></th>\n",
       "      <th>Name</th>\n",
       "      <th>Sex</th>\n",
       "      <th>Age</th>\n",
       "    </tr>\n",
       "    <tr>\n",
       "      <th>PassengerId</th>\n",
       "      <th></th>\n",
       "      <th></th>\n",
       "      <th></th>\n",
       "    </tr>\n",
       "  </thead>\n",
       "  <tbody>\n",
       "    <tr>\n",
       "      <th>988</th>\n",
       "      <td>Cavendish, Mrs. Tyrell William (Julia Florence...</td>\n",
       "      <td>female</td>\n",
       "      <td>76.0</td>\n",
       "    </tr>\n",
       "  </tbody>\n",
       "</table>\n",
       "</div>"
      ],
      "text/plain": [
       "                                                          Name     Sex   Age\n",
       "PassengerId                                                                 \n",
       "988          Cavendish, Mrs. Tyrell William (Julia Florence...  female  76.0"
      ]
     },
     "execution_count": 104,
     "metadata": {},
     "output_type": "execute_result"
    }
   ],
   "source": [
    "# solution\n",
    "fltr = passengers['Age'] == passengers['Age'].max()\n",
    "passengers.loc[ fltr, ['Name', 'Age'] ]\n",
    "\n",
    "is_female = (passengers['Sex'] == 'female')\n",
    "is_male = (passengers['Sex'] == 'male')\n",
    "\n",
    "pd.concat([\n",
    "    # oldest female\n",
    "    passengers.loc[ is_female, ['Name', 'Age', 'Sex']] \\\n",
    "        .nlargest(1, 'Age', keep='all') \\\n",
    "        .dropna()\n",
    ",\n",
    "    # oldest male\n",
    "    passengers.loc[ is_male, ['Name', 'Age', 'Sex']] \\\n",
    "        .nlargest(1, 'Age', keep='all') \\\n",
    "        .dropna()\n",
    "]) "
   ]
  },
  {
   "cell_type": "markdown",
   "id": "a8bfab48-cd3b-4042-838b-d1eae5d3204b",
   "metadata": {},
   "source": [
    "### 1.6 Najmladší pasažier\n",
    "\n",
    "A naopak - ktorý z cestujúcich bol najmladší? Okrem najmladšieho cestujúceho celkovo vypíšte aj najmladšiu cestujúcu a najmladšieho cestujúceho. Vždy vypíšte meno, vek a pohlavie a výsledok vráťte ako objekt typu `Series`."
   ]
  },
  {
   "cell_type": "code",
   "execution_count": 100,
   "id": "13a2d6ab-67ff-461d-821e-0e1dc6d6efcd",
   "metadata": {},
   "outputs": [
    {
     "data": {
      "text/html": [
       "<div>\n",
       "<style scoped>\n",
       "    .dataframe tbody tr th:only-of-type {\n",
       "        vertical-align: middle;\n",
       "    }\n",
       "\n",
       "    .dataframe tbody tr th {\n",
       "        vertical-align: top;\n",
       "    }\n",
       "\n",
       "    .dataframe thead th {\n",
       "        text-align: right;\n",
       "    }\n",
       "</style>\n",
       "<table border=\"1\" class=\"dataframe\">\n",
       "  <thead>\n",
       "    <tr style=\"text-align: right;\">\n",
       "      <th></th>\n",
       "      <th>Name</th>\n",
       "      <th>Age</th>\n",
       "      <th>Sex</th>\n",
       "    </tr>\n",
       "    <tr>\n",
       "      <th>PassengerId</th>\n",
       "      <th></th>\n",
       "      <th></th>\n",
       "      <th></th>\n",
       "    </tr>\n",
       "  </thead>\n",
       "  <tbody>\n",
       "    <tr>\n",
       "      <th>1246</th>\n",
       "      <td>Dean, Miss. Elizabeth Gladys Millvina\"\"</td>\n",
       "      <td>0.17</td>\n",
       "      <td>female</td>\n",
       "    </tr>\n",
       "    <tr>\n",
       "      <th>1093</th>\n",
       "      <td>Danbom, Master. Gilbert Sigvard Emanuel</td>\n",
       "      <td>0.33</td>\n",
       "      <td>male</td>\n",
       "    </tr>\n",
       "  </tbody>\n",
       "</table>\n",
       "</div>"
      ],
      "text/plain": [
       "                                                Name   Age     Sex\n",
       "PassengerId                                                       \n",
       "1246         Dean, Miss. Elizabeth Gladys Millvina\"\"  0.17  female\n",
       "1093         Danbom, Master. Gilbert Sigvard Emanuel  0.33    male"
      ]
     },
     "execution_count": 100,
     "metadata": {},
     "output_type": "execute_result"
    }
   ],
   "source": [
    "# solution\n",
    "fltr = passengers['Age'] == passengers['Age'].min()\n",
    "passengers.loc[ fltr, ['Name', 'Age'] ]\n",
    "\n",
    "is_female = (passengers['Sex'] == 'female')\n",
    "is_male = (passengers['Sex'] == 'male')\n",
    "\n",
    "pd.concat([\n",
    "    # youngest female\n",
    "    passengers.loc[ is_female, ['Name', 'Age', 'Sex']] \\\n",
    "        .nsmallest(1, 'Age', keep='all') \\\n",
    "        .dropna()\n",
    ",\n",
    "    # youngest male\n",
    "    passengers.loc[ is_male, ['Name', 'Age', 'Sex']] \\\n",
    "        .nsmallest(1, 'Age', keep='all') \\\n",
    "        .dropna()\n",
    "])"
   ]
  },
  {
   "cell_type": "markdown",
   "id": "089ac574-ea9d-40b0-9d2b-fe552219ee4f",
   "metadata": {},
   "source": [
    "### 1.7 Aký bol priemerný vek pasažierov?\n",
    "\n",
    "Už vieme, kto bol najmladší a kto bol najstarší, tak ešte zistime, aký bol priemerný vek pasažierov na lodi. Výsledok zaokrúhlite na 2 desatinné miesta."
   ]
  },
  {
   "cell_type": "code",
   "execution_count": 111,
   "id": "4bd68587-f951-44d4-9eff-d2ede5f695e1",
   "metadata": {},
   "outputs": [
    {
     "data": {
      "text/plain": [
       "29.88"
      ]
     },
     "execution_count": 111,
     "metadata": {},
     "output_type": "execute_result"
    }
   ],
   "source": [
    "# solution\n",
    "\n",
    "passengers['Age'].mean().round(2)  # only pandas version >= 1.4\n",
    "round(passengers['Age'].mean(), 2)"
   ]
  },
  {
   "cell_type": "markdown",
   "id": "f28d963b-b751-46f2-86d7-1119f680ad4a",
   "metadata": {},
   "source": [
    "### 1.8 Zisk z predaja lístkov\n",
    "\n",
    "Koľko peňazí tvoril zisk z plavby, ktorý sa vyzbieral z cestovného?"
   ]
  },
  {
   "cell_type": "code",
   "execution_count": 113,
   "id": "c0bc39a9-1955-404e-9f6d-9c4457f926c7",
   "metadata": {},
   "outputs": [
    {
     "data": {
      "text/plain": [
       "43550.4869"
      ]
     },
     "execution_count": 113,
     "metadata": {},
     "output_type": "execute_result"
    }
   ],
   "source": [
    "# solution\n",
    "passengers['Fare'].sum()"
   ]
  },
  {
   "cell_type": "markdown",
   "id": "07826802-6dc9-4491-8f09-d45151e689e6",
   "metadata": {},
   "source": [
    "### 1.9 Priemerná cena lístka\n",
    "\n",
    "Rozličné triedy pasažierov zaplatili za lístok rozličnú sumu. Zistite, aká bola priemerná cena lístka pre každú triedu pasažierov."
   ]
  },
  {
   "cell_type": "code",
   "execution_count": 116,
   "id": "c517527f-aca8-49bd-b0f7-e366ef414288",
   "metadata": {},
   "outputs": [
    {
     "data": {
      "text/plain": [
       "Pclass\n",
       "1    87.508992\n",
       "2    21.179196\n",
       "3    13.302889\n",
       "Name: Fare, dtype: float64"
      ]
     },
     "execution_count": 116,
     "metadata": {},
     "output_type": "execute_result"
    }
   ],
   "source": [
    "passengers.groupby('Pclass')['Fare'].mean()"
   ]
  },
  {
   "cell_type": "markdown",
   "id": "68af84f6-2dc0-4787-bc7a-7b6e34f55790",
   "metadata": {},
   "source": [
    "### 1.10 Jack a Rose\n",
    "\n",
    "Keďže Cameroonovu verziu prvej a poslednej plavby Titanicu pozná zrejme každý, pozrime sa na to, ktorí cestujúci by mohli byť potenciálnymi predstaviteľmi jeho hrdinov. Takže zistite, koľko Jackov a koľko Rose bolo na palube Titanicu. Okrem ich mena vieme povedať, že:\n",
    "\n",
    "* Jack bol muž\n",
    "* Rose bola žena \n",
    "* žiadny z nich určite nemal viac ako 30 rokov\n",
    "* Rose patrila do prvej triedy"
   ]
  },
  {
   "cell_type": "code",
   "execution_count": 142,
   "id": "a8336a35-a799-4fa8-9dcc-a7689413e574",
   "metadata": {},
   "outputs": [
    {
     "data": {
      "text/html": [
       "<div>\n",
       "<style scoped>\n",
       "    .dataframe tbody tr th:only-of-type {\n",
       "        vertical-align: middle;\n",
       "    }\n",
       "\n",
       "    .dataframe tbody tr th {\n",
       "        vertical-align: top;\n",
       "    }\n",
       "\n",
       "    .dataframe thead th {\n",
       "        text-align: right;\n",
       "    }\n",
       "</style>\n",
       "<table border=\"1\" class=\"dataframe\">\n",
       "  <thead>\n",
       "    <tr style=\"text-align: right;\">\n",
       "      <th></th>\n",
       "      <th>Name</th>\n",
       "      <th>Age</th>\n",
       "      <th>Sex</th>\n",
       "      <th>Pclass</th>\n",
       "    </tr>\n",
       "    <tr>\n",
       "      <th>PassengerId</th>\n",
       "      <th></th>\n",
       "      <th></th>\n",
       "      <th></th>\n",
       "      <th></th>\n",
       "    </tr>\n",
       "  </thead>\n",
       "  <tbody>\n",
       "  </tbody>\n",
       "</table>\n",
       "</div>"
      ],
      "text/plain": [
       "Empty DataFrame\n",
       "Columns: [Name, Age, Sex, Pclass]\n",
       "Index: []"
      ]
     },
     "execution_count": 142,
     "metadata": {},
     "output_type": "execute_result"
    }
   ],
   "source": [
    "# solution\n",
    "is_jack = (passengers['Sex'] == 'male') \\\n",
    "    & (passengers['Age'] < 30) \\\n",
    "    & (passengers['Name'].str.contains('Jack'))\n",
    "\n",
    "is_rose = (passengers['Sex'] == 'female') \\\n",
    "    & (passengers['Name'].str.contains('Rose')) \\\n",
    "    & (passengers['Age'] < 30) \\\n",
    "    & (passengers['Pclass'] == 1)\n",
    "\n",
    "passengers.loc[is_rose | is_jack, ['Name', 'Age', 'Sex', 'Pclass']]"
   ]
  },
  {
   "cell_type": "markdown",
   "id": "40cb5173-3e61-4c84-85c8-141730eef987",
   "metadata": {},
   "source": [
    "## 2. Nalodenie"
   ]
  },
  {
   "cell_type": "markdown",
   "id": "58c1cba3-876d-4ad3-b2aa-9c8a4beed430",
   "metadata": {},
   "source": [
    "### 2.1 Počet prístavov"
   ]
  },
  {
   "cell_type": "markdown",
   "id": "a0fd6fcc-46d7-4f59-bd1e-16d4a100bdc8",
   "metadata": {},
   "source": [
    "Z koľkých prístavov nastupovali pasažieri? Vypíšte číslo zodpovedajúce počtu prístavov."
   ]
  },
  {
   "cell_type": "code",
   "execution_count": 144,
   "id": "36d8aebf-48ec-43a4-9dfd-d4e04d38d371",
   "metadata": {},
   "outputs": [
    {
     "data": {
      "text/plain": [
       "3"
      ]
     },
     "execution_count": 144,
     "metadata": {},
     "output_type": "execute_result"
    }
   ],
   "source": [
    "# solution\n",
    "len(passengers.groupby('Embarked')['Embarked'])"
   ]
  },
  {
   "cell_type": "markdown",
   "id": "15411efa-bec0-4368-a9ac-4243f425285e",
   "metadata": {},
   "source": [
    "### 2.2 Prehľad nalodených pasažierov"
   ]
  },
  {
   "cell_type": "markdown",
   "id": "7d84d49b-dc91-4f23-bf66-438375e9816d",
   "metadata": {},
   "source": [
    "Vytvorte prehľad, z ktorého prístavu koľko ľudí nastúpilo na palubu. Výsledný objekt typu `Series` nech má ako index názvy prístavov, z ktorých sa pasažieri naloďovali."
   ]
  },
  {
   "cell_type": "code",
   "execution_count": 159,
   "id": "4c034832-350b-4fed-ac96-58888a8fcdea",
   "metadata": {},
   "outputs": [
    {
     "data": {
      "text/plain": [
       "Embarked\n",
       "Cherbourg      270\n",
       "Queenstown     123\n",
       "Southampton    914\n",
       "Name: Embarked, dtype: int64"
      ]
     },
     "execution_count": 159,
     "metadata": {},
     "output_type": "execute_result"
    }
   ],
   "source": [
    "# solution\n",
    "passengers.groupby('Embarked')['Embarked'] \\\n",
    "    .count() \\\n",
    "    .rename({\n",
    "        'S': 'Southampton',\n",
    "        'Q': 'Queenstown',\n",
    "        'C': 'Cherbourg'\n",
    "    })"
   ]
  },
  {
   "cell_type": "markdown",
   "id": "3e633e5a-46b0-47dd-847e-0016c972a0d2",
   "metadata": {},
   "source": [
    "### 2.3 Najväčší prístav"
   ]
  },
  {
   "cell_type": "markdown",
   "id": "5f74c4ba-3c2a-4ff3-a158-62b15d98b15b",
   "metadata": {},
   "source": [
    "A z ktorého prístavu nastúpilo najviac pasažierov? Vypíšte jeho názov a počet cestujúcich."
   ]
  },
  {
   "cell_type": "code",
   "execution_count": 180,
   "id": "3a382224-1c5e-4ccb-8a4d-d7966c9f9896",
   "metadata": {},
   "outputs": [
    {
     "data": {
      "text/plain": [
       "Embarked\n",
       "Southampton    914\n",
       "Name: Embarked, dtype: int64"
      ]
     },
     "execution_count": 180,
     "metadata": {},
     "output_type": "execute_result"
    }
   ],
   "source": [
    "# solution\n",
    "passengers.groupby('Embarked')['Embarked'] \\\n",
    "    .count() \\\n",
    "    .rename({\n",
    "        'S': 'Southampton',\n",
    "        'Q': 'Queenstown',\n",
    "        'C': 'Cherbourg'\n",
    "    }) \\\n",
    "    .sort_values() \\\n",
    "    .tail(1)\n",
    "\n",
    "\n",
    "passengers.groupby('Embarked')['Embarked'] \\\n",
    "    .count() \\\n",
    "    .rename({\n",
    "        'S': 'Southampton',\n",
    "        'Q': 'Queenstown',\n",
    "        'C': 'Cherbourg'\n",
    "    }) \\\n",
    "    .nlargest(1)"
   ]
  },
  {
   "cell_type": "markdown",
   "id": "92edcdd6-4fb8-4fc5-a1d5-f2f575308ea8",
   "metadata": {},
   "source": [
    "### 2.4 Najviac detí\n",
    "\n",
    "Z ktorého prístavu nastúpilo najviac detí? Vypíšte jeho názov a počet detí."
   ]
  },
  {
   "cell_type": "code",
   "execution_count": 186,
   "id": "924e92d1-45e7-4201-9724-9244025d6f4e",
   "metadata": {},
   "outputs": [
    {
     "data": {
      "text/plain": [
       "Embarked\n",
       "Cherbourg      21\n",
       "Queenstown      5\n",
       "Southampton    83\n",
       "Name: Embarked, dtype: int64"
      ]
     },
     "execution_count": 187,
     "metadata": {},
     "output_type": "execute_result"
    }
   ],
   "source": [
    "# solution\n",
    "is_kid = passengers['Age'] < 15\n",
    "\n",
    "passengers \\\n",
    "    .loc[is_kid, :] \\\n",
    "    .groupby('Embarked')['Embarked'] \\\n",
    "    .count() \\\n",
    "    .rename({\n",
    "        'S': 'Southampton',\n",
    "        'Q': 'Queenstown',\n",
    "        'C': 'Cherbourg'\n",
    "    }) \\\n",
    "    .nlargest(1)"
   ]
  },
  {
   "cell_type": "markdown",
   "id": "e5dd8b80-c2c4-430e-ac70-8cd7ce615d04",
   "metadata": {},
   "source": [
    "## 3. O preživších\n",
    "\n",
    "O tom, kto prežil, máme tiež záznamy. Jednak nás budú zaujímať absolútne čísla, ale druhak nás bude zaujímať aj to, čo všetko mohlo mať vplyv na to, že dotyčný človek prežil. A či nemali vyššiu pravdepodobnosť prežitia tí, ktorí patrili do vyššej vrstvy alebo boli mladší."
   ]
  },
  {
   "cell_type": "code",
   "execution_count": 211,
   "id": "1b547bc9-0c95-4ee3-bda8-fbdb94ebe083",
   "metadata": {},
   "outputs": [],
   "source": [
    "# filters\n",
    "survived = passengers['Survived'] == 1\n",
    "is_male = passengers['Sex'] == 'male'\n",
    "is_kid = passengers['Age'] < 15\n",
    "is_rich = passengers['Pclass'] == 1"
   ]
  },
  {
   "cell_type": "markdown",
   "id": "b61cf762-468b-47b4-9367-0f99199e47fc",
   "metadata": {},
   "source": [
    "### 3.1 Koľko ľudí katastrofu prežilo?\n",
    "\n",
    "Zistite celkový počet ľudí, ktorí prežili potopenie *Titanic*-u. Okrem celkového počtu uveďte tento počet aj percentuálne."
   ]
  },
  {
   "cell_type": "code",
   "execution_count": 201,
   "id": "4719c82a-ad93-49eb-923a-68628cf00f5e",
   "metadata": {
    "tags": []
   },
   "outputs": [
    {
     "name": "stdout",
     "output_type": "stream",
     "text": [
      "342/891 (38.38%)\n"
     ]
    }
   ],
   "source": [
    "# solution\n",
    "total_passengers = len(passengers['Survived'].dropna())\n",
    "total_survived = len(passengers.loc[survived])\n",
    "\n",
    "print(f'{total_survived}/{total_passengers} ({total_survived/total_passengers*100:.4}%)')"
   ]
  },
  {
   "cell_type": "markdown",
   "id": "e099f872-a477-489e-aee6-e857c8e323ed",
   "metadata": {},
   "source": [
    "### 3.2 Preživší a ich pohlavie\n",
    "\n",
    "Malo na prežitie vplyv aj pohlavie? Koľko prežilo vo výsledku mužov a koľko žien? A koľko to bolo z celkového počtu mužov a žien?\n"
   ]
  },
  {
   "cell_type": "code",
   "execution_count": 208,
   "id": "f34419cd-8950-463a-8b2d-5e1304d1a4a9",
   "metadata": {},
   "outputs": [
    {
     "name": "stdout",
     "output_type": "stream",
     "text": [
      "males: 109/843 (12.93%)\n",
      "females: 233/466 (50.0%)\n"
     ]
    }
   ],
   "source": [
    "# solution\n",
    "total_males = len(passengers.loc[is_male])\n",
    "total_females = len(passengers.loc[~is_male])\n",
    "\n",
    "total_males, total_females, total_males+total_females\n",
    "\n",
    "survived_males = len(passengers.loc[is_male & survived])\n",
    "survived_females = len(passengers.loc[~is_male & survived])\n",
    "\n",
    "print(f'males: {survived_males}/{total_males} ({survived_males/total_males*100:.4}%)')\n",
    "print(f'females: {survived_females}/{total_females} ({survived_females/total_females*100:.4}%)')"
   ]
  },
  {
   "cell_type": "markdown",
   "id": "4ac6f232-9500-4d29-b031-f4145b5ae593",
   "metadata": {},
   "source": [
    "### 3.3 Preživší a ich vek\n",
    "\n",
    "Mal na prežitie vplyv aj vek pasažierov? Koľko prežilo vo výsledku detí a koľko dospelých? A koľko to bolo z celkového počtu detí a dospelých?"
   ]
  },
  {
   "cell_type": "code",
   "execution_count": 210,
   "id": "aec38f66-5cdf-427f-b0f6-8a9d79640811",
   "metadata": {},
   "outputs": [
    {
     "name": "stdout",
     "output_type": "stream",
     "text": [
      "kids: 45/109 (41.28%)\n",
      "adults: 297/1200 (24.75%)\n"
     ]
    }
   ],
   "source": [
    "# solution\n",
    "total_kids = len(passengers.loc[is_kid])\n",
    "total_adults = len(passengers.loc[~is_kid])\n",
    "\n",
    "survived_kids = len(passengers.loc[is_kid & survived])\n",
    "survived_adults = len(passengers.loc[~is_kid & survived])\n",
    "\n",
    "print(f'kids: {survived_kids}/{total_kids} ({survived_kids/total_kids*100:.4}%)')\n",
    "print(f'adults: {survived_adults}/{total_adults} ({survived_adults/total_adults*100:.4}%)')"
   ]
  },
  {
   "cell_type": "markdown",
   "id": "1555ecf7-7ea3-4052-94d1-773ac56a1054",
   "metadata": {},
   "source": [
    "### 3.4 Preživší a ich trieda\n",
    "\n",
    "Mala na prežitie vplyv aj spoločenská trieda pasažierov? Koľko prežilo vo výsledku chudákov a koľko zámožných pasažierov? A koľko to bolo z celkového počtu cestujúcich?"
   ]
  },
  {
   "cell_type": "code",
   "execution_count": 216,
   "id": "79215696-72b0-4cf3-bd2b-ea11a3a69ff1",
   "metadata": {},
   "outputs": [
    {
     "name": "stdout",
     "output_type": "stream",
     "text": [
      "136/323 (42.11%)\n",
      "206/986 (20.89%)\n"
     ]
    }
   ],
   "source": [
    "# solution\n",
    "total_rich = len(passengers.loc[is_rich])\n",
    "total_poor = len(passengers.loc[~is_rich])\n",
    "\n",
    "survived_rich = len(passengers.loc[is_rich & survived])\n",
    "survived_poor = len(passengers.loc[~is_rich & survived])\n",
    "\n",
    "print(f'{survived_rich}/{total_rich} ({survived_rich/total_rich*100:.4}%)')\n",
    "print(f'{survived_poor}/{total_poor} ({survived_poor/total_poor*100:.4}%)')"
   ]
  },
  {
   "cell_type": "code",
   "execution_count": null,
   "id": "479e8c83-d227-4271-ab27-a49bdab4d98d",
   "metadata": {},
   "outputs": [],
   "source": []
  }
 ],
 "metadata": {
  "kernelspec": {
   "display_name": "Python 3 (ipykernel)",
   "language": "python",
   "name": "python3"
  },
  "language_info": {
   "codemirror_mode": {
    "name": "ipython",
    "version": 3
   },
   "file_extension": ".py",
   "mimetype": "text/x-python",
   "name": "python",
   "nbconvert_exporter": "python",
   "pygments_lexer": "ipython3",
   "version": "3.9.11"
  }
 },
 "nbformat": 4,
 "nbformat_minor": 5
}
