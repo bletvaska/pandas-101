{
 "cells": [
  {
   "cell_type": "markdown",
   "id": "47d39da6-8248-47b7-a805-34077deb6651",
   "metadata": {},
   "source": [
    "# Môj prvý notebook\n"
   ]
  },
  {
   "cell_type": "markdown",
   "id": "75d85d5f-3d13-46f4-aa05-49373572befa",
   "metadata": {},
   "source": [
    "## Hello world!\n",
    "\n",
    "V nasledujúcom fragmente kódu sa nachádza jednoduchá implementácia programu `Hello world!`."
   ]
  },
  {
   "cell_type": "code",
   "execution_count": 2,
   "id": "7c829ab2-4dd7-4190-859e-42aff07920f6",
   "metadata": {},
   "outputs": [
    {
     "name": "stdout",
     "output_type": "stream",
     "text": [
      "Hello world!\n"
     ]
    }
   ],
   "source": [
    "#!/usr/bin/env python3\n",
    "\n",
    "if __name__ == '__main__':\n",
    "    print(\"Hello world!\")"
   ]
  },
  {
   "cell_type": "code",
   "execution_count": 6,
   "id": "0c69cb27-2cdf-499c-ab71-138590453bdf",
   "metadata": {},
   "outputs": [
    {
     "data": {
      "text/plain": [
       "'__main__'"
      ]
     },
     "execution_count": 6,
     "metadata": {},
     "output_type": "execute_result"
    }
   ],
   "source": [
    "__name__"
   ]
  },
  {
   "cell_type": "code",
   "execution_count": 3,
   "id": "0dfcf2ab-1a46-4062-8542-26042e8f92e9",
   "metadata": {},
   "outputs": [
    {
     "name": "stdout",
     "output_type": "stream",
     "text": [
      "ta vitaj\n"
     ]
    }
   ],
   "source": [
    "from modulcek import hello\n",
    "hello()"
   ]
  },
  {
   "cell_type": "markdown",
   "id": "8bba3ec2-86e0-4ae5-b145-4bdd306b359f",
   "metadata": {},
   "source": [
    "## Zoznamy"
   ]
  },
  {
   "cell_type": "markdown",
   "id": "cae91a2a-7ef8-4d93-8234-7310715d54a1",
   "metadata": {},
   "source": [
    "a takto vyzerá číslovaný zoznam:\n",
    "\n",
    "1. jano\n",
    "2. fero\n",
    "3. jožo"
   ]
  },
  {
   "cell_type": "markdown",
   "id": "1140f534-3f07-4469-9871-086230feae8a",
   "metadata": {},
   "source": [
    "a takto vyzerá nečíslovaný zoznam:\n",
    "    \n",
    "* anca\n",
    "* lucia\n",
    "* frantiska"
   ]
  },
  {
   "cell_type": "markdown",
   "id": "7497086e-1bf3-4099-8baa-7295084ea864",
   "metadata": {},
   "source": [
    "## Formátovanie textu\n",
    "\n",
    "Markdown vie písať text **tučne**, *kurzívou*, ~~prečiarknuto~~, `inline code`."
   ]
  },
  {
   "cell_type": "markdown",
   "id": "8510e690-5a86-417e-9eb2-25b04fee996e",
   "metadata": {},
   "source": [
    "## Vkladanie obrázkov\n",
    "\n",
    "![Pandas: Logo](https://www.kindpng.com/picc/m/574-5747046_python-pandas-logo-transparent-hd-png-download.png)"
   ]
  },
  {
   "cell_type": "markdown",
   "id": "beb3e81c-7542-4df2-b973-c3f5ef82e508",
   "metadata": {},
   "source": [
    "## Linky\n",
    "\n",
    "* [Domovská stránka projektu pandas](https://pandas.pydata.org/)\n",
    "* [Domovská stránka projektu jupyter](https://jupyter.org/)\n",
    "* [Programovací jazyk Python](https://www.python.org/)"
   ]
  },
  {
   "cell_type": "markdown",
   "id": "cf858b24-aeb6-46d3-af35-5f826e21e132",
   "metadata": {},
   "source": [
    "## Vkladanie tabuliek\n",
    "\n",
    "| Meno | Priezvisko |\n",
    "|------|------------|\n",
    "|janko | Hrasko     |\n",
    "|alenka| z polienka |"
   ]
  },
  {
   "cell_type": "markdown",
   "id": "313e5a6c-adbf-49a2-9956-3298c24ca5d8",
   "metadata": {},
   "source": [
    "## Fragment kodu\n",
    "\n",
    "```python\n",
    "#!/usr/bin/env python3\n",
    "\n",
    "if __name__ == '__main__':\n",
    "    print('hello world')\n",
    "```"
   ]
  },
  {
   "cell_type": "markdown",
   "id": "54227754-95d1-4f4a-819e-5b3e4abfb4ac",
   "metadata": {},
   "source": [
    "## Math\n",
    "\n",
    "inline: $e^{\\pi} + 1 = 0$\n",
    "\n",
    "blokovo/na novy riadok: \n",
    "\n",
    "$$ e^{\\pi} + 1 = 0 $$"
   ]
  },
  {
   "cell_type": "markdown",
   "id": "f6e53993-b55d-4413-b727-65ad5eb2ba69",
   "metadata": {},
   "source": [
    "# Median\n",
    "\n",
    "A median is a numerical value separating the upper half of a sorted array of numbers from the lower half. In a list where there are an odd number of entities, the median is the number found in the middle of the array. If the array contains an even number of entities, then there is no single middle value, instead the median becomes the average of the two numbers found in the middle. For this mission, you are given a non-empty array of natural numbers (X). With it, you must separate the upper half of the numbers from the lower half and find the median.\n",
    "\n",
    "## Input\n",
    "An array as a list of integers.\n",
    "\n",
    "## Output\n",
    "The median as a float or an integer.\n",
    "\n",
    "## Example\n",
    "\n",
    "```python\n",
    "checkio([1, 2, 3, 4, 5]) == 3\n",
    "checkio([3, 1, 2, 5, 3]) == 3\n",
    "checkio([1, 300, 2, 200, 1]) == 2\n",
    "checkio([3, 6, 20, 99, 10, 15]) == 12.5\n",
    "```\n",
    "\n",
    "## How it is used\n",
    "\n",
    "The median has usage for Statistics and Probability theory, it has especially significant value for skewed distribution. For example: we want to know average wealth of people from a set of data -- *100* people earn *$100* in month and *10* people earn *$1,000,000*. If we average it out, we get *$91,000*. This is weird value and does nothing to show us the real picture. In this case the median would give to us more useful value and a better picture. The Article at Wikipedia.\n",
    "\n",
    "## Precondition\n",
    "\n",
    "```python\n",
    "1 < len(data) ≤ 1000\n",
    "all(0 ≤ x < 10 ** 6 for x in data)\n",
    "```"
   ]
  },
  {
   "cell_type": "markdown",
   "id": "c99899be-88aa-4cf3-9dc9-3ff658fd1cee",
   "metadata": {},
   "source": [
    "## Solution"
   ]
  },
  {
   "cell_type": "code",
   "execution_count": 27,
   "id": "2377da94-0b7b-4831-a71a-e4d294ab1403",
   "metadata": {},
   "outputs": [],
   "source": [
    "def median(data: list) -> float:\n",
    "    data.sort()\n",
    "\n",
    "    size = len(data)\n",
    "\n",
    "    if size % 2 == 1:\n",
    "        return data[size // 2]\n",
    "    else:\n",
    "        return (data[size // 2] + data[size // 2 - 1]) / 2"
   ]
  },
  {
   "cell_type": "code",
   "execution_count": 28,
   "id": "7751704c-5752-484b-ab7c-208e21e48de7",
   "metadata": {},
   "outputs": [
    {
     "data": {
      "text/plain": [
       "3.0"
      ]
     },
     "execution_count": 28,
     "metadata": {},
     "output_type": "execute_result"
    }
   ],
   "source": [
    "median([1, 2, 4, 4])"
   ]
  }
 ],
 "metadata": {
  "kernelspec": {
   "display_name": "Python 3 (ipykernel)",
   "language": "python",
   "name": "python3"
  },
  "language_info": {
   "codemirror_mode": {
    "name": "ipython",
    "version": 3
   },
   "file_extension": ".py",
   "mimetype": "text/x-python",
   "name": "python",
   "nbconvert_exporter": "python",
   "pygments_lexer": "ipython3",
   "version": "3.9.11"
  }
 },
 "nbformat": 4,
 "nbformat_minor": 5
}
