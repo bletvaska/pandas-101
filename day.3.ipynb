{
 "cells": [
  {
   "cell_type": "markdown",
   "id": "0acb6fdb-21bd-4365-bbf0-32f37a0a9639",
   "metadata": {},
   "source": [
    "# Day 3: The Story of Titanic"
   ]
  },
  {
   "cell_type": "code",
   "execution_count": null,
   "id": "58ad1293-84fd-4179-81df-6fc7ee554b9d",
   "metadata": {},
   "outputs": [],
   "source": []
  }
 ],
 "metadata": {
  "kernelspec": {
   "display_name": "Python 3 (ipykernel)",
   "language": "python",
   "name": "python3"
  },
  "language_info": {
   "codemirror_mode": {
    "name": "ipython",
    "version": 3
   },
   "file_extension": ".py",
   "mimetype": "text/x-python",
   "name": "python",
   "nbconvert_exporter": "python",
   "pygments_lexer": "ipython3",
   "version": "3.9.11"
  }
 },
 "nbformat": 4,
 "nbformat_minor": 5
}
