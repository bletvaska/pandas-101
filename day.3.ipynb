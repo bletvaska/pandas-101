{
 "cells": [
  {
   "cell_type": "markdown",
   "id": "0acb6fdb-21bd-4365-bbf0-32f37a0a9639",
   "metadata": {},
   "source": [
    "# Day 3: The Story of Titanic"
   ]
  },
  {
   "cell_type": "markdown",
   "id": "c6c9e83b-2232-45fd-8828-981d02deba4c",
   "metadata": {},
   "source": [
    "## Questions about the Titanic\n",
    "\n",
    "1. Koľkí pasažieri prežili?\n",
    "2. Koľko mužov a koľko žien cestovalo/prežilo?\n",
    "3. Najstarší/najmlaší pasažier? Najstaršia žena/muž?\n",
    "4. Koľko pasažierov bolo s menom Jack?\n",
    "5. Koľko pasažierov s menom Rose?\n",
    "6. Čo všetko malo vplyv na to, že pasažier prežil? (vek, pohlavie, vrstva, paluba, ...)\n",
    "7. Koľko bola priemerná cena pre príslušnú triedu pasažierov?"
   ]
  },
  {
   "cell_type": "code",
   "execution_count": null,
   "id": "1c23ed28-afdb-44a1-beaf-27d2de5ed3eb",
   "metadata": {},
   "outputs": [],
   "source": []
  }
 ],
 "metadata": {
  "kernelspec": {
   "display_name": "Python 3 (ipykernel)",
   "language": "python",
   "name": "python3"
  },
  "language_info": {
   "codemirror_mode": {
    "name": "ipython",
    "version": 3
   },
   "file_extension": ".py",
   "mimetype": "text/x-python",
   "name": "python",
   "nbconvert_exporter": "python",
   "pygments_lexer": "ipython3",
   "version": "3.9.11"
  }
 },
 "nbformat": 4,
 "nbformat_minor": 5
}
